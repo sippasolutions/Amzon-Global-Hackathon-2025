{
 "cells": [
  {
   "cell_type": "code",
   "execution_count": 33,
   "id": "dc9ed4da-41dd-4d07-9dc1-6c6285448457",
   "metadata": {
    "execution": {
     "iopub.execute_input": "2025-10-16T00:00:17.816170Z",
     "iopub.status.busy": "2025-10-16T00:00:17.815904Z",
     "iopub.status.idle": "2025-10-16T00:00:17.838075Z",
     "shell.execute_reply": "2025-10-16T00:00:17.837394Z",
     "shell.execute_reply.started": "2025-10-16T00:00:17.816151Z"
    }
   },
   "outputs": [
    {
     "name": "stdout",
     "output_type": "stream",
     "text": [
      "Overwriting ./lab_helpers/evaluator_agent_runtime.py\n"
     ]
    }
   ],
   "source": [
    "%%writefile ./lab_helpers/evaluator_agent_runtime.py\n",
    "# evaluator_agent_runtime.py\n",
    "import json\n",
    "import uuid\n",
    "import time\n",
    "from typing import Optional, Dict, Any\n",
    "\n",
    "import re\n",
    "\n",
    "from strands import Agent\n",
    "from strands.models import BedrockModel\n",
    "\n",
    "from bedrock_agentcore.runtime import BedrockAgentCoreApp\n",
    "\n",
    "from lab_helpers.smartgoalgenerator_mcp_tools import build_eval_plan_v2, load_analyzer_runs_v2\n",
    "\n",
    "# =========================================\n",
    "# ===== Module-level constants ============\n",
    "# =========================================\n",
    "EVALUATOR_MODEL_ID = \"us.anthropic.claude-3-7-sonnet-20250219-v1:0\"\n",
    "\n",
    "# ==================================\n",
    "# ===== LLM-as-Judge essential =====\n",
    "# ==================================\n",
    "def evaluator_system_prompt() -> str:\n",
    "    return \"\"\"You are an Evaluator (LLM-as-Judge) that supports multiple evaluation modes via a plan.\n",
    "\n",
    "CRITICAL: You MUST evaluate ALL cases provided in the plan. Do not stop early or skip any cases.\n",
    "\n",
    "You will be given a plan from the tool build_eval_plan_v2(analyzer_json_src, limit) with:\n",
    "- evaluation_type: \"engagement_vs_clinician\" or \"smart_goals_rubric\"\n",
    "- metrics: list of metric names to score in [0.0, 1.0]\n",
    "- rubric: guidance for scoring\n",
    "- cases: a list of cases to evaluate\n",
    "\n",
    "CALLS:\n",
    "1) Call build_eval_plan_v2(analyzer_json_src, limit) EXACTLY ONCE (use the user-provided {\"analyzer_json_src\":analyzer_json_src} if present; otherwise none).\n",
    "\n",
    "SCORING:\n",
    "- For \"engagement_vs_clinician\":\n",
    "  Each case has:\n",
    "    { case_id, timestamp, device_id, analyzer{category_recommended, rationale}, clinician{category_recommended, rationale} }\n",
    "  Score metrics: correctness, completeness, helpfulness, coherence, relevance.\n",
    "  Also produce:\n",
    "    agreement = \"match\" | \"partial\" | \"mismatch\"\n",
    "  Rules:\n",
    "    - match if categories are the same (case-insensitive).\n",
    "    - partial if different but analyzer rationale substantially overlaps clinician intent.\n",
    "    - mismatch otherwise.\n",
    "\n",
    "- For \"smart_goals_rubric\":\n",
    "  Each case has:\n",
    "    { case_id, timestamp, goal_number, goal_text }\n",
    "  Score metrics: specific, measurable, achievable, relevant, time_bound, clarity.\n",
    "  Focus only on the goal_text vs rubric. If unsafe, note it briefly.\n",
    "\n",
    "OUTPUT: STRICT JSON ONLY:\n",
    "{\n",
    "  \"evaluation_type\": \"string\",\n",
    "  \"cases_scored\": 0,\n",
    "  \"scores\": [\n",
    "    {\n",
    "      \"case_id\": \"string\",\n",
    "      \"metric_scores\": { \"<metric>\": 0.0 },\n",
    "      \"agreement\": \"match|partial|mismatch|n/a\",\n",
    "      \"notes\": \"short justification (<=40 words)\"\n",
    "    }\n",
    "  ]\n",
    "}\n",
    "\n",
    "PROCESS:\n",
    "- Produce one score object per case with values in [0.0, 1.0].\n",
    "- Use \"agreement\":\"n/a\" for smart_goals_rubric (no clinician).\n",
    "- Keep notes concise and specific.\n",
    "\"\"\"\n",
    "\n",
    "# ==============================\n",
    "# ===== Json/Jsonl helpers =====\n",
    "# ==============================\n",
    "def clean_json_str(s: str) -> str:\n",
    "    # remove trailing commas before } or ]\n",
    "    s = re.sub(r\",\\s*([}\\]])\", r\"\\1\", s)\n",
    "    # strip any junk after final closing brace\n",
    "    last_brace = max(s.rfind(\"}\"), s.rfind(\"]\"))\n",
    "    if last_brace != -1:\n",
    "        s = s[:last_brace+1]\n",
    "    return s\n",
    "\n",
    "def _coerce_json(s):\n",
    "    import json, re\n",
    "\n",
    "    if not isinstance(s, str):\n",
    "        if hasattr(s, \"output\"): s = s.output\n",
    "        elif hasattr(s, \"content\"): s = s.content\n",
    "        elif hasattr(s, \"text\"): s = s.text\n",
    "        else: s = str(s)\n",
    "\n",
    "    s = s.strip()\n",
    "\n",
    "    if s.startswith(\"{\") and s.endswith(\"}\"):\n",
    "        candidate = s\n",
    "    else:\n",
    "        m = re.search(r\"\\{.*\\}\", s, flags=re.DOTALL)\n",
    "        if not m:\n",
    "            raise ValueError(\"No JSON object found in agent output.\")\n",
    "        candidate = m.group(0)\n",
    "\n",
    "    candidate = clean_json_str(candidate)\n",
    "    \n",
    "    try:\n",
    "        return json.loads(candidate)\n",
    "    except json.JSONDecodeError as e:\n",
    "        # Print useful debug info\n",
    "        snippet = candidate[max(0, e.pos-80):e.pos+80]\n",
    "        print(f\"\\n--- JSON parse error ---\\n{e}\\nContext:\\n...{snippet}...\\n\")\n",
    "        raise\n",
    "\n",
    "# =========================================\n",
    "# ===== Module-level evaluator agent ======\n",
    "# =========================================\n",
    "\n",
    "# Step 1: Initialize BedrockModel at module load (only if tool is available)\n",
    "evaluator_model = BedrockModel(\n",
    "    model_id=EVALUATOR_MODEL_ID,\n",
    "    max_tokens=8192,\n",
    "    temperature=0.8,\n",
    "    top_k=50,\n",
    "    top_p=0.95,\n",
    ")\n",
    "\n",
    "# Prepare evaluator agent configuration\n",
    "evaluator_agent_kwargs = {\"model\": evaluator_model}\n",
    "\n",
    "# Add tools if available\n",
    "try:\n",
    "    evaluator_agent_kwargs[\"tools\"] = [build_eval_plan_v2, load_analyzer_runs_v2]\n",
    "except Exception as e:\n",
    "    print(f\"Tool listing failed: {e}\")\n",
    "\n",
    "# Add system prompt\n",
    "evaluator_agent_kwargs[\"system_prompt\"] = evaluator_system_prompt()\n",
    "\n",
    "# Initialize evaluator agent once with the right capabilities\n",
    "evaluator_agent = Agent(**evaluator_agent_kwargs)\n",
    "\n",
    "# =========================================\n",
    "# ===== Bedrock AgentCore Entrypoint --- Initialize the agentcore runtime ======\n",
    "# =========================================\n",
    "app = BedrockAgentCoreApp()\n",
    "\n",
    "@app.entrypoint\n",
    "def invoke(payload: Dict[str, Any]):\n",
    "    \"\"\"AgentCore Runtime entrypoint function\"\"\"\n",
    "    try:\n",
    "        analyzer_payload = payload.get(\"analyzer_payload\")\n",
    "        if not analyzer_payload:\n",
    "            return {\n",
    "                \"statusCode\": 400,\n",
    "                \"body\": json.dumps({\"error\": \"No analyzer_payload provided.\"})\n",
    "            }\n",
    "\n",
    "        # Step 1: Run the evaluator agent\n",
    "        text = \"Please analyze this analyzer output and provide evaluation metrics: \" + json.dumps(analyzer_payload)\n",
    "        response = evaluator_agent(text)\n",
    "\n",
    "        # Step 2: Parse agent output using the same helper function as smart goal generator\n",
    "        parsed = _coerce_json(response)\n",
    "\n",
    "        # Step 3: Structure the evaluation output\n",
    "        output_obj = {\n",
    "            \"run_id\": str(uuid.uuid4()),\n",
    "            \"timestamp\": time.strftime(\"%Y-%m-%d %H:%M:%S\", time.localtime()),\n",
    "            \"evaluator_output\": parsed,\n",
    "            \"analyzer_input\": analyzer_payload\n",
    "        }\n",
    "\n",
    "        # Step 4: Return HTTP-style response\n",
    "        return {\n",
    "            \"statusCode\": 200,\n",
    "            \"headers\": {\n",
    "                \"Content-Type\": \"application/json\"\n",
    "            },\n",
    "            \"body\": json.dumps(output_obj, ensure_ascii=False)\n",
    "        }\n",
    "\n",
    "    except Exception as e:\n",
    "        print(f\"Error: {str(e)}\")\n",
    "        return {\n",
    "            \"statusCode\": 500,\n",
    "            \"body\": json.dumps({\"error\": str(e)})\n",
    "        }    \n",
    "\n",
    "if __name__ == \"__main__\":\n",
    "    app.run()\n"
   ]
  },
  {
   "cell_type": "code",
   "execution_count": 34,
   "id": "d28bb14a-c5d3-409b-a217-edad80d8605f",
   "metadata": {
    "execution": {
     "iopub.execute_input": "2025-10-16T00:00:19.076071Z",
     "iopub.status.busy": "2025-10-16T00:00:19.075793Z",
     "iopub.status.idle": "2025-10-16T00:00:25.064639Z",
     "shell.execute_reply": "2025-10-16T00:00:25.063946Z",
     "shell.execute_reply.started": "2025-10-16T00:00:19.076050Z"
    }
   },
   "outputs": [
    {
     "name": "stdout",
     "output_type": "stream",
     "text": [
      "Note: you may need to restart the kernel to use updated packages.\n"
     ]
    }
   ],
   "source": [
    "# Install required packages\n",
    "%pip install -U -r requirements.txt -q"
   ]
  },
  {
   "cell_type": "code",
   "execution_count": 35,
   "id": "a14fcb8d-8ba6-4156-bd1e-73bf9a7550bd",
   "metadata": {
    "execution": {
     "iopub.execute_input": "2025-10-16T00:00:29.373673Z",
     "iopub.status.busy": "2025-10-16T00:00:29.373385Z",
     "iopub.status.idle": "2025-10-16T00:00:31.658338Z",
     "shell.execute_reply": "2025-10-16T00:00:31.657417Z",
     "shell.execute_reply.started": "2025-10-16T00:00:29.373649Z"
    }
   },
   "outputs": [
    {
     "name": "stdout",
     "output_type": "stream",
     "text": [
      "Note: you may need to restart the kernel to use updated packages.\n"
     ]
    }
   ],
   "source": [
    "# Install required packages\n",
    "%pip install strands-agents \"boto3>=1.39.15\" strands-agents-tools bedrock_agentcore ddgs -q"
   ]
  },
  {
   "cell_type": "code",
   "execution_count": 36,
   "id": "3e533b99-22ef-4152-adae-916fda737b18",
   "metadata": {
    "execution": {
     "iopub.execute_input": "2025-10-16T00:00:34.143305Z",
     "iopub.status.busy": "2025-10-16T00:00:34.142916Z",
     "iopub.status.idle": "2025-10-16T00:00:34.147416Z",
     "shell.execute_reply": "2025-10-16T00:00:34.146632Z",
     "shell.execute_reply.started": "2025-10-16T00:00:34.143277Z"
    }
   },
   "outputs": [],
   "source": [
    "# Import required libraries\n",
    "import os\n",
    "import json\n",
    "import boto3\n",
    "from boto3.session import Session\n",
    "from strands import Agent\n",
    "from strands.models import BedrockModel\n"
   ]
  },
  {
   "cell_type": "code",
   "execution_count": 37,
   "id": "e0efc9d9-440b-4972-b36d-15eeab4ba08c",
   "metadata": {
    "execution": {
     "iopub.execute_input": "2025-10-16T00:00:34.959206Z",
     "iopub.status.busy": "2025-10-16T00:00:34.958919Z",
     "iopub.status.idle": "2025-10-16T00:00:34.970782Z",
     "shell.execute_reply": "2025-10-16T00:00:34.970084Z",
     "shell.execute_reply.started": "2025-10-16T00:00:34.959184Z"
    }
   },
   "outputs": [],
   "source": [
    "# Get boto session\n",
    "boto_session = Session()\n",
    "region = boto_session.region_name"
   ]
  },
  {
   "cell_type": "code",
   "execution_count": 38,
   "id": "53bb50cf-5b9b-4309-b712-acac724b7127",
   "metadata": {
    "execution": {
     "iopub.execute_input": "2025-10-16T00:00:39.541143Z",
     "iopub.status.busy": "2025-10-16T00:00:39.540812Z",
     "iopub.status.idle": "2025-10-16T00:00:41.677164Z",
     "shell.execute_reply": "2025-10-16T00:00:41.676365Z",
     "shell.execute_reply.started": "2025-10-16T00:00:39.541119Z"
    }
   },
   "outputs": [
    {
     "name": "stdout",
     "output_type": "stream",
     "text": [
      "Requirement already satisfied: bedrock-agentcore-starter-toolkit in /opt/conda/lib/python3.12/site-packages (0.1.25)\n",
      "Requirement already satisfied: autopep8>=2.3.2 in /opt/conda/lib/python3.12/site-packages (from bedrock-agentcore-starter-toolkit) (2.3.2)\n",
      "Requirement already satisfied: bedrock-agentcore>=0.1.7 in /opt/conda/lib/python3.12/site-packages (from bedrock-agentcore-starter-toolkit) (1.0.0)\n",
      "Requirement already satisfied: boto3>=1.40.35 in /opt/conda/lib/python3.12/site-packages (from bedrock-agentcore-starter-toolkit) (1.40.53)\n",
      "Requirement already satisfied: botocore>=1.40.35 in /opt/conda/lib/python3.12/site-packages (from bedrock-agentcore-starter-toolkit) (1.40.53)\n",
      "Requirement already satisfied: docstring-parser<1.0,>=0.15 in /opt/conda/lib/python3.12/site-packages (from bedrock-agentcore-starter-toolkit) (0.17.0)\n",
      "Requirement already satisfied: httpx>=0.28.1 in /opt/conda/lib/python3.12/site-packages (from bedrock-agentcore-starter-toolkit) (0.28.1)\n",
      "Requirement already satisfied: jinja2>=3.1.6 in /opt/conda/lib/python3.12/site-packages (from bedrock-agentcore-starter-toolkit) (3.1.6)\n",
      "Requirement already satisfied: openapi-spec-validator>=0.7.2 in /opt/conda/lib/python3.12/site-packages (from bedrock-agentcore-starter-toolkit) (0.7.2)\n",
      "Requirement already satisfied: prance>=25.4.8.0 in /opt/conda/lib/python3.12/site-packages (from bedrock-agentcore-starter-toolkit) (25.4.8.0)\n",
      "Requirement already satisfied: prompt-toolkit>=3.0.51 in /opt/conda/lib/python3.12/site-packages (from bedrock-agentcore-starter-toolkit) (3.0.51)\n",
      "Requirement already satisfied: py-openapi-schema-to-json-schema>=0.0.3 in /opt/conda/lib/python3.12/site-packages (from bedrock-agentcore-starter-toolkit) (0.0.3)\n",
      "Requirement already satisfied: pydantic<3.0.0,>=2.0.0 in /opt/conda/lib/python3.12/site-packages (from bedrock-agentcore-starter-toolkit) (2.11.7)\n",
      "Requirement already satisfied: pyyaml>=6.0.2 in /opt/conda/lib/python3.12/site-packages (from bedrock-agentcore-starter-toolkit) (6.0.3)\n",
      "Requirement already satisfied: questionary>=2.1.0 in /opt/conda/lib/python3.12/site-packages (from bedrock-agentcore-starter-toolkit) (2.1.1)\n",
      "Requirement already satisfied: requests>=2.25.0 in /opt/conda/lib/python3.12/site-packages (from bedrock-agentcore-starter-toolkit) (2.32.5)\n",
      "Requirement already satisfied: rich>=13.0.0 in /opt/conda/lib/python3.12/site-packages (from bedrock-agentcore-starter-toolkit) (14.2.0)\n",
      "Requirement already satisfied: ruamel-yaml>=0.18.14 in /opt/conda/lib/python3.12/site-packages (from bedrock-agentcore-starter-toolkit) (0.18.14)\n",
      "Requirement already satisfied: toml>=0.10.2 in /opt/conda/lib/python3.12/site-packages (from bedrock-agentcore-starter-toolkit) (0.10.2)\n",
      "Requirement already satisfied: typer>=0.16.0 in /opt/conda/lib/python3.12/site-packages (from bedrock-agentcore-starter-toolkit) (0.16.0)\n",
      "Requirement already satisfied: typing-extensions<5.0.0,>=4.13.2 in /opt/conda/lib/python3.12/site-packages (from bedrock-agentcore-starter-toolkit) (4.14.1)\n",
      "Requirement already satisfied: urllib3>=1.26.0 in /opt/conda/lib/python3.12/site-packages (from bedrock-agentcore-starter-toolkit) (2.5.0)\n",
      "Requirement already satisfied: uvicorn>=0.34.2 in /opt/conda/lib/python3.12/site-packages (from bedrock-agentcore-starter-toolkit) (0.35.0)\n",
      "Requirement already satisfied: annotated-types>=0.6.0 in /opt/conda/lib/python3.12/site-packages (from pydantic<3.0.0,>=2.0.0->bedrock-agentcore-starter-toolkit) (0.7.0)\n",
      "Requirement already satisfied: pydantic-core==2.33.2 in /opt/conda/lib/python3.12/site-packages (from pydantic<3.0.0,>=2.0.0->bedrock-agentcore-starter-toolkit) (2.33.2)\n",
      "Requirement already satisfied: typing-inspection>=0.4.0 in /opt/conda/lib/python3.12/site-packages (from pydantic<3.0.0,>=2.0.0->bedrock-agentcore-starter-toolkit) (0.4.1)\n",
      "Requirement already satisfied: pycodestyle>=2.12.0 in /opt/conda/lib/python3.12/site-packages (from autopep8>=2.3.2->bedrock-agentcore-starter-toolkit) (2.12.1)\n",
      "Requirement already satisfied: starlette>=0.46.2 in /opt/conda/lib/python3.12/site-packages (from bedrock-agentcore>=0.1.7->bedrock-agentcore-starter-toolkit) (0.47.2)\n",
      "Requirement already satisfied: jmespath<2.0.0,>=0.7.1 in /opt/conda/lib/python3.12/site-packages (from boto3>=1.40.35->bedrock-agentcore-starter-toolkit) (1.0.1)\n",
      "Requirement already satisfied: s3transfer<0.15.0,>=0.14.0 in /opt/conda/lib/python3.12/site-packages (from boto3>=1.40.35->bedrock-agentcore-starter-toolkit) (0.14.0)\n",
      "Requirement already satisfied: python-dateutil<3.0.0,>=2.1 in /opt/conda/lib/python3.12/site-packages (from botocore>=1.40.35->bedrock-agentcore-starter-toolkit) (2.9.0.post0)\n",
      "Requirement already satisfied: six>=1.5 in /opt/conda/lib/python3.12/site-packages (from python-dateutil<3.0.0,>=2.1->botocore>=1.40.35->bedrock-agentcore-starter-toolkit) (1.17.0)\n",
      "Requirement already satisfied: anyio in /opt/conda/lib/python3.12/site-packages (from httpx>=0.28.1->bedrock-agentcore-starter-toolkit) (4.10.0)\n",
      "Requirement already satisfied: certifi in /opt/conda/lib/python3.12/site-packages (from httpx>=0.28.1->bedrock-agentcore-starter-toolkit) (2025.8.3)\n",
      "Requirement already satisfied: httpcore==1.* in /opt/conda/lib/python3.12/site-packages (from httpx>=0.28.1->bedrock-agentcore-starter-toolkit) (1.0.9)\n",
      "Requirement already satisfied: idna in /opt/conda/lib/python3.12/site-packages (from httpx>=0.28.1->bedrock-agentcore-starter-toolkit) (3.10)\n",
      "Requirement already satisfied: h11>=0.16 in /opt/conda/lib/python3.12/site-packages (from httpcore==1.*->httpx>=0.28.1->bedrock-agentcore-starter-toolkit) (0.16.0)\n",
      "Requirement already satisfied: MarkupSafe>=2.0 in /opt/conda/lib/python3.12/site-packages (from jinja2>=3.1.6->bedrock-agentcore-starter-toolkit) (3.0.2)\n",
      "Requirement already satisfied: jsonschema<5.0.0,>=4.18.0 in /opt/conda/lib/python3.12/site-packages (from openapi-spec-validator>=0.7.2->bedrock-agentcore-starter-toolkit) (4.23.0)\n",
      "Requirement already satisfied: jsonschema-path<0.4.0,>=0.3.1 in /opt/conda/lib/python3.12/site-packages (from openapi-spec-validator>=0.7.2->bedrock-agentcore-starter-toolkit) (0.3.4)\n",
      "Requirement already satisfied: lazy-object-proxy<2.0.0,>=1.7.1 in /opt/conda/lib/python3.12/site-packages (from openapi-spec-validator>=0.7.2->bedrock-agentcore-starter-toolkit) (1.12.0)\n",
      "Requirement already satisfied: openapi-schema-validator<0.7.0,>=0.6.0 in /opt/conda/lib/python3.12/site-packages (from openapi-spec-validator>=0.7.2->bedrock-agentcore-starter-toolkit) (0.6.3)\n",
      "Requirement already satisfied: attrs>=22.2.0 in /opt/conda/lib/python3.12/site-packages (from jsonschema<5.0.0,>=4.18.0->openapi-spec-validator>=0.7.2->bedrock-agentcore-starter-toolkit) (23.2.0)\n",
      "Requirement already satisfied: jsonschema-specifications>=2023.03.6 in /opt/conda/lib/python3.12/site-packages (from jsonschema<5.0.0,>=4.18.0->openapi-spec-validator>=0.7.2->bedrock-agentcore-starter-toolkit) (2025.4.1)\n",
      "Requirement already satisfied: referencing>=0.28.4 in /opt/conda/lib/python3.12/site-packages (from jsonschema<5.0.0,>=4.18.0->openapi-spec-validator>=0.7.2->bedrock-agentcore-starter-toolkit) (0.36.2)\n",
      "Requirement already satisfied: rpds-py>=0.7.1 in /opt/conda/lib/python3.12/site-packages (from jsonschema<5.0.0,>=4.18.0->openapi-spec-validator>=0.7.2->bedrock-agentcore-starter-toolkit) (0.27.0)\n",
      "Requirement already satisfied: pathable<0.5.0,>=0.4.1 in /opt/conda/lib/python3.12/site-packages (from jsonschema-path<0.4.0,>=0.3.1->openapi-spec-validator>=0.7.2->bedrock-agentcore-starter-toolkit) (0.4.4)\n",
      "Requirement already satisfied: rfc3339-validator in /opt/conda/lib/python3.12/site-packages (from openapi-schema-validator<0.7.0,>=0.6.0->openapi-spec-validator>=0.7.2->bedrock-agentcore-starter-toolkit) (0.1.4)\n",
      "Requirement already satisfied: charset_normalizer<4,>=2 in /opt/conda/lib/python3.12/site-packages (from requests>=2.25.0->bedrock-agentcore-starter-toolkit) (3.4.3)\n",
      "Requirement already satisfied: chardet>=5.2 in /opt/conda/lib/python3.12/site-packages (from prance>=25.4.8.0->bedrock-agentcore-starter-toolkit) (5.2.0)\n",
      "Requirement already satisfied: packaging>=24.2 in /opt/conda/lib/python3.12/site-packages (from prance>=25.4.8.0->bedrock-agentcore-starter-toolkit) (24.2)\n",
      "Requirement already satisfied: wcwidth in /opt/conda/lib/python3.12/site-packages (from prompt-toolkit>=3.0.51->bedrock-agentcore-starter-toolkit) (0.2.13)\n",
      "Requirement already satisfied: markdown-it-py>=2.2.0 in /opt/conda/lib/python3.12/site-packages (from rich>=13.0.0->bedrock-agentcore-starter-toolkit) (4.0.0)\n",
      "Requirement already satisfied: pygments<3.0.0,>=2.13.0 in /opt/conda/lib/python3.12/site-packages (from rich>=13.0.0->bedrock-agentcore-starter-toolkit) (2.19.2)\n",
      "Requirement already satisfied: mdurl~=0.1 in /opt/conda/lib/python3.12/site-packages (from markdown-it-py>=2.2.0->rich>=13.0.0->bedrock-agentcore-starter-toolkit) (0.1.2)\n",
      "Requirement already satisfied: ruamel.yaml.clib>=0.2.7 in /opt/conda/lib/python3.12/site-packages (from ruamel-yaml>=0.18.14->bedrock-agentcore-starter-toolkit) (0.2.8)\n",
      "Requirement already satisfied: sniffio>=1.1 in /opt/conda/lib/python3.12/site-packages (from anyio->httpx>=0.28.1->bedrock-agentcore-starter-toolkit) (1.3.1)\n",
      "Requirement already satisfied: click>=8.0.0 in /opt/conda/lib/python3.12/site-packages (from typer>=0.16.0->bedrock-agentcore-starter-toolkit) (8.2.1)\n",
      "Requirement already satisfied: shellingham>=1.3.0 in /opt/conda/lib/python3.12/site-packages (from typer>=0.16.0->bedrock-agentcore-starter-toolkit) (1.5.4)\n",
      "Note: you may need to restart the kernel to use updated packages.\n"
     ]
    }
   ],
   "source": [
    "pip install bedrock-agentcore-starter-toolkit"
   ]
  },
  {
   "cell_type": "code",
   "execution_count": 39,
   "id": "a06c97da-b8df-47df-ab10-9c47c1e59dee",
   "metadata": {
    "execution": {
     "iopub.execute_input": "2025-10-16T00:01:00.473459Z",
     "iopub.status.busy": "2025-10-16T00:01:00.473148Z",
     "iopub.status.idle": "2025-10-16T00:01:07.653841Z",
     "shell.execute_reply": "2025-10-16T00:01:07.652908Z",
     "shell.execute_reply.started": "2025-10-16T00:01:00.473434Z"
    }
   },
   "outputs": [
    {
     "name": "stdout",
     "output_type": "stream",
     "text": [
      "Collecting boto3==1.34.162\n",
      "  Using cached boto3-1.34.162-py3-none-any.whl.metadata (6.6 kB)\n",
      "Collecting botocore==1.34.162\n",
      "  Using cached botocore-1.34.162-py3-none-any.whl.metadata (5.7 kB)\n",
      "Collecting jmespath<2.0.0,>=0.7.1 (from boto3==1.34.162)\n",
      "  Using cached jmespath-1.0.1-py3-none-any.whl.metadata (7.6 kB)\n",
      "Collecting s3transfer<0.11.0,>=0.10.0 (from boto3==1.34.162)\n",
      "  Using cached s3transfer-0.10.4-py3-none-any.whl.metadata (1.7 kB)\n",
      "Collecting python-dateutil<3.0.0,>=2.1 (from botocore==1.34.162)\n",
      "  Using cached python_dateutil-2.9.0.post0-py2.py3-none-any.whl.metadata (8.4 kB)\n",
      "Collecting urllib3!=2.2.0,<3,>=1.25.4 (from botocore==1.34.162)\n",
      "  Using cached urllib3-2.5.0-py3-none-any.whl.metadata (6.5 kB)\n",
      "Collecting six>=1.5 (from python-dateutil<3.0.0,>=2.1->botocore==1.34.162)\n",
      "  Using cached six-1.17.0-py2.py3-none-any.whl.metadata (1.7 kB)\n",
      "Using cached boto3-1.34.162-py3-none-any.whl (139 kB)\n",
      "Using cached botocore-1.34.162-py3-none-any.whl (12.5 MB)\n",
      "Using cached jmespath-1.0.1-py3-none-any.whl (20 kB)\n",
      "Using cached python_dateutil-2.9.0.post0-py2.py3-none-any.whl (229 kB)\n",
      "Using cached s3transfer-0.10.4-py3-none-any.whl (83 kB)\n",
      "Using cached urllib3-2.5.0-py3-none-any.whl (129 kB)\n",
      "Using cached six-1.17.0-py2.py3-none-any.whl (11 kB)\n",
      "Installing collected packages: urllib3, six, jmespath, python-dateutil, botocore, s3transfer, boto3\n",
      "\u001b[2K  Attempting uninstall: urllib3\n",
      "\u001b[2K    Found existing installation: urllib3 2.5.0\n",
      "\u001b[2K    Uninstalling urllib3-2.5.0:\n",
      "\u001b[2K      Successfully uninstalled urllib3-2.5.0\n",
      "\u001b[2K  Attempting uninstall: six\n",
      "\u001b[2K    Found existing installation: six 1.17.0━━━━━━━━━━━━━━━━━━━━━━━\u001b[0m \u001b[32m1/7\u001b[0m [six]\n",
      "\u001b[2K    Uninstalling six-1.17.0:━━━━━━━━━━━━━━━━━━━━━━━━━━━━━━━━━━\u001b[0m \u001b[32m1/7\u001b[0m [six]\n",
      "\u001b[2K      Successfully uninstalled six-1.17.0━━━━━━━━━━━━━━━━━━━━━━━━━\u001b[0m \u001b[32m1/7\u001b[0m [six]\n",
      "\u001b[2K  Attempting uninstall: jmespath━━━━━━━━━━━━━━━━━━━━━━━━━━━━━━\u001b[0m \u001b[32m1/7\u001b[0m [six]\n",
      "\u001b[2K    Found existing installation: jmespath 1.0.1━━━━━━━━━━━━━━━\u001b[0m \u001b[32m1/7\u001b[0m [six]\n",
      "\u001b[2K    Uninstalling jmespath-1.0.1:━━━━━━━━━━━━━━━━━━━━━━━━━━━━━━\u001b[0m \u001b[32m1/7\u001b[0m [six]\n",
      "\u001b[2K      Successfully uninstalled jmespath-1.0.1━━━━━━━━━━━━━━━━━\u001b[0m \u001b[32m1/7\u001b[0m [six]\n",
      "\u001b[2K  Attempting uninstall: python-dateutil━━━━━━━━━━━━━━━━━━━━━━━\u001b[0m \u001b[32m1/7\u001b[0m [six]\n",
      "\u001b[2K    Found existing installation: python-dateutil 2.9.0.post0━━\u001b[0m \u001b[32m1/7\u001b[0m [six]\n",
      "\u001b[2K    Uninstalling python-dateutil-2.9.0.post0:━━━━━━━━━━━━━━━━━\u001b[0m \u001b[32m1/7\u001b[0m [six]\n",
      "\u001b[2K      Successfully uninstalled python-dateutil-2.9.0.post0━━━━\u001b[0m \u001b[32m1/7\u001b[0m [six]\n",
      "\u001b[2K  Attempting uninstall: botocore0m╺\u001b[0m\u001b[90m━━━━━━━━━━━━━━━━━━━━━━\u001b[0m \u001b[32m3/7\u001b[0m [python-dateutil]\n",
      "\u001b[2K    Found existing installation: botocore 1.40.53━━━━━━━━━━━━━\u001b[0m \u001b[32m3/7\u001b[0m [python-dateutil]\n",
      "\u001b[2K    Uninstalling botocore-1.40.53:m\u001b[90m━━━━━━━━━━━━━━━━━━━━━━\u001b[0m \u001b[32m3/7\u001b[0m [python-dateutil]\n",
      "\u001b[2K      Successfully uninstalled botocore-1.40.53━━━━━━━━━━━━━━━\u001b[0m \u001b[32m3/7\u001b[0m [python-dateutil]\n",
      "\u001b[2K  Attempting uninstall: s3transfer\u001b[91m╸\u001b[0m\u001b[90m━━━━━━━━━━━━━━━━━\u001b[0m \u001b[32m4/7\u001b[0m [botocore]il]\n",
      "\u001b[2K    Found existing installation: s3transfer 0.14.0━━━━━━━━━━━━\u001b[0m \u001b[32m4/7\u001b[0m [botocore]\n",
      "\u001b[2K    Uninstalling s3transfer-0.14.0:╸\u001b[0m\u001b[90m━━━━━━━━━━━━━━━━━\u001b[0m \u001b[32m4/7\u001b[0m [botocore]\n",
      "\u001b[2K      Successfully uninstalled s3transfer-0.14.0━━━━━━━━━━━━━━\u001b[0m \u001b[32m4/7\u001b[0m [botocore]\n",
      "\u001b[2K  Attempting uninstall: boto3━━━━━━━\u001b[0m\u001b[91m╸\u001b[0m\u001b[90m━━━━━━━━━━━\u001b[0m \u001b[32m5/7\u001b[0m [s3transfer]\n",
      "\u001b[2K    Found existing installation: boto3 1.40.53\u001b[90m━━━━━━━━━━━\u001b[0m \u001b[32m5/7\u001b[0m [s3transfer]\n",
      "\u001b[2K    Uninstalling boto3-1.40.53:━\u001b[0m\u001b[91m╸\u001b[0m\u001b[90m━━━━━━━━━━━\u001b[0m \u001b[32m5/7\u001b[0m [s3transfer]\n",
      "\u001b[2K      Successfully uninstalled boto3-1.40.530m\u001b[90m━━━━━━━━━━━\u001b[0m \u001b[32m5/7\u001b[0m [s3transfer]\n",
      "\u001b[2K   \u001b[90m━━━━━━━━━━━━━━━━━━━━━━━━━━━━━━━━━━━━━━━━\u001b[0m \u001b[32m7/7\u001b[0m [boto3]/7\u001b[0m [s3transfer]\n",
      "\u001b[1A\u001b[2K\u001b[31mERROR: pip's dependency resolver does not currently take into account all the packages that are installed. This behaviour is the source of the following dependency conflicts.\n",
      "autogluon-multimodal 1.4.0 requires nvidia-ml-py3<8.0,>=7.352.0, which is not installed.\n",
      "aiobotocore 2.21.1 requires botocore<1.37.2,>=1.37.0, but you have botocore 1.34.162 which is incompatible.\n",
      "autogluon-multimodal 1.4.0 requires transformers[sentencepiece]<4.50,>=4.38.0, but you have transformers 4.55.2 which is incompatible.\n",
      "autogluon-timeseries 1.4.0 requires transformers[sentencepiece]<4.50,>=4.38.0, but you have transformers 4.55.2 which is incompatible.\n",
      "langchain-aws 0.2.19 requires boto3>=1.37.24, but you have boto3 1.34.162 which is incompatible.\n",
      "sagemaker 2.245.0 requires boto3<2.0,>=1.35.75, but you have boto3 1.34.162 which is incompatible.\n",
      "sagemaker-core 1.0.52 requires boto3<2.0.0,>=1.35.36, but you have boto3 1.34.162 which is incompatible.\n",
      "sagemaker-studio-analytics-extension 0.2.0 requires sparkmagic==0.22.0, but you have sparkmagic 0.21.0 which is incompatible.\n",
      "sparkmagic 0.21.0 requires pandas<2.0.0,>=0.17.1, but you have pandas 2.3.1 which is incompatible.\n",
      "bedrock-agentcore 1.0.0 requires boto3>=1.40.35, but you have boto3 1.34.162 which is incompatible.\n",
      "bedrock-agentcore 1.0.0 requires botocore>=1.40.35, but you have botocore 1.34.162 which is incompatible.\n",
      "bedrock-agentcore-starter-toolkit 0.1.25 requires boto3>=1.40.35, but you have boto3 1.34.162 which is incompatible.\n",
      "bedrock-agentcore-starter-toolkit 0.1.25 requires botocore>=1.40.35, but you have botocore 1.34.162 which is incompatible.\n",
      "strands-agents-tools 0.2.11 requires botocore<2.0.0,>=1.39.7, but you have botocore 1.34.162 which is incompatible.\u001b[0m\u001b[31m\n",
      "\u001b[0mSuccessfully installed boto3-1.34.162 botocore-1.34.162 jmespath-1.0.1 python-dateutil-2.9.0.post0 s3transfer-0.10.4 six-1.17.0 urllib3-2.5.0\n"
     ]
    }
   ],
   "source": [
    "!pip install boto3==1.34.162 botocore==1.34.162 --force-reinstall"
   ]
  },
  {
   "cell_type": "code",
   "execution_count": 40,
   "id": "e4da0cd8-bddc-4233-afa2-e27b6829ab8d",
   "metadata": {
    "execution": {
     "iopub.execute_input": "2025-10-16T00:01:10.965958Z",
     "iopub.status.busy": "2025-10-16T00:01:10.965648Z",
     "iopub.status.idle": "2025-10-16T00:01:15.195560Z",
     "shell.execute_reply": "2025-10-16T00:01:15.194626Z",
     "shell.execute_reply.started": "2025-10-16T00:01:10.965932Z"
    }
   },
   "outputs": [
    {
     "name": "stdout",
     "output_type": "stream",
     "text": [
      "Requirement already satisfied: bedrock-agentcore in /opt/conda/lib/python3.12/site-packages (1.0.0)\n",
      "Collecting boto3>=1.40.35 (from bedrock-agentcore)\n",
      "  Using cached boto3-1.40.53-py3-none-any.whl.metadata (6.6 kB)\n",
      "Collecting botocore>=1.40.35 (from bedrock-agentcore)\n",
      "  Using cached botocore-1.40.53-py3-none-any.whl.metadata (5.7 kB)\n",
      "Requirement already satisfied: pydantic<2.41.3,>=2.0.0 in /opt/conda/lib/python3.12/site-packages (from bedrock-agentcore) (2.11.7)\n",
      "Requirement already satisfied: starlette>=0.46.2 in /opt/conda/lib/python3.12/site-packages (from bedrock-agentcore) (0.47.2)\n",
      "Requirement already satisfied: typing-extensions<5.0.0,>=4.13.2 in /opt/conda/lib/python3.12/site-packages (from bedrock-agentcore) (4.14.1)\n",
      "Requirement already satisfied: urllib3>=1.26.0 in /opt/conda/lib/python3.12/site-packages (from bedrock-agentcore) (2.5.0)\n",
      "Requirement already satisfied: uvicorn>=0.34.2 in /opt/conda/lib/python3.12/site-packages (from bedrock-agentcore) (0.35.0)\n",
      "Requirement already satisfied: annotated-types>=0.6.0 in /opt/conda/lib/python3.12/site-packages (from pydantic<2.41.3,>=2.0.0->bedrock-agentcore) (0.7.0)\n",
      "Requirement already satisfied: pydantic-core==2.33.2 in /opt/conda/lib/python3.12/site-packages (from pydantic<2.41.3,>=2.0.0->bedrock-agentcore) (2.33.2)\n",
      "Requirement already satisfied: typing-inspection>=0.4.0 in /opt/conda/lib/python3.12/site-packages (from pydantic<2.41.3,>=2.0.0->bedrock-agentcore) (0.4.1)\n",
      "Requirement already satisfied: jmespath<2.0.0,>=0.7.1 in /opt/conda/lib/python3.12/site-packages (from boto3>=1.40.35->bedrock-agentcore) (1.0.1)\n",
      "Collecting s3transfer<0.15.0,>=0.14.0 (from boto3>=1.40.35->bedrock-agentcore)\n",
      "  Using cached s3transfer-0.14.0-py3-none-any.whl.metadata (1.7 kB)\n",
      "Requirement already satisfied: python-dateutil<3.0.0,>=2.1 in /opt/conda/lib/python3.12/site-packages (from botocore>=1.40.35->bedrock-agentcore) (2.9.0.post0)\n",
      "Requirement already satisfied: six>=1.5 in /opt/conda/lib/python3.12/site-packages (from python-dateutil<3.0.0,>=2.1->botocore>=1.40.35->bedrock-agentcore) (1.17.0)\n",
      "Requirement already satisfied: anyio<5,>=3.6.2 in /opt/conda/lib/python3.12/site-packages (from starlette>=0.46.2->bedrock-agentcore) (4.10.0)\n",
      "Requirement already satisfied: idna>=2.8 in /opt/conda/lib/python3.12/site-packages (from anyio<5,>=3.6.2->starlette>=0.46.2->bedrock-agentcore) (3.10)\n",
      "Requirement already satisfied: sniffio>=1.1 in /opt/conda/lib/python3.12/site-packages (from anyio<5,>=3.6.2->starlette>=0.46.2->bedrock-agentcore) (1.3.1)\n",
      "Requirement already satisfied: click>=7.0 in /opt/conda/lib/python3.12/site-packages (from uvicorn>=0.34.2->bedrock-agentcore) (8.2.1)\n",
      "Requirement already satisfied: h11>=0.8 in /opt/conda/lib/python3.12/site-packages (from uvicorn>=0.34.2->bedrock-agentcore) (0.16.0)\n",
      "Using cached boto3-1.40.53-py3-none-any.whl (139 kB)\n",
      "Using cached botocore-1.40.53-py3-none-any.whl (14.1 MB)\n",
      "Using cached s3transfer-0.14.0-py3-none-any.whl (85 kB)\n",
      "Installing collected packages: botocore, s3transfer, boto3\n",
      "\u001b[2K  Attempting uninstall: botocore\n",
      "\u001b[2K    Found existing installation: botocore 1.34.162\n",
      "\u001b[2K    Uninstalling botocore-1.34.162:\n",
      "\u001b[2K      Successfully uninstalled botocore-1.34.162\n",
      "\u001b[2K  Attempting uninstall: s3transfer━━━━━━━━━━━━━━\u001b[0m \u001b[32m0/3\u001b[0m [botocore]\n",
      "\u001b[2K    Found existing installation: s3transfer 0.10.4[32m0/3\u001b[0m [botocore]\n",
      "\u001b[2K    Uninstalling s3transfer-0.10.4:━━━━━━━━━\u001b[0m \u001b[32m0/3\u001b[0m [botocore]\n",
      "\u001b[2K      Successfully uninstalled s3transfer-0.10.4 \u001b[32m0/3\u001b[0m [botocore]\n",
      "\u001b[2K  Attempting uninstall: boto3m╺\u001b[0m\u001b[90m━━━━━━━━━━━━━━━━━━━━━━━━━━\u001b[0m \u001b[32m1/3\u001b[0m [s3transfer]\n",
      "\u001b[2K    Found existing installation: boto3 1.34.162━━━━━━━━━━━━━━━\u001b[0m \u001b[32m1/3\u001b[0m [s3transfer]\n",
      "\u001b[2K    Uninstalling boto3-1.34.162:[90m━━━━━━━━━━━━━━━━━━━━━━━━━━\u001b[0m \u001b[32m1/3\u001b[0m [s3transfer]\n",
      "\u001b[2K      Successfully uninstalled boto3-1.34.162━━━━━━━━━━━━━━━━━\u001b[0m \u001b[32m1/3\u001b[0m [s3transfer]\n",
      "\u001b[2K   \u001b[90m━━━━━━━━━━━━━━━━━━━━━━━━━━━━━━━━━━━━━━━━\u001b[0m \u001b[32m3/3\u001b[0m [boto3]/3\u001b[0m [s3transfer]\n",
      "\u001b[1A\u001b[2K\u001b[31mERROR: pip's dependency resolver does not currently take into account all the packages that are installed. This behaviour is the source of the following dependency conflicts.\n",
      "autogluon-multimodal 1.4.0 requires nvidia-ml-py3<8.0,>=7.352.0, which is not installed.\n",
      "aiobotocore 2.21.1 requires botocore<1.37.2,>=1.37.0, but you have botocore 1.40.53 which is incompatible.\n",
      "autogluon-multimodal 1.4.0 requires transformers[sentencepiece]<4.50,>=4.38.0, but you have transformers 4.55.2 which is incompatible.\n",
      "autogluon-timeseries 1.4.0 requires transformers[sentencepiece]<4.50,>=4.38.0, but you have transformers 4.55.2 which is incompatible.\n",
      "sagemaker-studio-analytics-extension 0.2.0 requires sparkmagic==0.22.0, but you have sparkmagic 0.21.0 which is incompatible.\u001b[0m\u001b[31m\n",
      "\u001b[0mSuccessfully installed boto3-1.40.53 botocore-1.40.53 s3transfer-0.14.0\n",
      "Note: you may need to restart the kernel to use updated packages.\n"
     ]
    }
   ],
   "source": [
    "pip install --upgrade bedrock-agentcore"
   ]
  },
  {
   "cell_type": "code",
   "execution_count": 41,
   "id": "b4f08666-0eb8-402b-a1be-bdee309da3dd",
   "metadata": {
    "execution": {
     "iopub.execute_input": "2025-10-16T00:01:19.524592Z",
     "iopub.status.busy": "2025-10-16T00:01:19.524300Z",
     "iopub.status.idle": "2025-10-16T00:01:19.535507Z",
     "shell.execute_reply": "2025-10-16T00:01:19.534791Z",
     "shell.execute_reply.started": "2025-10-16T00:01:19.524568Z"
    }
   },
   "outputs": [
    {
     "name": "stdout",
     "output_type": "stream",
     "text": [
      "bedrock\n"
     ]
    }
   ],
   "source": [
    "import boto3\n",
    "client = boto3.client('bedrock', region_name='us-east-1')\n",
    "print(client.meta.service_model.service_name)\n"
   ]
  },
  {
   "cell_type": "code",
   "execution_count": 42,
   "id": "7b50df10-9a31-47e5-af95-ffa73339fb73",
   "metadata": {
    "execution": {
     "iopub.execute_input": "2025-10-16T00:01:21.440190Z",
     "iopub.status.busy": "2025-10-16T00:01:21.439901Z",
     "iopub.status.idle": "2025-10-16T00:01:21.717423Z",
     "shell.execute_reply": "2025-10-16T00:01:21.716619Z",
     "shell.execute_reply.started": "2025-10-16T00:01:21.440153Z"
    }
   },
   "outputs": [
    {
     "name": "stderr",
     "output_type": "stream",
     "text": [
      "Entrypoint parsed: file=/mnt/custom-file-systems/efs/fs-09f36259b5e98907e_fsap-09cbf9f8e29ef1a0c/SIPPA-llm-evaluator/lab_helpers/evaluator_agent_runtime.py, bedrock_agentcore_name=evaluator_agent_runtime\n",
      "Memory configured with STM only\n",
      "Configuring BedrockAgentCore agent: llm_evaluator_agent\n"
     ]
    },
    {
     "name": "stdout",
     "output_type": "stream",
     "text": [
      "ℹ️ Role EvaluatorBedrockAgentCoreRole-us-east-1 already exists\n",
      "Role ARN: arn:aws:iam::711246752798:role/EvaluatorBedrockAgentCoreRole-us-east-1\n"
     ]
    },
    {
     "data": {
      "text/html": [
       "<pre style=\"white-space:pre;overflow-x:auto;line-height:normal;font-family:Menlo,'DejaVu Sans Mono',consolas,'Courier New',monospace\">\n",
       "💡 <span style=\"color: #008080; text-decoration-color: #008080\">No container engine found </span><span style=\"color: #008080; text-decoration-color: #008080; font-weight: bold\">(</span><span style=\"color: #008080; text-decoration-color: #008080\">Docker/Finch/Podman not installed</span><span style=\"color: #008080; text-decoration-color: #008080; font-weight: bold\">)</span>\n",
       "</pre>\n"
      ],
      "text/plain": [
       "\n",
       "💡 \u001b[36mNo container engine found \u001b[0m\u001b[1;36m(\u001b[0m\u001b[36mDocker/Finch/Podman not installed\u001b[0m\u001b[1;36m)\u001b[0m\n"
      ]
     },
     "metadata": {},
     "output_type": "display_data"
    },
    {
     "data": {
      "text/html": [
       "<pre style=\"white-space:pre;overflow-x:auto;line-height:normal;font-family:Menlo,'DejaVu Sans Mono',consolas,'Courier New',monospace\"><span style=\"color: #008000; text-decoration-color: #008000\">✓</span> Default deployment uses CodeBuild <span style=\"font-weight: bold\">(</span>no container engine needed<span style=\"font-weight: bold\">)</span>, For local builds, install Docker, Finch, or \n",
       "Podman\n",
       "</pre>\n"
      ],
      "text/plain": [
       "\u001b[32m✓\u001b[0m Default deployment uses CodeBuild \u001b[1m(\u001b[0mno container engine needed\u001b[1m)\u001b[0m, For local builds, install Docker, Finch, or \n",
       "Podman\n"
      ]
     },
     "metadata": {},
     "output_type": "display_data"
    },
    {
     "name": "stderr",
     "output_type": "stream",
     "text": [
      "Will create new memory with mode: STM_ONLY\n",
      "Memory configuration: Short-term memory only\n",
      "Found existing memory ID from previous launch: llm_evaluator_agent_mem-0istS4EKp0\n"
     ]
    },
    {
     "data": {
      "text/html": [
       "<pre style=\"white-space:pre;overflow-x:auto;line-height:normal;font-family:Menlo,'DejaVu Sans Mono',consolas,'Courier New',monospace\">\n",
       "<span style=\"color: #808000; text-decoration-color: #808000\">⚠️ Platform mismatch: Current system is </span><span style=\"color: #008000; text-decoration-color: #008000\">'linux/amd64'</span><span style=\"color: #808000; text-decoration-color: #808000\"> but Bedrock AgentCore requires </span><span style=\"color: #008000; text-decoration-color: #008000\">'linux/arm64'</span><span style=\"color: #808000; text-decoration-color: #808000\">, so local builds</span>\n",
       "<span style=\"color: #808000; text-decoration-color: #808000\">won't work.</span>\n",
       "<span style=\"color: #808000; text-decoration-color: #808000\">Please use default launch command which will do a remote cross-platform build using code build.For deployment other</span>\n",
       "<span style=\"color: #808000; text-decoration-color: #808000\">options and workarounds, see: </span>\n",
       "<span style=\"color: #0000ff; text-decoration-color: #0000ff; text-decoration: underline\">https://docs.aws.amazon.com/bedrock-agentcore/latest/devguide/getting-started-custom.html</span>\n",
       "\n",
       "</pre>\n"
      ],
      "text/plain": [
       "\n",
       "\u001b[33m⚠️ Platform mismatch: Current system is \u001b[0m\u001b[32m'linux/amd64'\u001b[0m\u001b[33m but Bedrock AgentCore requires \u001b[0m\u001b[32m'linux/arm64'\u001b[0m\u001b[33m, so local builds\u001b[0m\n",
       "\u001b[33mwon't work.\u001b[0m\n",
       "\u001b[33mPlease use default launch command which will do a remote cross-platform build using code build.For deployment other\u001b[0m\n",
       "\u001b[33moptions and workarounds, see: \u001b[0m\n",
       "\u001b[4;94mhttps://docs.aws.amazon.com/bedrock-agentcore/latest/devguide/getting-started-custom.html\u001b[0m\n",
       "\n"
      ]
     },
     "metadata": {},
     "output_type": "display_data"
    },
    {
     "name": "stderr",
     "output_type": "stream",
     "text": [
      "Generated Dockerfile: Dockerfile\n",
      "Generated .dockerignore: /mnt/custom-file-systems/efs/fs-09f36259b5e98907e_fsap-09cbf9f8e29ef1a0c/SIPPA-llm-evaluator/.dockerignore\n",
      "Keeping 'llm_evaluator_agent' as default agent\n",
      "Bedrock AgentCore configured: /mnt/custom-file-systems/efs/fs-09f36259b5e98907e_fsap-09cbf9f8e29ef1a0c/SIPPA-llm-evaluator/.bedrock_agentcore.yaml\n"
     ]
    },
    {
     "name": "stdout",
     "output_type": "stream",
     "text": [
      "Configuration completed: config_path=PosixPath('/mnt/custom-file-systems/efs/fs-09f36259b5e98907e_fsap-09cbf9f8e29ef1a0c/SIPPA-llm-evaluator/.bedrock_agentcore.yaml') dockerfile_path=PosixPath('/mnt/custom-file-systems/efs/fs-09f36259b5e98907e_fsap-09cbf9f8e29ef1a0c/SIPPA-llm-evaluator/Dockerfile') dockerignore_path=PosixPath('/mnt/custom-file-systems/efs/fs-09f36259b5e98907e_fsap-09cbf9f8e29ef1a0c/SIPPA-llm-evaluator/.dockerignore') runtime='None' region='us-east-1' account_id='711246752798' execution_role='arn:aws:iam::711246752798:role/EvaluatorBedrockAgentCoreRole-us-east-1' ecr_repository=None auto_create_ecr=True memory_id=None\n"
     ]
    }
   ],
   "source": [
    "from bedrock_agentcore_starter_toolkit import Runtime\n",
    "from lab_helpers.utils_evaluator import create_agentcore_runtime_execution_role\n",
    "\n",
    "# Initialize the runtime toolkit\n",
    "boto_session = boto3.session.Session()\n",
    "region = boto_session.region_name\n",
    "\n",
    "execution_role_arn = create_agentcore_runtime_execution_role()\n",
    "\n",
    "agentcore_runtime = Runtime()\n",
    "\n",
    "# Configure the deployment\n",
    "response = agentcore_runtime.configure(\n",
    "    entrypoint=\"lab_helpers/evaluator_agent_runtime.py\",\n",
    "    execution_role=execution_role_arn,\n",
    "    auto_create_ecr=True,\n",
    "    requirements_file=\"requirements.txt\",\n",
    "    region=region,\n",
    "    agent_name=\"llm_evaluator_agent\",\n",
    ")\n",
    "\n",
    "print(\"Configuration completed:\", response)"
   ]
  },
  {
   "cell_type": "code",
   "execution_count": 43,
   "id": "bd4850c5-48f0-4bea-abdf-710a5fab2daf",
   "metadata": {
    "execution": {
     "iopub.execute_input": "2025-10-16T00:01:31.359000Z",
     "iopub.status.busy": "2025-10-16T00:01:31.358725Z",
     "iopub.status.idle": "2025-10-16T00:02:22.331485Z",
     "shell.execute_reply": "2025-10-16T00:02:22.330847Z",
     "shell.execute_reply.started": "2025-10-16T00:01:31.358980Z"
    },
    "scrolled": true
   },
   "outputs": [
    {
     "name": "stderr",
     "output_type": "stream",
     "text": [
      "🚀 CodeBuild mode: building in cloud (RECOMMENDED - DEFAULT)\n",
      "   • Build ARM64 containers in the cloud with CodeBuild\n",
      "   • No local Docker required\n",
      "💡 Available deployment modes:\n",
      "   • runtime.launch()                           → CodeBuild (current)\n",
      "   • runtime.launch(local=True)                 → Local development\n",
      "   • runtime.launch(local_build=True)           → Local build + cloud deploy (NEW)\n",
      "Creating memory resource for agent: llm_evaluator_agent\n",
      "✅ MemoryManager initialized for region: us-east-1\n",
      "🔎 Retrieving memory resource with ID: llm_evaluator_agent_mem-0istS4EKp0...\n",
      "  Found memory: llm_evaluator_agent_mem-0istS4EKp0\n",
      "Found existing memory in cloud: llm_evaluator_agent_mem-0istS4EKp0\n",
      "Existing memory has 0 strategies\n",
      "✅ Using existing STM-only memory\n",
      "Starting CodeBuild ARM64 deployment for agent 'llm_evaluator_agent' to account 711246752798 (us-east-1)\n",
      "Setting up AWS resources (ECR repository, execution roles)...\n",
      "Getting or creating ECR repository for agent: llm_evaluator_agent\n",
      "✅ ECR repository available: 711246752798.dkr.ecr.us-east-1.amazonaws.com/bedrock-agentcore-llm_evaluator_agent\n",
      "Using execution role from config: arn:aws:iam::711246752798:role/EvaluatorBedrockAgentCoreRole-us-east-1\n",
      "Preparing CodeBuild project and uploading source...\n",
      "Getting or creating CodeBuild execution role for agent: llm_evaluator_agent\n",
      "Role name: AmazonBedrockAgentCoreSDKCodeBuild-us-east-1-a9aedc1888\n"
     ]
    },
    {
     "name": "stdout",
     "output_type": "stream",
     "text": [
      "✅ Reusing existing ECR repository: 711246752798.dkr.ecr.us-east-1.amazonaws.com/bedrock-agentcore-llm_evaluator_agent\n"
     ]
    },
    {
     "name": "stderr",
     "output_type": "stream",
     "text": [
      "Reusing existing CodeBuild execution role: arn:aws:iam::711246752798:role/AmazonBedrockAgentCoreSDKCodeBuild-us-east-1-a9aedc1888\n",
      "Using dockerignore.template with 45 patterns for zip filtering\n",
      "Uploaded source to S3: llm_evaluator_agent/source.zip\n",
      "Updated CodeBuild project: bedrock-agentcore-llm_evaluator_agent-builder\n",
      "Starting CodeBuild build (this may take several minutes)...\n",
      "Starting CodeBuild monitoring...\n",
      "🔄 QUEUED started (total: 0s)\n",
      "✅ QUEUED completed in 1.0s\n",
      "🔄 PROVISIONING started (total: 1s)\n",
      "✅ PROVISIONING completed in 11.4s\n",
      "🔄 DOWNLOAD_SOURCE started (total: 12s)\n",
      "✅ DOWNLOAD_SOURCE completed in 2.1s\n",
      "🔄 BUILD started (total: 14s)\n",
      "✅ BUILD completed in 16.5s\n",
      "🔄 POST_BUILD started (total: 31s)\n",
      "✅ POST_BUILD completed in 12.4s\n",
      "🔄 FINALIZING started (total: 43s)\n",
      "✅ FINALIZING completed in 1.0s\n",
      "🔄 COMPLETED started (total: 44s)\n",
      "✅ COMPLETED completed in 1.0s\n",
      "🎉 CodeBuild completed successfully in 0m 45s\n",
      "CodeBuild completed successfully\n",
      "✅ CodeBuild project configuration saved\n",
      "Deploying to Bedrock AgentCore...\n",
      "Passing memory configuration to agent: llm_evaluator_agent_mem-0istS4EKp0\n",
      "⚠️ Session ID will be reset to connect to the updated agent. The previous agent remains accessible via the original session ID: 392b5c8b-fc60-405a-9375-faa3e2b857a9\n",
      "✅ Agent created/updated: arn:aws:bedrock-agentcore:us-east-1:711246752798:runtime/llm_evaluator_agent-jf0YsKAH8C\n",
      "Observability is enabled, configuring Transaction Search...\n",
      "CloudWatch Logs resource policy already configured\n",
      "X-Ray trace destination already configured\n",
      "X-Ray indexing rule already configured\n",
      "✅ Transaction Search already fully configured\n",
      "🔍 GenAI Observability Dashboard:\n",
      "   https://console.aws.amazon.com/cloudwatch/home?region=us-east-1#gen-ai-observability/agent-core\n",
      "Polling for endpoint to be ready...\n",
      "Agent endpoint: arn:aws:bedrock-agentcore:us-east-1:711246752798:runtime/llm_evaluator_agent-jf0YsKAH8C/runtime-endpoint/DEFAULT\n",
      "Deployment completed successfully - Agent: arn:aws:bedrock-agentcore:us-east-1:711246752798:runtime/llm_evaluator_agent-jf0YsKAH8C\n",
      "Built with CodeBuild: bedrock-agentcore-llm_evaluator_agent-builder:32888d14-2628-4407-9985-5832e54d98d0\n",
      "Deployed to cloud: arn:aws:bedrock-agentcore:us-east-1:711246752798:runtime/llm_evaluator_agent-jf0YsKAH8C\n",
      "ECR image: 711246752798.dkr.ecr.us-east-1.amazonaws.com/bedrock-agentcore-llm_evaluator_agent\n",
      "🔍 Agent logs available at:\n",
      "   /aws/bedrock-agentcore/runtimes/llm_evaluator_agent-jf0YsKAH8C-DEFAULT --log-stream-name-prefix \"2025/10/16/\\[runtime-logs]\"\n",
      "   /aws/bedrock-agentcore/runtimes/llm_evaluator_agent-jf0YsKAH8C-DEFAULT --log-stream-names \"otel-rt-logs\"\n",
      "💡 Tail logs with: aws logs tail /aws/bedrock-agentcore/runtimes/llm_evaluator_agent-jf0YsKAH8C-DEFAULT --log-stream-name-prefix \"2025/10/16/\\[runtime-logs]\" --follow\n",
      "💡 Or view recent logs: aws logs tail /aws/bedrock-agentcore/runtimes/llm_evaluator_agent-jf0YsKAH8C-DEFAULT --log-stream-name-prefix \"2025/10/16/\\[runtime-logs]\" --since 1h\n"
     ]
    },
    {
     "name": "stdout",
     "output_type": "stream",
     "text": [
      "Launch completed: arn:aws:bedrock-agentcore:us-east-1:711246752798:runtime/llm_evaluator_agent-jf0YsKAH8C\n"
     ]
    }
   ],
   "source": [
    "# Launch the agent (this will build and deploy the container)\n",
    "from lab_helpers.utils_evaluator import put_ssm_parameter\n",
    "\n",
    "launch_result = agentcore_runtime.launch()\n",
    "print(\"Launch completed:\", launch_result.agent_arn)\n",
    "\n",
    "agent_arn = put_ssm_parameter(\n",
    "    \"/app/llmevaluator/agentcore/runtime_arn\", launch_result.agent_arn\n",
    ")"
   ]
  },
  {
   "cell_type": "code",
   "execution_count": 44,
   "id": "1a307c16-3bb1-42e6-b949-4f2513d54908",
   "metadata": {
    "execution": {
     "iopub.execute_input": "2025-10-16T00:02:29.338974Z",
     "iopub.status.busy": "2025-10-16T00:02:29.338692Z",
     "iopub.status.idle": "2025-10-16T00:02:30.185990Z",
     "shell.execute_reply": "2025-10-16T00:02:30.185355Z",
     "shell.execute_reply.started": "2025-10-16T00:02:29.338954Z"
    }
   },
   "outputs": [
    {
     "name": "stderr",
     "output_type": "stream",
     "text": [
      "✅ MemoryManager initialized for region: us-east-1\n",
      "🔎 Retrieving memory resource with ID: llm_evaluator_agent_mem-0istS4EKp0...\n",
      "  Found memory: llm_evaluator_agent_mem-0istS4EKp0\n",
      "Retrieved Bedrock AgentCore status for: llm_evaluator_agent\n"
     ]
    },
    {
     "name": "stdout",
     "output_type": "stream",
     "text": [
      "Final status: READY\n"
     ]
    }
   ],
   "source": [
    "import time\n",
    "\n",
    "# Wait for the agent to be ready\n",
    "status_response = agentcore_runtime.status()\n",
    "status = status_response.endpoint[\"status\"]\n",
    "\n",
    "end_status = [\"READY\", \"CREATE_FAILED\", \"DELETE_FAILED\", \"UPDATE_FAILED\"]\n",
    "while status not in end_status:\n",
    "    print(f\"Waiting for deployment... Current status: {status}\")\n",
    "    time.sleep(10)\n",
    "    status_response = agentcore_runtime.status()\n",
    "    status = status_response.endpoint[\"status\"]\n",
    "\n",
    "print(f\"Final status: {status}\")\n"
   ]
  },
  {
   "cell_type": "code",
   "execution_count": null,
   "id": "6c0d5bba-2d56-4275-afaa-f11741d17568",
   "metadata": {},
   "outputs": [],
   "source": []
  },
  {
   "cell_type": "code",
   "execution_count": 45,
   "id": "18e407b2-dfca-4746-b4b2-db0fbf42a6a0",
   "metadata": {
    "execution": {
     "iopub.execute_input": "2025-10-16T00:02:32.812267Z",
     "iopub.status.busy": "2025-10-16T00:02:32.811994Z",
     "iopub.status.idle": "2025-10-16T00:02:32.816530Z",
     "shell.execute_reply": "2025-10-16T00:02:32.815827Z",
     "shell.execute_reply.started": "2025-10-16T00:02:32.812246Z"
    }
   },
   "outputs": [],
   "source": [
    "output_obj=[{'case_id': 1,\n",
    "  'timestamp': '2025-10-13 00:55:59',\n",
    "  'goal_number': 1,\n",
    "  'goal_text': 'Reduce daily carbohydrate intake to 45g per meal and aim for a total of 135g per day. Monitor progress weekly by recording carbohydrate counts in food diary.'},\n",
    " {'case_id': 2,\n",
    "  'timestamp': '2025-10-13 00:55:59',\n",
    "  'goal_number': 2,\n",
    "  'goal_text': 'Engage in at least 30 minutes of moderate-intensity aerobic activity 5 days per week. Track activity using a fitness tracker or smartphone app.'},\n",
    " {'case_id': 3,\n",
    "  'timestamp': '2025-10-13 00:55:59',\n",
    "  'goal_number': 3,\n",
    "  'goal_text': 'Take metformin 500mg twice daily with meals. Refill prescription every 90 days and report any side effects to healthcare provider.'},\n",
    " {'case_id': 4,\n",
    "  'timestamp': '2025-10-13 00:55:59',\n",
    "  'goal_number': 4,\n",
    "  'goal_text': 'Check blood glucose levels before meals and at bedtime. Target pre-meal blood glucose levels below 130mg/dL and bedtime levels below 110mg/dL. Record results in a log.'},\n",
    " {'case_id': 5,\n",
    "  'timestamp': '2025-10-13 00:55:59',\n",
    "  'goal_number': 5,\n",
    "  'goal_text': 'Maintain adequate water intake by drinking at least 8 glasses of water per day. Monitor urine color and report any unusual changes to healthcare provider.'},\n",
    " {'case_id': 6,\n",
    "  'timestamp': '2025-10-13 00:55:59',\n",
    "  'goal_number': 6,\n",
    "  'goal_text': 'Attend all scheduled appointments with healthcare provider and bring a copy of the most recent blood glucose log. Update medication list and share any medication changes.'}]"
   ]
  },
  {
   "cell_type": "code",
   "execution_count": 46,
   "id": "d510e19c-eb3f-445d-b06e-a1059862a650",
   "metadata": {
    "execution": {
     "iopub.execute_input": "2025-10-16T00:02:34.308823Z",
     "iopub.status.busy": "2025-10-16T00:02:34.308528Z",
     "iopub.status.idle": "2025-10-16T00:02:34.314958Z",
     "shell.execute_reply": "2025-10-16T00:02:34.313845Z",
     "shell.execute_reply.started": "2025-10-16T00:02:34.308791Z"
    }
   },
   "outputs": [
    {
     "data": {
      "text/plain": [
       "{'analyzer_payload': [{'case_id': 1,\n",
       "   'timestamp': '2025-10-13 00:55:59',\n",
       "   'goal_number': 1,\n",
       "   'goal_text': 'Reduce daily carbohydrate intake to 45g per meal and aim for a total of 135g per day. Monitor progress weekly by recording carbohydrate counts in food diary.'},\n",
       "  {'case_id': 2,\n",
       "   'timestamp': '2025-10-13 00:55:59',\n",
       "   'goal_number': 2,\n",
       "   'goal_text': 'Engage in at least 30 minutes of moderate-intensity aerobic activity 5 days per week. Track activity using a fitness tracker or smartphone app.'},\n",
       "  {'case_id': 3,\n",
       "   'timestamp': '2025-10-13 00:55:59',\n",
       "   'goal_number': 3,\n",
       "   'goal_text': 'Take metformin 500mg twice daily with meals. Refill prescription every 90 days and report any side effects to healthcare provider.'},\n",
       "  {'case_id': 4,\n",
       "   'timestamp': '2025-10-13 00:55:59',\n",
       "   'goal_number': 4,\n",
       "   'goal_text': 'Check blood glucose levels before meals and at bedtime. Target pre-meal blood glucose levels below 130mg/dL and bedtime levels below 110mg/dL. Record results in a log.'},\n",
       "  {'case_id': 5,\n",
       "   'timestamp': '2025-10-13 00:55:59',\n",
       "   'goal_number': 5,\n",
       "   'goal_text': 'Maintain adequate water intake by drinking at least 8 glasses of water per day. Monitor urine color and report any unusual changes to healthcare provider.'},\n",
       "  {'case_id': 6,\n",
       "   'timestamp': '2025-10-13 00:55:59',\n",
       "   'goal_number': 6,\n",
       "   'goal_text': 'Attend all scheduled appointments with healthcare provider and bring a copy of the most recent blood glucose log. Update medication list and share any medication changes.'}]}"
      ]
     },
     "execution_count": 46,
     "metadata": {},
     "output_type": "execute_result"
    }
   ],
   "source": [
    "payload={\"analyzer_payload\": output_obj}\n",
    "payload"
   ]
  },
  {
   "cell_type": "code",
   "execution_count": 47,
   "id": "3bb5889f-f47a-486e-a83e-ce809459d3c4",
   "metadata": {
    "execution": {
     "iopub.execute_input": "2025-10-16T00:02:35.816099Z",
     "iopub.status.busy": "2025-10-16T00:02:35.815822Z",
     "iopub.status.idle": "2025-10-16T00:03:01.405672Z",
     "shell.execute_reply": "2025-10-16T00:03:01.404827Z",
     "shell.execute_reply.started": "2025-10-16T00:02:35.816077Z"
    }
   },
   "outputs": [
    {
     "name": "stderr",
     "output_type": "stream",
     "text": [
      "✅ MemoryManager initialized for region: us-east-1\n",
      "Memory is active, proceeding with invoke\n"
     ]
    },
    {
     "data": {
      "text/plain": [
       "{'ResponseMetadata': {'RequestId': 'e51b4dde-3f6b-4c52-ac57-6ad722845c1b',\n",
       "  'HTTPStatusCode': 200,\n",
       "  'HTTPHeaders': {'date': 'Thu, 16 Oct 2025 00:03:01 GMT',\n",
       "   'content-type': 'application/json',\n",
       "   'transfer-encoding': 'chunked',\n",
       "   'connection': 'keep-alive',\n",
       "   'x-amzn-requestid': 'e51b4dde-3f6b-4c52-ac57-6ad722845c1b',\n",
       "   'baggage': 'Self=1-68f0361c-305f829d51c21d78181453ea,session.id=767d99f1-0ac4-4e96-95b9-f5d3ca109d76',\n",
       "   'x-amzn-bedrock-agentcore-runtime-session-id': '767d99f1-0ac4-4e96-95b9-f5d3ca109d76',\n",
       "   'x-amzn-trace-id': 'Root=1-68f0361c-25eb16652e93115936909e84;Parent=7d1778608afe5bf8;Sampled=1;Self=1-68f0361c-305f829d51c21d78181453ea'},\n",
       "  'RetryAttempts': 0},\n",
       " 'runtimeSessionId': '767d99f1-0ac4-4e96-95b9-f5d3ca109d76',\n",
       " 'traceId': 'Root=1-68f0361c-25eb16652e93115936909e84;Parent=7d1778608afe5bf8;Sampled=1;Self=1-68f0361c-305f829d51c21d78181453ea',\n",
       " 'baggage': 'Self=1-68f0361c-305f829d51c21d78181453ea,session.id=767d99f1-0ac4-4e96-95b9-f5d3ca109d76',\n",
       " 'contentType': 'application/json',\n",
       " 'statusCode': 200,\n",
       " 'response': ['{\"statusCode\": 200, \"headers\": {\"Content-Type\": \"application/json\"}, \"body\": \"{\\\\\"run_id\\\\\": \\\\\"9c8a8e33-f839-4a89-a0b3-e141034ee335\\\\\", \\\\\"timestamp\\\\\": \\\\\"2025-10-16 00:03:01\\\\\", \\\\\"evaluator_output\\\\\": {\\\\\"evaluation_type\\\\\": \\\\\"smart_goals_rubric\\\\\", \\\\\"cases_scored\\\\\": 6, \\\\\"scores\\\\\": [{\\\\\"case_id\\\\\": 1, \\\\\"metric_scores\\\\\": {\\\\\"specific\\\\\": 1.0, \\\\\"measurable\\\\\": 1.0, \\\\\"achievable\\\\\": 0.9, \\\\\"relevant\\\\\": 1.0, \\\\\"time_bound\\\\\": 0.8, \\\\\"clarity\\\\\": 1.0}, \\\\\"agreement\\\\\": \\\\\"n/a\\\\\", \\\\\"notes\\\\\": \\\\\"Goal clearly specifies carb limits per meal/day and weekly monitoring. Time-bound aspect could be strengthened with progress milestones.\\\\\"}, {\\\\\"case_id\\\\\": 2, \\\\\"metric_scores\\\\\": {\\\\\"specific\\\\\": 1.0, \\\\\"measurable\\\\\": 1.0, \\\\\"achievable\\\\\": 1.0, \\\\\"relevant\\\\\": 1.0, \\\\\"time_bound\\\\\": 1.0, \\\\\"clarity\\\\\": 1.0}, \\\\\"agreement\\\\\": \\\\\"n/a\\\\\", \\\\\"notes\\\\\": \\\\\"Perfectly SMART goal with clear activity type, duration, frequency, and tracking method.\\\\\"}, {\\\\\"case_id\\\\\": 3, \\\\\"metric_scores\\\\\": {\\\\\"specific\\\\\": 1.0, \\\\\"measurable\\\\\": 0.9, \\\\\"achievable\\\\\": 1.0, \\\\\"relevant\\\\\": 1.0, \\\\\"time_bou',\n",
       "  'nd\\\\\": 1.0, \\\\\"clarity\\\\\": 1.0}, \\\\\"agreement\\\\\": \\\\\"n/a\\\\\", \\\\\"notes\\\\\": \\\\\"Clear medication regimen with specific dosage, timing, and follow-up actions. Measuring adherence implied but not explicitly stated.\\\\\"}, {\\\\\"case_id\\\\\": 4, \\\\\"metric_scores\\\\\": {\\\\\"specific\\\\\": 1.0, \\\\\"measurable\\\\\": 1.0, \\\\\"achievable\\\\\": 0.9, \\\\\"relevant\\\\\": 1.0, \\\\\"time_bound\\\\\": 0.9, \\\\\"clarity\\\\\": 1.0}, \\\\\"agreement\\\\\": \\\\\"n/a\\\\\", \\\\\"notes\\\\\": \\\\\"Goal specifies exact testing times and target ranges. Achievability depends on patient\\'s condition. Frequency of reviewing logs could be more explicit.\\\\\"}, {\\\\\"case_id\\\\\": 5, \\\\\"metric_scores\\\\\": {\\\\\"specific\\\\\": 0.9, \\\\\"measurable\\\\\": 0.8, \\\\\"achievable\\\\\": 1.0, \\\\\"relevant\\\\\": 0.9, \\\\\"time_bound\\\\\": 0.7, \\\\\"clarity\\\\\": 0.9}, \\\\\"agreement\\\\\": \\\\\"n/a\\\\\", \\\\\"notes\\\\\": \\\\\"Clear daily water target, but monitoring method (urine color) is subjective. Lacks timeframe for evaluation and direct connection to diabetes management.\\\\\"}, {\\\\\"case_id\\\\\": 6, \\\\\"metric_scores\\\\\": {\\\\\"specific\\\\\": 0.8, \\\\\"measurable\\\\\": 0.7, \\\\\"achievable\\\\\": 1.0, \\\\\"relevant\\\\\": 1.0, \\\\',\n",
       "  '\"time_bound\\\\\": 0.7, \\\\\"clarity\\\\\": 0.9}, \\\\\"agreement\\\\\": \\\\\"n/a\\\\\", \\\\\"notes\\\\\": \\\\\"Addresses appointment attendance but lacks specific timeframes. \\'All scheduled appointments\\' is measurable but frequency is unspecified.\\\\\"}]}, \\\\\"analyzer_input\\\\\": [{\\\\\"case_id\\\\\": 1, \\\\\"timestamp\\\\\": \\\\\"2025-10-13 00:55:59\\\\\", \\\\\"goal_number\\\\\": 1, \\\\\"goal_text\\\\\": \\\\\"Reduce daily carbohydrate intake to 45g per meal and aim for a total of 135g per day. Monitor progress weekly by recording carbohydrate counts in food diary.\\\\\"}, {\\\\\"case_id\\\\\": 2, \\\\\"timestamp\\\\\": \\\\\"2025-10-13 00:55:59\\\\\", \\\\\"goal_number\\\\\": 2, \\\\\"goal_text\\\\\": \\\\\"Engage in at least 30 minutes of moderate-intensity aerobic activity 5 days per week. Track activity using a fitness tracker or smartphone app.\\\\\"}, {\\\\\"case_id\\\\\": 3, \\\\\"timestamp\\\\\": \\\\\"2025-10-13 00:55:59\\\\\", \\\\\"goal_number\\\\\": 3, \\\\\"goal_text\\\\\": \\\\\"Take metformin 500mg twice daily with meals. Refill prescription every 90 days and report any side effects to healthcare provider.\\\\\"}, {\\\\\"case_id\\\\\": 4, \\\\\"timestamp\\\\\": \\\\\"2025-10-13 00:55:59\\\\\", ',\n",
       "  '\\\\\"goal_number\\\\\": 4, \\\\\"goal_text\\\\\": \\\\\"Check blood glucose levels before meals and at bedtime. Target pre-meal blood glucose levels below 130mg/dL and bedtime levels below 110mg/dL. Record results in a log.\\\\\"}, {\\\\\"case_id\\\\\": 5, \\\\\"timestamp\\\\\": \\\\\"2025-10-13 00:55:59\\\\\", \\\\\"goal_number\\\\\": 5, \\\\\"goal_text\\\\\": \\\\\"Maintain adequate water intake by drinking at least 8 glasses of water per day. Monitor urine color and report any unusual changes to healthcare provider.\\\\\"}, {\\\\\"case_id\\\\\": 6, \\\\\"timestamp\\\\\": \\\\\"2025-10-13 00:55:59\\\\\", \\\\\"goal_number\\\\\": 6, \\\\\"goal_text\\\\\": \\\\\"Attend all scheduled appointments with healthcare provider and bring a copy of the most recent blood glucose log. Update medication list and share any medication changes.\\\\\"}]}\"}']}"
      ]
     },
     "execution_count": 47,
     "metadata": {},
     "output_type": "execute_result"
    }
   ],
   "source": [
    "import uuid\n",
    "\n",
    "# Create a session ID for demonstrating session continuity\n",
    "session_id = uuid.uuid4()\n",
    "\n",
    "# Ensure payload is a proper dict\n",
    "payload = {\"analyzer_payload\": output_obj}\n",
    "\n",
    "# If your runtime uses IAM role, you can omit bearer_token\n",
    "#response = agentcore_runtime.invoke(\n",
    "#    payload,\n",
    "#    session_id=str(session_id)\n",
    "#)\n",
    "\n",
    "response = agentcore_runtime.invoke(\n",
    "    payload,\n",
    "    session_id=str(session_id)\n",
    ")\n",
    "\n",
    "response"
   ]
  },
  {
   "cell_type": "code",
   "execution_count": null,
   "id": "ec9da4bc-c3b4-4a49-be3b-4e679b395ca6",
   "metadata": {},
   "outputs": [],
   "source": []
  },
  {
   "cell_type": "code",
   "execution_count": null,
   "id": "7cda5199-e9f2-479c-9b1b-0425035ef196",
   "metadata": {},
   "outputs": [],
   "source": []
  },
  {
   "cell_type": "code",
   "execution_count": null,
   "id": "1514bce3-18eb-4a0b-9223-c4d3c7a86a13",
   "metadata": {},
   "outputs": [],
   "source": []
  },
  {
   "cell_type": "code",
   "execution_count": null,
   "id": "6649554f-5eb5-430a-a86c-9414a2d3ad90",
   "metadata": {},
   "outputs": [],
   "source": []
  },
  {
   "cell_type": "code",
   "execution_count": null,
   "id": "51cf77a7-295c-4b8d-aa47-b144b47c7998",
   "metadata": {},
   "outputs": [],
   "source": []
  },
  {
   "cell_type": "code",
   "execution_count": 16,
   "id": "8ac8b782-bc2f-4e76-94e6-d1956e4549f8",
   "metadata": {
    "execution": {
     "iopub.execute_input": "2025-10-15T23:28:49.246638Z",
     "iopub.status.busy": "2025-10-15T23:28:49.246214Z",
     "iopub.status.idle": "2025-10-15T23:28:49.249598Z",
     "shell.execute_reply": "2025-10-15T23:28:49.248923Z",
     "shell.execute_reply.started": "2025-10-15T23:28:49.246613Z"
    }
   },
   "outputs": [],
   "source": [
    "# ==== Starting below is for staging debugging testing ... ===="
   ]
  },
  {
   "cell_type": "code",
   "execution_count": 48,
   "id": "1741f3e1-665c-4849-9025-507334eb8ebf",
   "metadata": {
    "execution": {
     "iopub.execute_input": "2025-10-16T00:03:20.744658Z",
     "iopub.status.busy": "2025-10-16T00:03:20.744352Z",
     "iopub.status.idle": "2025-10-16T00:03:20.751433Z",
     "shell.execute_reply": "2025-10-16T00:03:20.750645Z",
     "shell.execute_reply.started": "2025-10-16T00:03:20.744635Z"
    }
   },
   "outputs": [],
   "source": [
    "# ==== Testing ... ====\n",
    "# @tool  ---------- Low-level loaders as tools ----------\n",
    "def load_analyzer_runs_v2(analyzer_json_src: str, limit: int | None = None) -> dict:\n",
    "    # Need to define input source\n",
    "    \"\"\"\n",
    "    Load analyzer outputs (JSONL), sorted by timestamp ASC. Optionally keep only latest 'limit'.\n",
    "    \"\"\"\n",
    "    #runs = _read_jsonl(analyzer_json_src)\n",
    "    runs = analyzer_json_src\n",
    "    runs.sort(key=lambda r: r.get(\"timestamp\", \"\"))\n",
    "    if limit:\n",
    "        runs = runs[-limit:]\n",
    "    return {\"runs\": runs}\n",
    "\n",
    "\n",
    "# @tool  ---------- Planning tool that abstracts use cases ----------\n",
    "def build_eval_plan_v2(analyzer_json_src: str, limit=50) -> dict:\n",
    "    \"\"\"\n",
    "    Decide which evaluation to run based on analyzer_outputs.jsonl contents.\n",
    "    Returns a plan with:\n",
    "      {\n",
    "        \"evaluation_type\": \"engagement_vs_clinician\" | \"smart_goals_rubric\",\n",
    "        \"metrics\": [\"...\"],\n",
    "        \"rubric\": { ... optional ... },\n",
    "        \"cases\": [ ... normalized cases ... ]\n",
    "      }\n",
    "    \"\"\"\n",
    "    runs = load_analyzer_runs_v2(analyzer_json_src=analyzer_json_src, limit=limit)[\"runs\"]\n",
    "    cases = runs\n",
    "#    cases = _build_smart_goal_cases_v2(runs)\n",
    "    return {\n",
    "            \"evaluation_type\": \"smart_goals_rubric\",\n",
    "            \"metrics\": [\"specific\", \"measurable\", \"achievable\", \"relevant\", \"time_bound\", \"clarity\"],\n",
    "            \"rubric\": {\n",
    "                \"specific\":   \"Clearly states the behavior/target (who/what/when/where).\",\n",
    "                \"measurable\": \"Includes a quantifiable criterion (count, frequency, value).\",\n",
    "                \"achievable\": \"Feasible for the patient (resources/constraints).\",\n",
    "                \"relevant\":   \"Aligned to diabetes/health needs in the notes.\",\n",
    "                \"time_bound\": \"Contains a concrete timeframe or deadline.\",\n",
    "                \"clarity\":    \"Readable, unambiguous, free of contradictions.\"\n",
    "            },\n",
    "            \"cases\": cases\n",
    "    }\n",
    "\n",
    "    # Fallback: nothing to evaluate\n",
    "    return {\n",
    "        \"evaluation_type\": \"none\",\n",
    "        \"metrics\": [],\n",
    "        \"rubric\": {},\n",
    "        \"cases\": []\n",
    "    }\n"
   ]
  },
  {
   "cell_type": "code",
   "execution_count": 49,
   "id": "c3f35617-dde2-4bb1-ba24-62ec0b701137",
   "metadata": {
    "execution": {
     "iopub.execute_input": "2025-10-16T00:03:29.644199Z",
     "iopub.status.busy": "2025-10-16T00:03:29.643924Z",
     "iopub.status.idle": "2025-10-16T00:03:29.651170Z",
     "shell.execute_reply": "2025-10-16T00:03:29.650303Z",
     "shell.execute_reply.started": "2025-10-16T00:03:29.644180Z"
    }
   },
   "outputs": [
    {
     "data": {
      "text/plain": [
       "[{'case_id': 1,\n",
       "  'timestamp': '2025-10-13 00:55:59',\n",
       "  'goal_number': 1,\n",
       "  'goal_text': 'Reduce daily carbohydrate intake to 45g per meal and aim for a total of 135g per day. Monitor progress weekly by recording carbohydrate counts in food diary.'},\n",
       " {'case_id': 2,\n",
       "  'timestamp': '2025-10-13 00:55:59',\n",
       "  'goal_number': 2,\n",
       "  'goal_text': 'Engage in at least 30 minutes of moderate-intensity aerobic activity 5 days per week. Track activity using a fitness tracker or smartphone app.'},\n",
       " {'case_id': 3,\n",
       "  'timestamp': '2025-10-13 00:55:59',\n",
       "  'goal_number': 3,\n",
       "  'goal_text': 'Take metformin 500mg twice daily with meals. Refill prescription every 90 days and report any side effects to healthcare provider.'},\n",
       " {'case_id': 4,\n",
       "  'timestamp': '2025-10-13 00:55:59',\n",
       "  'goal_number': 4,\n",
       "  'goal_text': 'Check blood glucose levels before meals and at bedtime. Target pre-meal blood glucose levels below 130mg/dL and bedtime levels below 110mg/dL. Record results in a log.'},\n",
       " {'case_id': 5,\n",
       "  'timestamp': '2025-10-13 00:55:59',\n",
       "  'goal_number': 5,\n",
       "  'goal_text': 'Maintain adequate water intake by drinking at least 8 glasses of water per day. Monitor urine color and report any unusual changes to healthcare provider.'},\n",
       " {'case_id': 6,\n",
       "  'timestamp': '2025-10-13 00:55:59',\n",
       "  'goal_number': 6,\n",
       "  'goal_text': 'Attend all scheduled appointments with healthcare provider and bring a copy of the most recent blood glucose log. Update medication list and share any medication changes.'}]"
      ]
     },
     "execution_count": 49,
     "metadata": {},
     "output_type": "execute_result"
    }
   ],
   "source": [
    "# ==== Testing ... ====\n",
    "import json\n",
    "\n",
    "output = {\n",
    "    'response': '{\"statusCode\": 200, \"headers\": {\"Content-Type\": \"application/json\"}, \"body\": \"{\\\\\"model_output\\\\\": {\\\\\"model_id\\\\\": \\\\\"mistral.mistral-7b-instruct-v0:2\\\\\", \\\\\"data_source\\\\\": \\\\\"s3://sippa/app_data_repo/SIPPA_AI-Extraction-Treatment-Plan/clinician_summary_data_source/AM-09121152.docx\\\\\", \\\\\"timestamp\\\\\": \\\\\"2025-10-13 00:55:59\\\\\", \\\\\"smart_goals\\\\\": [{\\\\\"goal_number\\\\\": 1, \\\\\"description\\\\\": \\\\\"Reduce daily carbohydrate intake to 45g per meal and aim for a total of 135g per day. Monitor progress weekly by recording carbohydrate counts in food diary.\\\\\"}, {\\\\\"goal_number\\\\\": 2, \\\\\"description\\\\\": \\\\\"Engage in at least 30 minutes of moderate-intensity aerobic activity 5 days per week. Track activity using a fitness tracker or smartphone app.\\\\\"}, {\\\\\"goal_number\\\\\": 3, \\\\\"description\\\\\": \\\\\"Take metformin 500mg twice daily with meals. Refill prescription every 90 days and report any side effects to healthcare provider.\\\\\"}, {\\\\\"goal_number\\\\\": 4, \\\\\"description\\\\\": \\\\\"Check blood glucose levels before meals and at bedtime. Target pre-meal blood glucose levels below 130mg/dL and bedtime levels below 110mg/dL. Record results in a log.\\\\\"}, {\\\\\"goal_number\\\\\": 5, \\\\\"description\\\\\": \\\\\"Maintain adequate water intake by drinking at least 8 glasses of water per day. Monitor urine color and report any unusual changes to healthcare provider.\\\\\"}, {\\\\\"goal_number\\\\\": 6, \\\\\"description\\\\\": \\\\\"Attend all scheduled appointments with healthcare provider and bring a copy of the most recent blood glucose log. Update medication list and share any medication changes.\\\\\"}]}, \\\\\"evaluator_result\\\\\": {\\\\\"error\\\\\": \\\\\"\\'BedrockAgentCoreDataPlaneFrontingLayer\\' object has no attribute \\'invoke_runtime\\'\\\\\"}}\"}'\n",
    "}\n",
    "\n",
    "# Step 1: Parse the outermost JSON string (the value of 'response')\n",
    "response_data = json.loads(output['response'])\n",
    "\n",
    "# Step 2: Parse the 'body' which is another JSON string\n",
    "body_data = json.loads(response_data['body'])\n",
    "\n",
    "# Step 3: Extract the necessary components\n",
    "model_output = body_data['model_output']\n",
    "timestamp = model_output['timestamp']\n",
    "smart_goals = model_output['smart_goals']\n",
    "\n",
    "# Step 4: Iterate through goals, extract data, and format\n",
    "final_output = []\n",
    "# The case_id is a simple count, so we'll start at 1\n",
    "case_id_counter = 1 \n",
    "\n",
    "for goal in smart_goals:\n",
    "    goal_entry = {\n",
    "        'case_id': case_id_counter,\n",
    "        'timestamp': timestamp,\n",
    "        'goal_number': goal['goal_number'],\n",
    "        'goal_text': goal['description']\n",
    "    }\n",
    "    final_output.append(goal_entry)\n",
    "    case_id_counter += 1\n",
    "\n",
    "# Print the final result in a human-readable format\n",
    "# print(json.dumps(final_output, indent=4))\n",
    "\n",
    "output_obj = final_output\n",
    "output_obj"
   ]
  },
  {
   "cell_type": "code",
   "execution_count": 50,
   "id": "098e83c8-e520-45d4-b3d2-31fde9adbdac",
   "metadata": {
    "execution": {
     "iopub.execute_input": "2025-10-16T00:03:31.115236Z",
     "iopub.status.busy": "2025-10-16T00:03:31.114967Z",
     "iopub.status.idle": "2025-10-16T00:03:31.119958Z",
     "shell.execute_reply": "2025-10-16T00:03:31.119352Z",
     "shell.execute_reply.started": "2025-10-16T00:03:31.115216Z"
    }
   },
   "outputs": [
    {
     "data": {
      "text/plain": [
       "[{'case_id': 1,\n",
       "  'timestamp': '2025-10-13 00:55:59',\n",
       "  'goal_number': 1,\n",
       "  'goal_text': 'Reduce daily carbohydrate intake to 45g per meal and aim for a total of 135g per day. Monitor progress weekly by recording carbohydrate counts in food diary.'},\n",
       " {'case_id': 2,\n",
       "  'timestamp': '2025-10-13 00:55:59',\n",
       "  'goal_number': 2,\n",
       "  'goal_text': 'Engage in at least 30 minutes of moderate-intensity aerobic activity 5 days per week. Track activity using a fitness tracker or smartphone app.'},\n",
       " {'case_id': 3,\n",
       "  'timestamp': '2025-10-13 00:55:59',\n",
       "  'goal_number': 3,\n",
       "  'goal_text': 'Take metformin 500mg twice daily with meals. Refill prescription every 90 days and report any side effects to healthcare provider.'},\n",
       " {'case_id': 4,\n",
       "  'timestamp': '2025-10-13 00:55:59',\n",
       "  'goal_number': 4,\n",
       "  'goal_text': 'Check blood glucose levels before meals and at bedtime. Target pre-meal blood glucose levels below 130mg/dL and bedtime levels below 110mg/dL. Record results in a log.'},\n",
       " {'case_id': 5,\n",
       "  'timestamp': '2025-10-13 00:55:59',\n",
       "  'goal_number': 5,\n",
       "  'goal_text': 'Maintain adequate water intake by drinking at least 8 glasses of water per day. Monitor urine color and report any unusual changes to healthcare provider.'},\n",
       " {'case_id': 6,\n",
       "  'timestamp': '2025-10-13 00:55:59',\n",
       "  'goal_number': 6,\n",
       "  'goal_text': 'Attend all scheduled appointments with healthcare provider and bring a copy of the most recent blood glucose log. Update medication list and share any medication changes.'}]"
      ]
     },
     "execution_count": 50,
     "metadata": {},
     "output_type": "execute_result"
    }
   ],
   "source": [
    "# ==== Testing ... ====\n",
    "runs = load_analyzer_runs_v2(analyzer_json_src=output_obj)[\"runs\"]\n",
    "runs\n"
   ]
  },
  {
   "cell_type": "code",
   "execution_count": 51,
   "id": "c360a9b2-925b-4589-a236-ff26ba3612e2",
   "metadata": {
    "execution": {
     "iopub.execute_input": "2025-10-16T00:03:32.995848Z",
     "iopub.status.busy": "2025-10-16T00:03:32.995582Z",
     "iopub.status.idle": "2025-10-16T00:03:33.000883Z",
     "shell.execute_reply": "2025-10-16T00:03:32.999857Z",
     "shell.execute_reply.started": "2025-10-16T00:03:32.995828Z"
    }
   },
   "outputs": [
    {
     "data": {
      "text/plain": [
       "{'evaluation_type': 'smart_goals_rubric',\n",
       " 'metrics': ['specific',\n",
       "  'measurable',\n",
       "  'achievable',\n",
       "  'relevant',\n",
       "  'time_bound',\n",
       "  'clarity'],\n",
       " 'rubric': {'specific': 'Clearly states the behavior/target (who/what/when/where).',\n",
       "  'measurable': 'Includes a quantifiable criterion (count, frequency, value).',\n",
       "  'achievable': 'Feasible for the patient (resources/constraints).',\n",
       "  'relevant': 'Aligned to diabetes/health needs in the notes.',\n",
       "  'time_bound': 'Contains a concrete timeframe or deadline.',\n",
       "  'clarity': 'Readable, unambiguous, free of contradictions.'},\n",
       " 'cases': [{'case_id': 1,\n",
       "   'timestamp': '2025-10-13 00:55:59',\n",
       "   'goal_number': 1,\n",
       "   'goal_text': 'Reduce daily carbohydrate intake to 45g per meal and aim for a total of 135g per day. Monitor progress weekly by recording carbohydrate counts in food diary.'},\n",
       "  {'case_id': 2,\n",
       "   'timestamp': '2025-10-13 00:55:59',\n",
       "   'goal_number': 2,\n",
       "   'goal_text': 'Engage in at least 30 minutes of moderate-intensity aerobic activity 5 days per week. Track activity using a fitness tracker or smartphone app.'},\n",
       "  {'case_id': 3,\n",
       "   'timestamp': '2025-10-13 00:55:59',\n",
       "   'goal_number': 3,\n",
       "   'goal_text': 'Take metformin 500mg twice daily with meals. Refill prescription every 90 days and report any side effects to healthcare provider.'},\n",
       "  {'case_id': 4,\n",
       "   'timestamp': '2025-10-13 00:55:59',\n",
       "   'goal_number': 4,\n",
       "   'goal_text': 'Check blood glucose levels before meals and at bedtime. Target pre-meal blood glucose levels below 130mg/dL and bedtime levels below 110mg/dL. Record results in a log.'},\n",
       "  {'case_id': 5,\n",
       "   'timestamp': '2025-10-13 00:55:59',\n",
       "   'goal_number': 5,\n",
       "   'goal_text': 'Maintain adequate water intake by drinking at least 8 glasses of water per day. Monitor urine color and report any unusual changes to healthcare provider.'},\n",
       "  {'case_id': 6,\n",
       "   'timestamp': '2025-10-13 00:55:59',\n",
       "   'goal_number': 6,\n",
       "   'goal_text': 'Attend all scheduled appointments with healthcare provider and bring a copy of the most recent blood glucose log. Update medication list and share any medication changes.'}]}"
      ]
     },
     "execution_count": 51,
     "metadata": {},
     "output_type": "execute_result"
    }
   ],
   "source": [
    "# ==== Testing ... ====\n",
    "build_eval_plan_v2(analyzer_json_src=output_obj)"
   ]
  },
  {
   "cell_type": "code",
   "execution_count": 52,
   "id": "72502147-b113-4fab-9a43-d259fcd5efc6",
   "metadata": {
    "execution": {
     "iopub.execute_input": "2025-10-16T00:03:34.949054Z",
     "iopub.status.busy": "2025-10-16T00:03:34.948801Z",
     "iopub.status.idle": "2025-10-16T00:03:34.953459Z",
     "shell.execute_reply": "2025-10-16T00:03:34.952770Z",
     "shell.execute_reply.started": "2025-10-16T00:03:34.949036Z"
    }
   },
   "outputs": [
    {
     "data": {
      "text/plain": [
       "[{'case_id': 1,\n",
       "  'timestamp': '2025-10-13 00:55:59',\n",
       "  'goal_number': 1,\n",
       "  'goal_text': 'Reduce daily carbohydrate intake to 45g per meal and aim for a total of 135g per day. Monitor progress weekly by recording carbohydrate counts in food diary.'},\n",
       " {'case_id': 2,\n",
       "  'timestamp': '2025-10-13 00:55:59',\n",
       "  'goal_number': 2,\n",
       "  'goal_text': 'Engage in at least 30 minutes of moderate-intensity aerobic activity 5 days per week. Track activity using a fitness tracker or smartphone app.'},\n",
       " {'case_id': 3,\n",
       "  'timestamp': '2025-10-13 00:55:59',\n",
       "  'goal_number': 3,\n",
       "  'goal_text': 'Take metformin 500mg twice daily with meals. Refill prescription every 90 days and report any side effects to healthcare provider.'},\n",
       " {'case_id': 4,\n",
       "  'timestamp': '2025-10-13 00:55:59',\n",
       "  'goal_number': 4,\n",
       "  'goal_text': 'Check blood glucose levels before meals and at bedtime. Target pre-meal blood glucose levels below 130mg/dL and bedtime levels below 110mg/dL. Record results in a log.'},\n",
       " {'case_id': 5,\n",
       "  'timestamp': '2025-10-13 00:55:59',\n",
       "  'goal_number': 5,\n",
       "  'goal_text': 'Maintain adequate water intake by drinking at least 8 glasses of water per day. Monitor urine color and report any unusual changes to healthcare provider.'},\n",
       " {'case_id': 6,\n",
       "  'timestamp': '2025-10-13 00:55:59',\n",
       "  'goal_number': 6,\n",
       "  'goal_text': 'Attend all scheduled appointments with healthcare provider and bring a copy of the most recent blood glucose log. Update medication list and share any medication changes.'}]"
      ]
     },
     "execution_count": 52,
     "metadata": {},
     "output_type": "execute_result"
    }
   ],
   "source": [
    "# ==== Testing ... ====\n",
    "output_obj"
   ]
  },
  {
   "cell_type": "code",
   "execution_count": null,
   "id": "02726758-7daf-44bd-b8a5-7eea1aa06b66",
   "metadata": {},
   "outputs": [],
   "source": []
  },
  {
   "cell_type": "code",
   "execution_count": 53,
   "id": "414b1244-7bde-48cf-a9ca-94ce1d8160ff",
   "metadata": {
    "execution": {
     "iopub.execute_input": "2025-10-16T00:03:36.943667Z",
     "iopub.status.busy": "2025-10-16T00:03:36.943372Z",
     "iopub.status.idle": "2025-10-16T00:03:36.946974Z",
     "shell.execute_reply": "2025-10-16T00:03:36.946112Z",
     "shell.execute_reply.started": "2025-10-16T00:03:36.943645Z"
    }
   },
   "outputs": [],
   "source": [
    "# =========================================\n",
    "# Evaluator runtime ARN\n",
    "# =========================================\n",
    "#EVALUATOR_RUNTIME_ARN = \"arn:aws:bedrock-agentcore:us-east-1:711246752798:runtime/llm_evaluator_agent-D00X947s2t\"\n",
    "\n",
    "# =========================================\n",
    "# Helper function to call evaluator runtime\n",
    "# =========================================\n",
    "#def call_evaluator_runtime(analyzer_output: dict) -> dict:\n",
    "#    client = boto3.client(\"bedrock-agentcore\", region_name=\"us-east-1\")\n",
    "#    response = client.invoke_runtime(\n",
    "#        runtimeIdentifier=EVALUATOR_RUNTIME_ARN,\n",
    "#        body=json.dumps({\"analyzer_payload\": analyzer_output}),\n",
    "#        contentType=\"application/json\",\n",
    "#    )\n",
    "#    return json.loads(response[\"body\"])"
   ]
  },
  {
   "cell_type": "code",
   "execution_count": 54,
   "id": "46f9e9e2-421d-42d6-ba62-9ce99e279cd1",
   "metadata": {
    "execution": {
     "iopub.execute_input": "2025-10-16T00:03:37.863805Z",
     "iopub.status.busy": "2025-10-16T00:03:37.863540Z",
     "iopub.status.idle": "2025-10-16T00:03:37.919221Z",
     "shell.execute_reply": "2025-10-16T00:03:37.918044Z",
     "shell.execute_reply.started": "2025-10-16T00:03:37.863785Z"
    }
   },
   "outputs": [
    {
     "ename": "AttributeError",
     "evalue": "'AgentsforBedrockRuntime' object has no attribute 'invoke_agent_runtime'",
     "output_type": "error",
     "traceback": [
      "\u001b[0;31m---------------------------------------------------------------------------\u001b[0m",
      "\u001b[0;31mAttributeError\u001b[0m                            Traceback (most recent call last)",
      "Cell \u001b[0;32mIn[54], line 19\u001b[0m\n\u001b[1;32m     16\u001b[0m     \u001b[38;5;28;01mreturn\u001b[39;00m json\u001b[38;5;241m.\u001b[39mloads(response[\u001b[38;5;124m\"\u001b[39m\u001b[38;5;124mbody\u001b[39m\u001b[38;5;124m\"\u001b[39m])\n\u001b[1;32m     18\u001b[0m payload \u001b[38;5;241m=\u001b[39m {\u001b[38;5;124m\"\u001b[39m\u001b[38;5;124manalyzer_payload\u001b[39m\u001b[38;5;124m\"\u001b[39m: output_obj}\n\u001b[0;32m---> 19\u001b[0m \u001b[43mcall_evaluator_runtime\u001b[49m\u001b[43m(\u001b[49m\u001b[43mpayload\u001b[49m\u001b[43m)\u001b[49m\n",
      "Cell \u001b[0;32mIn[54], line 10\u001b[0m, in \u001b[0;36mcall_evaluator_runtime\u001b[0;34m(payload)\u001b[0m\n\u001b[1;32m      7\u001b[0m \u001b[38;5;28;01mdef\u001b[39;00m\u001b[38;5;250m \u001b[39m\u001b[38;5;21mcall_evaluator_runtime\u001b[39m(payload: \u001b[38;5;28mdict\u001b[39m) \u001b[38;5;241m-\u001b[39m\u001b[38;5;241m>\u001b[39m \u001b[38;5;28mdict\u001b[39m:\n\u001b[1;32m      8\u001b[0m     client \u001b[38;5;241m=\u001b[39m boto3\u001b[38;5;241m.\u001b[39mclient(\u001b[38;5;124m\"\u001b[39m\u001b[38;5;124mbedrock-agent-runtime\u001b[39m\u001b[38;5;124m\"\u001b[39m, region_name\u001b[38;5;241m=\u001b[39m\u001b[38;5;124m\"\u001b[39m\u001b[38;5;124mus-east-1\u001b[39m\u001b[38;5;124m\"\u001b[39m)\n\u001b[0;32m---> 10\u001b[0m     response \u001b[38;5;241m=\u001b[39m \u001b[43mclient\u001b[49m\u001b[38;5;241;43m.\u001b[39;49m\u001b[43minvoke_agent_runtime\u001b[49m(\n\u001b[1;32m     11\u001b[0m     \u001b[38;5;66;03m#response = agentcore_runtime.invoke(\u001b[39;00m\n\u001b[1;32m     12\u001b[0m         runtimeIdentifier\u001b[38;5;241m=\u001b[39mEVALUATOR_RUNTIME_ARN,\n\u001b[1;32m     13\u001b[0m         \u001b[38;5;28minput\u001b[39m\u001b[38;5;241m=\u001b[39mjson\u001b[38;5;241m.\u001b[39mdumps(payload),\n\u001b[1;32m     14\u001b[0m     )\n\u001b[1;32m     16\u001b[0m     \u001b[38;5;28;01mreturn\u001b[39;00m json\u001b[38;5;241m.\u001b[39mloads(response[\u001b[38;5;124m\"\u001b[39m\u001b[38;5;124mbody\u001b[39m\u001b[38;5;124m\"\u001b[39m])\n",
      "File \u001b[0;32m/opt/conda/lib/python3.12/site-packages/botocore/client.py:969\u001b[0m, in \u001b[0;36mBaseClient.__getattr__\u001b[0;34m(self, item)\u001b[0m\n\u001b[1;32m    966\u001b[0m \u001b[38;5;28;01mif\u001b[39;00m event_response \u001b[38;5;129;01mis\u001b[39;00m \u001b[38;5;129;01mnot\u001b[39;00m \u001b[38;5;28;01mNone\u001b[39;00m:\n\u001b[1;32m    967\u001b[0m     \u001b[38;5;28;01mreturn\u001b[39;00m event_response\n\u001b[0;32m--> 969\u001b[0m \u001b[38;5;28;01mraise\u001b[39;00m \u001b[38;5;167;01mAttributeError\u001b[39;00m(\n\u001b[1;32m    970\u001b[0m     \u001b[38;5;124mf\u001b[39m\u001b[38;5;124m\"\u001b[39m\u001b[38;5;124m'\u001b[39m\u001b[38;5;132;01m{\u001b[39;00m\u001b[38;5;28mself\u001b[39m\u001b[38;5;241m.\u001b[39m\u001b[38;5;18m__class__\u001b[39m\u001b[38;5;241m.\u001b[39m\u001b[38;5;18m__name__\u001b[39m\u001b[38;5;132;01m}\u001b[39;00m\u001b[38;5;124m'\u001b[39m\u001b[38;5;124m object has no attribute \u001b[39m\u001b[38;5;124m'\u001b[39m\u001b[38;5;132;01m{\u001b[39;00mitem\u001b[38;5;132;01m}\u001b[39;00m\u001b[38;5;124m'\u001b[39m\u001b[38;5;124m\"\u001b[39m\n\u001b[1;32m    971\u001b[0m )\n",
      "\u001b[0;31mAttributeError\u001b[0m: 'AgentsforBedrockRuntime' object has no attribute 'invoke_agent_runtime'"
     ]
    }
   ],
   "source": [
    "# ==== Testing ... ====\n",
    "import boto3\n",
    "import json\n",
    "\n",
    "EVALUATOR_RUNTIME_ARN = \"arn:aws:bedrock-agentcore:us-east-1:711246752798:runtime/llm_evaluator_agent-jf0YsKAH8C\"\n",
    "\n",
    "def call_evaluator_runtime(payload: dict) -> dict:\n",
    "    client = boto3.client(\"bedrock-agent-runtime\", region_name=\"us-east-1\")\n",
    "\n",
    "    response = client.invoke_agent_runtime(\n",
    "    #response = agentcore_runtime.invoke(\n",
    "        runtimeIdentifier=EVALUATOR_RUNTIME_ARN,\n",
    "        input=json.dumps(payload),\n",
    "    )\n",
    "\n",
    "    return json.loads(response[\"body\"])\n",
    "\n",
    "payload = {\"analyzer_payload\": output_obj}\n",
    "call_evaluator_runtime(payload)"
   ]
  },
  {
   "cell_type": "code",
   "execution_count": 55,
   "id": "bc55ae4a-1ea3-447e-8a26-eea170df32df",
   "metadata": {
    "execution": {
     "iopub.execute_input": "2025-10-16T00:03:51.522958Z",
     "iopub.status.busy": "2025-10-16T00:03:51.522661Z",
     "iopub.status.idle": "2025-10-16T00:03:51.527668Z",
     "shell.execute_reply": "2025-10-16T00:03:51.526924Z",
     "shell.execute_reply.started": "2025-10-16T00:03:51.522936Z"
    }
   },
   "outputs": [
    {
     "data": {
      "text/plain": [
       "[{'case_id': 1,\n",
       "  'timestamp': '2025-10-13 00:55:59',\n",
       "  'goal_number': 1,\n",
       "  'goal_text': 'Reduce daily carbohydrate intake to 45g per meal and aim for a total of 135g per day. Monitor progress weekly by recording carbohydrate counts in food diary.'},\n",
       " {'case_id': 2,\n",
       "  'timestamp': '2025-10-13 00:55:59',\n",
       "  'goal_number': 2,\n",
       "  'goal_text': 'Engage in at least 30 minutes of moderate-intensity aerobic activity 5 days per week. Track activity using a fitness tracker or smartphone app.'},\n",
       " {'case_id': 3,\n",
       "  'timestamp': '2025-10-13 00:55:59',\n",
       "  'goal_number': 3,\n",
       "  'goal_text': 'Take metformin 500mg twice daily with meals. Refill prescription every 90 days and report any side effects to healthcare provider.'},\n",
       " {'case_id': 4,\n",
       "  'timestamp': '2025-10-13 00:55:59',\n",
       "  'goal_number': 4,\n",
       "  'goal_text': 'Check blood glucose levels before meals and at bedtime. Target pre-meal blood glucose levels below 130mg/dL and bedtime levels below 110mg/dL. Record results in a log.'},\n",
       " {'case_id': 5,\n",
       "  'timestamp': '2025-10-13 00:55:59',\n",
       "  'goal_number': 5,\n",
       "  'goal_text': 'Maintain adequate water intake by drinking at least 8 glasses of water per day. Monitor urine color and report any unusual changes to healthcare provider.'},\n",
       " {'case_id': 6,\n",
       "  'timestamp': '2025-10-13 00:55:59',\n",
       "  'goal_number': 6,\n",
       "  'goal_text': 'Attend all scheduled appointments with healthcare provider and bring a copy of the most recent blood glucose log. Update medication list and share any medication changes.'}]"
      ]
     },
     "execution_count": 55,
     "metadata": {},
     "output_type": "execute_result"
    }
   ],
   "source": [
    "output_obj"
   ]
  },
  {
   "cell_type": "code",
   "execution_count": 56,
   "id": "80e2bca8-4cae-4616-99cf-409f21bce656",
   "metadata": {
    "execution": {
     "iopub.execute_input": "2025-10-16T00:03:53.500098Z",
     "iopub.status.busy": "2025-10-16T00:03:53.499834Z",
     "iopub.status.idle": "2025-10-16T00:04:08.843965Z",
     "shell.execute_reply": "2025-10-16T00:04:08.843442Z",
     "shell.execute_reply.started": "2025-10-16T00:03:53.500078Z"
    }
   },
   "outputs": [
    {
     "name": "stdout",
     "output_type": "stream",
     "text": [
      "{'statusCode': 200, 'headers': {'Content-Type': 'application/json'}, 'body': '{\"run_id\": \"05a05416-46c5-408c-835a-1e6b5d75ae71\", \"timestamp\": \"2025-10-16 00:04:08\", \"evaluator_output\": {\"evaluation_type\": \"smart_goals_rubric\", \"cases_scored\": 6, \"scores\": [{\"case_id\": 1, \"metric_scores\": {\"specific\": 1.0, \"measurable\": 1.0, \"achievable\": 0.9, \"relevant\": 0.9, \"time_bound\": 0.9, \"clarity\": 1.0}, \"agreement\": \"n/a\", \"notes\": \"Clearly specifies carb limits (45g/meal, 135g/day) with weekly monitoring via food diary. Very specific and measurable.\"}, {\"case_id\": 2, \"metric_scores\": {\"specific\": 1.0, \"measurable\": 1.0, \"achievable\": 1.0, \"relevant\": 1.0, \"time_bound\": 0.9, \"clarity\": 1.0}, \"agreement\": \"n/a\", \"notes\": \"Precisely defines activity type, duration (30 min), frequency (5 days/week), and tracking method. Excellent specificity and measurability.\"}, {\"case_id\": 3, \"metric_scores\": {\"specific\": 1.0, \"measurable\": 0.9, \"achievable\": 1.0, \"relevant\": 1.0, \"time_bound\": 0.8, \"clarity\": 1.0}, \"agreement\": \"n/a\", \"notes\": \"Exact medication dosage, timing, and refill schedule. Includes reporting mechanism for side effects.\"}, {\"case_id\": 4, \"metric_scores\": {\"specific\": 1.0, \"measurable\": 1.0, \"achievable\": 0.9, \"relevant\": 1.0, \"time_bound\": 0.8, \"clarity\": 1.0}, \"agreement\": \"n/a\", \"notes\": \"Specifies precise testing times and target glucose levels (pre-meal <130mg/dL, bedtime <110mg/dL) with logging requirement.\"}, {\"case_id\": 5, \"metric_scores\": {\"specific\": 0.9, \"measurable\": 0.8, \"achievable\": 1.0, \"relevant\": 0.9, \"time_bound\": 0.7, \"clarity\": 0.9}, \"agreement\": \"n/a\", \"notes\": \"Quantifies water intake (8 glasses/day) but monitoring method (urine color) is less precise than other goals.\"}, {\"case_id\": 6, \"metric_scores\": {\"specific\": 0.9, \"measurable\": 0.8, \"achievable\": 1.0, \"relevant\": 1.0, \"time_bound\": 0.7, \"clarity\": 0.9}, \"agreement\": \"n/a\", \"notes\": \"Covers appointment attendance and preparation requirements but lacks specific timeframe beyond \\'scheduled appointments\\'.\"}]}, \"analyzer_input\": [{\"case_id\": 1, \"timestamp\": \"2025-10-13 00:55:59\", \"goal_number\": 1, \"goal_text\": \"Reduce daily carbohydrate intake to 45g per meal and aim for a total of 135g per day. Monitor progress weekly by recording carbohydrate counts in food diary.\"}, {\"case_id\": 2, \"timestamp\": \"2025-10-13 00:55:59\", \"goal_number\": 2, \"goal_text\": \"Engage in at least 30 minutes of moderate-intensity aerobic activity 5 days per week. Track activity using a fitness tracker or smartphone app.\"}, {\"case_id\": 3, \"timestamp\": \"2025-10-13 00:55:59\", \"goal_number\": 3, \"goal_text\": \"Take metformin 500mg twice daily with meals. Refill prescription every 90 days and report any side effects to healthcare provider.\"}, {\"case_id\": 4, \"timestamp\": \"2025-10-13 00:55:59\", \"goal_number\": 4, \"goal_text\": \"Check blood glucose levels before meals and at bedtime. Target pre-meal blood glucose levels below 130mg/dL and bedtime levels below 110mg/dL. Record results in a log.\"}, {\"case_id\": 5, \"timestamp\": \"2025-10-13 00:55:59\", \"goal_number\": 5, \"goal_text\": \"Maintain adequate water intake by drinking at least 8 glasses of water per day. Monitor urine color and report any unusual changes to healthcare provider.\"}, {\"case_id\": 6, \"timestamp\": \"2025-10-13 00:55:59\", \"goal_number\": 6, \"goal_text\": \"Attend all scheduled appointments with healthcare provider and bring a copy of the most recent blood glucose log. Update medication list and share any medication changes.\"}]}'}\n"
     ]
    }
   ],
   "source": [
    "import boto3\n",
    "import json\n",
    "\n",
    "# Initialize the Bedrock AgentCore client\n",
    "agent_core_client = boto3.client('bedrock-agentcore')\n",
    "  \n",
    "# Prepare the payload\n",
    "payload={'analyzer_payload':output_obj}\n",
    "payload = json.dumps(payload).encode()\n",
    "  \n",
    "# Invoke the agent\n",
    "response = agent_core_client.invoke_agent_runtime(\n",
    "    agentRuntimeArn=\"arn:aws:bedrock-agentcore:us-east-1:711246752798:runtime/llm_evaluator_agent-jf0YsKAH8C\", #agent_arn,\n",
    "    #runtimeSessionId=session_id,\n",
    "    payload=payload\n",
    ")\n",
    "  \n",
    "# Process and print the response\n",
    "if \"text/event-stream\" in response.get(\"contentType\", \"\"):\n",
    "  \n",
    "    # Handle streaming response\n",
    "    content = []\n",
    "    for line in response[\"response\"].iter_lines(chunk_size=10):\n",
    "        if line:\n",
    "            line = line.decode(\"utf-8\")\n",
    "            if line.startswith(\"data: \"):\n",
    "                line = line[6:]\n",
    "                print(line)\n",
    "                content.append(line)\n",
    "    print(\"\\nComplete response:\", \"\\n\".join(content))\n",
    "\n",
    "elif response.get(\"contentType\") == \"application/json\":\n",
    "    # Handle standard JSON response\n",
    "    content = []\n",
    "    for chunk in response.get(\"response\", []):\n",
    "        content.append(chunk.decode('utf-8'))\n",
    "    print(json.loads(''.join(content)))\n",
    "  \n",
    "else:\n",
    "    # Print raw response for other content types\n",
    "    print(response)\n"
   ]
  },
  {
   "cell_type": "code",
   "execution_count": null,
   "id": "3564ef79-ef68-4374-ba77-c7b996a8a70e",
   "metadata": {},
   "outputs": [],
   "source": []
  },
  {
   "cell_type": "code",
   "execution_count": null,
   "id": "de39f163-6aca-4583-82ba-dfa8c7ce8317",
   "metadata": {},
   "outputs": [],
   "source": []
  },
  {
   "cell_type": "code",
   "execution_count": 62,
   "id": "44f4d7b7-40f7-4342-85b6-fbd8aa54fe9d",
   "metadata": {
    "execution": {
     "iopub.execute_input": "2025-10-16T01:23:00.783545Z",
     "iopub.status.busy": "2025-10-16T01:23:00.783246Z",
     "iopub.status.idle": "2025-10-16T01:23:00.786621Z",
     "shell.execute_reply": "2025-10-16T01:23:00.785868Z",
     "shell.execute_reply.started": "2025-10-16T01:23:00.783523Z"
    }
   },
   "outputs": [],
   "source": []
  },
  {
   "cell_type": "code",
   "execution_count": 65,
   "id": "985547ef-715c-4e17-a3af-a365d6b2dbbe",
   "metadata": {
    "execution": {
     "iopub.execute_input": "2025-10-16T01:25:07.446230Z",
     "iopub.status.busy": "2025-10-16T01:25:07.445971Z",
     "iopub.status.idle": "2025-10-16T01:25:07.454189Z",
     "shell.execute_reply": "2025-10-16T01:25:07.453499Z",
     "shell.execute_reply.started": "2025-10-16T01:25:07.446210Z"
    }
   },
   "outputs": [],
   "source": [
    "import boto3\n",
    "import json\n",
    "\n",
    "EVALUATOR_RUNTIME_ARN = \"arn:aws:bedrock-agentcore:us-east-1:711246752798:runtime/llm_evaluator_agent-jf0YsKAH8C\"\n",
    "\n",
    "def call_evaluator_runtime(payload: dict) -> dict:\n",
    "    # Initialize the Bedrock AgentCore client\n",
    "    agent_core_client = boto3.client('bedrock-agentcore')\n",
    "  \n",
    "    # Prepare the payload prompt\n",
    "    #payload={'analyzer_payload':output_obj}\n",
    "    prompt = json.dumps(payload).encode()\n",
    "  \n",
    "    # Invoke the agent\n",
    "    response = agent_core_client.invoke_agent_runtime(\n",
    "                    agentRuntimeArn=EVALUATOR_RUNTIME_ARN,\n",
    "                    #agentRuntimeArn=\"arn:aws:bedrock-agentcore:us-east-1:711246752798:runtime/llm_evaluator_agent-jf0YsKAH8C\", \n",
    "                    #runtimeSessionId=session_id,\n",
    "                    payload=prompt\n",
    "                    )\n",
    "  \n",
    "    # Process and print the response\n",
    "    if \"text/event-stream\" in response.get(\"contentType\", \"\"):\n",
    "        # Handle streaming response\n",
    "        content = []\n",
    "        for line in response[\"response\"].iter_lines(chunk_size=10):\n",
    "            if line:\n",
    "                line = line.decode(\"utf-8\")\n",
    "                if line.startswith(\"data: \"):\n",
    "                    line = line[6:]\n",
    "                    print(line)\n",
    "                    content.append(line)\n",
    "        print(\"\\nComplete response:\", \"\\n\".join(content))\n",
    "\n",
    "    elif response.get(\"contentType\") == \"application/json\":\n",
    "        # Handle standard JSON response\n",
    "        content = []\n",
    "        for chunk in response.get(\"response\", []):\n",
    "            content.append(chunk.decode('utf-8'))\n",
    "        print(json.loads(''.join(content)))\n",
    "  \n",
    "    else:\n",
    "        # Print raw response for other content types\n",
    "        print(response)"
   ]
  },
  {
   "cell_type": "code",
   "execution_count": 66,
   "id": "63b5efb2-4e5a-4afb-8df5-8256d76d7aac",
   "metadata": {
    "execution": {
     "iopub.execute_input": "2025-10-16T01:25:12.555167Z",
     "iopub.status.busy": "2025-10-16T01:25:12.554872Z",
     "iopub.status.idle": "2025-10-16T01:25:26.843015Z",
     "shell.execute_reply": "2025-10-16T01:25:26.842404Z",
     "shell.execute_reply.started": "2025-10-16T01:25:12.555137Z"
    }
   },
   "outputs": [
    {
     "name": "stdout",
     "output_type": "stream",
     "text": [
      "{'statusCode': 200, 'headers': {'Content-Type': 'application/json'}, 'body': '{\"run_id\": \"3e872fd3-6db6-4dcb-917f-01cccef89d78\", \"timestamp\": \"2025-10-16 01:25:26\", \"evaluator_output\": {\"evaluation_type\": \"smart_goals_rubric\", \"cases_scored\": 6, \"scores\": [{\"case_id\": 1, \"metric_scores\": {\"specific\": 1.0, \"measurable\": 1.0, \"achievable\": 0.9, \"relevant\": 1.0, \"time_bound\": 0.9, \"clarity\": 1.0}, \"agreement\": \"n/a\", \"notes\": \"Clearly specifies carb limits per meal/day and monitoring method. Weekly tracking provides time element.\"}, {\"case_id\": 2, \"metric_scores\": {\"specific\": 1.0, \"measurable\": 1.0, \"achievable\": 1.0, \"relevant\": 1.0, \"time_bound\": 1.0, \"clarity\": 1.0}, \"agreement\": \"n/a\", \"notes\": \"Perfect SMART goal with clear activity type, duration, frequency, and tracking method.\"}, {\"case_id\": 3, \"metric_scores\": {\"specific\": 1.0, \"measurable\": 0.9, \"achievable\": 1.0, \"relevant\": 1.0, \"time_bound\": 0.9, \"clarity\": 1.0}, \"agreement\": \"n/a\", \"notes\": \"Clear medication instructions with dosage, timing, and follow-up actions. Refill schedule provides time element.\"}, {\"case_id\": 4, \"metric_scores\": {\"specific\": 1.0, \"measurable\": 1.0, \"achievable\": 0.9, \"relevant\": 1.0, \"time_bound\": 0.8, \"clarity\": 1.0}, \"agreement\": \"n/a\", \"notes\": \"Specific testing schedule with target numbers. Could be more explicit about frequency/timing of recording results.\"}, {\"case_id\": 5, \"metric_scores\": {\"specific\": 1.0, \"measurable\": 0.9, \"achievable\": 1.0, \"relevant\": 0.9, \"time_bound\": 0.7, \"clarity\": 0.9}, \"agreement\": \"n/a\", \"notes\": \"Quantifies water intake but monitoring method is somewhat subjective. No specific timeframe for reporting changes.\"}, {\"case_id\": 6, \"metric_scores\": {\"specific\": 0.9, \"measurable\": 0.8, \"achievable\": 1.0, \"relevant\": 1.0, \"time_bound\": 0.7, \"clarity\": 0.9}, \"agreement\": \"n/a\", \"notes\": \"Specifies attendance and what to bring, but lacks specific timeframes for appointments beyond \\'scheduled\\'.\"}]}, \"analyzer_input\": [{\"case_id\": 1, \"timestamp\": \"2025-10-13 00:55:59\", \"goal_number\": 1, \"goal_text\": \"Reduce daily carbohydrate intake to 45g per meal and aim for a total of 135g per day. Monitor progress weekly by recording carbohydrate counts in food diary.\"}, {\"case_id\": 2, \"timestamp\": \"2025-10-13 00:55:59\", \"goal_number\": 2, \"goal_text\": \"Engage in at least 30 minutes of moderate-intensity aerobic activity 5 days per week. Track activity using a fitness tracker or smartphone app.\"}, {\"case_id\": 3, \"timestamp\": \"2025-10-13 00:55:59\", \"goal_number\": 3, \"goal_text\": \"Take metformin 500mg twice daily with meals. Refill prescription every 90 days and report any side effects to healthcare provider.\"}, {\"case_id\": 4, \"timestamp\": \"2025-10-13 00:55:59\", \"goal_number\": 4, \"goal_text\": \"Check blood glucose levels before meals and at bedtime. Target pre-meal blood glucose levels below 130mg/dL and bedtime levels below 110mg/dL. Record results in a log.\"}, {\"case_id\": 5, \"timestamp\": \"2025-10-13 00:55:59\", \"goal_number\": 5, \"goal_text\": \"Maintain adequate water intake by drinking at least 8 glasses of water per day. Monitor urine color and report any unusual changes to healthcare provider.\"}, {\"case_id\": 6, \"timestamp\": \"2025-10-13 00:55:59\", \"goal_number\": 6, \"goal_text\": \"Attend all scheduled appointments with healthcare provider and bring a copy of the most recent blood glucose log. Update medication list and share any medication changes.\"}]}'}\n"
     ]
    }
   ],
   "source": [
    "payload={'analyzer_payload':output_obj}\n",
    "call_evaluator_runtime(payload)"
   ]
  },
  {
   "cell_type": "code",
   "execution_count": null,
   "id": "0c0c4968-a3cb-4f88-9040-5b847c9351dc",
   "metadata": {},
   "outputs": [],
   "source": []
  },
  {
   "cell_type": "code",
   "execution_count": 67,
   "id": "ddab204f-466b-4ec1-bb8c-03aeb9f33b01",
   "metadata": {
    "execution": {
     "iopub.execute_input": "2025-10-16T01:26:10.197063Z",
     "iopub.status.busy": "2025-10-16T01:26:10.196793Z",
     "iopub.status.idle": "2025-10-16T01:26:10.204185Z",
     "shell.execute_reply": "2025-10-16T01:26:10.203694Z",
     "shell.execute_reply.started": "2025-10-16T01:26:10.197043Z"
    }
   },
   "outputs": [],
   "source": [
    "import json\n",
    "\n",
    "def extract_evaluation_data(response):\n",
    "    \"\"\"\n",
    "    Parses the nested API response to extract case_id, metric_scores, and notes.\n",
    "\n",
    "    The actual evaluation data is located as a JSON string within the 'body' key.\n",
    "\n",
    "    Args:\n",
    "        response (dict): The original dictionary response.\n",
    "\n",
    "    Returns:\n",
    "        list: A list of dictionaries containing the extracted data for each case.\n",
    "    \"\"\"\n",
    "    try:\n",
    "        # 1. Access the 'body' value, which is a JSON string\n",
    "        body_str = response.get('body')\n",
    "        if not body_str:\n",
    "            print(\"Error: 'body' key is missing or empty.\")\n",
    "            return []\n",
    "\n",
    "        # 2. Parse the JSON string into a Python dictionary\n",
    "        data = json.loads(body_str)\n",
    "\n",
    "        # 3. Navigate to the list of scores within evaluator_output\n",
    "        scores_list = data.get('evaluator_output', {}).get('scores', [])\n",
    "\n",
    "        extracted_data = []\n",
    "\n",
    "        # 4. Iterate over the scores and extract the required fields\n",
    "        for score in scores_list:\n",
    "            case_id = score.get('case_id')\n",
    "            metric_scores = score.get('metric_scores')\n",
    "            note = score.get('notes')\n",
    "\n",
    "            extracted_data.append({\n",
    "                'case_id': case_id,\n",
    "                'metric_scores': metric_scores,\n",
    "                'note': note\n",
    "            })\n",
    "\n",
    "        return extracted_data\n",
    "\n",
    "    except json.JSONDecodeError:\n",
    "        print(\"Error: Failed to decode JSON string in the response body.\")\n",
    "        return []\n",
    "    except Exception as e:\n",
    "        print(f\"An unexpected error occurred: {e}\")\n",
    "        return []\n"
   ]
  },
  {
   "cell_type": "code",
   "execution_count": null,
   "id": "e13f7b2d-fd58-41c9-a280-fb6bfba404ba",
   "metadata": {},
   "outputs": [],
   "source": []
  },
  {
   "cell_type": "code",
   "execution_count": 68,
   "id": "f548cb41-5b8c-42a0-a06b-b01308aec2bf",
   "metadata": {
    "execution": {
     "iopub.execute_input": "2025-10-16T01:27:11.906905Z",
     "iopub.status.busy": "2025-10-16T01:27:11.906621Z",
     "iopub.status.idle": "2025-10-16T01:27:28.147836Z",
     "shell.execute_reply": "2025-10-16T01:27:28.147173Z",
     "shell.execute_reply.started": "2025-10-16T01:27:11.906885Z"
    }
   },
   "outputs": [
    {
     "name": "stdout",
     "output_type": "stream",
     "text": [
      "{'statusCode': 200, 'headers': {'Content-Type': 'application/json'}, 'body': '{\"run_id\": \"214e19ed-1040-4b62-a266-89af153dd7f3\", \"timestamp\": \"2025-10-16 01:27:28\", \"evaluator_output\": {\"evaluation_type\": \"smart_goals_rubric\", \"cases_scored\": 6, \"scores\": [{\"case_id\": 1, \"metric_scores\": {\"specific\": 1.0, \"measurable\": 1.0, \"achievable\": 0.9, \"relevant\": 0.9, \"time_bound\": 0.8, \"clarity\": 1.0}, \"agreement\": \"n/a\", \"notes\": \"Clear carb targets (45g/meal, 135g/day) with weekly monitoring via food diary. Time frame is weekly for monitoring but could be more specific about achievement timeline.\"}, {\"case_id\": 2, \"metric_scores\": {\"specific\": 1.0, \"measurable\": 1.0, \"achievable\": 1.0, \"relevant\": 1.0, \"time_bound\": 1.0, \"clarity\": 1.0}, \"agreement\": \"n/a\", \"notes\": \"Perfectly defines activity type, duration (30 min), frequency (5 days/week), and tracking method. Realistic and clearly articulated.\"}, {\"case_id\": 3, \"metric_scores\": {\"specific\": 1.0, \"measurable\": 0.9, \"achievable\": 1.0, \"relevant\": 1.0, \"time_bound\": 0.9, \"clarity\": 1.0}, \"agreement\": \"n/a\", \"notes\": \"Precise medication dosage, timing, and refill schedule. Includes reporting side effects. Measuring adherence is implied but not explicitly stated.\"}, {\"case_id\": 4, \"metric_scores\": {\"specific\": 1.0, \"measurable\": 1.0, \"achievable\": 0.9, \"relevant\": 1.0, \"time_bound\": 0.8, \"clarity\": 1.0}, \"agreement\": \"n/a\", \"notes\": \"Precise timing, target values, and recording method. Achievability depends on patient\\'s condition. Could specify when targets should be consistently reached.\"}, {\"case_id\": 5, \"metric_scores\": {\"specific\": 1.0, \"measurable\": 0.8, \"achievable\": 1.0, \"relevant\": 0.8, \"time_bound\": 0.7, \"clarity\": 0.9}, \"agreement\": \"n/a\", \"notes\": \"Quantifies water intake (8 glasses/day) but monitoring method (urine color) is subjective. No timeframe for achievement. Relevance to primary condition is implied but not stated.\"}, {\"case_id\": 6, \"metric_scores\": {\"specific\": 0.9, \"measurable\": 0.8, \"achievable\": 1.0, \"relevant\": 1.0, \"time_bound\": 0.7, \"clarity\": 0.9}, \"agreement\": \"n/a\", \"notes\": \"Clear about attendance and bringing logs, but doesn\\'t specify appointment frequency. Measurability is binary (attended/didn\\'t attend). Time frame is implied by appointment schedule.\"}]}, \"analyzer_input\": [{\"case_id\": 1, \"timestamp\": \"2025-10-13 00:55:59\", \"goal_number\": 1, \"goal_text\": \"Reduce daily carbohydrate intake to 45g per meal and aim for a total of 135g per day. Monitor progress weekly by recording carbohydrate counts in food diary.\"}, {\"case_id\": 2, \"timestamp\": \"2025-10-13 00:55:59\", \"goal_number\": 2, \"goal_text\": \"Engage in at least 30 minutes of moderate-intensity aerobic activity 5 days per week. Track activity using a fitness tracker or smartphone app.\"}, {\"case_id\": 3, \"timestamp\": \"2025-10-13 00:55:59\", \"goal_number\": 3, \"goal_text\": \"Take metformin 500mg twice daily with meals. Refill prescription every 90 days and report any side effects to healthcare provider.\"}, {\"case_id\": 4, \"timestamp\": \"2025-10-13 00:55:59\", \"goal_number\": 4, \"goal_text\": \"Check blood glucose levels before meals and at bedtime. Target pre-meal blood glucose levels below 130mg/dL and bedtime levels below 110mg/dL. Record results in a log.\"}, {\"case_id\": 5, \"timestamp\": \"2025-10-13 00:55:59\", \"goal_number\": 5, \"goal_text\": \"Maintain adequate water intake by drinking at least 8 glasses of water per day. Monitor urine color and report any unusual changes to healthcare provider.\"}, {\"case_id\": 6, \"timestamp\": \"2025-10-13 00:55:59\", \"goal_number\": 6, \"goal_text\": \"Attend all scheduled appointments with healthcare provider and bring a copy of the most recent blood glucose log. Update medication list and share any medication changes.\"}]}'}\n",
      "An unexpected error occurred: 'NoneType' object has no attribute 'get'\n"
     ]
    }
   ],
   "source": [
    "# Run the extraction function\n",
    "#extracted_data = extract_evaluation_data(response)\n",
    "extracted_data=extract_evaluation_data(call_evaluator_runtime(payload) )"
   ]
  },
  {
   "cell_type": "code",
   "execution_count": 69,
   "id": "4cc1fbe4-7d8d-49d4-b9c2-3097c57033aa",
   "metadata": {
    "execution": {
     "iopub.execute_input": "2025-10-16T01:27:39.742386Z",
     "iopub.status.busy": "2025-10-16T01:27:39.742105Z",
     "iopub.status.idle": "2025-10-16T01:27:39.746260Z",
     "shell.execute_reply": "2025-10-16T01:27:39.745736Z",
     "shell.execute_reply.started": "2025-10-16T01:27:39.742366Z"
    }
   },
   "outputs": [
    {
     "data": {
      "text/plain": [
       "[]"
      ]
     },
     "execution_count": 69,
     "metadata": {},
     "output_type": "execute_result"
    }
   ],
   "source": [
    "extracted_data"
   ]
  },
  {
   "cell_type": "code",
   "execution_count": null,
   "id": "0c6fc3d5-2cf0-42be-9d3e-ec67c70f3fea",
   "metadata": {},
   "outputs": [],
   "source": []
  },
  {
   "cell_type": "code",
   "execution_count": null,
   "id": "6c0a9713-e57b-481c-9aa7-512e5f937865",
   "metadata": {},
   "outputs": [],
   "source": [
    "# --- Input Data (from your request) ---\n",
    "response = {\n",
    "    'statusCode': 200,\n",
    "    'headers': {'Content-Type': 'application/json'},\n",
    "    'body': '{\"run_id\": \"05a05416-46c5-408c-835a-1e6b5d75ae71\", \"timestamp\": \"2025-10-16 00:04:08\", \"evaluator_output\": {\"evaluation_type\": \"smart_goals_rubric\", \"cases_scored\": 6, \"scores\": [{\"case_id\": 1, \"metric_scores\": {\"specific\": 1.0, \"measurable\": 1.0, \"achievable\": 0.9, \"relevant\": 0.9, \"time_bound\": 0.9, \"clarity\": 1.0}, \"agreement\": \"n/a\", \"notes\": \"Clearly specifies carb limits (45g/meal, 135g/day) with weekly monitoring via food diary. Very specific and measurable.\"}, {\"case_id\": 2, \"metric_scores\": {\"specific\": 1.0, \"measurable\": 1.0, \"achievable\": 1.0, \"relevant\": 1.0, \"time_bound\": 0.9, \"clarity\": 1.0}, \"agreement\": \"n/a\", \"notes\": \"Precisely defines activity type, duration (30 min), frequency (5 days/week), and tracking method. Excellent specificity and measurability.\"}, {\"case_id\": 3, \"metric_scores\": {\"specific\": 1.0, \"measurable\": 0.9, \"achievable\": 1.0, \"relevant\": 1.0, \"time_bound\": 0.8, \"clarity\": 1.0}, \"agreement\": \"n/a\", \"notes\": \"Exact medication dosage, timing, and refill schedule. Includes reporting mechanism for side effects.\"}, {\"case_id\": 4, \"metric_scores\": {\"specific\": 1.0, \"measurable\": 1.0, \"achievable\": 0.9, \"relevant\": 1.0, \"time_bound\": 0.8, \"clarity\": 1.0}, \"agreement\": \"n/a\", \"notes\": \"Specifies precise testing times and target glucose levels (pre-meal <130mg/dL, bedtime <110mg/dL) with logging requirement.\"}, {\"case_id\": 5, \"metric_scores\": {\"specific\": 0.9, \"measurable\": 0.8, \"achievable\": 1.0, \"relevant\": 0.9, \"time_bound\": 0.7, \"clarity\": 0.9}, \"agreement\": \"n/a\", \"notes\": \"Quantifies water intake (8 glasses/day) but monitoring method (urine color) is less precise than other goals.\"}, {\"case_id\": 6, \"metric_scores\": {\"specific\": 0.9, \"measurable\": 0.8, \"achievable\": 1.0, \"relevant\": 1.0, \"time_bound\": 0.7, \"clarity\": 0.9}, \"agreement\": \"n/a\", \"notes\": \"Covers appointment attendance and preparation requirements but lacks specific timeframe beyond \\'scheduled appointments\\'.\"}]}}'\n",
    "}\n",
    "\n",
    "# Run the extraction function\n",
    "extracted_data = extract_evaluation_data(response)\n",
    "\n",
    "# Output the result\n",
    "for item in extracted_data:\n",
    "    print(\"-\" * 30)\n",
    "    print(f\"Case ID: {item['case_id']}\")\n",
    "    print(f\"Note: {item['note']}\")\n",
    "    print(f\"Metric Scores: {item['metric_scores']}\")\n",
    "\n",
    "print(\"-\" * 30)\n",
    "print(f\"\\nTotal extracted cases: {len(extracted_data)}\")"
   ]
  },
  {
   "cell_type": "code",
   "execution_count": null,
   "id": "d6f94ec0-7eca-4011-9e0a-6ec875f0a3b9",
   "metadata": {},
   "outputs": [],
   "source": []
  },
  {
   "cell_type": "code",
   "execution_count": null,
   "id": "a1f83181-472e-4d52-ab15-4c474a86671d",
   "metadata": {},
   "outputs": [],
   "source": []
  },
  {
   "cell_type": "code",
   "execution_count": null,
   "id": "20523b45-f870-43ef-831f-c27784f2cdee",
   "metadata": {},
   "outputs": [],
   "source": []
  },
  {
   "cell_type": "code",
   "execution_count": null,
   "id": "9cc0b83d-b00e-4dd3-a6ed-d0e4e7ecb74d",
   "metadata": {},
   "outputs": [],
   "source": []
  },
  {
   "cell_type": "code",
   "execution_count": 57,
   "id": "6055fb2f-03eb-4a9a-a2ef-85eca305fb04",
   "metadata": {
    "execution": {
     "iopub.execute_input": "2025-10-16T01:06:08.774588Z",
     "iopub.status.busy": "2025-10-16T01:06:08.774188Z",
     "iopub.status.idle": "2025-10-16T01:06:08.782342Z",
     "shell.execute_reply": "2025-10-16T01:06:08.781430Z",
     "shell.execute_reply.started": "2025-10-16T01:06:08.774561Z"
    }
   },
   "outputs": [
    {
     "ename": "SyntaxError",
     "evalue": "unterminated string literal (detected at line 3) (2801606740.py, line 3)",
     "output_type": "error",
     "traceback": [
      "\u001b[0;36m  Cell \u001b[0;32mIn[57], line 3\u001b[0;36m\u001b[0m\n\u001b[0;31m    'body': '{\"run_id\": \"05a05416-46c5-408c-835a-1e6b5d75ae71\", \"timestamp\": \"2025-10-16 00:04:08\",\u001b[0m\n\u001b[0m            ^\u001b[0m\n\u001b[0;31mSyntaxError\u001b[0m\u001b[0;31m:\u001b[0m unterminated string literal (detected at line 3)\n"
     ]
    }
   ],
   "source": [
    "response_input=\n",
    "{'statusCode': 200, 'headers': {'Content-Type': 'application/json'}, \n",
    "  'body': '{\"run_id\": \"05a05416-46c5-408c-835a-1e6b5d75ae71\", \"timestamp\": \"2025-10-16 00:04:08\", \n",
    "            \"evaluator_output\": {\"evaluation_type\": \"smart_goals_rubric\", \n",
    "                                 \"cases_scored\": 6, \n",
    "                                 \"scores\": [{\"case_id\": 1, \n",
    "                                             \"metric_scores\": {\"specific\": 1.0, \"measurable\": 1.0, \"achievable\": 0.9, \"relevant\": 0.9, \"time_bound\": 0.9, \"clarity\": 1.0}, \n",
    "                                             \"agreement\": \"n/a\", \n",
    "                                             \"notes\": \"Clearly specifies carb limits (45g/meal, 135g/day) with weekly monitoring via food diary. Very specific and measurable.\"}, \n",
    "                                            {\"case_id\": 2, \n",
    "                                             \"metric_scores\": {\"specific\": 1.0, \"measurable\": 1.0, \"achievable\": 1.0, \"relevant\": 1.0, \"time_bound\": 0.9, \"clarity\": 1.0}, \n",
    "                                             \"agreement\": \"n/a\", \n",
    "                                             \"notes\": \"Precisely defines activity type, duration (30 min), frequency (5 days/week), and tracking method. Excellent specificity and measurability.\"}, \n",
    "                                            {\"case_id\": 3, \n",
    "                                             \"metric_scores\": {\"specific\": 1.0, \"measurable\": 0.9, \"achievable\": 1.0, \"relevant\": 1.0, \"time_bound\": 0.8, \"clarity\": 1.0}, \n",
    "                                             \"agreement\": \"n/a\", \n",
    "                                             \"notes\": \"Exact medication dosage, timing, and refill schedule. Includes reporting mechanism for side effects.\"}, \n",
    "                                            {\"case_id\": 4, \n",
    "                                             \"metric_scores\": {\"specific\": 1.0, \"measurable\": 1.0, \"achievable\": 0.9, \"relevant\": 1.0, \"time_bound\": 0.8, \"clarity\": 1.0}, \n",
    "                                              \"agreement\": \"n/a\", \n",
    "                                              \"notes\": \"Specifies precise testing times and target glucose levels (pre-meal <130mg/dL, bedtime <110mg/dL) with logging requirement.\"}, \n",
    "                                            {\"case_id\": 5, \n",
    "                                             \"metric_scores\": {\"specific\": 0.9, \"measurable\": 0.8, \"achievable\": 1.0, \"relevant\": 0.9, \"time_bound\": 0.7, \"clarity\": 0.9}, \n",
    "                                             \"agreement\": \"n/a\", \n",
    "                                             \"notes\": \"Quantifies water intake (8 glasses/day) but monitoring method (urine color) is less precise than other goals.\"}, \n",
    "                                            {\"case_id\": 6, \n",
    "                                             \"metric_scores\": {\"specific\": 0.9, \"measurable\": 0.8, \"achievable\": 1.0, \"relevant\": 1.0, \"time_bound\": 0.7, \"clarity\": 0.9}, \n",
    "                                             \"agreement\": \"n/a\", \n",
    "                                             \"notes\": \"Covers appointment attendance and preparation requirements but lacks specific timeframe beyond \\'scheduled appointments\\'.\"}\n",
    "                                          ]}, \n",
    "                                 \"analyzer_input\": [{\"case_id\": 1, \n",
    "                                                     \"timestamp\": \"2025-10-13 00:55:59\", \n",
    "                                                     \"goal_number\": 1, \n",
    "                                                     \"goal_text\": \"Reduce daily carbohydrate intake to 45g per meal and aim for a total of 135g per day. Monitor progress weekly by recording carbohydrate counts in food diary.\"}, \n",
    "                                                    {\"case_id\": 2, \n",
    "                                                     \"timestamp\": \"2025-10-13 00:55:59\", \n",
    "                                                     \"goal_number\": 2, \n",
    "                                                     \"goal_text\": \"Engage in at least 30 minutes of moderate-intensity aerobic activity 5 days per week. Track activity using a fitness tracker or smartphone app.\"}, \n",
    "                                                    {\"case_id\": 3,\n",
    "                                                     \"timestamp\": \"2025-10-13 00:55:59\", \n",
    "                                                     \"goal_number\": 3, \n",
    "                                                     \"goal_text\": \"Take metformin 500mg twice daily with meals. Refill prescription every 90 days and report any side effects to healthcare provider.\"}, \n",
    "                                                    {\"case_id\": 4, \n",
    "                                                     \"timestamp\": \"2025-10-13 00:55:59\", \n",
    "                                                     \"goal_number\": 4, \n",
    "                                                     \"goal_text\": \"Check blood glucose levels before meals and at bedtime. Target pre-meal blood glucose levels below 130mg/dL and bedtime levels below 110mg/dL. Record results in a log.\"}, \n",
    "                                                    {\"case_id\": 5, \n",
    "                                                     \"timestamp\": \"2025-10-13 00:55:59\", \n",
    "                                                     \"goal_number\": 5, \n",
    "                                                     \"goal_text\": \"Maintain adequate water intake by drinking at least 8 glasses of water per day. Monitor urine color and report any unusual changes to healthcare provider.\"}, \n",
    "                                                    {\"case_id\": 6, \n",
    "                                                     \"timestamp\": \"2025-10-13 00:55:59\", \n",
    "                                                     \"goal_number\": 6, \n",
    "                                                     \"goal_text\": \"Attend all scheduled appointments with healthcare provider and bring a copy of the most recent blood glucose log. Update medication list and share any medication changes.\"}\n",
    "                                                   ]\n",
    "           }'\n",
    "}\n"
   ]
  },
  {
   "cell_type": "code",
   "execution_count": null,
   "id": "46e3a8d1-b183-491e-acfb-2de9a187d148",
   "metadata": {},
   "outputs": [],
   "source": []
  }
 ],
 "metadata": {
  "kernelspec": {
   "display_name": "Python 3 (ipykernel)",
   "language": "python",
   "name": "python3"
  },
  "language_info": {
   "codemirror_mode": {
    "name": "ipython",
    "version": 3
   },
   "file_extension": ".py",
   "mimetype": "text/x-python",
   "name": "python",
   "nbconvert_exporter": "python",
   "pygments_lexer": "ipython3",
   "version": "3.12.9"
  }
 },
 "nbformat": 4,
 "nbformat_minor": 5
}
