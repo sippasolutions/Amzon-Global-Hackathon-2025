{
 "cells": [
  {
   "cell_type": "markdown",
   "id": "5619d783-3d4c-44fd-b103-522f5673e17b",
   "metadata": {
    "execution": {
     "iopub.execute_input": "2025-10-19T08:19:34.837890Z",
     "iopub.status.busy": "2025-10-19T08:19:34.837620Z",
     "iopub.status.idle": "2025-10-19T08:19:34.869016Z",
     "shell.execute_reply": "2025-10-19T08:19:34.867892Z",
     "shell.execute_reply.started": "2025-10-19T08:19:34.837867Z"
    }
   },
   "source": [
    "## LLM-as-Judge Evaluator agent prototype\n",
    "\n",
    "### Overview\n",
    "This LLM-as-Judge Evalautor agent runs on its own kernal session, allowing service request for multiple session.\n"
   ]
  },
  {
   "cell_type": "code",
   "execution_count": null,
   "id": "b49e4960-b0b4-4ce8-a7d1-2930ec463abd",
   "metadata": {},
   "outputs": [],
   "source": [
    "%%writefile ./lab_helpers/evaluator_agent_runtime.py\n",
    "# evaluator_agent_runtime.py\n",
    "import json\n",
    "import uuid\n",
    "import time\n",
    "from typing import Optional, Dict, Any\n",
    "\n",
    "import re\n",
    "\n",
    "from strands import Agent\n",
    "from strands.models import BedrockModel\n",
    "\n",
    "from bedrock_agentcore.runtime import BedrockAgentCoreApp\n",
    "\n",
    "from lab_helpers.smartgoalgenerator_mcp_tools import build_eval_plan_v2, load_analyzer_runs_v2\n",
    "\n",
    "# =========================================\n",
    "# ===== Module-level constants ============\n",
    "# =========================================\n",
    "EVALUATOR_MODEL_ID = \"us.anthropic.claude-3-7-sonnet-20250219-v1:0\"\n",
    "\n",
    "# ==================================\n",
    "# ===== LLM-as-Judge essential =====\n",
    "# ==================================\n",
    "def evaluator_system_prompt() -> str:\n",
    "    return \"\"\"You are an Evaluator (LLM-as-Judge) that supports multiple evaluation modes via a plan.\n",
    "\n",
    "CRITICAL: You MUST evaluate ALL cases provided in the plan. Do not stop early or skip any cases.\n",
    "\n",
    "You will be given a plan from the tool build_eval_plan_v2(analyzer_json_src, limit) with:\n",
    "- evaluation_type: \"engagement_vs_clinician\" or \"smart_goals_rubric\"\n",
    "- metrics: list of metric names to score in [0.0, 1.0]\n",
    "- rubric: guidance for scoring\n",
    "- cases: a list of cases to evaluate\n",
    "\n",
    "CALLS:\n",
    "1) Call build_eval_plan_v2(analyzer_json_src, limit) EXACTLY ONCE (use the user-provided {\"analyzer_json_src\":analyzer_json_src} if present; otherwise none).\n",
    "\n",
    "SCORING:\n",
    "- For \"engagement_vs_clinician\":\n",
    "  Each case has:\n",
    "    { case_id, timestamp, device_id, analyzer{category_recommended, rationale}, clinician{category_recommended, rationale} }\n",
    "  Score metrics: correctness, completeness, helpfulness, coherence, relevance.\n",
    "  Also produce:\n",
    "    agreement = \"match\" | \"partial\" | \"mismatch\"\n",
    "  Rules:\n",
    "    - match if categories are the same (case-insensitive).\n",
    "    - partial if different but analyzer rationale substantially overlaps clinician intent.\n",
    "    - mismatch otherwise.\n",
    "\n",
    "- For \"smart_goals_rubric\":\n",
    "  Each case has:\n",
    "    { case_id, timestamp, goal_number, goal_text }\n",
    "  Score metrics: specific, measurable, achievable, relevant, time_bound, clarity.\n",
    "  Focus only on the goal_text vs rubric. If unsafe, note it briefly.\n",
    "\n",
    "OUTPUT: STRICT JSON ONLY:\n",
    "{\n",
    "  \"evaluation_type\": \"string\",\n",
    "  \"cases_scored\": 0,\n",
    "  \"scores\": [\n",
    "    {\n",
    "      \"case_id\": \"string\",\n",
    "      \"metric_scores\": { \"<metric>\": 0.0 },\n",
    "      \"agreement\": \"match|partial|mismatch|n/a\",\n",
    "      \"notes\": \"short justification (<=40 words)\"\n",
    "    }\n",
    "  ]\n",
    "}\n",
    "\n",
    "PROCESS:\n",
    "- Produce one score object per case with values in [0.0, 1.0].\n",
    "- Use \"agreement\":\"n/a\" for smart_goals_rubric (no clinician).\n",
    "- Keep notes concise and specific.\n",
    "\"\"\"\n",
    "\n",
    "# ==============================\n",
    "# ===== Json/Jsonl helpers =====\n",
    "# ==============================\n",
    "def clean_json_str(s: str) -> str:\n",
    "    # remove trailing commas before } or ]\n",
    "    s = re.sub(r\",\\s*([}\\]])\", r\"\\1\", s)\n",
    "    # strip any junk after final closing brace\n",
    "    last_brace = max(s.rfind(\"}\"), s.rfind(\"]\"))\n",
    "    if last_brace != -1:\n",
    "        s = s[:last_brace+1]\n",
    "    return s\n",
    "\n",
    "def _coerce_json(s):\n",
    "    import json, re\n",
    "\n",
    "    if not isinstance(s, str):\n",
    "        if hasattr(s, \"output\"): s = s.output\n",
    "        elif hasattr(s, \"content\"): s = s.content\n",
    "        elif hasattr(s, \"text\"): s = s.text\n",
    "        else: s = str(s)\n",
    "\n",
    "    s = s.strip()\n",
    "\n",
    "    if s.startswith(\"{\") and s.endswith(\"}\"):\n",
    "        candidate = s\n",
    "    else:\n",
    "        m = re.search(r\"\\{.*\\}\", s, flags=re.DOTALL)\n",
    "        if not m:\n",
    "            raise ValueError(\"No JSON object found in agent output.\")\n",
    "        candidate = m.group(0)\n",
    "\n",
    "    candidate = clean_json_str(candidate)\n",
    "    \n",
    "    try:\n",
    "        return json.loads(candidate)\n",
    "    except json.JSONDecodeError as e:\n",
    "        # Print useful debug info\n",
    "        snippet = candidate[max(0, e.pos-80):e.pos+80]\n",
    "        print(f\"\\n--- JSON parse error ---\\n{e}\\nContext:\\n...{snippet}...\\n\")\n",
    "        raise\n",
    "\n",
    "# =========================================\n",
    "# ===== Module-level evaluator agent ======\n",
    "# =========================================\n",
    "\n",
    "# Step 1: Initialize BedrockModel at module load (only if tool is available)\n",
    "evaluator_model = BedrockModel(\n",
    "    model_id=EVALUATOR_MODEL_ID,\n",
    "    max_tokens=8192,\n",
    "    temperature=0.8,\n",
    "    top_k=50,\n",
    "    top_p=0.95,\n",
    ")\n",
    "\n",
    "# Prepare evaluator agent configuration\n",
    "evaluator_agent_kwargs = {\"model\": evaluator_model}\n",
    "\n",
    "# Add tools if available\n",
    "try:\n",
    "    evaluator_agent_kwargs[\"tools\"] = [build_eval_plan_v2, load_analyzer_runs_v2]\n",
    "except Exception as e:\n",
    "    print(f\"Tool listing failed: {e}\")\n",
    "\n",
    "# Add system prompt\n",
    "evaluator_agent_kwargs[\"system_prompt\"] = evaluator_system_prompt()\n",
    "\n",
    "# Initialize evaluator agent once with the right capabilities\n",
    "evaluator_agent = Agent(**evaluator_agent_kwargs)\n",
    "\n",
    "# =========================================\n",
    "# ===== Bedrock AgentCore Entrypoint --- Initialize the agentcore runtime ======\n",
    "# =========================================\n",
    "app = BedrockAgentCoreApp()\n",
    "\n",
    "@app.entrypoint\n",
    "def invoke(payload: Dict[str, Any]):\n",
    "    \"\"\"AgentCore Runtime entrypoint function\"\"\"\n",
    "    try:\n",
    "        analyzer_payload = payload.get(\"analyzer_payload\")\n",
    "        if not analyzer_payload:\n",
    "            return {\n",
    "                \"statusCode\": 400,\n",
    "                \"body\": json.dumps({\"error\": \"No analyzer_payload provided.\"})\n",
    "            }\n",
    "\n",
    "        # Step 1: Run the evaluator agent\n",
    "        text = \"Please analyze this analyzer output and provide evaluation metrics: \" + json.dumps(analyzer_payload)\n",
    "        response = evaluator_agent(text)\n",
    "\n",
    "        # Step 2: Parse agent output using the same helper function as smart goal generator\n",
    "        parsed = _coerce_json(response)\n",
    "\n",
    "        # Step 3: Structure the evaluation output\n",
    "        output_obj = {\n",
    "            \"run_id\": str(uuid.uuid4()),\n",
    "            \"timestamp\": time.strftime(\"%Y-%m-%d %H:%M:%S\", time.localtime()),\n",
    "            \"evaluator_output\": parsed,\n",
    "            \"analyzer_input\": analyzer_payload\n",
    "        }\n",
    "\n",
    "        # Step 4: Return HTTP-style response\n",
    "        return {\n",
    "            \"statusCode\": 200,\n",
    "            \"headers\": {\n",
    "                \"Content-Type\": \"application/json\"\n",
    "            },\n",
    "            \"body\": json.dumps(output_obj, ensure_ascii=False)\n",
    "        }\n",
    "\n",
    "    except Exception as e:\n",
    "        print(f\"Error: {str(e)}\")\n",
    "        return {\n",
    "            \"statusCode\": 500,\n",
    "            \"body\": json.dumps({\"error\": str(e)})\n",
    "        }    \n",
    "\n",
    "if __name__ == \"__main__\":\n",
    "    app.run()"
   ]
  },
  {
   "cell_type": "code",
   "execution_count": 2,
   "id": "d28bb14a-c5d3-409b-a217-edad80d8605f",
   "metadata": {
    "execution": {
     "iopub.execute_input": "2025-10-19T08:19:35.743573Z",
     "iopub.status.busy": "2025-10-19T08:19:35.743311Z",
     "iopub.status.idle": "2025-10-19T08:19:40.590842Z",
     "shell.execute_reply": "2025-10-19T08:19:40.589599Z",
     "shell.execute_reply.started": "2025-10-19T08:19:35.743550Z"
    }
   },
   "outputs": [
    {
     "name": "stdout",
     "output_type": "stream",
     "text": [
      "Note: you may need to restart the kernel to use updated packages.\n"
     ]
    }
   ],
   "source": [
    "# Install required packages\n",
    "%pip install -U -r requirements.txt -q"
   ]
  },
  {
   "cell_type": "code",
   "execution_count": 3,
   "id": "a14fcb8d-8ba6-4156-bd1e-73bf9a7550bd",
   "metadata": {
    "execution": {
     "iopub.execute_input": "2025-10-19T08:19:42.958241Z",
     "iopub.status.busy": "2025-10-19T08:19:42.957961Z",
     "iopub.status.idle": "2025-10-19T08:19:44.927045Z",
     "shell.execute_reply": "2025-10-19T08:19:44.925974Z",
     "shell.execute_reply.started": "2025-10-19T08:19:42.958217Z"
    }
   },
   "outputs": [
    {
     "name": "stdout",
     "output_type": "stream",
     "text": [
      "Note: you may need to restart the kernel to use updated packages.\n"
     ]
    }
   ],
   "source": [
    "# Install required packages\n",
    "%pip install strands-agents \"boto3>=1.39.15\" strands-agents-tools bedrock_agentcore ddgs -q"
   ]
  },
  {
   "cell_type": "code",
   "execution_count": 4,
   "id": "3e533b99-22ef-4152-adae-916fda737b18",
   "metadata": {
    "execution": {
     "iopub.execute_input": "2025-10-19T08:19:44.928272Z",
     "iopub.status.busy": "2025-10-19T08:19:44.928027Z",
     "iopub.status.idle": "2025-10-19T08:19:45.738810Z",
     "shell.execute_reply": "2025-10-19T08:19:45.737892Z",
     "shell.execute_reply.started": "2025-10-19T08:19:44.928248Z"
    }
   },
   "outputs": [],
   "source": [
    "# Import required libraries\n",
    "import os\n",
    "import json\n",
    "import boto3\n",
    "from boto3.session import Session\n",
    "from strands import Agent\n",
    "from strands.models import BedrockModel\n"
   ]
  },
  {
   "cell_type": "code",
   "execution_count": 5,
   "id": "e0efc9d9-440b-4972-b36d-15eeab4ba08c",
   "metadata": {
    "execution": {
     "iopub.execute_input": "2025-10-19T08:19:47.060581Z",
     "iopub.status.busy": "2025-10-19T08:19:47.060241Z",
     "iopub.status.idle": "2025-10-19T08:19:47.072621Z",
     "shell.execute_reply": "2025-10-19T08:19:47.071790Z",
     "shell.execute_reply.started": "2025-10-19T08:19:47.060557Z"
    }
   },
   "outputs": [],
   "source": [
    "# Get boto session\n",
    "boto_session = Session()\n",
    "region = boto_session.region_name"
   ]
  },
  {
   "cell_type": "code",
   "execution_count": 6,
   "id": "53bb50cf-5b9b-4309-b712-acac724b7127",
   "metadata": {
    "execution": {
     "iopub.execute_input": "2025-10-19T08:19:47.887388Z",
     "iopub.status.busy": "2025-10-19T08:19:47.887129Z",
     "iopub.status.idle": "2025-10-19T08:19:49.787564Z",
     "shell.execute_reply": "2025-10-19T08:19:49.786780Z",
     "shell.execute_reply.started": "2025-10-19T08:19:47.887369Z"
    }
   },
   "outputs": [
    {
     "name": "stdout",
     "output_type": "stream",
     "text": [
      "Requirement already satisfied: bedrock-agentcore-starter-toolkit in /opt/conda/lib/python3.12/site-packages (0.1.26)\n",
      "Requirement already satisfied: autopep8>=2.3.2 in /opt/conda/lib/python3.12/site-packages (from bedrock-agentcore-starter-toolkit) (2.3.2)\n",
      "Requirement already satisfied: bedrock-agentcore>=1.0.3 in /opt/conda/lib/python3.12/site-packages (from bedrock-agentcore-starter-toolkit) (1.0.3)\n",
      "Requirement already satisfied: boto3>=1.40.51 in /opt/conda/lib/python3.12/site-packages (from bedrock-agentcore-starter-toolkit) (1.40.55)\n",
      "Requirement already satisfied: botocore>=1.40.51 in /opt/conda/lib/python3.12/site-packages (from bedrock-agentcore-starter-toolkit) (1.40.55)\n",
      "Requirement already satisfied: docstring-parser<1.0,>=0.15 in /opt/conda/lib/python3.12/site-packages (from bedrock-agentcore-starter-toolkit) (0.17.0)\n",
      "Requirement already satisfied: httpx>=0.28.1 in /opt/conda/lib/python3.12/site-packages (from bedrock-agentcore-starter-toolkit) (0.28.1)\n",
      "Requirement already satisfied: jinja2>=3.1.6 in /opt/conda/lib/python3.12/site-packages (from bedrock-agentcore-starter-toolkit) (3.1.6)\n",
      "Requirement already satisfied: openapi-spec-validator>=0.7.2 in /opt/conda/lib/python3.12/site-packages (from bedrock-agentcore-starter-toolkit) (0.7.2)\n",
      "Requirement already satisfied: prance>=25.4.8.0 in /opt/conda/lib/python3.12/site-packages (from bedrock-agentcore-starter-toolkit) (25.4.8.0)\n",
      "Requirement already satisfied: prompt-toolkit>=3.0.51 in /opt/conda/lib/python3.12/site-packages (from bedrock-agentcore-starter-toolkit) (3.0.51)\n",
      "Requirement already satisfied: py-openapi-schema-to-json-schema>=0.0.3 in /opt/conda/lib/python3.12/site-packages (from bedrock-agentcore-starter-toolkit) (0.0.3)\n",
      "Requirement already satisfied: pydantic<2.41.3,>=2.0.0 in /opt/conda/lib/python3.12/site-packages (from bedrock-agentcore-starter-toolkit) (2.11.7)\n",
      "Requirement already satisfied: pyyaml>=6.0.2 in /opt/conda/lib/python3.12/site-packages (from bedrock-agentcore-starter-toolkit) (6.0.3)\n",
      "Requirement already satisfied: questionary>=2.1.0 in /opt/conda/lib/python3.12/site-packages (from bedrock-agentcore-starter-toolkit) (2.1.1)\n",
      "Requirement already satisfied: requests>=2.25.0 in /opt/conda/lib/python3.12/site-packages (from bedrock-agentcore-starter-toolkit) (2.32.5)\n",
      "Requirement already satisfied: rich>=13.0.0 in /opt/conda/lib/python3.12/site-packages (from bedrock-agentcore-starter-toolkit) (14.2.0)\n",
      "Requirement already satisfied: ruamel-yaml>=0.18.14 in /opt/conda/lib/python3.12/site-packages (from bedrock-agentcore-starter-toolkit) (0.18.14)\n",
      "Requirement already satisfied: starlette>=0.46.2 in /opt/conda/lib/python3.12/site-packages (from bedrock-agentcore-starter-toolkit) (0.47.2)\n",
      "Requirement already satisfied: toml>=0.10.2 in /opt/conda/lib/python3.12/site-packages (from bedrock-agentcore-starter-toolkit) (0.10.2)\n",
      "Requirement already satisfied: typer>=0.16.0 in /opt/conda/lib/python3.12/site-packages (from bedrock-agentcore-starter-toolkit) (0.16.0)\n",
      "Requirement already satisfied: typing-extensions<5.0.0,>=4.13.2 in /opt/conda/lib/python3.12/site-packages (from bedrock-agentcore-starter-toolkit) (4.14.1)\n",
      "Requirement already satisfied: urllib3>=1.26.0 in /opt/conda/lib/python3.12/site-packages (from bedrock-agentcore-starter-toolkit) (1.26.19)\n",
      "Requirement already satisfied: uvicorn>=0.34.2 in /opt/conda/lib/python3.12/site-packages (from bedrock-agentcore-starter-toolkit) (0.35.0)\n",
      "Requirement already satisfied: annotated-types>=0.6.0 in /opt/conda/lib/python3.12/site-packages (from pydantic<2.41.3,>=2.0.0->bedrock-agentcore-starter-toolkit) (0.7.0)\n",
      "Requirement already satisfied: pydantic-core==2.33.2 in /opt/conda/lib/python3.12/site-packages (from pydantic<2.41.3,>=2.0.0->bedrock-agentcore-starter-toolkit) (2.33.2)\n",
      "Requirement already satisfied: typing-inspection>=0.4.0 in /opt/conda/lib/python3.12/site-packages (from pydantic<2.41.3,>=2.0.0->bedrock-agentcore-starter-toolkit) (0.4.1)\n",
      "Requirement already satisfied: pycodestyle>=2.12.0 in /opt/conda/lib/python3.12/site-packages (from autopep8>=2.3.2->bedrock-agentcore-starter-toolkit) (2.12.1)\n",
      "Requirement already satisfied: jmespath<2.0.0,>=0.7.1 in /opt/conda/lib/python3.12/site-packages (from boto3>=1.40.51->bedrock-agentcore-starter-toolkit) (1.0.1)\n",
      "Requirement already satisfied: s3transfer<0.15.0,>=0.14.0 in /opt/conda/lib/python3.12/site-packages (from boto3>=1.40.51->bedrock-agentcore-starter-toolkit) (0.14.0)\n",
      "Requirement already satisfied: python-dateutil<3.0.0,>=2.1 in /opt/conda/lib/python3.12/site-packages (from botocore>=1.40.51->bedrock-agentcore-starter-toolkit) (2.9.0.post0)\n",
      "Requirement already satisfied: six>=1.5 in /opt/conda/lib/python3.12/site-packages (from python-dateutil<3.0.0,>=2.1->botocore>=1.40.51->bedrock-agentcore-starter-toolkit) (1.17.0)\n",
      "Requirement already satisfied: anyio in /opt/conda/lib/python3.12/site-packages (from httpx>=0.28.1->bedrock-agentcore-starter-toolkit) (4.10.0)\n",
      "Requirement already satisfied: certifi in /opt/conda/lib/python3.12/site-packages (from httpx>=0.28.1->bedrock-agentcore-starter-toolkit) (2025.8.3)\n",
      "Requirement already satisfied: httpcore==1.* in /opt/conda/lib/python3.12/site-packages (from httpx>=0.28.1->bedrock-agentcore-starter-toolkit) (1.0.9)\n",
      "Requirement already satisfied: idna in /opt/conda/lib/python3.12/site-packages (from httpx>=0.28.1->bedrock-agentcore-starter-toolkit) (3.10)\n",
      "Requirement already satisfied: h11>=0.16 in /opt/conda/lib/python3.12/site-packages (from httpcore==1.*->httpx>=0.28.1->bedrock-agentcore-starter-toolkit) (0.16.0)\n",
      "Requirement already satisfied: MarkupSafe>=2.0 in /opt/conda/lib/python3.12/site-packages (from jinja2>=3.1.6->bedrock-agentcore-starter-toolkit) (3.0.2)\n",
      "Requirement already satisfied: jsonschema<5.0.0,>=4.18.0 in /opt/conda/lib/python3.12/site-packages (from openapi-spec-validator>=0.7.2->bedrock-agentcore-starter-toolkit) (4.23.0)\n",
      "Requirement already satisfied: jsonschema-path<0.4.0,>=0.3.1 in /opt/conda/lib/python3.12/site-packages (from openapi-spec-validator>=0.7.2->bedrock-agentcore-starter-toolkit) (0.3.4)\n",
      "Requirement already satisfied: lazy-object-proxy<2.0.0,>=1.7.1 in /opt/conda/lib/python3.12/site-packages (from openapi-spec-validator>=0.7.2->bedrock-agentcore-starter-toolkit) (1.12.0)\n",
      "Requirement already satisfied: openapi-schema-validator<0.7.0,>=0.6.0 in /opt/conda/lib/python3.12/site-packages (from openapi-spec-validator>=0.7.2->bedrock-agentcore-starter-toolkit) (0.6.3)\n",
      "Requirement already satisfied: attrs>=22.2.0 in /opt/conda/lib/python3.12/site-packages (from jsonschema<5.0.0,>=4.18.0->openapi-spec-validator>=0.7.2->bedrock-agentcore-starter-toolkit) (23.2.0)\n",
      "Requirement already satisfied: jsonschema-specifications>=2023.03.6 in /opt/conda/lib/python3.12/site-packages (from jsonschema<5.0.0,>=4.18.0->openapi-spec-validator>=0.7.2->bedrock-agentcore-starter-toolkit) (2025.4.1)\n",
      "Requirement already satisfied: referencing>=0.28.4 in /opt/conda/lib/python3.12/site-packages (from jsonschema<5.0.0,>=4.18.0->openapi-spec-validator>=0.7.2->bedrock-agentcore-starter-toolkit) (0.36.2)\n",
      "Requirement already satisfied: rpds-py>=0.7.1 in /opt/conda/lib/python3.12/site-packages (from jsonschema<5.0.0,>=4.18.0->openapi-spec-validator>=0.7.2->bedrock-agentcore-starter-toolkit) (0.27.0)\n",
      "Requirement already satisfied: pathable<0.5.0,>=0.4.1 in /opt/conda/lib/python3.12/site-packages (from jsonschema-path<0.4.0,>=0.3.1->openapi-spec-validator>=0.7.2->bedrock-agentcore-starter-toolkit) (0.4.4)\n",
      "Requirement already satisfied: rfc3339-validator in /opt/conda/lib/python3.12/site-packages (from openapi-schema-validator<0.7.0,>=0.6.0->openapi-spec-validator>=0.7.2->bedrock-agentcore-starter-toolkit) (0.1.4)\n",
      "Requirement already satisfied: charset_normalizer<4,>=2 in /opt/conda/lib/python3.12/site-packages (from requests>=2.25.0->bedrock-agentcore-starter-toolkit) (3.4.3)\n",
      "Requirement already satisfied: chardet>=5.2 in /opt/conda/lib/python3.12/site-packages (from prance>=25.4.8.0->bedrock-agentcore-starter-toolkit) (5.2.0)\n",
      "Requirement already satisfied: packaging>=24.2 in /opt/conda/lib/python3.12/site-packages (from prance>=25.4.8.0->bedrock-agentcore-starter-toolkit) (24.2)\n",
      "Requirement already satisfied: wcwidth in /opt/conda/lib/python3.12/site-packages (from prompt-toolkit>=3.0.51->bedrock-agentcore-starter-toolkit) (0.2.13)\n",
      "Requirement already satisfied: markdown-it-py>=2.2.0 in /opt/conda/lib/python3.12/site-packages (from rich>=13.0.0->bedrock-agentcore-starter-toolkit) (4.0.0)\n",
      "Requirement already satisfied: pygments<3.0.0,>=2.13.0 in /opt/conda/lib/python3.12/site-packages (from rich>=13.0.0->bedrock-agentcore-starter-toolkit) (2.19.2)\n",
      "Requirement already satisfied: mdurl~=0.1 in /opt/conda/lib/python3.12/site-packages (from markdown-it-py>=2.2.0->rich>=13.0.0->bedrock-agentcore-starter-toolkit) (0.1.2)\n",
      "Requirement already satisfied: ruamel.yaml.clib>=0.2.7 in /opt/conda/lib/python3.12/site-packages (from ruamel-yaml>=0.18.14->bedrock-agentcore-starter-toolkit) (0.2.8)\n",
      "Requirement already satisfied: sniffio>=1.1 in /opt/conda/lib/python3.12/site-packages (from anyio->httpx>=0.28.1->bedrock-agentcore-starter-toolkit) (1.3.1)\n",
      "Requirement already satisfied: click>=8.0.0 in /opt/conda/lib/python3.12/site-packages (from typer>=0.16.0->bedrock-agentcore-starter-toolkit) (8.2.1)\n",
      "Requirement already satisfied: shellingham>=1.3.0 in /opt/conda/lib/python3.12/site-packages (from typer>=0.16.0->bedrock-agentcore-starter-toolkit) (1.5.4)\n",
      "Note: you may need to restart the kernel to use updated packages.\n"
     ]
    }
   ],
   "source": [
    "pip install bedrock-agentcore-starter-toolkit"
   ]
  },
  {
   "cell_type": "code",
   "execution_count": 7,
   "id": "a06c97da-b8df-47df-ab10-9c47c1e59dee",
   "metadata": {
    "execution": {
     "iopub.execute_input": "2025-10-19T08:19:49.788636Z",
     "iopub.status.busy": "2025-10-19T08:19:49.788421Z",
     "iopub.status.idle": "2025-10-19T08:19:55.253991Z",
     "shell.execute_reply": "2025-10-19T08:19:55.253189Z",
     "shell.execute_reply.started": "2025-10-19T08:19:49.788614Z"
    }
   },
   "outputs": [
    {
     "name": "stdout",
     "output_type": "stream",
     "text": [
      "Collecting boto3==1.34.162\n",
      "  Using cached boto3-1.34.162-py3-none-any.whl.metadata (6.6 kB)\n",
      "Collecting botocore==1.34.162\n",
      "  Using cached botocore-1.34.162-py3-none-any.whl.metadata (5.7 kB)\n",
      "Collecting jmespath<2.0.0,>=0.7.1 (from boto3==1.34.162)\n",
      "  Using cached jmespath-1.0.1-py3-none-any.whl.metadata (7.6 kB)\n",
      "Collecting s3transfer<0.11.0,>=0.10.0 (from boto3==1.34.162)\n",
      "  Using cached s3transfer-0.10.4-py3-none-any.whl.metadata (1.7 kB)\n",
      "Collecting python-dateutil<3.0.0,>=2.1 (from botocore==1.34.162)\n",
      "  Using cached python_dateutil-2.9.0.post0-py2.py3-none-any.whl.metadata (8.4 kB)\n",
      "Collecting urllib3!=2.2.0,<3,>=1.25.4 (from botocore==1.34.162)\n",
      "  Using cached urllib3-2.5.0-py3-none-any.whl.metadata (6.5 kB)\n",
      "Collecting six>=1.5 (from python-dateutil<3.0.0,>=2.1->botocore==1.34.162)\n",
      "  Using cached six-1.17.0-py2.py3-none-any.whl.metadata (1.7 kB)\n",
      "Using cached boto3-1.34.162-py3-none-any.whl (139 kB)\n",
      "Using cached botocore-1.34.162-py3-none-any.whl (12.5 MB)\n",
      "Using cached jmespath-1.0.1-py3-none-any.whl (20 kB)\n",
      "Using cached python_dateutil-2.9.0.post0-py2.py3-none-any.whl (229 kB)\n",
      "Using cached s3transfer-0.10.4-py3-none-any.whl (83 kB)\n",
      "Using cached urllib3-2.5.0-py3-none-any.whl (129 kB)\n",
      "Using cached six-1.17.0-py2.py3-none-any.whl (11 kB)\n",
      "Installing collected packages: urllib3, six, jmespath, python-dateutil, botocore, s3transfer, boto3\n",
      "\u001b[2K  Attempting uninstall: urllib3\n",
      "\u001b[2K    Found existing installation: urllib3 1.26.19\n",
      "\u001b[2K    Uninstalling urllib3-1.26.19:\n",
      "\u001b[2K      Successfully uninstalled urllib3-1.26.19\n",
      "\u001b[2K  Attempting uninstall: six\n",
      "\u001b[2K    Found existing installation: six 1.17.0\n",
      "\u001b[2K    Uninstalling six-1.17.0:\n",
      "\u001b[2K      Successfully uninstalled six-1.17.0━━━━━━━━━━━━━━━━━━━━━━━━━\u001b[0m \u001b[32m1/7\u001b[0m [six]\n",
      "\u001b[2K  Attempting uninstall: jmespath━━━━━━━━━━━━━━━━━━━━━━━━━━━━━━\u001b[0m \u001b[32m1/7\u001b[0m [six]\n",
      "\u001b[2K    Found existing installation: jmespath 1.0.1━━━━━━━━━━━━━━━\u001b[0m \u001b[32m1/7\u001b[0m [six]\n",
      "\u001b[2K    Uninstalling jmespath-1.0.1:━━━━━━━━━━━━━━━━━━━━━━━━━━━━━━\u001b[0m \u001b[32m1/7\u001b[0m [six]\n",
      "\u001b[2K      Successfully uninstalled jmespath-1.0.1━━━━━━━━━━━━━━━━━\u001b[0m \u001b[32m1/7\u001b[0m [six]\n",
      "\u001b[2K  Attempting uninstall: python-dateutil━━━━━━━━━━━━━━━━━━━━━━━\u001b[0m \u001b[32m1/7\u001b[0m [six]\n",
      "\u001b[2K    Found existing installation: python-dateutil 2.9.0.post0━━━━━━\u001b[0m \u001b[32m3/7\u001b[0m [python-dateutil]\n",
      "\u001b[2K    Uninstalling python-dateutil-2.9.0.post0:━━━━━━━━━━━━━━━━━\u001b[0m \u001b[32m3/7\u001b[0m [python-dateutil]\n",
      "\u001b[2K      Successfully uninstalled python-dateutil-2.9.0.post0━━━━\u001b[0m \u001b[32m3/7\u001b[0m [python-dateutil]\n",
      "\u001b[2K  Attempting uninstall: botocore[0m\u001b[90m━━━━━━━━━━━━━━━━━━━━━━\u001b[0m \u001b[32m3/7\u001b[0m [python-dateutil]\n",
      "\u001b[2K    Found existing installation: botocore 1.40.55━━━━━━━━━━━━━\u001b[0m \u001b[32m3/7\u001b[0m [python-dateutil]\n",
      "\u001b[2K    Uninstalling botocore-1.40.55:\u001b[91m╸\u001b[0m\u001b[90m━━━━━━━━━━━━━━━━━\u001b[0m \u001b[32m4/7\u001b[0m [botocore]il]\n",
      "\u001b[2K      Successfully uninstalled botocore-1.40.55━━━━━━━━━━━━━━━\u001b[0m \u001b[32m4/7\u001b[0m [botocore]\n",
      "\u001b[2K  Attempting uninstall: s3transfer\u001b[91m╸\u001b[0m\u001b[90m━━━━━━━━━━━━━━━━━\u001b[0m \u001b[32m4/7\u001b[0m [botocore]\n",
      "\u001b[2K    Found existing installation: s3transfer 0.14.0━━━━━━━━━━━━\u001b[0m \u001b[32m4/7\u001b[0m [botocore]\n",
      "\u001b[2K    Uninstalling s3transfer-0.14.0:╸\u001b[0m\u001b[90m━━━━━━━━━━━━━━━━━\u001b[0m \u001b[32m4/7\u001b[0m [botocore]\n",
      "\u001b[2K      Successfully uninstalled s3transfer-0.14.0━━━━━━━━━━━━━━\u001b[0m \u001b[32m4/7\u001b[0m [botocore]\n",
      "\u001b[2K  Attempting uninstall: boto3━━━━━━━\u001b[0m\u001b[91m╸\u001b[0m\u001b[90m━━━━━━━━━━━\u001b[0m \u001b[32m5/7\u001b[0m [s3transfer]\n",
      "\u001b[2K    Found existing installation: boto3 1.40.55\u001b[90m━━━━━━━━━━━\u001b[0m \u001b[32m5/7\u001b[0m [s3transfer]\n",
      "\u001b[2K    Uninstalling boto3-1.40.55:━\u001b[0m\u001b[91m╸\u001b[0m\u001b[90m━━━━━━━━━━━\u001b[0m \u001b[32m5/7\u001b[0m [s3transfer]\n",
      "\u001b[2K      Successfully uninstalled boto3-1.40.550m\u001b[90m━━━━━━━━━━━\u001b[0m \u001b[32m5/7\u001b[0m [s3transfer]\n",
      "\u001b[2K   \u001b[90m━━━━━━━━━━━━━━━━━━━━━━━━━━━━━━━━━━━━━━━━\u001b[0m \u001b[32m7/7\u001b[0m [boto3]/7\u001b[0m [s3transfer]\n",
      "\u001b[1A\u001b[2K\u001b[31mERROR: pip's dependency resolver does not currently take into account all the packages that are installed. This behaviour is the source of the following dependency conflicts.\n",
      "autogluon-multimodal 1.4.0 requires nvidia-ml-py3<8.0,>=7.352.0, which is not installed.\n",
      "aiobotocore 2.21.1 requires botocore<1.37.2,>=1.37.0, but you have botocore 1.34.162 which is incompatible.\n",
      "autogluon-multimodal 1.4.0 requires transformers[sentencepiece]<4.50,>=4.38.0, but you have transformers 4.55.2 which is incompatible.\n",
      "autogluon-timeseries 1.4.0 requires transformers[sentencepiece]<4.50,>=4.38.0, but you have transformers 4.55.2 which is incompatible.\n",
      "langchain-aws 0.2.19 requires boto3>=1.37.24, but you have boto3 1.34.162 which is incompatible.\n",
      "sagemaker 2.245.0 requires boto3<2.0,>=1.35.75, but you have boto3 1.34.162 which is incompatible.\n",
      "sagemaker-core 1.0.52 requires boto3<2.0.0,>=1.35.36, but you have boto3 1.34.162 which is incompatible.\n",
      "sagemaker-studio-analytics-extension 0.2.0 requires sparkmagic==0.22.0, but you have sparkmagic 0.21.0 which is incompatible.\n",
      "sparkmagic 0.21.0 requires pandas<2.0.0,>=0.17.1, but you have pandas 2.3.1 which is incompatible.\n",
      "bedrock-agentcore 1.0.3 requires boto3>=1.40.52, but you have boto3 1.34.162 which is incompatible.\n",
      "bedrock-agentcore 1.0.3 requires botocore>=1.40.52, but you have botocore 1.34.162 which is incompatible.\n",
      "bedrock-agentcore-starter-toolkit 0.1.26 requires boto3>=1.40.51, but you have boto3 1.34.162 which is incompatible.\n",
      "bedrock-agentcore-starter-toolkit 0.1.26 requires botocore>=1.40.51, but you have botocore 1.34.162 which is incompatible.\n",
      "strands-agents-tools 0.2.12 requires botocore<2.0.0,>=1.39.7, but you have botocore 1.34.162 which is incompatible.\u001b[0m\u001b[31m\n",
      "\u001b[0mSuccessfully installed boto3-1.34.162 botocore-1.34.162 jmespath-1.0.1 python-dateutil-2.9.0.post0 s3transfer-0.10.4 six-1.17.0 urllib3-2.5.0\n"
     ]
    }
   ],
   "source": [
    "!pip install boto3==1.34.162 botocore==1.34.162 --force-reinstall"
   ]
  },
  {
   "cell_type": "code",
   "execution_count": 8,
   "id": "e4da0cd8-bddc-4233-afa2-e27b6829ab8d",
   "metadata": {
    "execution": {
     "iopub.execute_input": "2025-10-19T08:19:55.255429Z",
     "iopub.status.busy": "2025-10-19T08:19:55.255153Z",
     "iopub.status.idle": "2025-10-19T08:19:59.449353Z",
     "shell.execute_reply": "2025-10-19T08:19:59.448594Z",
     "shell.execute_reply.started": "2025-10-19T08:19:55.255405Z"
    }
   },
   "outputs": [
    {
     "name": "stdout",
     "output_type": "stream",
     "text": [
      "Requirement already satisfied: bedrock-agentcore in /opt/conda/lib/python3.12/site-packages (1.0.3)\n",
      "Collecting boto3>=1.40.52 (from bedrock-agentcore)\n",
      "  Using cached boto3-1.40.55-py3-none-any.whl.metadata (6.6 kB)\n",
      "Collecting botocore>=1.40.52 (from bedrock-agentcore)\n",
      "  Using cached botocore-1.40.55-py3-none-any.whl.metadata (5.7 kB)\n",
      "Requirement already satisfied: pydantic<2.41.3,>=2.0.0 in /opt/conda/lib/python3.12/site-packages (from bedrock-agentcore) (2.11.7)\n",
      "Requirement already satisfied: starlette>=0.46.2 in /opt/conda/lib/python3.12/site-packages (from bedrock-agentcore) (0.47.2)\n",
      "Requirement already satisfied: typing-extensions<5.0.0,>=4.13.2 in /opt/conda/lib/python3.12/site-packages (from bedrock-agentcore) (4.14.1)\n",
      "Requirement already satisfied: urllib3>=1.26.0 in /opt/conda/lib/python3.12/site-packages (from bedrock-agentcore) (2.5.0)\n",
      "Requirement already satisfied: uvicorn>=0.34.2 in /opt/conda/lib/python3.12/site-packages (from bedrock-agentcore) (0.35.0)\n",
      "Requirement already satisfied: annotated-types>=0.6.0 in /opt/conda/lib/python3.12/site-packages (from pydantic<2.41.3,>=2.0.0->bedrock-agentcore) (0.7.0)\n",
      "Requirement already satisfied: pydantic-core==2.33.2 in /opt/conda/lib/python3.12/site-packages (from pydantic<2.41.3,>=2.0.0->bedrock-agentcore) (2.33.2)\n",
      "Requirement already satisfied: typing-inspection>=0.4.0 in /opt/conda/lib/python3.12/site-packages (from pydantic<2.41.3,>=2.0.0->bedrock-agentcore) (0.4.1)\n",
      "Requirement already satisfied: jmespath<2.0.0,>=0.7.1 in /opt/conda/lib/python3.12/site-packages (from boto3>=1.40.52->bedrock-agentcore) (1.0.1)\n",
      "Collecting s3transfer<0.15.0,>=0.14.0 (from boto3>=1.40.52->bedrock-agentcore)\n",
      "  Using cached s3transfer-0.14.0-py3-none-any.whl.metadata (1.7 kB)\n",
      "Requirement already satisfied: python-dateutil<3.0.0,>=2.1 in /opt/conda/lib/python3.12/site-packages (from botocore>=1.40.52->bedrock-agentcore) (2.9.0.post0)\n",
      "Requirement already satisfied: six>=1.5 in /opt/conda/lib/python3.12/site-packages (from python-dateutil<3.0.0,>=2.1->botocore>=1.40.52->bedrock-agentcore) (1.17.0)\n",
      "Requirement already satisfied: anyio<5,>=3.6.2 in /opt/conda/lib/python3.12/site-packages (from starlette>=0.46.2->bedrock-agentcore) (4.10.0)\n",
      "Requirement already satisfied: idna>=2.8 in /opt/conda/lib/python3.12/site-packages (from anyio<5,>=3.6.2->starlette>=0.46.2->bedrock-agentcore) (3.10)\n",
      "Requirement already satisfied: sniffio>=1.1 in /opt/conda/lib/python3.12/site-packages (from anyio<5,>=3.6.2->starlette>=0.46.2->bedrock-agentcore) (1.3.1)\n",
      "Requirement already satisfied: click>=7.0 in /opt/conda/lib/python3.12/site-packages (from uvicorn>=0.34.2->bedrock-agentcore) (8.2.1)\n",
      "Requirement already satisfied: h11>=0.8 in /opt/conda/lib/python3.12/site-packages (from uvicorn>=0.34.2->bedrock-agentcore) (0.16.0)\n",
      "Using cached boto3-1.40.55-py3-none-any.whl (139 kB)\n",
      "Using cached botocore-1.40.55-py3-none-any.whl (14.1 MB)\n",
      "Using cached s3transfer-0.14.0-py3-none-any.whl (85 kB)\n",
      "Installing collected packages: botocore, s3transfer, boto3\n",
      "\u001b[2K  Attempting uninstall: botocore\n",
      "\u001b[2K    Found existing installation: botocore 1.34.162\n",
      "\u001b[2K    Uninstalling botocore-1.34.162:\n",
      "\u001b[2K      Successfully uninstalled botocore-1.34.162\n",
      "\u001b[2K  Attempting uninstall: s3transfer━━━━━━━━━━━━━━\u001b[0m \u001b[32m0/3\u001b[0m [botocore]\n",
      "\u001b[2K    Found existing installation: s3transfer 0.10.4[32m0/3\u001b[0m [botocore]\n",
      "\u001b[2K    Uninstalling s3transfer-0.10.4:━━━━━━━━━\u001b[0m \u001b[32m0/3\u001b[0m [botocore]\n",
      "\u001b[2K      Successfully uninstalled s3transfer-0.10.4 \u001b[32m0/3\u001b[0m [botocore]\n",
      "\u001b[2K  Attempting uninstall: boto3━━━━━━━━━━━━━━━\u001b[0m \u001b[32m0/3\u001b[0m [botocore]\n",
      "\u001b[2K    Found existing installation: boto3 1.34.162m\u001b[90m━━━━━━━━━━━━━\u001b[0m \u001b[32m2/3\u001b[0m [boto3]\n",
      "\u001b[2K    Uninstalling boto3-1.34.162:0m\u001b[91m╸\u001b[0m\u001b[90m━━━━━━━━━━━━━\u001b[0m \u001b[32m2/3\u001b[0m [boto3]\n",
      "\u001b[2K      Successfully uninstalled boto3-1.34.162[90m━━━━━━━━━━━━━\u001b[0m \u001b[32m2/3\u001b[0m [boto3]\n",
      "\u001b[2K   \u001b[90m━━━━━━━━━━━━━━━━━━━━━━━━━━━━━━━━━━━━━━━━\u001b[0m \u001b[32m3/3\u001b[0m [boto3]/3\u001b[0m [boto3]\n",
      "\u001b[1A\u001b[2K\u001b[31mERROR: pip's dependency resolver does not currently take into account all the packages that are installed. This behaviour is the source of the following dependency conflicts.\n",
      "autogluon-multimodal 1.4.0 requires nvidia-ml-py3<8.0,>=7.352.0, which is not installed.\n",
      "aiobotocore 2.21.1 requires botocore<1.37.2,>=1.37.0, but you have botocore 1.40.55 which is incompatible.\n",
      "autogluon-multimodal 1.4.0 requires transformers[sentencepiece]<4.50,>=4.38.0, but you have transformers 4.55.2 which is incompatible.\n",
      "autogluon-timeseries 1.4.0 requires transformers[sentencepiece]<4.50,>=4.38.0, but you have transformers 4.55.2 which is incompatible.\n",
      "sagemaker-studio-analytics-extension 0.2.0 requires sparkmagic==0.22.0, but you have sparkmagic 0.21.0 which is incompatible.\u001b[0m\u001b[31m\n",
      "\u001b[0mSuccessfully installed boto3-1.40.55 botocore-1.40.55 s3transfer-0.14.0\n",
      "Note: you may need to restart the kernel to use updated packages.\n"
     ]
    }
   ],
   "source": [
    "pip install --upgrade bedrock-agentcore"
   ]
  },
  {
   "cell_type": "code",
   "execution_count": 9,
   "id": "b4f08666-0eb8-402b-a1be-bdee309da3dd",
   "metadata": {
    "execution": {
     "iopub.execute_input": "2025-10-19T08:19:59.450927Z",
     "iopub.status.busy": "2025-10-19T08:19:59.450683Z",
     "iopub.status.idle": "2025-10-19T08:19:59.544897Z",
     "shell.execute_reply": "2025-10-19T08:19:59.544094Z",
     "shell.execute_reply.started": "2025-10-19T08:19:59.450904Z"
    }
   },
   "outputs": [
    {
     "name": "stdout",
     "output_type": "stream",
     "text": [
      "bedrock\n"
     ]
    }
   ],
   "source": [
    "import boto3\n",
    "client = boto3.client('bedrock', region_name='us-east-1')\n",
    "print(client.meta.service_model.service_name)\n"
   ]
  },
  {
   "cell_type": "code",
   "execution_count": 10,
   "id": "7b50df10-9a31-47e5-af95-ffa73339fb73",
   "metadata": {
    "execution": {
     "iopub.execute_input": "2025-10-19T08:20:01.324721Z",
     "iopub.status.busy": "2025-10-19T08:20:01.323567Z",
     "iopub.status.idle": "2025-10-19T08:20:03.904079Z",
     "shell.execute_reply": "2025-10-19T08:20:03.903377Z",
     "shell.execute_reply.started": "2025-10-19T08:20:01.324683Z"
    }
   },
   "outputs": [
    {
     "name": "stderr",
     "output_type": "stream",
     "text": [
      "Entrypoint parsed: file=/mnt/custom-file-systems/efs/fs-09f36259b5e98907e_fsap-09cbf9f8e29ef1a0c/SIPPA-llm-evaluator-final/lab_helpers/evaluator_agent_runtime.py, bedrock_agentcore_name=evaluator_agent_runtime\n",
      "Memory configured with STM only\n",
      "Configuring BedrockAgentCore agent: llm_evaluator_agent\n"
     ]
    },
    {
     "name": "stdout",
     "output_type": "stream",
     "text": [
      "ℹ️ Role EvaluatorBedrockAgentCoreRole-us-east-1 already exists\n",
      "Role ARN: arn:aws:iam::711246752798:role/EvaluatorBedrockAgentCoreRole-us-east-1\n"
     ]
    },
    {
     "data": {
      "text/html": [
       "<pre style=\"white-space:pre;overflow-x:auto;line-height:normal;font-family:Menlo,'DejaVu Sans Mono',consolas,'Courier New',monospace\">\n",
       "💡 <span style=\"color: #008080; text-decoration-color: #008080\">No container engine found </span><span style=\"color: #008080; text-decoration-color: #008080; font-weight: bold\">(</span><span style=\"color: #008080; text-decoration-color: #008080\">Docker/Finch/Podman not installed</span><span style=\"color: #008080; text-decoration-color: #008080; font-weight: bold\">)</span>\n",
       "</pre>\n"
      ],
      "text/plain": [
       "\n",
       "💡 \u001b[36mNo container engine found \u001b[0m\u001b[1;36m(\u001b[0m\u001b[36mDocker/Finch/Podman not installed\u001b[0m\u001b[1;36m)\u001b[0m\n"
      ]
     },
     "metadata": {},
     "output_type": "display_data"
    },
    {
     "data": {
      "text/html": [
       "<pre style=\"white-space:pre;overflow-x:auto;line-height:normal;font-family:Menlo,'DejaVu Sans Mono',consolas,'Courier New',monospace\"><span style=\"color: #008000; text-decoration-color: #008000\">✓</span> Default deployment uses CodeBuild <span style=\"font-weight: bold\">(</span>no container engine needed<span style=\"font-weight: bold\">)</span>, For local builds, install Docker, Finch, or \n",
       "Podman\n",
       "</pre>\n"
      ],
      "text/plain": [
       "\u001b[32m✓\u001b[0m Default deployment uses CodeBuild \u001b[1m(\u001b[0mno container engine needed\u001b[1m)\u001b[0m, For local builds, install Docker, Finch, or \n",
       "Podman\n"
      ]
     },
     "metadata": {},
     "output_type": "display_data"
    },
    {
     "name": "stderr",
     "output_type": "stream",
     "text": [
      "Will create new memory with mode: STM_ONLY\n",
      "Memory configuration: Short-term memory only\n",
      "Found existing memory ID from previous launch: llm_evaluator_agent_mem-Oq55uu3ClK\n"
     ]
    },
    {
     "data": {
      "text/html": [
       "<pre style=\"white-space:pre;overflow-x:auto;line-height:normal;font-family:Menlo,'DejaVu Sans Mono',consolas,'Courier New',monospace\">\n",
       "<span style=\"color: #808000; text-decoration-color: #808000\">⚠️ Platform mismatch: Current system is </span><span style=\"color: #008000; text-decoration-color: #008000\">'linux/amd64'</span><span style=\"color: #808000; text-decoration-color: #808000\"> but Bedrock AgentCore requires </span><span style=\"color: #008000; text-decoration-color: #008000\">'linux/arm64'</span><span style=\"color: #808000; text-decoration-color: #808000\">, so local builds</span>\n",
       "<span style=\"color: #808000; text-decoration-color: #808000\">won't work.</span>\n",
       "<span style=\"color: #808000; text-decoration-color: #808000\">Please use default launch command which will do a remote cross-platform build using code build.For deployment other</span>\n",
       "<span style=\"color: #808000; text-decoration-color: #808000\">options and workarounds, see: </span>\n",
       "<span style=\"color: #0000ff; text-decoration-color: #0000ff; text-decoration: underline\">https://docs.aws.amazon.com/bedrock-agentcore/latest/devguide/getting-started-custom.html</span>\n",
       "\n",
       "</pre>\n"
      ],
      "text/plain": [
       "\n",
       "\u001b[33m⚠️ Platform mismatch: Current system is \u001b[0m\u001b[32m'linux/amd64'\u001b[0m\u001b[33m but Bedrock AgentCore requires \u001b[0m\u001b[32m'linux/arm64'\u001b[0m\u001b[33m, so local builds\u001b[0m\n",
       "\u001b[33mwon't work.\u001b[0m\n",
       "\u001b[33mPlease use default launch command which will do a remote cross-platform build using code build.For deployment other\u001b[0m\n",
       "\u001b[33moptions and workarounds, see: \u001b[0m\n",
       "\u001b[4;94mhttps://docs.aws.amazon.com/bedrock-agentcore/latest/devguide/getting-started-custom.html\u001b[0m\n",
       "\n"
      ]
     },
     "metadata": {},
     "output_type": "display_data"
    },
    {
     "name": "stderr",
     "output_type": "stream",
     "text": [
      "Generated Dockerfile: Dockerfile\n",
      "Generated .dockerignore: /mnt/custom-file-systems/efs/fs-09f36259b5e98907e_fsap-09cbf9f8e29ef1a0c/SIPPA-llm-evaluator-final/.dockerignore\n",
      "Keeping 'llm_evaluator_agent' as default agent\n",
      "Bedrock AgentCore configured: /mnt/custom-file-systems/efs/fs-09f36259b5e98907e_fsap-09cbf9f8e29ef1a0c/SIPPA-llm-evaluator-final/.bedrock_agentcore.yaml\n"
     ]
    },
    {
     "name": "stdout",
     "output_type": "stream",
     "text": [
      "Configuration completed: config_path=PosixPath('/mnt/custom-file-systems/efs/fs-09f36259b5e98907e_fsap-09cbf9f8e29ef1a0c/SIPPA-llm-evaluator-final/.bedrock_agentcore.yaml') dockerfile_path=PosixPath('/mnt/custom-file-systems/efs/fs-09f36259b5e98907e_fsap-09cbf9f8e29ef1a0c/SIPPA-llm-evaluator-final/Dockerfile') dockerignore_path=PosixPath('/mnt/custom-file-systems/efs/fs-09f36259b5e98907e_fsap-09cbf9f8e29ef1a0c/SIPPA-llm-evaluator-final/.dockerignore') runtime='None' region='us-east-1' account_id='711246752798' execution_role='arn:aws:iam::711246752798:role/EvaluatorBedrockAgentCoreRole-us-east-1' ecr_repository=None auto_create_ecr=True memory_id=None\n"
     ]
    }
   ],
   "source": [
    "from bedrock_agentcore_starter_toolkit import Runtime\n",
    "from lab_helpers.utils_evaluator import create_agentcore_runtime_execution_role\n",
    "\n",
    "# Initialize the runtime toolkit\n",
    "boto_session = boto3.session.Session()\n",
    "region = boto_session.region_name\n",
    "\n",
    "execution_role_arn = create_agentcore_runtime_execution_role()\n",
    "\n",
    "agentcore_runtime = Runtime()\n",
    "\n",
    "# Configure the deployment\n",
    "response = agentcore_runtime.configure(\n",
    "    entrypoint=\"lab_helpers/evaluator_agent_runtime.py\",\n",
    "    execution_role=execution_role_arn,\n",
    "    auto_create_ecr=True,\n",
    "    requirements_file=\"requirements.txt\",\n",
    "    region=region,\n",
    "    agent_name=\"llm_evaluator_agent\",\n",
    ")\n",
    "\n",
    "print(\"Configuration completed:\", response)"
   ]
  },
  {
   "cell_type": "code",
   "execution_count": 11,
   "id": "bd4850c5-48f0-4bea-abdf-710a5fab2daf",
   "metadata": {
    "execution": {
     "iopub.execute_input": "2025-10-19T08:20:03.905267Z",
     "iopub.status.busy": "2025-10-19T08:20:03.905000Z",
     "iopub.status.idle": "2025-10-19T08:20:49.173886Z",
     "shell.execute_reply": "2025-10-19T08:20:49.173088Z",
     "shell.execute_reply.started": "2025-10-19T08:20:03.905193Z"
    },
    "scrolled": true
   },
   "outputs": [
    {
     "name": "stderr",
     "output_type": "stream",
     "text": [
      "🚀 CodeBuild mode: building in cloud (RECOMMENDED - DEFAULT)\n",
      "   • Build ARM64 containers in the cloud with CodeBuild\n",
      "   • No local Docker required\n",
      "💡 Available deployment modes:\n",
      "   • runtime.launch()                           → CodeBuild (current)\n",
      "   • runtime.launch(local=True)                 → Local development\n",
      "   • runtime.launch(local_build=True)           → Local build + cloud deploy (NEW)\n",
      "Creating memory resource for agent: llm_evaluator_agent\n",
      "✅ MemoryManager initialized for region: us-east-1\n",
      "🔎 Retrieving memory resource with ID: llm_evaluator_agent_mem-Oq55uu3ClK...\n",
      "  Found memory: llm_evaluator_agent_mem-Oq55uu3ClK\n",
      "Found existing memory in cloud: llm_evaluator_agent_mem-Oq55uu3ClK\n",
      "Existing memory has 0 strategies\n",
      "✅ Using existing STM-only memory\n",
      "Starting CodeBuild ARM64 deployment for agent 'llm_evaluator_agent' to account 711246752798 (us-east-1)\n",
      "Setting up AWS resources (ECR repository, execution roles)...\n",
      "Getting or creating ECR repository for agent: llm_evaluator_agent\n",
      "✅ ECR repository available: 711246752798.dkr.ecr.us-east-1.amazonaws.com/bedrock-agentcore-llm_evaluator_agent\n",
      "Using execution role from config: arn:aws:iam::711246752798:role/EvaluatorBedrockAgentCoreRole-us-east-1\n",
      "Preparing CodeBuild project and uploading source...\n"
     ]
    },
    {
     "name": "stdout",
     "output_type": "stream",
     "text": [
      "✅ Reusing existing ECR repository: 711246752798.dkr.ecr.us-east-1.amazonaws.com/bedrock-agentcore-llm_evaluator_agent\n"
     ]
    },
    {
     "name": "stderr",
     "output_type": "stream",
     "text": [
      "Getting or creating CodeBuild execution role for agent: llm_evaluator_agent\n",
      "Role name: AmazonBedrockAgentCoreSDKCodeBuild-us-east-1-a9aedc1888\n",
      "Reusing existing CodeBuild execution role: arn:aws:iam::711246752798:role/AmazonBedrockAgentCoreSDKCodeBuild-us-east-1-a9aedc1888\n",
      "Using dockerignore.template with 45 patterns for zip filtering\n",
      "Uploaded source to S3: llm_evaluator_agent/source.zip\n",
      "Updated CodeBuild project: bedrock-agentcore-llm_evaluator_agent-builder\n",
      "Starting CodeBuild build (this may take several minutes)...\n",
      "Starting CodeBuild monitoring...\n",
      "🔄 QUEUED started (total: 0s)\n",
      "✅ QUEUED completed in 1.0s\n",
      "🔄 PROVISIONING started (total: 1s)\n",
      "✅ PROVISIONING completed in 8.3s\n",
      "🔄 DOWNLOAD_SOURCE started (total: 9s)\n",
      "✅ DOWNLOAD_SOURCE completed in 2.1s\n",
      "🔄 BUILD started (total: 11s)\n",
      "✅ BUILD completed in 15.5s\n",
      "🔄 POST_BUILD started (total: 27s)\n",
      "✅ POST_BUILD completed in 11.3s\n",
      "🔄 FINALIZING started (total: 38s)\n",
      "✅ FINALIZING completed in 1.0s\n",
      "🔄 COMPLETED started (total: 39s)\n",
      "✅ COMPLETED completed in 1.0s\n",
      "🎉 CodeBuild completed successfully in 0m 40s\n",
      "CodeBuild completed successfully\n",
      "✅ CodeBuild project configuration saved\n",
      "Deploying to Bedrock AgentCore...\n",
      "Passing memory configuration to agent: llm_evaluator_agent_mem-Oq55uu3ClK\n",
      "⚠️ Session ID will be reset to connect to the updated agent. The previous agent remains accessible via the original session ID: c85130e9-e6e8-4238-9be9-1883f9b2e312\n",
      "✅ Agent created/updated: arn:aws:bedrock-agentcore:us-east-1:711246752798:runtime/llm_evaluator_agent-M3IWgT3T7l\n",
      "Observability is enabled, configuring Transaction Search...\n",
      "CloudWatch Logs resource policy already configured\n",
      "X-Ray trace destination already configured\n",
      "X-Ray indexing rule already configured\n",
      "✅ Transaction Search already fully configured\n",
      "🔍 GenAI Observability Dashboard:\n",
      "   https://console.aws.amazon.com/cloudwatch/home?region=us-east-1#gen-ai-observability/agent-core\n",
      "Polling for endpoint to be ready...\n",
      "Agent endpoint: arn:aws:bedrock-agentcore:us-east-1:711246752798:runtime/llm_evaluator_agent-M3IWgT3T7l/runtime-endpoint/DEFAULT\n",
      "Deployment completed successfully - Agent: arn:aws:bedrock-agentcore:us-east-1:711246752798:runtime/llm_evaluator_agent-M3IWgT3T7l\n",
      "Built with CodeBuild: bedrock-agentcore-llm_evaluator_agent-builder:48062e49-af4c-4de6-8c4f-ba6a1031e718\n",
      "Deployed to cloud: arn:aws:bedrock-agentcore:us-east-1:711246752798:runtime/llm_evaluator_agent-M3IWgT3T7l\n",
      "ECR image: 711246752798.dkr.ecr.us-east-1.amazonaws.com/bedrock-agentcore-llm_evaluator_agent\n",
      "🔍 Agent logs available at:\n",
      "   /aws/bedrock-agentcore/runtimes/llm_evaluator_agent-M3IWgT3T7l-DEFAULT --log-stream-name-prefix \"2025/10/19/\\[runtime-logs]\"\n",
      "   /aws/bedrock-agentcore/runtimes/llm_evaluator_agent-M3IWgT3T7l-DEFAULT --log-stream-names \"otel-rt-logs\"\n",
      "💡 Tail logs with: aws logs tail /aws/bedrock-agentcore/runtimes/llm_evaluator_agent-M3IWgT3T7l-DEFAULT --log-stream-name-prefix \"2025/10/19/\\[runtime-logs]\" --follow\n",
      "💡 Or view recent logs: aws logs tail /aws/bedrock-agentcore/runtimes/llm_evaluator_agent-M3IWgT3T7l-DEFAULT --log-stream-name-prefix \"2025/10/19/\\[runtime-logs]\" --since 1h\n"
     ]
    },
    {
     "name": "stdout",
     "output_type": "stream",
     "text": [
      "Launch completed: arn:aws:bedrock-agentcore:us-east-1:711246752798:runtime/llm_evaluator_agent-M3IWgT3T7l\n"
     ]
    }
   ],
   "source": [
    "# Launch the agent (this will build and deploy the container)\n",
    "from lab_helpers.utils_evaluator import put_ssm_parameter\n",
    "\n",
    "launch_result = agentcore_runtime.launch()\n",
    "print(\"Launch completed:\", launch_result.agent_arn)\n",
    "\n",
    "agent_arn = put_ssm_parameter(\n",
    "    \"/app/llmevaluator/agentcore/runtime_arn\", launch_result.agent_arn\n",
    ")"
   ]
  },
  {
   "cell_type": "code",
   "execution_count": 12,
   "id": "1a307c16-3bb1-42e6-b949-4f2513d54908",
   "metadata": {
    "execution": {
     "iopub.execute_input": "2025-10-19T08:20:49.175622Z",
     "iopub.status.busy": "2025-10-19T08:20:49.175381Z",
     "iopub.status.idle": "2025-10-19T08:20:49.989650Z",
     "shell.execute_reply": "2025-10-19T08:20:49.989083Z",
     "shell.execute_reply.started": "2025-10-19T08:20:49.175601Z"
    }
   },
   "outputs": [
    {
     "name": "stderr",
     "output_type": "stream",
     "text": [
      "✅ MemoryManager initialized for region: us-east-1\n",
      "🔎 Retrieving memory resource with ID: llm_evaluator_agent_mem-Oq55uu3ClK...\n",
      "  Found memory: llm_evaluator_agent_mem-Oq55uu3ClK\n",
      "Retrieved Bedrock AgentCore status for: llm_evaluator_agent\n"
     ]
    },
    {
     "name": "stdout",
     "output_type": "stream",
     "text": [
      "Final status: READY\n"
     ]
    }
   ],
   "source": [
    "import time\n",
    "\n",
    "# Wait for the agent to be ready\n",
    "status_response = agentcore_runtime.status()\n",
    "status = status_response.endpoint[\"status\"]\n",
    "\n",
    "end_status = [\"READY\", \"CREATE_FAILED\", \"DELETE_FAILED\", \"UPDATE_FAILED\"]\n",
    "while status not in end_status:\n",
    "    print(f\"Waiting for deployment... Current status: {status}\")\n",
    "    time.sleep(10)\n",
    "    status_response = agentcore_runtime.status()\n",
    "    status = status_response.endpoint[\"status\"]\n",
    "\n",
    "print(f\"Final status: {status}\")\n"
   ]
  },
  {
   "cell_type": "code",
   "execution_count": null,
   "id": "6c0d5bba-2d56-4275-afaa-f11741d17568",
   "metadata": {},
   "outputs": [],
   "source": []
  },
  {
   "cell_type": "markdown",
   "id": "72622f91-6a2b-4752-9390-6fe088cd77f8",
   "metadata": {
    "execution": {
     "iopub.execute_input": "2025-10-16T05:43:20.868716Z",
     "iopub.status.busy": "2025-10-16T05:43:20.868431Z",
     "iopub.status.idle": "2025-10-16T05:43:20.871602Z",
     "shell.execute_reply": "2025-10-16T05:43:20.870991Z",
     "shell.execute_reply.started": "2025-10-16T05:43:20.868696Z"
    }
   },
   "source": [
    "## Staging Data for Testing and Validation\n"
   ]
  },
  {
   "cell_type": "code",
   "execution_count": 13,
   "id": "18e407b2-dfca-4746-b4b2-db0fbf42a6a0",
   "metadata": {
    "execution": {
     "iopub.execute_input": "2025-10-19T08:20:49.990488Z",
     "iopub.status.busy": "2025-10-19T08:20:49.990217Z",
     "iopub.status.idle": "2025-10-19T08:20:49.994806Z",
     "shell.execute_reply": "2025-10-19T08:20:49.994033Z",
     "shell.execute_reply.started": "2025-10-19T08:20:49.990462Z"
    }
   },
   "outputs": [],
   "source": [
    "output_obj=[{'case_id': 1,\n",
    "  'timestamp': '2025-10-13 00:55:59',\n",
    "  'goal_number': 1,\n",
    "  'goal_text': 'Reduce daily carbohydrate intake to 45g per meal and aim for a total of 135g per day. Monitor progress weekly by recording carbohydrate counts in food diary.'},\n",
    " {'case_id': 2,\n",
    "  'timestamp': '2025-10-13 00:55:59',\n",
    "  'goal_number': 2,\n",
    "  'goal_text': 'Engage in at least 30 minutes of moderate-intensity aerobic activity 5 days per week. Track activity using a fitness tracker or smartphone app.'},\n",
    " {'case_id': 3,\n",
    "  'timestamp': '2025-10-13 00:55:59',\n",
    "  'goal_number': 3,\n",
    "  'goal_text': 'Take metformin 500mg twice daily with meals. Refill prescription every 90 days and report any side effects to healthcare provider.'},\n",
    " {'case_id': 4,\n",
    "  'timestamp': '2025-10-13 00:55:59',\n",
    "  'goal_number': 4,\n",
    "  'goal_text': 'Check blood glucose levels before meals and at bedtime. Target pre-meal blood glucose levels below 130mg/dL and bedtime levels below 110mg/dL. Record results in a log.'},\n",
    " {'case_id': 5,\n",
    "  'timestamp': '2025-10-13 00:55:59',\n",
    "  'goal_number': 5,\n",
    "  'goal_text': 'Maintain adequate water intake by drinking at least 8 glasses of water per day. Monitor urine color and report any unusual changes to healthcare provider.'},\n",
    " {'case_id': 6,\n",
    "  'timestamp': '2025-10-13 00:55:59',\n",
    "  'goal_number': 6,\n",
    "  'goal_text': 'Attend all scheduled appointments with healthcare provider and bring a copy of the most recent blood glucose log. Update medication list and share any medication changes.'}]"
   ]
  },
  {
   "cell_type": "markdown",
   "id": "bdf7bd72-2e3d-46b9-b5b8-9cb796ea8b95",
   "metadata": {},
   "source": [
    "## Prepare Payload from Staging Data"
   ]
  },
  {
   "cell_type": "code",
   "execution_count": 14,
   "id": "d510e19c-eb3f-445d-b06e-a1059862a650",
   "metadata": {
    "execution": {
     "iopub.execute_input": "2025-10-19T08:20:49.996061Z",
     "iopub.status.busy": "2025-10-19T08:20:49.995789Z",
     "iopub.status.idle": "2025-10-19T08:20:50.004489Z",
     "shell.execute_reply": "2025-10-19T08:20:50.002965Z",
     "shell.execute_reply.started": "2025-10-19T08:20:49.996041Z"
    }
   },
   "outputs": [
    {
     "data": {
      "text/plain": [
       "{'analyzer_payload': [{'case_id': 1,\n",
       "   'timestamp': '2025-10-13 00:55:59',\n",
       "   'goal_number': 1,\n",
       "   'goal_text': 'Reduce daily carbohydrate intake to 45g per meal and aim for a total of 135g per day. Monitor progress weekly by recording carbohydrate counts in food diary.'},\n",
       "  {'case_id': 2,\n",
       "   'timestamp': '2025-10-13 00:55:59',\n",
       "   'goal_number': 2,\n",
       "   'goal_text': 'Engage in at least 30 minutes of moderate-intensity aerobic activity 5 days per week. Track activity using a fitness tracker or smartphone app.'},\n",
       "  {'case_id': 3,\n",
       "   'timestamp': '2025-10-13 00:55:59',\n",
       "   'goal_number': 3,\n",
       "   'goal_text': 'Take metformin 500mg twice daily with meals. Refill prescription every 90 days and report any side effects to healthcare provider.'},\n",
       "  {'case_id': 4,\n",
       "   'timestamp': '2025-10-13 00:55:59',\n",
       "   'goal_number': 4,\n",
       "   'goal_text': 'Check blood glucose levels before meals and at bedtime. Target pre-meal blood glucose levels below 130mg/dL and bedtime levels below 110mg/dL. Record results in a log.'},\n",
       "  {'case_id': 5,\n",
       "   'timestamp': '2025-10-13 00:55:59',\n",
       "   'goal_number': 5,\n",
       "   'goal_text': 'Maintain adequate water intake by drinking at least 8 glasses of water per day. Monitor urine color and report any unusual changes to healthcare provider.'},\n",
       "  {'case_id': 6,\n",
       "   'timestamp': '2025-10-13 00:55:59',\n",
       "   'goal_number': 6,\n",
       "   'goal_text': 'Attend all scheduled appointments with healthcare provider and bring a copy of the most recent blood glucose log. Update medication list and share any medication changes.'}]}"
      ]
     },
     "execution_count": 14,
     "metadata": {},
     "output_type": "execute_result"
    }
   ],
   "source": [
    "payload={\"analyzer_payload\": output_obj}\n",
    "payload"
   ]
  },
  {
   "cell_type": "markdown",
   "id": "9a5ad459-f75f-4def-8a67-e5ea86d6357f",
   "metadata": {},
   "source": [
    "## Verifying Agentcore Agent is reachable within the same kernel session."
   ]
  },
  {
   "cell_type": "code",
   "execution_count": 15,
   "id": "3bb5889f-f47a-486e-a83e-ce809459d3c4",
   "metadata": {
    "execution": {
     "iopub.execute_input": "2025-10-19T08:20:55.611802Z",
     "iopub.status.busy": "2025-10-19T08:20:55.611533Z",
     "iopub.status.idle": "2025-10-19T08:21:20.158798Z",
     "shell.execute_reply": "2025-10-19T08:21:20.157995Z",
     "shell.execute_reply.started": "2025-10-19T08:20:55.611782Z"
    }
   },
   "outputs": [
    {
     "name": "stderr",
     "output_type": "stream",
     "text": [
      "✅ MemoryManager initialized for region: us-east-1\n",
      "Memory is active, proceeding with invoke\n"
     ]
    },
    {
     "data": {
      "text/plain": [
       "{'ResponseMetadata': {'RequestId': '1ae8cdb7-86e8-4046-b835-9454e702e8bb',\n",
       "  'HTTPStatusCode': 200,\n",
       "  'HTTPHeaders': {'date': 'Sun, 19 Oct 2025 08:21:20 GMT',\n",
       "   'content-type': 'application/json',\n",
       "   'transfer-encoding': 'chunked',\n",
       "   'connection': 'keep-alive',\n",
       "   'x-amzn-requestid': '1ae8cdb7-86e8-4046-b835-9454e702e8bb',\n",
       "   'baggage': 'Self=1-68f49f67-7be5de4e533931b201332ada,session.id=fa0cf5fe-d735-41c8-b028-c72afeedd5b1',\n",
       "   'x-amzn-bedrock-agentcore-runtime-session-id': 'fa0cf5fe-d735-41c8-b028-c72afeedd5b1',\n",
       "   'x-amzn-trace-id': 'Root=1-68f49f67-57f572fb66a9996c48b04837;Parent=60c3b4822ec34424;Sampled=1;Self=1-68f49f67-7be5de4e533931b201332ada'},\n",
       "  'RetryAttempts': 0},\n",
       " 'runtimeSessionId': 'fa0cf5fe-d735-41c8-b028-c72afeedd5b1',\n",
       " 'traceId': 'Root=1-68f49f67-57f572fb66a9996c48b04837;Parent=60c3b4822ec34424;Sampled=1;Self=1-68f49f67-7be5de4e533931b201332ada',\n",
       " 'baggage': 'Self=1-68f49f67-7be5de4e533931b201332ada,session.id=fa0cf5fe-d735-41c8-b028-c72afeedd5b1',\n",
       " 'contentType': 'application/json',\n",
       " 'statusCode': 200,\n",
       " 'response': ['{\"statusCode\": 200, \"headers\": {\"Content-Type\": \"application/json\"}, \"body\": \"{\\\\\"run_id\\\\\": \\\\\"89b1b3f8-638a-42a3-9b9b-759be466ed4e\\\\\", \\\\\"timestamp\\\\\": \\\\\"2025-10-19 08:21:20\\\\\", \\\\\"evaluator_output\\\\\": {\\\\\"evaluation_type\\\\\": \\\\\"smart_goals_rubric\\\\\", \\\\\"cases_scored\\\\\": 6, \\\\\"scores\\\\\": [{\\\\\"case_id\\\\\": 1, \\\\\"metric_scores\\\\\": {\\\\\"specific\\\\\": 1.0, \\\\\"measurable\\\\\": 1.0, \\\\\"achievable\\\\\": 1.0, \\\\\"relevant\\\\\": 1.0, \\\\\"time_bound\\\\\": 1.0, \\\\\"clarity\\\\\": 1.0}, \\\\\"agreement\\\\\": \\\\\"n/a\\\\\", \\\\\"notes\\\\\": \\\\\"Clearly defines specific carb limits (45g/meal, 135g/day), includes measurable tracking method (food diary), and specifies weekly monitoring timeframe.\\\\\"}, {\\\\\"case_id\\\\\": 2, \\\\\"metric_scores\\\\\": {\\\\\"specific\\\\\": 1.0, \\\\\"measurable\\\\\": 1.0, \\\\\"achievable\\\\\": 1.0, \\\\\"relevant\\\\\": 1.0, \\\\\"time_bound\\\\\": 1.0, \\\\\"clarity\\\\\": 1.0}, \\\\\"agreement\\\\\": \\\\\"n/a\\\\\", \\\\\"notes\\\\\": \\\\\"Precisely specifies activity duration (30 min), intensity (moderate), frequency (5 days/week), and includes tracking method.\\\\\"}, {\\\\\"case_id\\\\\": 3, \\\\\"metric_scores\\\\\": {\\\\\"specific\\\\\": 1.0, \\\\\"measurable\\\\\": 1.0,',\n",
       "  ' \\\\\"achievable\\\\\": 1.0, \\\\\"relevant\\\\\": 1.0, \\\\\"time_bound\\\\\": 0.8, \\\\\"clarity\\\\\": 1.0}, \\\\\"agreement\\\\\": \\\\\"n/a\\\\\", \\\\\"notes\\\\\": \\\\\"Clear medication regimen with specific dosage, timing, and refill schedule. Time-bound slightly lower as daily action is clear but no evaluation timeframe.\\\\\"}, {\\\\\"case_id\\\\\": 4, \\\\\"metric_scores\\\\\": {\\\\\"specific\\\\\": 1.0, \\\\\"measurable\\\\\": 1.0, \\\\\"achievable\\\\\": 1.0, \\\\\"relevant\\\\\": 1.0, \\\\\"time_bound\\\\\": 1.0, \\\\\"clarity\\\\\": 1.0}, \\\\\"agreement\\\\\": \\\\\"n/a\\\\\", \\\\\"notes\\\\\": \\\\\"Highly specific with exact target glucose levels, clear measurement timing (before meals, bedtime), and includes recording method.\\\\\"}, {\\\\\"case_id\\\\\": 5, \\\\\"metric_scores\\\\\": {\\\\\"specific\\\\\": 1.0, \\\\\"measurable\\\\\": 0.9, \\\\\"achievable\\\\\": 1.0, \\\\\"relevant\\\\\": 1.0, \\\\\"time_bound\\\\\": 1.0, \\\\\"clarity\\\\\": 1.0}, \\\\\"agreement\\\\\": \\\\\"n/a\\\\\", \\\\\"notes\\\\\": \\\\\"Specifies exact water quantity (8 glasses/day) and monitoring method, though urine color monitoring is slightly less precise than numerical measures.\\\\\"}, {\\\\\"case_id\\\\\": 6, \\\\\"metric_scores\\\\\": {\\\\\"specific\\\\\": 1.0, \\\\\"measurable\\\\',\n",
       "  '\": 1.0, \\\\\"achievable\\\\\": 1.0, \\\\\"relevant\\\\\": 1.0, \\\\\"time_bound\\\\\": 0.8, \\\\\"clarity\\\\\": 1.0}, \\\\\"agreement\\\\\": \\\\\"n/a\\\\\", \\\\\"notes\\\\\": \\\\\"Clearly defines required actions for appointments, but timeframe is implied rather than explicitly stated (though \\'scheduled\\' appointments provides some timing).\\\\\"}]}, \\\\\"analyzer_input\\\\\": [{\\\\\"case_id\\\\\": 1, \\\\\"timestamp\\\\\": \\\\\"2025-10-13 00:55:59\\\\\", \\\\\"goal_number\\\\\": 1, \\\\\"goal_text\\\\\": \\\\\"Reduce daily carbohydrate intake to 45g per meal and aim for a total of 135g per day. Monitor progress weekly by recording carbohydrate counts in food diary.\\\\\"}, {\\\\\"case_id\\\\\": 2, \\\\\"timestamp\\\\\": \\\\\"2025-10-13 00:55:59\\\\\", \\\\\"goal_number\\\\\": 2, \\\\\"goal_text\\\\\": \\\\\"Engage in at least 30 minutes of moderate-intensity aerobic activity 5 days per week. Track activity using a fitness tracker or smartphone app.\\\\\"}, {\\\\\"case_id\\\\\": 3, \\\\\"timestamp\\\\\": \\\\\"2025-10-13 00:55:59\\\\\", \\\\\"goal_number\\\\\": 3, \\\\\"goal_text\\\\\": \\\\\"Take metformin 500mg twice daily with meals. Refill prescription every 90 days and report any side effects to healthca',\n",
       "  're provider.\\\\\"}, {\\\\\"case_id\\\\\": 4, \\\\\"timestamp\\\\\": \\\\\"2025-10-13 00:55:59\\\\\", \\\\\"goal_number\\\\\": 4, \\\\\"goal_text\\\\\": \\\\\"Check blood glucose levels before meals and at bedtime. Target pre-meal blood glucose levels below 130mg/dL and bedtime levels below 110mg/dL. Record results in a log.\\\\\"}, {\\\\\"case_id\\\\\": 5, \\\\\"timestamp\\\\\": \\\\\"2025-10-13 00:55:59\\\\\", \\\\\"goal_number\\\\\": 5, \\\\\"goal_text\\\\\": \\\\\"Maintain adequate water intake by drinking at least 8 glasses of water per day. Monitor urine color and report any unusual changes to healthcare provider.\\\\\"}, {\\\\\"case_id\\\\\": 6, \\\\\"timestamp\\\\\": \\\\\"2025-10-13 00:55:59\\\\\", \\\\\"goal_number\\\\\": 6, \\\\\"goal_text\\\\\": \\\\\"Attend all scheduled appointments with healthcare provider and bring a copy of the most recent blood glucose log. Update medication list and share any medication changes.\\\\\"}]}\"}']}"
      ]
     },
     "execution_count": 15,
     "metadata": {},
     "output_type": "execute_result"
    }
   ],
   "source": [
    "import uuid\n",
    "\n",
    "# Create a session ID for demonstrating session continuity\n",
    "session_id = uuid.uuid4()\n",
    "\n",
    "# Ensure payload is a proper dict\n",
    "payload = {\"analyzer_payload\": output_obj}\n",
    "\n",
    "# If your runtime uses IAM role, you can omit bearer_token\n",
    "#response = agentcore_runtime.invoke(\n",
    "#    payload,\n",
    "#    session_id=str(session_id)\n",
    "#)\n",
    "\n",
    "response = agentcore_runtime.invoke(\n",
    "    payload,\n",
    "    session_id=str(session_id)\n",
    ")\n",
    "\n",
    "response"
   ]
  },
  {
   "cell_type": "code",
   "execution_count": null,
   "id": "51cf77a7-295c-4b8d-aa47-b144b47c7998",
   "metadata": {},
   "outputs": [],
   "source": []
  },
  {
   "cell_type": "markdown",
   "id": "6aed0dcb-cfa4-46f9-9a92-9e34ab003087",
   "metadata": {},
   "source": [
    "## Add Support Function to Prepare Necessary Data for Validating Remote Access of Agentcore Agent"
   ]
  },
  {
   "cell_type": "code",
   "execution_count": 16,
   "id": "1741f3e1-665c-4849-9025-507334eb8ebf",
   "metadata": {
    "execution": {
     "iopub.execute_input": "2025-10-19T08:21:30.789569Z",
     "iopub.status.busy": "2025-10-19T08:21:30.789288Z",
     "iopub.status.idle": "2025-10-19T08:21:30.796516Z",
     "shell.execute_reply": "2025-10-19T08:21:30.795783Z",
     "shell.execute_reply.started": "2025-10-19T08:21:30.789548Z"
    }
   },
   "outputs": [],
   "source": [
    "# ==== Testing ... ====\n",
    "# @tool  ---------- Low-level loaders as tools ----------\n",
    "def load_analyzer_runs_v2(analyzer_json_src: str, limit: int | None = None) -> dict:\n",
    "    # Need to define input source\n",
    "    \"\"\"\n",
    "    Load analyzer outputs (JSONL), sorted by timestamp ASC. Optionally keep only latest 'limit'.\n",
    "    \"\"\"\n",
    "    #runs = _read_jsonl(analyzer_json_src)\n",
    "    runs = analyzer_json_src\n",
    "    runs.sort(key=lambda r: r.get(\"timestamp\", \"\"))\n",
    "    if limit:\n",
    "        runs = runs[-limit:]\n",
    "    return {\"runs\": runs}\n",
    "\n",
    "\n",
    "# @tool  ---------- Planning tool that abstracts use cases ----------\n",
    "def build_eval_plan_v2(analyzer_json_src: str, limit=50) -> dict:\n",
    "    \"\"\"\n",
    "    Decide which evaluation to run based on analyzer_outputs.jsonl contents.\n",
    "    Returns a plan with:\n",
    "      {\n",
    "        \"evaluation_type\": \"engagement_vs_clinician\" | \"smart_goals_rubric\",\n",
    "        \"metrics\": [\"...\"],\n",
    "        \"rubric\": { ... optional ... },\n",
    "        \"cases\": [ ... normalized cases ... ]\n",
    "      }\n",
    "    \"\"\"\n",
    "    runs = load_analyzer_runs_v2(analyzer_json_src=analyzer_json_src, limit=limit)[\"runs\"]\n",
    "    cases = runs\n",
    "#    cases = _build_smart_goal_cases_v2(runs)\n",
    "    return {\n",
    "            \"evaluation_type\": \"smart_goals_rubric\",\n",
    "            \"metrics\": [\"specific\", \"measurable\", \"achievable\", \"relevant\", \"time_bound\", \"clarity\"],\n",
    "            \"rubric\": {\n",
    "                \"specific\":   \"Clearly states the behavior/target (who/what/when/where).\",\n",
    "                \"measurable\": \"Includes a quantifiable criterion (count, frequency, value).\",\n",
    "                \"achievable\": \"Feasible for the patient (resources/constraints).\",\n",
    "                \"relevant\":   \"Aligned to diabetes/health needs in the notes.\",\n",
    "                \"time_bound\": \"Contains a concrete timeframe or deadline.\",\n",
    "                \"clarity\":    \"Readable, unambiguous, free of contradictions.\"\n",
    "            },\n",
    "            \"cases\": cases\n",
    "    }\n",
    "\n",
    "    # Fallback: nothing to evaluate\n",
    "    return {\n",
    "        \"evaluation_type\": \"none\",\n",
    "        \"metrics\": [],\n",
    "        \"rubric\": {},\n",
    "        \"cases\": []\n",
    "    }\n"
   ]
  },
  {
   "cell_type": "code",
   "execution_count": 17,
   "id": "c3f35617-dde2-4bb1-ba24-62ec0b701137",
   "metadata": {
    "execution": {
     "iopub.execute_input": "2025-10-19T08:21:31.666089Z",
     "iopub.status.busy": "2025-10-19T08:21:31.665827Z",
     "iopub.status.idle": "2025-10-19T08:21:31.673120Z",
     "shell.execute_reply": "2025-10-19T08:21:31.672274Z",
     "shell.execute_reply.started": "2025-10-19T08:21:31.666068Z"
    }
   },
   "outputs": [
    {
     "data": {
      "text/plain": [
       "[{'case_id': 1,\n",
       "  'timestamp': '2025-10-13 00:55:59',\n",
       "  'goal_number': 1,\n",
       "  'goal_text': 'Reduce daily carbohydrate intake to 45g per meal and aim for a total of 135g per day. Monitor progress weekly by recording carbohydrate counts in food diary.'},\n",
       " {'case_id': 2,\n",
       "  'timestamp': '2025-10-13 00:55:59',\n",
       "  'goal_number': 2,\n",
       "  'goal_text': 'Engage in at least 30 minutes of moderate-intensity aerobic activity 5 days per week. Track activity using a fitness tracker or smartphone app.'},\n",
       " {'case_id': 3,\n",
       "  'timestamp': '2025-10-13 00:55:59',\n",
       "  'goal_number': 3,\n",
       "  'goal_text': 'Take metformin 500mg twice daily with meals. Refill prescription every 90 days and report any side effects to healthcare provider.'},\n",
       " {'case_id': 4,\n",
       "  'timestamp': '2025-10-13 00:55:59',\n",
       "  'goal_number': 4,\n",
       "  'goal_text': 'Check blood glucose levels before meals and at bedtime. Target pre-meal blood glucose levels below 130mg/dL and bedtime levels below 110mg/dL. Record results in a log.'},\n",
       " {'case_id': 5,\n",
       "  'timestamp': '2025-10-13 00:55:59',\n",
       "  'goal_number': 5,\n",
       "  'goal_text': 'Maintain adequate water intake by drinking at least 8 glasses of water per day. Monitor urine color and report any unusual changes to healthcare provider.'},\n",
       " {'case_id': 6,\n",
       "  'timestamp': '2025-10-13 00:55:59',\n",
       "  'goal_number': 6,\n",
       "  'goal_text': 'Attend all scheduled appointments with healthcare provider and bring a copy of the most recent blood glucose log. Update medication list and share any medication changes.'}]"
      ]
     },
     "execution_count": 17,
     "metadata": {},
     "output_type": "execute_result"
    }
   ],
   "source": [
    "# ==== Testing ... ====\n",
    "import json\n",
    "\n",
    "output = {\n",
    "    'response': '{\"statusCode\": 200, \"headers\": {\"Content-Type\": \"application/json\"}, \"body\": \"{\\\\\"model_output\\\\\": {\\\\\"model_id\\\\\": \\\\\"mistral.mistral-7b-instruct-v0:2\\\\\", \\\\\"data_source\\\\\": \\\\\"s3://sippa/app_data_repo/SIPPA_AI-Extraction-Treatment-Plan/clinician_summary_data_source/AM-09121152.docx\\\\\", \\\\\"timestamp\\\\\": \\\\\"2025-10-13 00:55:59\\\\\", \\\\\"smart_goals\\\\\": [{\\\\\"goal_number\\\\\": 1, \\\\\"description\\\\\": \\\\\"Reduce daily carbohydrate intake to 45g per meal and aim for a total of 135g per day. Monitor progress weekly by recording carbohydrate counts in food diary.\\\\\"}, {\\\\\"goal_number\\\\\": 2, \\\\\"description\\\\\": \\\\\"Engage in at least 30 minutes of moderate-intensity aerobic activity 5 days per week. Track activity using a fitness tracker or smartphone app.\\\\\"}, {\\\\\"goal_number\\\\\": 3, \\\\\"description\\\\\": \\\\\"Take metformin 500mg twice daily with meals. Refill prescription every 90 days and report any side effects to healthcare provider.\\\\\"}, {\\\\\"goal_number\\\\\": 4, \\\\\"description\\\\\": \\\\\"Check blood glucose levels before meals and at bedtime. Target pre-meal blood glucose levels below 130mg/dL and bedtime levels below 110mg/dL. Record results in a log.\\\\\"}, {\\\\\"goal_number\\\\\": 5, \\\\\"description\\\\\": \\\\\"Maintain adequate water intake by drinking at least 8 glasses of water per day. Monitor urine color and report any unusual changes to healthcare provider.\\\\\"}, {\\\\\"goal_number\\\\\": 6, \\\\\"description\\\\\": \\\\\"Attend all scheduled appointments with healthcare provider and bring a copy of the most recent blood glucose log. Update medication list and share any medication changes.\\\\\"}]}, \\\\\"evaluator_result\\\\\": {\\\\\"error\\\\\": \\\\\"\\'BedrockAgentCoreDataPlaneFrontingLayer\\' object has no attribute \\'invoke_runtime\\'\\\\\"}}\"}'\n",
    "}\n",
    "\n",
    "# Step 1: Parse the outermost JSON string (the value of 'response')\n",
    "response_data = json.loads(output['response'])\n",
    "\n",
    "# Step 2: Parse the 'body' which is another JSON string\n",
    "body_data = json.loads(response_data['body'])\n",
    "\n",
    "# Step 3: Extract the necessary components\n",
    "model_output = body_data['model_output']\n",
    "timestamp = model_output['timestamp']\n",
    "smart_goals = model_output['smart_goals']\n",
    "\n",
    "# Step 4: Iterate through goals, extract data, and format\n",
    "final_output = []\n",
    "# The case_id is a simple count, so we'll start at 1\n",
    "case_id_counter = 1 \n",
    "\n",
    "for goal in smart_goals:\n",
    "    goal_entry = {\n",
    "        'case_id': case_id_counter,\n",
    "        'timestamp': timestamp,\n",
    "        'goal_number': goal['goal_number'],\n",
    "        'goal_text': goal['description']\n",
    "    }\n",
    "    final_output.append(goal_entry)\n",
    "    case_id_counter += 1\n",
    "\n",
    "# Print the final result in a human-readable format\n",
    "# print(json.dumps(final_output, indent=4))\n",
    "\n",
    "output_obj = final_output\n",
    "output_obj"
   ]
  },
  {
   "cell_type": "code",
   "execution_count": 18,
   "id": "098e83c8-e520-45d4-b3d2-31fde9adbdac",
   "metadata": {
    "execution": {
     "iopub.execute_input": "2025-10-19T08:21:33.901199Z",
     "iopub.status.busy": "2025-10-19T08:21:33.900932Z",
     "iopub.status.idle": "2025-10-19T08:21:33.905680Z",
     "shell.execute_reply": "2025-10-19T08:21:33.905100Z",
     "shell.execute_reply.started": "2025-10-19T08:21:33.901178Z"
    }
   },
   "outputs": [
    {
     "data": {
      "text/plain": [
       "[{'case_id': 1,\n",
       "  'timestamp': '2025-10-13 00:55:59',\n",
       "  'goal_number': 1,\n",
       "  'goal_text': 'Reduce daily carbohydrate intake to 45g per meal and aim for a total of 135g per day. Monitor progress weekly by recording carbohydrate counts in food diary.'},\n",
       " {'case_id': 2,\n",
       "  'timestamp': '2025-10-13 00:55:59',\n",
       "  'goal_number': 2,\n",
       "  'goal_text': 'Engage in at least 30 minutes of moderate-intensity aerobic activity 5 days per week. Track activity using a fitness tracker or smartphone app.'},\n",
       " {'case_id': 3,\n",
       "  'timestamp': '2025-10-13 00:55:59',\n",
       "  'goal_number': 3,\n",
       "  'goal_text': 'Take metformin 500mg twice daily with meals. Refill prescription every 90 days and report any side effects to healthcare provider.'},\n",
       " {'case_id': 4,\n",
       "  'timestamp': '2025-10-13 00:55:59',\n",
       "  'goal_number': 4,\n",
       "  'goal_text': 'Check blood glucose levels before meals and at bedtime. Target pre-meal blood glucose levels below 130mg/dL and bedtime levels below 110mg/dL. Record results in a log.'},\n",
       " {'case_id': 5,\n",
       "  'timestamp': '2025-10-13 00:55:59',\n",
       "  'goal_number': 5,\n",
       "  'goal_text': 'Maintain adequate water intake by drinking at least 8 glasses of water per day. Monitor urine color and report any unusual changes to healthcare provider.'},\n",
       " {'case_id': 6,\n",
       "  'timestamp': '2025-10-13 00:55:59',\n",
       "  'goal_number': 6,\n",
       "  'goal_text': 'Attend all scheduled appointments with healthcare provider and bring a copy of the most recent blood glucose log. Update medication list and share any medication changes.'}]"
      ]
     },
     "execution_count": 18,
     "metadata": {},
     "output_type": "execute_result"
    }
   ],
   "source": [
    "# ==== Testing ... ====\n",
    "runs = load_analyzer_runs_v2(analyzer_json_src=output_obj)[\"runs\"]\n",
    "runs\n"
   ]
  },
  {
   "cell_type": "code",
   "execution_count": 19,
   "id": "c360a9b2-925b-4589-a236-ff26ba3612e2",
   "metadata": {
    "execution": {
     "iopub.execute_input": "2025-10-19T08:21:34.728062Z",
     "iopub.status.busy": "2025-10-19T08:21:34.727804Z",
     "iopub.status.idle": "2025-10-19T08:21:34.733052Z",
     "shell.execute_reply": "2025-10-19T08:21:34.732362Z",
     "shell.execute_reply.started": "2025-10-19T08:21:34.728042Z"
    }
   },
   "outputs": [
    {
     "data": {
      "text/plain": [
       "{'evaluation_type': 'smart_goals_rubric',\n",
       " 'metrics': ['specific',\n",
       "  'measurable',\n",
       "  'achievable',\n",
       "  'relevant',\n",
       "  'time_bound',\n",
       "  'clarity'],\n",
       " 'rubric': {'specific': 'Clearly states the behavior/target (who/what/when/where).',\n",
       "  'measurable': 'Includes a quantifiable criterion (count, frequency, value).',\n",
       "  'achievable': 'Feasible for the patient (resources/constraints).',\n",
       "  'relevant': 'Aligned to diabetes/health needs in the notes.',\n",
       "  'time_bound': 'Contains a concrete timeframe or deadline.',\n",
       "  'clarity': 'Readable, unambiguous, free of contradictions.'},\n",
       " 'cases': [{'case_id': 1,\n",
       "   'timestamp': '2025-10-13 00:55:59',\n",
       "   'goal_number': 1,\n",
       "   'goal_text': 'Reduce daily carbohydrate intake to 45g per meal and aim for a total of 135g per day. Monitor progress weekly by recording carbohydrate counts in food diary.'},\n",
       "  {'case_id': 2,\n",
       "   'timestamp': '2025-10-13 00:55:59',\n",
       "   'goal_number': 2,\n",
       "   'goal_text': 'Engage in at least 30 minutes of moderate-intensity aerobic activity 5 days per week. Track activity using a fitness tracker or smartphone app.'},\n",
       "  {'case_id': 3,\n",
       "   'timestamp': '2025-10-13 00:55:59',\n",
       "   'goal_number': 3,\n",
       "   'goal_text': 'Take metformin 500mg twice daily with meals. Refill prescription every 90 days and report any side effects to healthcare provider.'},\n",
       "  {'case_id': 4,\n",
       "   'timestamp': '2025-10-13 00:55:59',\n",
       "   'goal_number': 4,\n",
       "   'goal_text': 'Check blood glucose levels before meals and at bedtime. Target pre-meal blood glucose levels below 130mg/dL and bedtime levels below 110mg/dL. Record results in a log.'},\n",
       "  {'case_id': 5,\n",
       "   'timestamp': '2025-10-13 00:55:59',\n",
       "   'goal_number': 5,\n",
       "   'goal_text': 'Maintain adequate water intake by drinking at least 8 glasses of water per day. Monitor urine color and report any unusual changes to healthcare provider.'},\n",
       "  {'case_id': 6,\n",
       "   'timestamp': '2025-10-13 00:55:59',\n",
       "   'goal_number': 6,\n",
       "   'goal_text': 'Attend all scheduled appointments with healthcare provider and bring a copy of the most recent blood glucose log. Update medication list and share any medication changes.'}]}"
      ]
     },
     "execution_count": 19,
     "metadata": {},
     "output_type": "execute_result"
    }
   ],
   "source": [
    "# ==== Testing ... ====\n",
    "build_eval_plan_v2(analyzer_json_src=output_obj)"
   ]
  },
  {
   "cell_type": "code",
   "execution_count": 20,
   "id": "72502147-b113-4fab-9a43-d259fcd5efc6",
   "metadata": {
    "execution": {
     "iopub.execute_input": "2025-10-19T08:21:36.726829Z",
     "iopub.status.busy": "2025-10-19T08:21:36.726570Z",
     "iopub.status.idle": "2025-10-19T08:21:36.730802Z",
     "shell.execute_reply": "2025-10-19T08:21:36.730124Z",
     "shell.execute_reply.started": "2025-10-19T08:21:36.726810Z"
    }
   },
   "outputs": [
    {
     "data": {
      "text/plain": [
       "[{'case_id': 1,\n",
       "  'timestamp': '2025-10-13 00:55:59',\n",
       "  'goal_number': 1,\n",
       "  'goal_text': 'Reduce daily carbohydrate intake to 45g per meal and aim for a total of 135g per day. Monitor progress weekly by recording carbohydrate counts in food diary.'},\n",
       " {'case_id': 2,\n",
       "  'timestamp': '2025-10-13 00:55:59',\n",
       "  'goal_number': 2,\n",
       "  'goal_text': 'Engage in at least 30 minutes of moderate-intensity aerobic activity 5 days per week. Track activity using a fitness tracker or smartphone app.'},\n",
       " {'case_id': 3,\n",
       "  'timestamp': '2025-10-13 00:55:59',\n",
       "  'goal_number': 3,\n",
       "  'goal_text': 'Take metformin 500mg twice daily with meals. Refill prescription every 90 days and report any side effects to healthcare provider.'},\n",
       " {'case_id': 4,\n",
       "  'timestamp': '2025-10-13 00:55:59',\n",
       "  'goal_number': 4,\n",
       "  'goal_text': 'Check blood glucose levels before meals and at bedtime. Target pre-meal blood glucose levels below 130mg/dL and bedtime levels below 110mg/dL. Record results in a log.'},\n",
       " {'case_id': 5,\n",
       "  'timestamp': '2025-10-13 00:55:59',\n",
       "  'goal_number': 5,\n",
       "  'goal_text': 'Maintain adequate water intake by drinking at least 8 glasses of water per day. Monitor urine color and report any unusual changes to healthcare provider.'},\n",
       " {'case_id': 6,\n",
       "  'timestamp': '2025-10-13 00:55:59',\n",
       "  'goal_number': 6,\n",
       "  'goal_text': 'Attend all scheduled appointments with healthcare provider and bring a copy of the most recent blood glucose log. Update medication list and share any medication changes.'}]"
      ]
     },
     "execution_count": 20,
     "metadata": {},
     "output_type": "execute_result"
    }
   ],
   "source": [
    "# ==== Testing ... ====\n",
    "output_obj"
   ]
  },
  {
   "cell_type": "markdown",
   "id": "e00614fc-8759-4303-a765-1fd597b4ce1a",
   "metadata": {
    "execution": {
     "iopub.execute_input": "2025-10-16T05:52:35.558751Z",
     "iopub.status.busy": "2025-10-16T05:52:35.558345Z",
     "iopub.status.idle": "2025-10-16T05:52:35.561787Z",
     "shell.execute_reply": "2025-10-16T05:52:35.561025Z",
     "shell.execute_reply.started": "2025-10-16T05:52:35.558726Z"
    }
   },
   "source": [
    "## Staging Access to Agentcore Agent in Separated Kernel Session"
   ]
  },
  {
   "cell_type": "code",
   "execution_count": 21,
   "id": "13d71da2-3005-4039-8313-aaae386312eb",
   "metadata": {
    "execution": {
     "iopub.execute_input": "2025-10-19T08:21:38.904298Z",
     "iopub.status.busy": "2025-10-19T08:21:38.904037Z",
     "iopub.status.idle": "2025-10-19T08:21:38.909975Z",
     "shell.execute_reply": "2025-10-19T08:21:38.909115Z",
     "shell.execute_reply.started": "2025-10-19T08:21:38.904279Z"
    }
   },
   "outputs": [],
   "source": [
    "import boto3\n",
    "import json\n",
    "\n",
    "EVALUATOR_RUNTIME_ARN = \"arn:aws:bedrock-agentcore:us-east-1:711246752798:runtime/llm_evaluator_agent-M3IWgT3T7l\"\n",
    "\n",
    "def call_evaluator_runtime(payload: dict) -> dict:\n",
    "    # Initialize the Bedrock AgentCore client\n",
    "    agent_core_client = boto3.client('bedrock-agentcore')\n",
    "  \n",
    "    # Prepare the payload prompt\n",
    "    #payload={'analyzer_payload':output_obj}\n",
    "    prompt = json.dumps(payload).encode()\n",
    "  \n",
    "    # Invoke the agent\n",
    "    response = agent_core_client.invoke_agent_runtime(\n",
    "                    agentRuntimeArn=EVALUATOR_RUNTIME_ARN,\n",
    "                    #agentRuntimeArn=\"arn:aws:bedrock-agentcore:us-east-1:711246752798:runtime/llm_evaluator_agent-KGa43vGulM\", \n",
    "                    #runtimeSessionId=session_id,\n",
    "                    payload=prompt\n",
    "                    )\n",
    "\n",
    "    # Process and print the response\n",
    "    if \"text/event-stream\" in response.get(\"contentType\", \"\"):\n",
    "        # Handle streaming response\n",
    "        content = []\n",
    "        for line in response[\"response\"].iter_lines(chunk_size=10):\n",
    "            if line:\n",
    "                line = line.decode(\"utf-8\")\n",
    "                if line.startswith(\"data: \"):\n",
    "                    line = line[6:]\n",
    "                    print(line)\n",
    "                    content.append(line)\n",
    "        #print(\"\\nComplete response:\", \"\\n\".join(content))\n",
    "        return \"\\n\".join(content)\n",
    "        \n",
    "    elif response.get(\"contentType\") == \"application/json\":\n",
    "        # Handle standard JSON response\n",
    "        content = []\n",
    "        for chunk in response.get(\"response\", []):\n",
    "            content.append(chunk.decode('utf-8'))\n",
    "        #print(json.loads(''.join(content)))\n",
    "        return json.loads(''.join(content))\n",
    "  \n",
    "    #else:\n",
    "        # Print raw response for other content types\n",
    "        #print(response)\n",
    "    return response\n"
   ]
  },
  {
   "cell_type": "markdown",
   "id": "c545a36a-e66b-40df-8490-70f3ed00cfff",
   "metadata": {},
   "source": [
    "## Validating Reachability of Agentcore Agent in Separated Kernel Session"
   ]
  },
  {
   "cell_type": "code",
   "execution_count": 22,
   "id": "63b5efb2-4e5a-4afb-8df5-8256d76d7aac",
   "metadata": {
    "execution": {
     "iopub.execute_input": "2025-10-19T08:21:40.732984Z",
     "iopub.status.busy": "2025-10-19T08:21:40.732730Z",
     "iopub.status.idle": "2025-10-19T08:21:56.155598Z",
     "shell.execute_reply": "2025-10-19T08:21:56.154914Z",
     "shell.execute_reply.started": "2025-10-19T08:21:40.732965Z"
    }
   },
   "outputs": [
    {
     "data": {
      "text/plain": [
       "{'statusCode': 200,\n",
       " 'headers': {'Content-Type': 'application/json'},\n",
       " 'body': '{\"run_id\": \"59a486c0-2f48-4d8e-b733-b5614929cf74\", \"timestamp\": \"2025-10-19 08:21:56\", \"evaluator_output\": {\"evaluation_type\": \"smart_goals_rubric\", \"cases_scored\": 6, \"scores\": [{\"case_id\": 1, \"metric_scores\": {\"specific\": 1.0, \"measurable\": 1.0, \"achievable\": 0.9, \"relevant\": 1.0, \"time_bound\": 0.9, \"clarity\": 1.0}, \"agreement\": \"n/a\", \"notes\": \"Clear carb targets (45g/meal, 135g/day) with weekly monitoring method specified. Achievable but challenging.\"}, {\"case_id\": 2, \"metric_scores\": {\"specific\": 1.0, \"measurable\": 1.0, \"achievable\": 1.0, \"relevant\": 1.0, \"time_bound\": 1.0, \"clarity\": 1.0}, \"agreement\": \"n/a\", \"notes\": \"Perfectly SMART goal with specific duration (30min), frequency (5 days/week), intensity level, and tracking method.\"}, {\"case_id\": 3, \"metric_scores\": {\"specific\": 1.0, \"measurable\": 0.9, \"achievable\": 1.0, \"relevant\": 1.0, \"time_bound\": 0.9, \"clarity\": 1.0}, \"agreement\": \"n/a\", \"notes\": \"Clear medication instructions with dosage and timing. Includes refill schedule and side effect reporting protocol.\"}, {\"case_id\": 4, \"metric_scores\": {\"specific\": 1.0, \"measurable\": 1.0, \"achievable\": 0.9, \"relevant\": 1.0, \"time_bound\": 0.8, \"clarity\": 1.0}, \"agreement\": \"n/a\", \"notes\": \"Specific timing and target values for glucose testing. Could be more explicit about frequency (daily implied).\"}, {\"case_id\": 5, \"metric_scores\": {\"specific\": 0.9, \"measurable\": 0.8, \"achievable\": 1.0, \"relevant\": 0.9, \"time_bound\": 0.8, \"clarity\": 0.9}, \"agreement\": \"n/a\", \"notes\": \"Clear daily water target but monitoring method (urine color) is somewhat subjective. Relevance to main health condition implied but not explicit.\"}, {\"case_id\": 6, \"metric_scores\": {\"specific\": 0.8, \"measurable\": 0.8, \"achievable\": 1.0, \"relevant\": 1.0, \"time_bound\": 0.7, \"clarity\": 0.9}, \"agreement\": \"n/a\", \"notes\": \"Addresses appointment attendance but lacks specific timeframe for appointments. Actions at appointments are clear.\"}]}, \"analyzer_input\": [{\"case_id\": 1, \"timestamp\": \"2025-10-13 00:55:59\", \"goal_number\": 1, \"goal_text\": \"Reduce daily carbohydrate intake to 45g per meal and aim for a total of 135g per day. Monitor progress weekly by recording carbohydrate counts in food diary.\"}, {\"case_id\": 2, \"timestamp\": \"2025-10-13 00:55:59\", \"goal_number\": 2, \"goal_text\": \"Engage in at least 30 minutes of moderate-intensity aerobic activity 5 days per week. Track activity using a fitness tracker or smartphone app.\"}, {\"case_id\": 3, \"timestamp\": \"2025-10-13 00:55:59\", \"goal_number\": 3, \"goal_text\": \"Take metformin 500mg twice daily with meals. Refill prescription every 90 days and report any side effects to healthcare provider.\"}, {\"case_id\": 4, \"timestamp\": \"2025-10-13 00:55:59\", \"goal_number\": 4, \"goal_text\": \"Check blood glucose levels before meals and at bedtime. Target pre-meal blood glucose levels below 130mg/dL and bedtime levels below 110mg/dL. Record results in a log.\"}, {\"case_id\": 5, \"timestamp\": \"2025-10-13 00:55:59\", \"goal_number\": 5, \"goal_text\": \"Maintain adequate water intake by drinking at least 8 glasses of water per day. Monitor urine color and report any unusual changes to healthcare provider.\"}, {\"case_id\": 6, \"timestamp\": \"2025-10-13 00:55:59\", \"goal_number\": 6, \"goal_text\": \"Attend all scheduled appointments with healthcare provider and bring a copy of the most recent blood glucose log. Update medication list and share any medication changes.\"}]}'}"
      ]
     },
     "execution_count": 22,
     "metadata": {},
     "output_type": "execute_result"
    }
   ],
   "source": [
    "payload={'analyzer_payload':output_obj}\n",
    "\n",
    "raw_output = call_evaluator_runtime(payload)\n",
    "\n",
    "raw_output"
   ]
  },
  {
   "cell_type": "code",
   "execution_count": 23,
   "id": "0c6fc3d5-2cf0-42be-9d3e-ec67c70f3fea",
   "metadata": {
    "execution": {
     "iopub.execute_input": "2025-10-19T08:21:57.038110Z",
     "iopub.status.busy": "2025-10-19T08:21:57.037833Z",
     "iopub.status.idle": "2025-10-19T08:21:57.044265Z",
     "shell.execute_reply": "2025-10-19T08:21:57.043391Z",
     "shell.execute_reply.started": "2025-10-19T08:21:57.038086Z"
    }
   },
   "outputs": [
    {
     "data": {
      "text/plain": [
       "{'evaluation_type': 'smart_goals_rubric',\n",
       " 'cases_scored': 6,\n",
       " 'scores': [{'case_id': 1,\n",
       "   'metric_scores': {'specific': 1.0,\n",
       "    'measurable': 1.0,\n",
       "    'achievable': 0.9,\n",
       "    'relevant': 1.0,\n",
       "    'time_bound': 0.9,\n",
       "    'clarity': 1.0},\n",
       "   'agreement': 'n/a',\n",
       "   'notes': 'Clear carb targets (45g/meal, 135g/day) with weekly monitoring method specified. Achievable but challenging.'},\n",
       "  {'case_id': 2,\n",
       "   'metric_scores': {'specific': 1.0,\n",
       "    'measurable': 1.0,\n",
       "    'achievable': 1.0,\n",
       "    'relevant': 1.0,\n",
       "    'time_bound': 1.0,\n",
       "    'clarity': 1.0},\n",
       "   'agreement': 'n/a',\n",
       "   'notes': 'Perfectly SMART goal with specific duration (30min), frequency (5 days/week), intensity level, and tracking method.'},\n",
       "  {'case_id': 3,\n",
       "   'metric_scores': {'specific': 1.0,\n",
       "    'measurable': 0.9,\n",
       "    'achievable': 1.0,\n",
       "    'relevant': 1.0,\n",
       "    'time_bound': 0.9,\n",
       "    'clarity': 1.0},\n",
       "   'agreement': 'n/a',\n",
       "   'notes': 'Clear medication instructions with dosage and timing. Includes refill schedule and side effect reporting protocol.'},\n",
       "  {'case_id': 4,\n",
       "   'metric_scores': {'specific': 1.0,\n",
       "    'measurable': 1.0,\n",
       "    'achievable': 0.9,\n",
       "    'relevant': 1.0,\n",
       "    'time_bound': 0.8,\n",
       "    'clarity': 1.0},\n",
       "   'agreement': 'n/a',\n",
       "   'notes': 'Specific timing and target values for glucose testing. Could be more explicit about frequency (daily implied).'},\n",
       "  {'case_id': 5,\n",
       "   'metric_scores': {'specific': 0.9,\n",
       "    'measurable': 0.8,\n",
       "    'achievable': 1.0,\n",
       "    'relevant': 0.9,\n",
       "    'time_bound': 0.8,\n",
       "    'clarity': 0.9},\n",
       "   'agreement': 'n/a',\n",
       "   'notes': 'Clear daily water target but monitoring method (urine color) is somewhat subjective. Relevance to main health condition implied but not explicit.'},\n",
       "  {'case_id': 6,\n",
       "   'metric_scores': {'specific': 0.8,\n",
       "    'measurable': 0.8,\n",
       "    'achievable': 1.0,\n",
       "    'relevant': 1.0,\n",
       "    'time_bound': 0.7,\n",
       "    'clarity': 0.9},\n",
       "   'agreement': 'n/a',\n",
       "   'notes': 'Addresses appointment attendance but lacks specific timeframe for appointments. Actions at appointments are clear.'}]}"
      ]
     },
     "execution_count": 23,
     "metadata": {},
     "output_type": "execute_result"
    }
   ],
   "source": [
    "response=json.loads(raw_output['body'])['evaluator_output']\n",
    "response"
   ]
  },
  {
   "cell_type": "code",
   "execution_count": 24,
   "id": "8303c879-93a0-4a0c-991f-ca93ba49323b",
   "metadata": {
    "execution": {
     "iopub.execute_input": "2025-10-19T08:21:58.118956Z",
     "iopub.status.busy": "2025-10-19T08:21:58.118695Z",
     "iopub.status.idle": "2025-10-19T08:21:58.123112Z",
     "shell.execute_reply": "2025-10-19T08:21:58.122534Z",
     "shell.execute_reply.started": "2025-10-19T08:21:58.118937Z"
    }
   },
   "outputs": [
    {
     "data": {
      "text/plain": [
       "'{\"eval_out\": {\"evaluation_type\": \"smart_goals_rubric\", \"cases_scored\": 6, \"scores\": [{\"case_id\": 1, \"metric_scores\": {\"specific\": 1.0, \"measurable\": 1.0, \"achievable\": 0.9, \"relevant\": 1.0, \"time_bound\": 0.9, \"clarity\": 1.0}, \"agreement\": \"n/a\", \"notes\": \"Clear carb targets (45g/meal, 135g/day) with weekly monitoring method specified. Achievable but challenging.\"}, {\"case_id\": 2, \"metric_scores\": {\"specific\": 1.0, \"measurable\": 1.0, \"achievable\": 1.0, \"relevant\": 1.0, \"time_bound\": 1.0, \"clarity\": 1.0}, \"agreement\": \"n/a\", \"notes\": \"Perfectly SMART goal with specific duration (30min), frequency (5 days/week), intensity level, and tracking method.\"}, {\"case_id\": 3, \"metric_scores\": {\"specific\": 1.0, \"measurable\": 0.9, \"achievable\": 1.0, \"relevant\": 1.0, \"time_bound\": 0.9, \"clarity\": 1.0}, \"agreement\": \"n/a\", \"notes\": \"Clear medication instructions with dosage and timing. Includes refill schedule and side effect reporting protocol.\"}, {\"case_id\": 4, \"metric_scores\": {\"specific\": 1.0, \"measurable\": 1.0, \"achievable\": 0.9, \"relevant\": 1.0, \"time_bound\": 0.8, \"clarity\": 1.0}, \"agreement\": \"n/a\", \"notes\": \"Specific timing and target values for glucose testing. Could be more explicit about frequency (daily implied).\"}, {\"case_id\": 5, \"metric_scores\": {\"specific\": 0.9, \"measurable\": 0.8, \"achievable\": 1.0, \"relevant\": 0.9, \"time_bound\": 0.8, \"clarity\": 0.9}, \"agreement\": \"n/a\", \"notes\": \"Clear daily water target but monitoring method (urine color) is somewhat subjective. Relevance to main health condition implied but not explicit.\"}, {\"case_id\": 6, \"metric_scores\": {\"specific\": 0.8, \"measurable\": 0.8, \"achievable\": 1.0, \"relevant\": 1.0, \"time_bound\": 0.7, \"clarity\": 0.9}, \"agreement\": \"n/a\", \"notes\": \"Addresses appointment attendance but lacks specific timeframe for appointments. Actions at appointments are clear.\"}]}}'"
      ]
     },
     "execution_count": 24,
     "metadata": {},
     "output_type": "execute_result"
    }
   ],
   "source": [
    "dict_output = {\"eval_out\": response}\n",
    "\n",
    "json_str = json.dumps(dict_output)\n",
    "json_str"
   ]
  },
  {
   "cell_type": "code",
   "execution_count": null,
   "id": "93a14a8e-1c4f-4686-b324-c347ffc075bf",
   "metadata": {},
   "outputs": [],
   "source": []
  },
  {
   "cell_type": "code",
   "execution_count": null,
   "id": "8c6a76d1-87d8-4335-95e8-48be319587ea",
   "metadata": {},
   "outputs": [],
   "source": []
  },
  {
   "cell_type": "code",
   "execution_count": null,
   "id": "b42160c4-c0eb-4d02-a1e9-6ab4e573fe54",
   "metadata": {},
   "outputs": [],
   "source": []
  }
 ],
 "metadata": {
  "kernelspec": {
   "display_name": "Python 3 (ipykernel)",
   "language": "python",
   "name": "python3"
  },
  "language_info": {
   "codemirror_mode": {
    "name": "ipython",
    "version": 3
   },
   "file_extension": ".py",
   "mimetype": "text/x-python",
   "name": "python",
   "nbconvert_exporter": "python",
   "pygments_lexer": "ipython3",
   "version": "3.12.9"
  }
 },
 "nbformat": 4,
 "nbformat_minor": 5
}
