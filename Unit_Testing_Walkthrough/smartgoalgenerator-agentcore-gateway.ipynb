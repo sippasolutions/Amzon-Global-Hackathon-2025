{
 "cells": [
  {
   "cell_type": "code",
   "execution_count": null,
   "id": "45786b56-01d5-4248-81ec-77f3e573e584",
   "metadata": {},
   "outputs": [],
   "source": []
  },
  {
   "cell_type": "markdown",
   "id": "5e71eba4-f4b4-4f52-a40c-f01134814691",
   "metadata": {
    "jp-MarkdownHeadingCollapsed": true
   },
   "source": [
    "## Useful Knowledge Base to familiar with some core conepts useful for this project\n",
    "\n",
    "### Overview\n",
    "\n",
    "[IAM Roles] (https://docs.aws.amazon.com/IAM/latest/UserGuide/id_roles.html#id_roles_terms-and-concepts)\n",
    "\n",
    "[How to Trust Policies with IAM Roles] (https://aws.amazon.com/blogs/security/how-to-use-trust-policies-with-iam-roles/)\n",
    "\n",
    "[IAM Permission for AgentCore RunTime] (https://docs.aws.amazon.com/bedrock-agentcore/latest/devguide/runtime-permissions.html)\n",
    "\n",
    "[Prerequisites to Set Up a Bedrock AgentCore Gateway] (https://docs.aws.amazon.com/bedrock-agentcore/latest/devguide/gateway-prerequisites-permissions.html)\n",
    "\n",
    "[Consolidate permission set in Github to enable the role SmartGoalGeneratorBedrockAgentCoreRole-<REGION>] (https://github.com/aws/bedrock-agentcore-starter-toolkit/blob/main/documentation/docs/user-guide/runtime/permissions.md\n",
    "\n",
    "[Invoke an AgentCore Runtime agent --- MUST READ for mutli-agent deployment in AgentCore] (https://docs.aws.amazon.com/bedrock-agentcore/latest/devguide/runtime-invoke-agent.html)\n",
    ")\n",
    "\n",
    "### Additional references\n",
    "[Strands Agents] (https://strandsagents.com/latest/documentation/docs/user-guide/concepts/multi-agent/agent-to-agent/)\n",
    "\n",
    "[Bedrock Agents Healthcare Life Sciences Use Case] (https://github.com/aws-samples/amazon-bedrock-agents-healthcare-lifesciences)\n",
    "\n",
    "[Bedrock Agentcore Development Guide] (https://docs.aws.amazon.com/bedrock-agentcore/latest/devguide/runtime-invoke-agent.html)\n",
    "\n",
    "[Prescriptive Guidance for Agentic AI] (https://docs.aws.amazon.com/prescriptive-guidance/latest/agentic-ai-frameworks/comparing-agentic-ai-frameworks.html)\n",
    "\n",
    "[MCP Concept] (https://strandsagents.com/latest/documentation/docs/user-guide/concepts/tools/mcp-tools/)"
   ]
  },
  {
   "cell_type": "markdown",
   "id": "fd7f7efc-93f3-4997-bbd1-954205526940",
   "metadata": {},
   "source": [
    "## Phase 1: Creating a smart goal generator agent prototype\n",
    "\n",
    "### Overview\n",
    "\n",
    "[Amazon Bedrock AgentCore](https://aws.amazon.com/bedrock/agentcore/) helps you deploying and operating AI agents securely at scale - using any framework and model. It provides you with the capability to move from prototype to production faster. \n",
    "\n",
    "In this 5-labs tutorial, we will demonstrate the end-to-end journey from prototype to production using a **Smart Goal Generator Agent**. For this example we will use [Strands Agents](https://strandsagents.com/latest/), a simple-to-use, code-first framework for building agents and the Anthropic Claude Sonnet 3.7 model from Amazon Bedrock. For your application you can use the framework and model of your choice. It's important to note that the concepts covered here can be applied using other frameworks and models as well.\n",
    "\n",
    "**Staging Phases:**\n",
    "- **Phase 1**: Create Agent Prototype - Build a functional Smart Goal Generator agent\n",
    "- **Phase 2**: Scale with Gateway & Identity - Share tools across agents securely\n",
    "- **Phase 3**: Deploy to Production - Use AgentCore Runtime with observability\n",
    "- **Phase 4**: Build User Interface - Create a customer-facing application\n",
    "\n",
    "In this first lab, we'll build a Smart Goal Generator Agent prototype that will evolve throughout the workshop into a production-ready system serving multiple customers with persistent memory, shared tools, and full observability. Our agent will have the following local tools available:\n",
    "- **fetch_data()** - Get patient data from data sources \n",
    "\n",
    "### Architecture for Phase 1\n",
    "<div style=\"text-align:left\">\n",
    "    <img src=\"images/architecture_lab1_strands.png\" width=\"75%\"/>\n",
    "</div>\n",
    "\n",
    "*Simple prototype running locally. In subsequent labs, we'll migrate this to AgentCore services with shared tools, persistent memory, and production-grade observability.*\n",
    "\n",
    "### Prerequisites\n",
    "\n",
    "* **AWS Account** with appropriate permissions\n",
    "* **Python 3.10+** installed locally\n",
    "* **AWS CLI configured** with credentials\n",
    "* **Anthropic Claude 3.7** enabled on [Amazon Bedrock](https://docs.aws.amazon.com/bedrock/latest/userguide/model-access.html)\n",
    "* **Strands Agents** and other libraries installed in the next cells\n",
    "#### Not using an AWS workshop account? \n",
    "\n",
    "**Note:** If you are running this as a self-paced lab you must run create the cloudformation resources as shown in the workshop self-paced steps. If you have not, then uncomment and run the below code segment"
   ]
  },
  {
   "cell_type": "code",
   "execution_count": 1,
   "id": "f2988e3e-b11b-48f6-ab8d-8fae65c226f2",
   "metadata": {
    "execution": {
     "iopub.execute_input": "2025-10-16T05:58:33.440271Z",
     "iopub.status.busy": "2025-10-16T05:58:33.440006Z",
     "iopub.status.idle": "2025-10-16T05:58:45.272910Z",
     "shell.execute_reply": "2025-10-16T05:58:45.272085Z",
     "shell.execute_reply.started": "2025-10-16T05:58:33.440246Z"
    }
   },
   "outputs": [
    {
     "name": "stdout",
     "output_type": "stream",
     "text": [
      "🔍 Getting AWS Account ID...\n",
      "Region: us-east-1\n",
      "Account ID: 711246752798\n",
      "🪣 Using S3 bucket: smartgoalgenerator-711246752798-us-east-1\n",
      "{\n",
      "    \"Location\": \"/smartgoalgenerator-711246752798-us-east-1\"\n",
      "}\n",
      "🔍 Verifying S3 bucket ownership...\n",
      "{\n",
      "    \"BucketRegion\": \"us-east-1\",\n",
      "    \"AccessPointAlias\": false\n",
      "}\n",
      "✅ S3 bucket ownership verified\n",
      "Reading package lists... Done\n",
      "Building dependency tree... Done\n",
      "Reading state information... Done\n",
      "zip is already the newest version (3.0-12build2).\n",
      "0 upgraded, 0 newly installed, 0 to remove and 0 not upgraded.\n",
      "📦 Zipping contents of prerequisite/lambda/python into lambda.zip...\n",
      "☁️ Uploading lambda.zip to s3://smartgoalgenerator-711246752798-us-east-1/lambda.zip...\n",
      "{\n",
      "    \"ETag\": \"\\\"c0f6b02ffb4a6075c93cbd9cc871ca9d\\\"\",\n",
      "    \"ChecksumCRC64NVME\": \"0LAUjODvwU4=\",\n",
      "    \"ChecksumType\": \"FULL_OBJECT\",\n",
      "    \"ServerSideEncryption\": \"AES256\"\n",
      "}\n",
      "☁️ Uploading ddgs-layer.zip to s3://smartgoalgenerator-711246752798-us-east-1/ddgs-layer.zip...\n",
      "{\n",
      "    \"ETag\": \"\\\"0f2b60895990988b94f7258caa5b68ba\\\"\",\n",
      "    \"ChecksumCRC64NVME\": \"CaU04EHQdTk=\",\n",
      "    \"ChecksumType\": \"FULL_OBJECT\",\n",
      "    \"ServerSideEncryption\": \"AES256\"\n",
      "}\n",
      "🔧 Starting deployment of infrastructure stack with LambdaS3Bucket = smartgoalgenerator-711246752798-us-east-1...\n",
      "🚀 Deploying CloudFormation stack: SmartGoalGeneratorStackInfra\n",
      "\n",
      "Waiting for changeset to be created..\n",
      "\n",
      "No changes to deploy. Stack SmartGoalGeneratorStackInfra is up to date\n",
      "✅ Stack SmartGoalGeneratorStackInfra deployed successfully.\n",
      "🔧 Starting deployment of Cognito stack...\n",
      "🚀 Deploying CloudFormation stack: SmartGoalGeneratorStackCognito\n",
      "\n",
      "Waiting for changeset to be created..\n",
      "\n",
      "No changes to deploy. Stack SmartGoalGeneratorStackCognito is up to date\n",
      "✅ Stack SmartGoalGeneratorStackCognito deployed successfully.\n",
      "✅ Deployment complete.\n"
     ]
    }
   ],
   "source": [
    "!bash scripts/prereq.sh"
   ]
  },
  {
   "cell_type": "code",
   "execution_count": 2,
   "id": "2d7cdb33-dba8-4fc1-9054-ad505f2bdd50",
   "metadata": {
    "execution": {
     "iopub.execute_input": "2025-10-16T05:58:55.703011Z",
     "iopub.status.busy": "2025-10-16T05:58:55.702728Z",
     "iopub.status.idle": "2025-10-16T05:59:00.462867Z",
     "shell.execute_reply": "2025-10-16T05:59:00.461991Z",
     "shell.execute_reply.started": "2025-10-16T05:58:55.702987Z"
    }
   },
   "outputs": [
    {
     "name": "stdout",
     "output_type": "stream",
     "text": [
      "Note: you may need to restart the kernel to use updated packages.\n"
     ]
    }
   ],
   "source": [
    "# Install required packages\n",
    "%pip install -U -r requirements.txt -q"
   ]
  },
  {
   "cell_type": "code",
   "execution_count": 3,
   "id": "e49e9197-0a17-4e48-ac85-4f4bed079d0c",
   "metadata": {
    "execution": {
     "iopub.execute_input": "2025-10-16T05:59:09.698920Z",
     "iopub.status.busy": "2025-10-16T05:59:09.698624Z",
     "iopub.status.idle": "2025-10-16T05:59:10.581468Z",
     "shell.execute_reply": "2025-10-16T05:59:10.580755Z",
     "shell.execute_reply.started": "2025-10-16T05:59:09.698896Z"
    }
   },
   "outputs": [],
   "source": [
    "# Import libraries\n",
    "import boto3\n",
    "from boto3.session import Session\n",
    "\n",
    "from ddgs.exceptions import DDGSException, RatelimitException\n",
    "from ddgs import DDGS\n",
    "\n",
    "from strands.tools import tool\n",
    "from lab_helpers.utils import put_ssm_parameter"
   ]
  },
  {
   "cell_type": "code",
   "execution_count": 4,
   "id": "b921fb9f-8a4b-4627-add8-3f4255492ef8",
   "metadata": {
    "execution": {
     "iopub.execute_input": "2025-10-16T05:59:19.338138Z",
     "iopub.status.busy": "2025-10-16T05:59:19.337765Z",
     "iopub.status.idle": "2025-10-16T05:59:19.348773Z",
     "shell.execute_reply": "2025-10-16T05:59:19.348067Z",
     "shell.execute_reply.started": "2025-10-16T05:59:19.338114Z"
    }
   },
   "outputs": [],
   "source": [
    "# Get boto session\n",
    "boto_session = Session()\n",
    "region = boto_session.region_name"
   ]
  },
  {
   "cell_type": "markdown",
   "id": "ee591955-83e2-4271-a596-b4a408ee6946",
   "metadata": {},
   "source": [
    "## Phase 1 - Step 1: Install and import required libraries"
   ]
  },
  {
   "cell_type": "code",
   "execution_count": 5,
   "id": "1d54201a-4a1b-4947-85fd-20c90d488f99",
   "metadata": {
    "execution": {
     "iopub.execute_input": "2025-10-16T06:00:13.054781Z",
     "iopub.status.busy": "2025-10-16T06:00:13.054387Z",
     "iopub.status.idle": "2025-10-16T06:00:15.041526Z",
     "shell.execute_reply": "2025-10-16T06:00:15.040649Z",
     "shell.execute_reply.started": "2025-10-16T06:00:13.054759Z"
    }
   },
   "outputs": [
    {
     "name": "stdout",
     "output_type": "stream",
     "text": [
      "Note: you may need to restart the kernel to use updated packages.\n"
     ]
    }
   ],
   "source": [
    "# Refer here for the IAM required for the runtime permission\n",
    "# https://github.com/aws/bedrock-agentcore-starter-toolkit/blob/main/documentation/docs/user-guide/runtime/permissions.md\n",
    "\n",
    "# Install required packages\n",
    "%pip install strands-agents \"boto3>=1.39.15\" strands-agents-tools bedrock_agentcore ddgs -q"
   ]
  },
  {
   "cell_type": "code",
   "execution_count": 6,
   "id": "78256720-8d5c-4abb-afa8-62e349b8063d",
   "metadata": {
    "execution": {
     "iopub.execute_input": "2025-10-16T06:00:17.123330Z",
     "iopub.status.busy": "2025-10-16T06:00:17.123045Z",
     "iopub.status.idle": "2025-10-16T06:00:17.668722Z",
     "shell.execute_reply": "2025-10-16T06:00:17.668029Z",
     "shell.execute_reply.started": "2025-10-16T06:00:17.123295Z"
    }
   },
   "outputs": [
    {
     "name": "stdout",
     "output_type": "stream",
     "text": [
      "✅ Libraries imported successfully!\n"
     ]
    }
   ],
   "source": [
    "# Import libraries\n",
    "from strands import Agent\n",
    "from strands.models import BedrockModel\n",
    "from strands.tools.mcp import MCPClient\n",
    "import os\n",
    "import sys\n",
    "import boto3\n",
    "import json\n",
    "from bedrock_agentcore.identity.auth import requires_access_token\n",
    "from mcp.client.streamable_http import streamablehttp_client\n",
    "import requests\n",
    "\n",
    "from scripts.utils import get_ssm_parameter, put_ssm_parameter, load_api_spec, get_cognito_client_secret\n",
    "\n",
    "sts_client = boto3.client('sts')\n",
    "\n",
    "# Get AWS account details\n",
    "REGION = boto3.session.Session().region_name\n",
    "\n",
    "gateway_client = boto3.client(\n",
    "    \"bedrock-agentcore-control\",\n",
    "    region_name=REGION,\n",
    ")\n",
    "\n",
    "print(\"✅ Libraries imported successfully!\")"
   ]
  },
  {
   "cell_type": "markdown",
   "id": "118c2f26-0ae5-4a4c-8852-2e632c424fd8",
   "metadata": {},
   "source": [
    "## Phase 1 - Step 2: Give our agent a tool to access existing customer data\n",
    "AgentCore Gateway simplifies agent tool integration in three key ways:\n",
    "\n",
    "Universal MCP Support: Instantly make your tools compatible with any agent framework by exposing them through AgentCore Gateway's MCP standard\n",
    "\n",
    "Simple REST Integration: Transform existing REST services into agent tools by just adding them as AgentCore Gateway targets\n",
    "\n",
    "Lambda Flexibility: Expose Lambda functions as MCP endpoints that can call any API - demonstrated here with a function that checks warranty status\n",
    "\n",
    "AgentCore Gateway populates the Lambda context with the name of the tool to invoke, while the parameters passed to the tool are provided in the Lambda event:\n",
    "\n",
    "```\n",
    "extended_tool_name = context.client_context.custom[\"bedrockAgentCoreToolName\"]\n",
    "resource = extended_tool_name.split(\"___\")[1]\n",
    "```\n",
    "\n",
    "[Lambda function](./prerequisite/lambda/python/lambda_function.py)\n",
    "\n",
    "```\n",
    "def lambda_handler(event, context):\n",
    "    if get_tool_name(event) == \"check_warranty_status\":\n",
    "        serial_number = get_named_parameter(event=event, name=\"serial_number\")\n",
    "        customer_email = get_named_parameter(event=event, name=\"customer_email\")\n",
    "\n",
    "        warranty_status = check_warranty_status(serial_number, customer_email)\n",
    "        return {\"statusCode\": 200, \"body\": warranty_status}\n",
    "```"
   ]
  },
  {
   "cell_type": "markdown",
   "id": "4a406fbb-190d-4779-b117-5bdd9086195a",
   "metadata": {},
   "source": [
    "## Phase 1 - Step 3 Convert your web search tool to MCP\n",
    "Now that we are developing an MCP server using AgentCore Gateway, we can MCP-ify any tools which we think we'll use for multiple Agents. One of these tools might be a web search tool like we built in Lab1. As a result, we also converted the web search tool from Lab 1 into a Lambda tool within our AgentCore Gateway:\n",
    "\n",
    "[fetch_data Lambda](./prerequisite/lambda/python/fetch_data.py)\n",
    "\n",
    "[Web search Lambda](./prerequisite/lambda/python/web_search.py)\n",
    "\n"
   ]
  },
  {
   "cell_type": "markdown",
   "id": "57beaeaa-be61-415b-9fed-5741ac70670b",
   "metadata": {},
   "source": [
    "## Phase 1 - Step 4 Create your function definition metadata\n",
    "Lastly, we need to write tool schema which describes the tools implemented by your Lambda function.\n",
    "\n",
    "This file has been already defined in [prerequisite/lambda/api_spec.json](./prerequisite/lambda/api_spec.json)\n"
   ]
  },
  {
   "cell_type": "markdown",
   "id": "587ed30f-c097-4c15-b58d-3138328134de",
   "metadata": {},
   "source": [
    "## Phase 2 - Step 1. Create your AgentCore Gateway\n",
    "\n",
    "Now let's create the AgentCore Gateway to expose the Lambda function as MCP-compatible endpoint.\n",
    "\n",
    "To validate the callers authorized to invoke our tools we need to configure the Inbound Auth.\n",
    "\n",
    "Inbound Auth works using OAuth authorization, the standard for MCP servers. With OAuth the client application must authenticate with the OAuth authorizer before using the Gateway. Your client would receive an access token which is used at runtime.\n",
    "\n",
    "You need to specify an OAuth discovery server and client IDs. The Cloudformation provided with the workshop already provisioned the Cognito UserPool and UserPoolClient and it stored the discovery URL and the Client ID in dedicated SSM parameters."
   ]
  },
  {
   "cell_type": "code",
   "execution_count": 7,
   "id": "acea0a49-4bc6-4cd1-a84a-43dfc3183f09",
   "metadata": {
    "execution": {
     "iopub.execute_input": "2025-10-16T06:03:02.177777Z",
     "iopub.status.busy": "2025-10-16T06:03:02.176794Z",
     "iopub.status.idle": "2025-10-16T06:03:02.962826Z",
     "shell.execute_reply": "2025-10-16T06:03:02.961884Z",
     "shell.execute_reply.started": "2025-10-16T06:03:02.177149Z"
    }
   },
   "outputs": [
    {
     "name": "stdout",
     "output_type": "stream",
     "text": [
      "Creating gateway in region us-east-1 with name: smartgoalgenerator-gw\n",
      "Found existing gateway with ID: smartgoalgenerator-gw-kmbshevtab\n"
     ]
    }
   ],
   "source": [
    "# ------------- SMART GOAL GENERATOR ---------\n",
    "\n",
    "gateway_name = \"smartgoalgenerator-gw\"\n",
    "\n",
    "auth_config = {\n",
    "    \"customJWTAuthorizer\": {\n",
    "        \"allowedClients\": [\n",
    "            get_ssm_parameter(\"/app/smartgoalgenerator/agentcore/machine_client_id\")\n",
    "        ],\n",
    "        \"discoveryUrl\": get_ssm_parameter(\"/app/smartgoalgenerator/agentcore/cognito_discovery_url\")\n",
    "    }\n",
    "}\n",
    "\n",
    "try:\n",
    "    # create new gateway\n",
    "    print(f\"Creating gateway in region {REGION} with name: {gateway_name}\")\n",
    "\n",
    "    create_response = gateway_client.create_gateway(\n",
    "        name=gateway_name,\n",
    "        roleArn= get_ssm_parameter(\"/app/smartgoalgenerator/agentcore/gateway_iam_role\"),\n",
    "        protocolType=\"MCP\",\n",
    "        authorizerType=\"CUSTOM_JWT\",\n",
    "        authorizerConfiguration=auth_config,\n",
    "        description=\"Smart Goal Generator AgentCore Gateway\",\n",
    "    )\n",
    "\n",
    "    gateway_id = create_response[\"gatewayId\"]\n",
    "\n",
    "    gateway = {\n",
    "        \"id\": gateway_id,\n",
    "        \"name\": gateway_name,\n",
    "        \"gateway_url\": create_response[\"gatewayUrl\"],\n",
    "        \"gateway_arn\": create_response[\"gatewayArn\"],\n",
    "    }\n",
    "    put_ssm_parameter(\"/app/smartgoalgenerator/agentcore/gateway_id\", gateway_id)\n",
    "\n",
    "    print(f\"✅ Gateway created successfully with ID: {gateway_id}\")\n",
    "\n",
    "except Exception as e:\n",
    "    # If gateway exists, collect existing gateway ID from SSM\n",
    "    existing_gateway_id = get_ssm_parameter(\"/app/smartgoalgenerator/agentcore/gateway_id\")\n",
    "    print(f\"Found existing gateway with ID: {existing_gateway_id}\")\n",
    "    \n",
    "    # Get existing gateway details\n",
    "    gateway_response = gateway_client.get_gateway(gatewayIdentifier=existing_gateway_id)\n",
    "    gateway = {\n",
    "        \"id\": existing_gateway_id,\n",
    "        \"name\": gateway_response[\"name\"],\n",
    "        \"gateway_url\": gateway_response[\"gatewayUrl\"],\n",
    "        \"gateway_arn\": gateway_response[\"gatewayArn\"],\n",
    "    }\n",
    "    gateway_id = gateway['id']"
   ]
  },
  {
   "cell_type": "markdown",
   "id": "eb6c6345",
   "metadata": {},
   "source": [
    "## Phase 2 - Step 2. Add the Lambda function Target\n",
    "Now we will use the previously defined function definitions from [prerequisite/lambda/api_spec.json](./prerequisite/lambda/api_spec.json) to create a Lambda target within our Agent Gateway. This will define the tools that your gateway will host.\n",
    "\n",
    "Gateway allows you to attach multiple targets to a Gateway and you can change the targets / tools attached to a gateway at any point. Each target can have its own credential provider, but Gateway becomes a single MCP URL enabling access to all of the relevant tools for an agent across myriad APIs."
   ]
  },
  {
   "cell_type": "code",
   "execution_count": 9,
   "id": "aee7aa8f-ad48-4f77-be81-36fa18e2f3aa",
   "metadata": {
    "execution": {
     "iopub.execute_input": "2025-10-16T06:04:56.102937Z",
     "iopub.status.busy": "2025-10-16T06:04:56.102673Z",
     "iopub.status.idle": "2025-10-16T06:04:56.402165Z",
     "shell.execute_reply": "2025-10-16T06:04:56.401516Z",
     "shell.execute_reply.started": "2025-10-16T06:04:56.102917Z"
    }
   },
   "outputs": [
    {
     "name": "stdout",
     "output_type": "stream",
     "text": [
      "✅ Gateway target created: XEPVM3AAH1\n"
     ]
    }
   ],
   "source": [
    "def load_api_spec(file_path: str) -> list:\n",
    "    with open(file_path, \"r\") as f:\n",
    "        data = json.load(f)\n",
    "        \n",
    "    if not isinstance(data, list):\n",
    "        raise ValueError(\"Expected a list in the JSON file\")\n",
    "    return data\n",
    "\n",
    "try:\n",
    "    api_spec_file = \"./prerequisite/lambda/api_spec.json\"\n",
    "\n",
    "    # Validate API spec file exists\n",
    "    if not os.path.exists(api_spec_file):\n",
    "        print(f\"❌ API specification file not found: {api_spec_file}\")\n",
    "        sys.exit(1)\n",
    "\n",
    "    api_spec = load_api_spec(api_spec_file)\n",
    " \n",
    "    # Use Cognito for Inbound OAuth to our Gateway\n",
    "    lambda_target_config = {\n",
    "        \"mcp\": {\n",
    "            \"lambda\": {\n",
    "                \"lambdaArn\": get_ssm_parameter(\"/app/smartgoalgenerator/agentcore/lambda_arn\"),\n",
    "                \"toolSchema\": {\"inlinePayload\": api_spec},\n",
    "            }\n",
    "        }\n",
    "    }\n",
    "\n",
    "    # Create gateway target\n",
    "    credential_config = [{\"credentialProviderType\": \"GATEWAY_IAM_ROLE\"}]\n",
    "\n",
    "    create_target_response = gateway_client.create_gateway_target(\n",
    "        gatewayIdentifier=gateway_id,\n",
    "        name=\"LambdaUsingSDK\",\n",
    "        description=\"Lambda Target using SDK\",\n",
    "        targetConfiguration=lambda_target_config,\n",
    "        credentialProviderConfigurations=credential_config,\n",
    "    )\n",
    "\n",
    "    print(f\"✅ Gateway target created: {create_target_response['targetId']}\")\n",
    "\n",
    "except Exception as e:\n",
    "    print(f\"❌ Error creating gateway target: {str(e)}\")"
   ]
  },
  {
   "cell_type": "markdown",
   "id": "4fbd855b-71cb-42df-a6b9-d739e18f6767",
   "metadata": {},
   "source": [
    "## Phase 2 - Step 3: Add our new MCP-based tools to our support agent\n",
    "Here we integrate our authentication token from Cognito into an MCPClient from Strands SDK to create an MCP Server object to integrate with our Strands Agent"
   ]
  },
  {
   "cell_type": "code",
   "execution_count": 10,
   "id": "6fec14df-e398-4321-9903-21a5f5f76c3a",
   "metadata": {
    "execution": {
     "iopub.execute_input": "2025-10-16T06:05:45.085057Z",
     "iopub.status.busy": "2025-10-16T06:05:45.084789Z",
     "iopub.status.idle": "2025-10-16T06:05:45.088880Z",
     "shell.execute_reply": "2025-10-16T06:05:45.088229Z",
     "shell.execute_reply.started": "2025-10-16T06:05:45.085036Z"
    }
   },
   "outputs": [],
   "source": [
    "def get_token(client_id: str, client_secret: str, scope_string: str, url: str) -> dict:\n",
    "    try:\n",
    "        headers = {\"Content-Type\": \"application/x-www-form-urlencoded\"}\n",
    "        data = {\n",
    "            \"grant_type\": \"client_credentials\",\n",
    "            \"client_id\": client_id,\n",
    "            \"client_secret\": client_secret,\n",
    "            \"scope\": scope_string,\n",
    "\n",
    "        }\n",
    "        response = requests.post(url, headers=headers, data=data)\n",
    "        response.raise_for_status()\n",
    "        return response.json()\n",
    "\n",
    "    except requests.exceptions.RequestException as err:\n",
    "        return {\"error\": str(err)}"
   ]
  },
  {
   "cell_type": "markdown",
   "id": "bff0a6b8-fdd3-4536-8012-6d0ab34f568f",
   "metadata": {},
   "source": [
    "## Phase 2 - Step 4. Set up a secure MCP client object"
   ]
  },
  {
   "cell_type": "code",
   "execution_count": 11,
   "id": "e569193a-9704-4bc2-97e8-f235e039d3d9",
   "metadata": {
    "execution": {
     "iopub.execute_input": "2025-10-16T06:06:04.628138Z",
     "iopub.status.busy": "2025-10-16T06:06:04.627865Z",
     "iopub.status.idle": "2025-10-16T06:06:05.544853Z",
     "shell.execute_reply": "2025-10-16T06:06:05.544209Z",
     "shell.execute_reply.started": "2025-10-16T06:06:04.628117Z"
    }
   },
   "outputs": [
    {
     "name": "stdout",
     "output_type": "stream",
     "text": [
      "Gateway Endpoint - MCP URL: https://smartgoalgenerator-gw-kmbshevtab.gateway.bedrock-agentcore.us-east-1.amazonaws.com/mcp\n"
     ]
    }
   ],
   "source": [
    "# ------------- SMART GOAL GENERATOR ---------\n",
    "gateway_access_token = get_token(\n",
    "    get_ssm_parameter(\"/app/smartgoalgenerator/agentcore/machine_client_id\"),\n",
    "    get_cognito_client_secret(),\n",
    "    get_ssm_parameter(\"/app/smartgoalgenerator/agentcore/cognito_auth_scope\"),\n",
    "    get_ssm_parameter(\"/app/smartgoalgenerator/agentcore/cognito_token_url\"))\n",
    "\n",
    "print(f\"Gateway Endpoint - MCP URL: {gateway['gateway_url']}\")\n",
    "\n",
    "# Set up MCP client\n",
    "mcp_client = MCPClient(\n",
    "    lambda: streamablehttp_client(\n",
    "        gateway['gateway_url'],\n",
    "        headers={\"Authorization\": f\"Bearer {gateway_access_token['access_token']}\"},\n",
    "    )\n",
    ")"
   ]
  },
  {
   "cell_type": "markdown",
   "id": "14395b40-7ede-4d7d-be86-fc31536a7929",
   "metadata": {},
   "source": [
    "## Phase 2 - Step 5. Access tools in our agent using our MCP client\n",
    "Now we will create our Strands Agent using the AgentCore Gateway we built along with the resources from previous labs. Our agent now uses a mix of local tools via our Strands Agent and MCP tools via AgentCore Gateway"
   ]
  },
  {
   "cell_type": "code",
   "execution_count": 12,
   "id": "f5738db7-bc52-4f04-8551-0f55a68ac8a0",
   "metadata": {
    "execution": {
     "iopub.execute_input": "2025-10-16T06:06:29.807671Z",
     "iopub.status.busy": "2025-10-16T06:06:29.807405Z",
     "iopub.status.idle": "2025-10-16T06:06:30.480049Z",
     "shell.execute_reply": "2025-10-16T06:06:30.479243Z",
     "shell.execute_reply.started": "2025-10-16T06:06:29.807650Z"
    }
   },
   "outputs": [],
   "source": [
    "#from lab_helpers.smartgoalgenerator_mcp_tools import fetch_data\n",
    "from lab_helpers.smartgoalgenerator_mcp_tools import load_analyzer_runs_v2,build_eval_plan_v2,fetch_data\n",
    "\n",
    "#from lab_helpers.lab2_memory import CustomerSupportMemoryHooks,create_or_get_memory_resource \n",
    "#import uuid\n",
    "#from bedrock_agentcore.memory import MemoryClient\n",
    "\n",
    "# memory_client = MemoryClient(region_name=REGION)\n",
    "\n",
    "# memory_id = create_or_get_memory_resource()\n",
    "# SESSION_ID = str(uuid.uuid4())\n",
    "# CUSTOMER_ID = \"customer_001\"\n",
    "# memory_hooks = CustomerSupportMemoryHooks(memory_id, memory_client, CUSTOMER_ID, SESSION_ID)\n",
    "\n",
    "# Initialize the Bedrock model\n",
    "# model_id = \"us.anthropic.claude-3-7-sonnet-20250219-v1:0\"\n",
    "# model = BedrockModel(\n",
    "#     model_id=model_id,\n",
    "#     temperature=0.3,  # Balanced between creativity and consistency\n",
    "#     region_name=REGION\n",
    "# )\n",
    "\n",
    "try:\n",
    "    mcp_client.start()\n",
    "except Exception as e:\n",
    "    print(f\"Error initializing agent: {str(e)}\")\n",
    "\n",
    "tools = (\n",
    "            [\n",
    "                fetch_data,\n",
    "                load_analyzer_runs_v2,\n",
    "                build_eval_plan_v2\n",
    "            ]\n",
    "            + mcp_client.list_tools_sync()\n",
    "            # mcp_client has fetch_data and web_search defined in lambda api_spec.json\n",
    "        )\n"
   ]
  },
  {
   "cell_type": "markdown",
   "id": "d6e16a47-8cef-4ba8-84fd-2f981fd406d4",
   "metadata": {},
   "source": [
    "## Phase 3 - Part 1. Getting Strands and Bedrock libraries for Runtime"
   ]
  },
  {
   "cell_type": "code",
   "execution_count": 13,
   "id": "a40cf588-1975-4452-adf0-74e7ef16df73",
   "metadata": {
    "execution": {
     "iopub.execute_input": "2025-10-16T06:07:55.808072Z",
     "iopub.status.busy": "2025-10-16T06:07:55.807737Z",
     "iopub.status.idle": "2025-10-16T06:07:55.811925Z",
     "shell.execute_reply": "2025-10-16T06:07:55.811102Z",
     "shell.execute_reply.started": "2025-10-16T06:07:55.808040Z"
    }
   },
   "outputs": [],
   "source": [
    "# Import required libraries\n",
    "import os\n",
    "import json\n",
    "import boto3\n",
    "from strands import Agent\n",
    "from strands.models import BedrockModel"
   ]
  },
  {
   "cell_type": "markdown",
   "id": "f437ebef-a542-4b95-8cc9-55ce25c1678b",
   "metadata": {},
   "source": [
    "## Phase 3 - CRITICAL Step. Preparing Runtime Code Base"
   ]
  },
  {
   "cell_type": "code",
   "execution_count": 14,
   "id": "a48c81f4-158c-4321-8fa4-daa02b58a5b7",
   "metadata": {
    "execution": {
     "iopub.execute_input": "2025-10-16T06:08:57.341203Z",
     "iopub.status.busy": "2025-10-16T06:08:57.340943Z",
     "iopub.status.idle": "2025-10-16T06:08:57.364595Z",
     "shell.execute_reply": "2025-10-16T06:08:57.363872Z",
     "shell.execute_reply.started": "2025-10-16T06:08:57.341184Z"
    }
   },
   "outputs": [
    {
     "name": "stdout",
     "output_type": "stream",
     "text": [
      "Overwriting ./lab_helpers/smartgoalgenerator_runtime.py\n"
     ]
    }
   ],
   "source": [
    "%%writefile ./lab_helpers/smartgoalgenerator_runtime.py\n",
    "import os\n",
    "import re\n",
    "import json\n",
    "import time\n",
    "import uuid\n",
    "\n",
    "import boto3\n",
    "import json\n",
    "\n",
    "# ===========================================\n",
    "# ===== Runtime / Model Imports ============\n",
    "# ===========================================\n",
    "from bedrock_agentcore.runtime import BedrockAgentCoreApp\n",
    "from strands import Agent\n",
    "from strands.models import BedrockModel\n",
    "from scripts.utils import get_ssm_parameter\n",
    "\n",
    "# Project helpers (must be in your deployment package)\n",
    "from lab_helpers.smartgoalgenerator_model_util import (\n",
    "    model_supports_system_prompt,\n",
    "    model_supports_tools,\n",
    "    get_analyzer_prompt,\n",
    ")\n",
    "\n",
    "# Optional tools\n",
    "try:\n",
    "    from lab_helpers.smartgoalgenerator_mcp_tools import (\n",
    "        load_analyzer_runs_v2,\n",
    "        build_eval_plan_v2,\n",
    "        fetch_data,\n",
    "    )\n",
    "except Exception:\n",
    "    load_analyzer_runs_v2 = None\n",
    "    build_eval_plan_v2 = None\n",
    "    fetch_data = None\n",
    "\n",
    "# ===================================\n",
    "# ============ CONSTANTS ============\n",
    "# ===================================\n",
    "MODEL_ID = \"mistral.mistral-7b-instruct-v0:2\"\n",
    "#MODEL_ID = \"us.anthropic.claude-3-7-sonnet-20250219-v1:0\"\n",
    "#MODEL_ID = \"meta.llama3-70b-instruct-v1:0\"\n",
    "#MODEL_ID = \"mistral.mistral-large-2402-v1:0\"\n",
    "#MODEL_ID = \"cohere.command-r-v1:0\"\n",
    "#MODEL_ID = \"openai.gpt-oss-120b-1:0\"\n",
    "\n",
    "EVAL_MODEL_ID = \"us.anthropic.claude-3-7-sonnet-20250219-v1:0\"\n",
    "\n",
    "OUTPUT_DIR_INDIVIDUAL = \"./outputs\"\n",
    "output_jsonl = \"./outputs/results.jsonl\"\n",
    "\n",
    "# =========================================\n",
    "# Evaluator runtime ARN\n",
    "# =========================================\n",
    "EVALUATOR_RUNTIME_ARN = \"arn:aws:bedrock-agentcore:us-east-1:711246752798:runtime/llm_evaluator_agent-noHKUN9oQS\"\n",
    "\n",
    "# =========================================\n",
    "# Helper function to call evaluator runtime\n",
    "# =========================================\n",
    "def call_evaluator_runtime(payload: dict) -> dict:\n",
    "    # Initialize the Bedrock AgentCore client\n",
    "    agent_core_client = boto3.client('bedrock-agentcore')\n",
    "  \n",
    "    # Prepare the payload prompt\n",
    "    #payload={'analyzer_payload':output_obj}\n",
    "    prompt = json.dumps(payload).encode()\n",
    "  \n",
    "    # Invoke the agent\n",
    "    response = agent_core_client.invoke_agent_runtime(\n",
    "                    agentRuntimeArn=EVALUATOR_RUNTIME_ARN,\n",
    "                    #agentRuntimeArn=\"arn:aws:bedrock-agentcore:us-east-1:711246752798:runtime/llm_evaluator_agent-jf0YsKAH8C\", \n",
    "                    #runtimeSessionId=session_id,\n",
    "                    payload=prompt\n",
    "                    )\n",
    "\n",
    "    # Process and print the response\n",
    "    if \"text/event-stream\" in response.get(\"contentType\", \"\"):\n",
    "        # Handle streaming response\n",
    "        content = []\n",
    "        for line in response[\"response\"].iter_lines(chunk_size=10):\n",
    "            if line:\n",
    "                line = line.decode(\"utf-8\")\n",
    "                if line.startswith(\"data: \"):\n",
    "                    line = line[6:]\n",
    "                    print(line)\n",
    "                    content.append(line)\n",
    "        #print(\"\\nComplete response:\", \"\\n\".join(content))\n",
    "        return \"\\n\".join(content)\n",
    "        \n",
    "    elif response.get(\"contentType\") == \"application/json\":\n",
    "        # Handle standard JSON response\n",
    "        content = []\n",
    "        for chunk in response.get(\"response\", []):\n",
    "            content.append(chunk.decode('utf-8'))\n",
    "        #print(json.loads(''.join(content)))\n",
    "        return json.loads(''.join(content))\n",
    "  \n",
    "    #else:\n",
    "        # Print raw response for other content types\n",
    "        #print(response)\n",
    "    return response\n",
    "\n",
    "\n",
    "# ===============================================\n",
    "# ===== Json/Jsonl Utility Helper Functions =====\n",
    "# ===============================================\n",
    "def clean_json_str(s: str) -> str:\n",
    "    # remove trailing commas before } or ]\n",
    "    s = re.sub(r\",\\s*([}\\]])\", r\"\\1\", s)\n",
    "    # strip any junk after final closing brace\n",
    "    last_brace = max(s.rfind(\"}\"), s.rfind(\"]\"))\n",
    "    if last_brace != -1:\n",
    "        s = s[:last_brace+1]\n",
    "    return s\n",
    "\n",
    "\n",
    "def _coerce_json(s):\n",
    "    import json, re\n",
    "\n",
    "    if not isinstance(s, str):\n",
    "        if hasattr(s, \"output\"): s = s.output\n",
    "        elif hasattr(s, \"content\"): s = s.content\n",
    "        elif hasattr(s, \"text\"): s = s.text\n",
    "        else: s = str(s)\n",
    "\n",
    "    s = s.strip()\n",
    "\n",
    "    if s.startswith(\"{\") and s.endswith(\"}\"):\n",
    "        candidate = s\n",
    "    else:\n",
    "        m = re.search(r\"\\{.*\\}\", s, flags=re.DOTALL)\n",
    "        if not m:\n",
    "            raise ValueError(\"No JSON object found in agent output.\")\n",
    "        candidate = m.group(0)\n",
    "\n",
    "    candidate = clean_json_str(candidate)\n",
    "    \n",
    "    try:\n",
    "        return json.loads(candidate)\n",
    "    except json.JSONDecodeError as e:\n",
    "        # Print useful debug info\n",
    "        snippet = candidate[max(0, e.pos-80):e.pos+80]\n",
    "        print(f\"\\n--- JSON parse error ---\\n{e}\\nContext:\\n...{snippet}...\\n\")\n",
    "        raise\n",
    "\n",
    "\n",
    "def _append_jsonl(path: str, obj: dict):\n",
    "    os.makedirs(os.path.dirname(path) or \".\", exist_ok=True)\n",
    "    with open(path, \"a\", encoding=\"utf-8\") as f:\n",
    "        f.write(json.dumps(obj, ensure_ascii=False) + \"\\n\")\n",
    "\n",
    "\n",
    "# ===========================================\n",
    "# ---------- helpers for filenames ----------\n",
    "# ===========================================\n",
    "def _basename_no_ext(path_or_uri: str) -> str:\n",
    "    \"\"\"\n",
    "    's3://bucket/path/patient1_summary.docx' -> 'patient1_summary'\n",
    "    'patient2.pdf' -> 'patient2'\n",
    "    'https://.../file.txt?x=y' -> 'file' (best effort)\n",
    "    \"\"\"\n",
    "    s = path_or_uri.split(\"?\", 1)[0]\n",
    "    if s.lower().startswith(\"s3://\"):\n",
    "        _, key = s[5:].split(\"/\", 1)\n",
    "        base = os.path.basename(key)\n",
    "    else:\n",
    "        base = os.path.basename(s)\n",
    "    name, _ext = os.path.splitext(base)\n",
    "    return name or \"unknown_source\"\n",
    "\n",
    "def _safe_fragment(s: str) -> str:\n",
    "    \"\"\"\n",
    "    Make a safe filename fragment: replace non [A-Za-z0-9_-] with '_'.\n",
    "    Also replace ':', '.', '/' commonly found in model ids.\n",
    "    \"\"\"\n",
    "    s = s.replace(\":\", \"_\").replace(\"/\", \"_\").replace(\".\", \"_\")\n",
    "    return \"\".join(c if c.isalnum() or c in (\"-\", \"_\") else \"_\" for c in s)\n",
    "    \n",
    "\n",
    "# =============================================\n",
    "# ===== Model Selection and configuration =====\n",
    "# =============================================\n",
    "\n",
    "# Lab1 import: Create the Bedrock model\n",
    "#model = BedrockModel(model_id=MODEL_ID)\n",
    "\n",
    "model = BedrockModel(\n",
    "                model_id=MODEL_ID,\n",
    "                max_tokens=1024,\n",
    "                temperature=0.8,\n",
    "                top_k=50,\n",
    "                top_p=0.95,\n",
    ")\n",
    "\n",
    "# Check model capabilities\n",
    "supports_system_prompt = model_supports_system_prompt(MODEL_ID)\n",
    "supports_tools = model_supports_tools(MODEL_ID)\n",
    "\n",
    "# Build a static system prompt (rules only, no src embedded)\n",
    "SYSTEM_PROMPT = get_analyzer_prompt(\"\")\n",
    "\n",
    "# Prepare agent configuration\n",
    "agent_kwargs = {\"model\": model}\n",
    "\n",
    "\"\"\"\n",
    "if supports_tools:\n",
    "    agent_kwargs[\"tools\"] = [fetch_data]\n",
    "\n",
    "\n",
    "if supports_system_prompt:\n",
    "    agent_kwargs[\"system_prompt\"] = SYSTEM_PROMPT\n",
    "\n",
    "# Initialize agent once with the right capabilities\n",
    "agent = Agent(**agent_kwargs)\n",
    "\"\"\"\n",
    "\n",
    "# Add tools if available\n",
    "optional_tools = []\n",
    "if fetch_data:\n",
    "    optional_tools.append(fetch_data)\n",
    "if build_eval_plan_v2:\n",
    "    optional_tools.append(build_eval_plan_v2)\n",
    "\n",
    "if supports_tools and optional_tools:\n",
    "    agent_kwargs[\"tools\"] = optional_tools\n",
    "\n",
    "if supports_system_prompt:\n",
    "    agent_kwargs[\"system_prompt\"] = SYSTEM_PROMPT\n",
    "\n",
    "agent = Agent(**agent_kwargs)\n",
    "\n",
    "# Initialize the AgentCore Runtime App\n",
    "app = BedrockAgentCoreApp()  #### AGENTCORE RUNTIME - LINE 2 ####\n",
    "\n",
    "\n",
    "@app.entrypoint  #### AGENTCORE RUNTIME - LINE 3 ####\n",
    "def invoke(payload):\n",
    "    \"\"\"AgentCore Runtime entrypoint function\"\"\"\n",
    "    try:\n",
    "        user_input = payload.get(\"prompt\", \"\").strip()\n",
    "        if not user_input:\n",
    "            return {\n",
    "                \"statusCode\": 400,\n",
    "                \"body\": json.dumps({\"error\": \"No prompt provided.\"})\n",
    "            }\n",
    "\n",
    "        # Step 1: Run the agent\n",
    "        if supports_tools and supports_system_prompt:\n",
    "            response = agent(f\"DATA_SOURCE: {user_input}\")\n",
    "        elif supports_tools:\n",
    "            response = agent(f\"{SYSTEM_PROMPT}\\n\\nDATA_SOURCE: {user_input}\")\n",
    "        elif supports_system_prompt:\n",
    "            response = agent(f\"DATA_SOURCE: {user_input}\")\n",
    "        else:\n",
    "            response = agent(f\"{SYSTEM_PROMPT}\\n\\nDATA_SOURCE: {user_input}\")\n",
    "            fetch_data(user_input)\n",
    "\n",
    "        # Step 2: Parse agent output\n",
    "        parsed = _coerce_json(response)\n",
    "\n",
    "        # Step 3: Normalize smart goals\n",
    "        smart_goals = []\n",
    "        goals_data = parsed.get(\"smart_goals\") or parsed.get(\"goals\") or []\n",
    "\n",
    "        for idx, goal in enumerate(goals_data, start=1):\n",
    "            if isinstance(goal, dict):\n",
    "                desc = goal.get(\"description\") or goal.get(\"goal\") or str(goal)\n",
    "            else:\n",
    "                desc = str(goal)\n",
    "            smart_goals.append({\n",
    "                \"goal_number\": idx,\n",
    "                \"description\": desc.strip()\n",
    "            })\n",
    "\n",
    "        # Step 4: Final structured output\n",
    "        output_obj = {\n",
    "            \"model_id\": MODEL_ID,\n",
    "            \"data_source\": user_input,\n",
    "            \"timestamp\": time.strftime(\"%Y-%m-%d %H:%M:%S\", time.localtime()),\n",
    "            \"smart_goals\": smart_goals,\n",
    "        }\n",
    "\n",
    "        # Step 5: Save outputs\n",
    "        os.makedirs(OUTPUT_DIR_INDIVIDUAL, exist_ok=True)\n",
    "        base = _basename_no_ext(user_input)\n",
    "        safe_model = _safe_fragment(MODEL_ID)\n",
    "        out_path = os.path.join(\n",
    "            OUTPUT_DIR_INDIVIDUAL, f\"{base}_{safe_model}_output.json\"\n",
    "        )\n",
    "\n",
    "        with open(out_path, \"w\", encoding=\"utf-8\") as f:\n",
    "            json.dump(output_obj, f, ensure_ascii=False, indent=2)\n",
    "\n",
    "        _append_jsonl(output_jsonl, output_obj)\n",
    "\n",
    "        # Step 6: Call evaluator runtime (optional)\n",
    "        evaluator_result = None\n",
    "        if build_eval_plan_v2:\n",
    "            try:\n",
    "                output_obj1 = output_obj\n",
    "                payload={'analyzer_payload':output_obj1}\n",
    "                raw_output = call_evaluator_runtime(payload) \n",
    "                eval_dict = json.loads(raw_output['body'])['evaluator_output']\n",
    "                evaluator_result = json.dumps(eval_dict, indent=2)\n",
    "                \n",
    "            except Exception as ex:\n",
    "                print(f\"Evaluator runtime failed: {ex}\")\n",
    "                evaluator_result = {\"error\": str(ex)}\n",
    "       \n",
    "        # Step 7: Return HTTP-style response\n",
    "        combined = {\"model_output\": output_obj}\n",
    "        if evaluator_result:\n",
    "            combined[\"evaluator_result\"] = evaluator_result\n",
    "\n",
    "        return {\n",
    "            \"statusCode\": 200,\n",
    "            \"headers\": {\"Content-Type\": \"application/json\"},\n",
    "            \"body\": json.dumps(combined, ensure_ascii=False),\n",
    "        }\n",
    "        \n",
    "    except Exception as e:\n",
    "        print(f\"Error: {str(e)}\")\n",
    "        return {\n",
    "            \"statusCode\": 500,\n",
    "            \"body\": json.dumps({\"error\": str(e)})\n",
    "        }\n",
    "\n",
    "\n",
    "    #user_input = payload.get(\"prompt\", \"\")      #user_input is the file path\n",
    "    # Invoke the agent\n",
    "    #response = agent(user_input)\n",
    "    #return response.message[\"content\"][0][\"text\"]\n",
    "\n",
    "\n",
    "if __name__ == \"__main__\":\n",
    "    app.run()  #### AGENTCORE RUNTIME - LINE 4 ####\n",
    "\n"
   ]
  },
  {
   "cell_type": "markdown",
   "id": "f4aa0d5a-2d8e-44ae-9a16-8a8f7cb62d18",
   "metadata": {
    "execution": {
     "iopub.execute_input": "2025-10-16T06:11:53.857984Z",
     "iopub.status.busy": "2025-10-16T06:11:53.857724Z",
     "iopub.status.idle": "2025-10-16T06:11:53.860892Z",
     "shell.execute_reply": "2025-10-16T06:11:53.860312Z",
     "shell.execute_reply.started": "2025-10-16T06:11:53.857964Z"
    }
   },
   "source": [
    "## Phase 3 - Preparing Cognito OAuth2 for Authorization to Lamdba from Gateway Request"
   ]
  },
  {
   "cell_type": "code",
   "execution_count": 16,
   "id": "a506d8cf-d4b7-4275-99d5-935730187010",
   "metadata": {
    "execution": {
     "iopub.execute_input": "2025-10-16T06:12:04.741200Z",
     "iopub.status.busy": "2025-10-16T06:12:04.740919Z",
     "iopub.status.idle": "2025-10-16T06:12:08.039897Z",
     "shell.execute_reply": "2025-10-16T06:12:08.038996Z",
     "shell.execute_reply.started": "2025-10-16T06:12:04.741174Z"
    }
   },
   "outputs": [
    {
     "name": "stdout",
     "output_type": "stream",
     "text": [
      "Setting up Amazon Cognito user pool...\n",
      "{'UserPoolId': 'us-east-1_HYWGixp4p', 'ClientName': 'MCPServerPoolClient', 'ClientId': '4id0g63er01tmgkohp7ql63g0q', 'ClientSecret': '1jq3lcfqa5d6e7rnn0dkpk6o2fkojuutbsngv55ek0k8bebo6mh2', 'LastModifiedDate': datetime.datetime(2025, 10, 16, 6, 12, 6, 253000, tzinfo=tzlocal()), 'CreationDate': datetime.datetime(2025, 10, 16, 6, 12, 6, 253000, tzinfo=tzlocal()), 'RefreshTokenValidity': 30, 'TokenValidityUnits': {}, 'ExplicitAuthFlows': ['ALLOW_USER_PASSWORD_AUTH', 'ALLOW_USER_SRP_AUTH', 'ALLOW_REFRESH_TOKEN_AUTH'], 'AllowedOAuthFlowsUserPoolClient': False, 'EnableTokenRevocation': True, 'EnablePropagateAdditionalUserContextData': False, 'AuthSessionValidity': 3}\n",
      "Pool id: us-east-1_HYWGixp4p\n",
      "Discovery URL: https://cognito-idp.us-east-1.amazonaws.com/us-east-1_HYWGixp4p/.well-known/openid-configuration\n",
      "Client ID: 4id0g63er01tmgkohp7ql63g0q\n",
      "Bearer Token: eyJraWQiOiJLcFpEbSs5bkhJamJZclZpK1ZkXC9IZlVMZDdQbllYU3F1cXVlamdXUkRvcz0iLCJhbGciOiJSUzI1NiJ9.eyJzdWIiOiIzNDI4ODQ1OC03MDExLTcwYTYtMmU4ZS03YjdjZmFlOTI2MGIiLCJpc3MiOiJodHRwczpcL1wvY29nbml0by1pZHAudXMtZWFzdC0xLmFtYXpvbmF3cy5jb21cL3VzLWVhc3QtMV9IWVdHaXhwNHAiLCJjbGllbnRfaWQiOiI0aWQwZzYzZXIwMXRtZ2tvaHA3cWw2M2cwcSIsIm9yaWdpbl9qdGkiOiIxMDQ0ODViOS04MjlhLTQ1MzAtOTkxYi1mMTdjNzdjMzgwZGUiLCJldmVudF9pZCI6ImM0YzNlYzQ1LWY0MzItNDVlMC04MWYyLTUxYjA4NzY2NDZkNCIsInRva2VuX3VzZSI6ImFjY2VzcyIsInNjb3BlIjoiYXdzLmNvZ25pdG8uc2lnbmluLnVzZXIuYWRtaW4iLCJhdXRoX3RpbWUiOjE3NjA1OTUxMjcsImV4cCI6MTc2MDU5ODcyNywiaWF0IjoxNzYwNTk1MTI3LCJqdGkiOiJmY2ExODFlNC1kNjRhLTQ0MjMtYWM1Yi02ZDRkNmQwZTAyN2YiLCJ1c2VybmFtZSI6InRlc3R1c2VyIn0.OufHcp6FW1p-lRmUXSy9RWMsTzSqz1OuaZWNvISBDGcnt2vwV7vhUF2N9m07BY6zCDWrtJB3mYBDuw0mttkD8DdS9N__7_3lwkwhDbyxpYFqB09wh-ExLRFuafWx3HgM6itUdz9Bupx7y0KpbBWZvhZyvEAfk8pymqTjpD3WDlM0GUHzFROUaxlVRHexltD9TQDpFO8hNVkzrma-mjQB8w6I8gbgvXmLB8lu82CYrNOw-6bMMaV-oWUH1B3vC7GpRHnUFWqQFrLOuXkVqEim8XwueMf8SRuQiwbeAKEBFTSzNUV5jHQWRTtAQ5CDUlxp_Dobgd-s_YPML7uZi9Hpow\n",
      "✅ Updated existing secret\n",
      "Cognito setup completed ✓\n"
     ]
    }
   ],
   "source": [
    "from lab_helpers.utils import setup_cognito_user_pool, reauthenticate_user\n",
    "\n",
    "print(\"Setting up Amazon Cognito user pool...\")\n",
    "cognito_config = (\n",
    "    setup_cognito_user_pool()\n",
    ")  # You'll get your bearer token from this output cell.\n",
    "print(\"Cognito setup completed ✓\")"
   ]
  },
  {
   "cell_type": "markdown",
   "id": "df01cb9e-4c37-4b38-8ac6-0a7adf2ef319",
   "metadata": {
    "execution": {
     "iopub.execute_input": "2025-10-16T06:13:47.115980Z",
     "iopub.status.busy": "2025-10-16T06:13:47.115587Z",
     "iopub.status.idle": "2025-10-16T06:13:47.119858Z",
     "shell.execute_reply": "2025-10-16T06:13:47.119001Z",
     "shell.execute_reply.started": "2025-10-16T06:13:47.115948Z"
    }
   },
   "source": [
    "## Phase 3 - Install Agentcore toolkit and Create Execution Role"
   ]
  },
  {
   "cell_type": "code",
   "execution_count": 18,
   "id": "62a43a00-45e2-445f-87a6-1611f59b444d",
   "metadata": {
    "execution": {
     "iopub.execute_input": "2025-10-16T06:13:56.444997Z",
     "iopub.status.busy": "2025-10-16T06:13:56.444709Z",
     "iopub.status.idle": "2025-10-16T06:13:58.279545Z",
     "shell.execute_reply": "2025-10-16T06:13:58.278565Z",
     "shell.execute_reply.started": "2025-10-16T06:13:56.444977Z"
    }
   },
   "outputs": [
    {
     "name": "stdout",
     "output_type": "stream",
     "text": [
      "Requirement already satisfied: bedrock-agentcore-starter-toolkit in /opt/conda/lib/python3.12/site-packages (0.1.25)\n",
      "Requirement already satisfied: autopep8>=2.3.2 in /opt/conda/lib/python3.12/site-packages (from bedrock-agentcore-starter-toolkit) (2.3.2)\n",
      "Requirement already satisfied: bedrock-agentcore>=0.1.7 in /opt/conda/lib/python3.12/site-packages (from bedrock-agentcore-starter-toolkit) (1.0.0)\n",
      "Requirement already satisfied: boto3>=1.40.35 in /opt/conda/lib/python3.12/site-packages (from bedrock-agentcore-starter-toolkit) (1.40.53)\n",
      "Requirement already satisfied: botocore>=1.40.35 in /opt/conda/lib/python3.12/site-packages (from bedrock-agentcore-starter-toolkit) (1.40.53)\n",
      "Requirement already satisfied: docstring-parser<1.0,>=0.15 in /opt/conda/lib/python3.12/site-packages (from bedrock-agentcore-starter-toolkit) (0.17.0)\n",
      "Requirement already satisfied: httpx>=0.28.1 in /opt/conda/lib/python3.12/site-packages (from bedrock-agentcore-starter-toolkit) (0.28.1)\n",
      "Requirement already satisfied: jinja2>=3.1.6 in /opt/conda/lib/python3.12/site-packages (from bedrock-agentcore-starter-toolkit) (3.1.6)\n",
      "Requirement already satisfied: openapi-spec-validator>=0.7.2 in /opt/conda/lib/python3.12/site-packages (from bedrock-agentcore-starter-toolkit) (0.7.2)\n",
      "Requirement already satisfied: prance>=25.4.8.0 in /opt/conda/lib/python3.12/site-packages (from bedrock-agentcore-starter-toolkit) (25.4.8.0)\n",
      "Requirement already satisfied: prompt-toolkit>=3.0.51 in /opt/conda/lib/python3.12/site-packages (from bedrock-agentcore-starter-toolkit) (3.0.51)\n",
      "Requirement already satisfied: py-openapi-schema-to-json-schema>=0.0.3 in /opt/conda/lib/python3.12/site-packages (from bedrock-agentcore-starter-toolkit) (0.0.3)\n",
      "Requirement already satisfied: pydantic<3.0.0,>=2.0.0 in /opt/conda/lib/python3.12/site-packages (from bedrock-agentcore-starter-toolkit) (2.11.7)\n",
      "Requirement already satisfied: pyyaml>=6.0.2 in /opt/conda/lib/python3.12/site-packages (from bedrock-agentcore-starter-toolkit) (6.0.3)\n",
      "Requirement already satisfied: questionary>=2.1.0 in /opt/conda/lib/python3.12/site-packages (from bedrock-agentcore-starter-toolkit) (2.1.1)\n",
      "Requirement already satisfied: requests>=2.25.0 in /opt/conda/lib/python3.12/site-packages (from bedrock-agentcore-starter-toolkit) (2.32.5)\n",
      "Requirement already satisfied: rich>=13.0.0 in /opt/conda/lib/python3.12/site-packages (from bedrock-agentcore-starter-toolkit) (14.2.0)\n",
      "Requirement already satisfied: ruamel-yaml>=0.18.14 in /opt/conda/lib/python3.12/site-packages (from bedrock-agentcore-starter-toolkit) (0.18.14)\n",
      "Requirement already satisfied: toml>=0.10.2 in /opt/conda/lib/python3.12/site-packages (from bedrock-agentcore-starter-toolkit) (0.10.2)\n",
      "Requirement already satisfied: typer>=0.16.0 in /opt/conda/lib/python3.12/site-packages (from bedrock-agentcore-starter-toolkit) (0.16.0)\n",
      "Requirement already satisfied: typing-extensions<5.0.0,>=4.13.2 in /opt/conda/lib/python3.12/site-packages (from bedrock-agentcore-starter-toolkit) (4.14.1)\n",
      "Requirement already satisfied: urllib3>=1.26.0 in /opt/conda/lib/python3.12/site-packages (from bedrock-agentcore-starter-toolkit) (2.5.0)\n",
      "Requirement already satisfied: uvicorn>=0.34.2 in /opt/conda/lib/python3.12/site-packages (from bedrock-agentcore-starter-toolkit) (0.35.0)\n",
      "Requirement already satisfied: annotated-types>=0.6.0 in /opt/conda/lib/python3.12/site-packages (from pydantic<3.0.0,>=2.0.0->bedrock-agentcore-starter-toolkit) (0.7.0)\n",
      "Requirement already satisfied: pydantic-core==2.33.2 in /opt/conda/lib/python3.12/site-packages (from pydantic<3.0.0,>=2.0.0->bedrock-agentcore-starter-toolkit) (2.33.2)\n",
      "Requirement already satisfied: typing-inspection>=0.4.0 in /opt/conda/lib/python3.12/site-packages (from pydantic<3.0.0,>=2.0.0->bedrock-agentcore-starter-toolkit) (0.4.1)\n",
      "Requirement already satisfied: pycodestyle>=2.12.0 in /opt/conda/lib/python3.12/site-packages (from autopep8>=2.3.2->bedrock-agentcore-starter-toolkit) (2.12.1)\n",
      "Requirement already satisfied: starlette>=0.46.2 in /opt/conda/lib/python3.12/site-packages (from bedrock-agentcore>=0.1.7->bedrock-agentcore-starter-toolkit) (0.47.2)\n",
      "Requirement already satisfied: jmespath<2.0.0,>=0.7.1 in /opt/conda/lib/python3.12/site-packages (from boto3>=1.40.35->bedrock-agentcore-starter-toolkit) (1.0.1)\n",
      "Requirement already satisfied: s3transfer<0.15.0,>=0.14.0 in /opt/conda/lib/python3.12/site-packages (from boto3>=1.40.35->bedrock-agentcore-starter-toolkit) (0.14.0)\n",
      "Requirement already satisfied: python-dateutil<3.0.0,>=2.1 in /opt/conda/lib/python3.12/site-packages (from botocore>=1.40.35->bedrock-agentcore-starter-toolkit) (2.9.0.post0)\n",
      "Requirement already satisfied: six>=1.5 in /opt/conda/lib/python3.12/site-packages (from python-dateutil<3.0.0,>=2.1->botocore>=1.40.35->bedrock-agentcore-starter-toolkit) (1.17.0)\n",
      "Requirement already satisfied: anyio in /opt/conda/lib/python3.12/site-packages (from httpx>=0.28.1->bedrock-agentcore-starter-toolkit) (4.10.0)\n",
      "Requirement already satisfied: certifi in /opt/conda/lib/python3.12/site-packages (from httpx>=0.28.1->bedrock-agentcore-starter-toolkit) (2025.8.3)\n",
      "Requirement already satisfied: httpcore==1.* in /opt/conda/lib/python3.12/site-packages (from httpx>=0.28.1->bedrock-agentcore-starter-toolkit) (1.0.9)\n",
      "Requirement already satisfied: idna in /opt/conda/lib/python3.12/site-packages (from httpx>=0.28.1->bedrock-agentcore-starter-toolkit) (3.10)\n",
      "Requirement already satisfied: h11>=0.16 in /opt/conda/lib/python3.12/site-packages (from httpcore==1.*->httpx>=0.28.1->bedrock-agentcore-starter-toolkit) (0.16.0)\n",
      "Requirement already satisfied: MarkupSafe>=2.0 in /opt/conda/lib/python3.12/site-packages (from jinja2>=3.1.6->bedrock-agentcore-starter-toolkit) (3.0.2)\n",
      "Requirement already satisfied: jsonschema<5.0.0,>=4.18.0 in /opt/conda/lib/python3.12/site-packages (from openapi-spec-validator>=0.7.2->bedrock-agentcore-starter-toolkit) (4.23.0)\n",
      "Requirement already satisfied: jsonschema-path<0.4.0,>=0.3.1 in /opt/conda/lib/python3.12/site-packages (from openapi-spec-validator>=0.7.2->bedrock-agentcore-starter-toolkit) (0.3.4)\n",
      "Requirement already satisfied: lazy-object-proxy<2.0.0,>=1.7.1 in /opt/conda/lib/python3.12/site-packages (from openapi-spec-validator>=0.7.2->bedrock-agentcore-starter-toolkit) (1.12.0)\n",
      "Requirement already satisfied: openapi-schema-validator<0.7.0,>=0.6.0 in /opt/conda/lib/python3.12/site-packages (from openapi-spec-validator>=0.7.2->bedrock-agentcore-starter-toolkit) (0.6.3)\n",
      "Requirement already satisfied: attrs>=22.2.0 in /opt/conda/lib/python3.12/site-packages (from jsonschema<5.0.0,>=4.18.0->openapi-spec-validator>=0.7.2->bedrock-agentcore-starter-toolkit) (23.2.0)\n",
      "Requirement already satisfied: jsonschema-specifications>=2023.03.6 in /opt/conda/lib/python3.12/site-packages (from jsonschema<5.0.0,>=4.18.0->openapi-spec-validator>=0.7.2->bedrock-agentcore-starter-toolkit) (2025.4.1)\n",
      "Requirement already satisfied: referencing>=0.28.4 in /opt/conda/lib/python3.12/site-packages (from jsonschema<5.0.0,>=4.18.0->openapi-spec-validator>=0.7.2->bedrock-agentcore-starter-toolkit) (0.36.2)\n",
      "Requirement already satisfied: rpds-py>=0.7.1 in /opt/conda/lib/python3.12/site-packages (from jsonschema<5.0.0,>=4.18.0->openapi-spec-validator>=0.7.2->bedrock-agentcore-starter-toolkit) (0.27.0)\n",
      "Requirement already satisfied: pathable<0.5.0,>=0.4.1 in /opt/conda/lib/python3.12/site-packages (from jsonschema-path<0.4.0,>=0.3.1->openapi-spec-validator>=0.7.2->bedrock-agentcore-starter-toolkit) (0.4.4)\n",
      "Requirement already satisfied: rfc3339-validator in /opt/conda/lib/python3.12/site-packages (from openapi-schema-validator<0.7.0,>=0.6.0->openapi-spec-validator>=0.7.2->bedrock-agentcore-starter-toolkit) (0.1.4)\n",
      "Requirement already satisfied: charset_normalizer<4,>=2 in /opt/conda/lib/python3.12/site-packages (from requests>=2.25.0->bedrock-agentcore-starter-toolkit) (3.4.3)\n",
      "Requirement already satisfied: chardet>=5.2 in /opt/conda/lib/python3.12/site-packages (from prance>=25.4.8.0->bedrock-agentcore-starter-toolkit) (5.2.0)\n",
      "Requirement already satisfied: packaging>=24.2 in /opt/conda/lib/python3.12/site-packages (from prance>=25.4.8.0->bedrock-agentcore-starter-toolkit) (24.2)\n",
      "Requirement already satisfied: wcwidth in /opt/conda/lib/python3.12/site-packages (from prompt-toolkit>=3.0.51->bedrock-agentcore-starter-toolkit) (0.2.13)\n",
      "Requirement already satisfied: markdown-it-py>=2.2.0 in /opt/conda/lib/python3.12/site-packages (from rich>=13.0.0->bedrock-agentcore-starter-toolkit) (4.0.0)\n",
      "Requirement already satisfied: pygments<3.0.0,>=2.13.0 in /opt/conda/lib/python3.12/site-packages (from rich>=13.0.0->bedrock-agentcore-starter-toolkit) (2.19.2)\n",
      "Requirement already satisfied: mdurl~=0.1 in /opt/conda/lib/python3.12/site-packages (from markdown-it-py>=2.2.0->rich>=13.0.0->bedrock-agentcore-starter-toolkit) (0.1.2)\n",
      "Requirement already satisfied: ruamel.yaml.clib>=0.2.7 in /opt/conda/lib/python3.12/site-packages (from ruamel-yaml>=0.18.14->bedrock-agentcore-starter-toolkit) (0.2.8)\n",
      "Requirement already satisfied: sniffio>=1.1 in /opt/conda/lib/python3.12/site-packages (from anyio->httpx>=0.28.1->bedrock-agentcore-starter-toolkit) (1.3.1)\n",
      "Requirement already satisfied: click>=8.0.0 in /opt/conda/lib/python3.12/site-packages (from typer>=0.16.0->bedrock-agentcore-starter-toolkit) (8.2.1)\n",
      "Requirement already satisfied: shellingham>=1.3.0 in /opt/conda/lib/python3.12/site-packages (from typer>=0.16.0->bedrock-agentcore-starter-toolkit) (1.5.4)\n",
      "Note: you may need to restart the kernel to use updated packages.\n"
     ]
    }
   ],
   "source": [
    "pip install bedrock-agentcore-starter-toolkit"
   ]
  },
  {
   "cell_type": "markdown",
   "id": "7ee4bc20-0f8a-4db9-8686-cd5dcae4dbbd",
   "metadata": {},
   "source": [
    "## Phase 3 - Create/Configure Agentcore Runtime as Docker and Deploy to ECR"
   ]
  },
  {
   "cell_type": "code",
   "execution_count": 19,
   "id": "3c4baae1-1f4b-4a05-b346-bf6f897284c6",
   "metadata": {
    "execution": {
     "iopub.execute_input": "2025-10-16T06:15:10.786144Z",
     "iopub.status.busy": "2025-10-16T06:15:10.785851Z",
     "iopub.status.idle": "2025-10-16T06:15:11.315546Z",
     "shell.execute_reply": "2025-10-16T06:15:11.314897Z",
     "shell.execute_reply.started": "2025-10-16T06:15:10.786120Z"
    }
   },
   "outputs": [
    {
     "name": "stderr",
     "output_type": "stream",
     "text": [
      "Entrypoint parsed: file=/mnt/custom-file-systems/efs/fs-09f36259b5e98907e_fsap-09cbf9f8e29ef1a0c/SIPPA-smart-goal-generator/lab_helpers/smartgoalgenerator_runtime.py, bedrock_agentcore_name=smartgoalgenerator_runtime\n",
      "Memory configured with STM only\n",
      "Configuring BedrockAgentCore agent: smart_goal_generator_agent\n"
     ]
    },
    {
     "name": "stdout",
     "output_type": "stream",
     "text": [
      "ℹ️ Role SmartGoalGeneratorBedrockAgentCoreRole-us-east-1 already exists\n",
      "Role ARN: arn:aws:iam::711246752798:role/SmartGoalGeneratorBedrockAgentCoreRole-us-east-1\n"
     ]
    },
    {
     "data": {
      "text/html": [
       "<pre style=\"white-space:pre;overflow-x:auto;line-height:normal;font-family:Menlo,'DejaVu Sans Mono',consolas,'Courier New',monospace\">\n",
       "💡 <span style=\"color: #008080; text-decoration-color: #008080\">No container engine found </span><span style=\"color: #008080; text-decoration-color: #008080; font-weight: bold\">(</span><span style=\"color: #008080; text-decoration-color: #008080\">Docker/Finch/Podman not installed</span><span style=\"color: #008080; text-decoration-color: #008080; font-weight: bold\">)</span>\n",
       "</pre>\n"
      ],
      "text/plain": [
       "\n",
       "💡 \u001b[36mNo container engine found \u001b[0m\u001b[1;36m(\u001b[0m\u001b[36mDocker/Finch/Podman not installed\u001b[0m\u001b[1;36m)\u001b[0m\n"
      ]
     },
     "metadata": {},
     "output_type": "display_data"
    },
    {
     "data": {
      "text/html": [
       "<pre style=\"white-space:pre;overflow-x:auto;line-height:normal;font-family:Menlo,'DejaVu Sans Mono',consolas,'Courier New',monospace\"><span style=\"color: #008000; text-decoration-color: #008000\">✓</span> Default deployment uses CodeBuild <span style=\"font-weight: bold\">(</span>no container engine needed<span style=\"font-weight: bold\">)</span>, For local builds, install Docker, Finch, or \n",
       "Podman\n",
       "</pre>\n"
      ],
      "text/plain": [
       "\u001b[32m✓\u001b[0m Default deployment uses CodeBuild \u001b[1m(\u001b[0mno container engine needed\u001b[1m)\u001b[0m, For local builds, install Docker, Finch, or \n",
       "Podman\n"
      ]
     },
     "metadata": {},
     "output_type": "display_data"
    },
    {
     "name": "stderr",
     "output_type": "stream",
     "text": [
      "Will create new memory with mode: STM_ONLY\n",
      "Memory configuration: Short-term memory only\n",
      "Found existing memory ID from previous launch: smart_goal_generator_agent_mem-7XGgEH7GBM\n"
     ]
    },
    {
     "data": {
      "text/html": [
       "<pre style=\"white-space:pre;overflow-x:auto;line-height:normal;font-family:Menlo,'DejaVu Sans Mono',consolas,'Courier New',monospace\">\n",
       "<span style=\"color: #808000; text-decoration-color: #808000\">⚠️ Platform mismatch: Current system is </span><span style=\"color: #008000; text-decoration-color: #008000\">'linux/amd64'</span><span style=\"color: #808000; text-decoration-color: #808000\"> but Bedrock AgentCore requires </span><span style=\"color: #008000; text-decoration-color: #008000\">'linux/arm64'</span><span style=\"color: #808000; text-decoration-color: #808000\">, so local builds</span>\n",
       "<span style=\"color: #808000; text-decoration-color: #808000\">won't work.</span>\n",
       "<span style=\"color: #808000; text-decoration-color: #808000\">Please use default launch command which will do a remote cross-platform build using code build.For deployment other</span>\n",
       "<span style=\"color: #808000; text-decoration-color: #808000\">options and workarounds, see: </span>\n",
       "<span style=\"color: #0000ff; text-decoration-color: #0000ff; text-decoration: underline\">https://docs.aws.amazon.com/bedrock-agentcore/latest/devguide/getting-started-custom.html</span>\n",
       "\n",
       "</pre>\n"
      ],
      "text/plain": [
       "\n",
       "\u001b[33m⚠️ Platform mismatch: Current system is \u001b[0m\u001b[32m'linux/amd64'\u001b[0m\u001b[33m but Bedrock AgentCore requires \u001b[0m\u001b[32m'linux/arm64'\u001b[0m\u001b[33m, so local builds\u001b[0m\n",
       "\u001b[33mwon't work.\u001b[0m\n",
       "\u001b[33mPlease use default launch command which will do a remote cross-platform build using code build.For deployment other\u001b[0m\n",
       "\u001b[33moptions and workarounds, see: \u001b[0m\n",
       "\u001b[4;94mhttps://docs.aws.amazon.com/bedrock-agentcore/latest/devguide/getting-started-custom.html\u001b[0m\n",
       "\n"
      ]
     },
     "metadata": {},
     "output_type": "display_data"
    },
    {
     "name": "stderr",
     "output_type": "stream",
     "text": [
      "Generated Dockerfile: Dockerfile\n",
      "Generated .dockerignore: /mnt/custom-file-systems/efs/fs-09f36259b5e98907e_fsap-09cbf9f8e29ef1a0c/SIPPA-smart-goal-generator/.dockerignore\n",
      "Keeping 'smart_goal_generator_agent' as default agent\n",
      "Bedrock AgentCore configured: /mnt/custom-file-systems/efs/fs-09f36259b5e98907e_fsap-09cbf9f8e29ef1a0c/SIPPA-smart-goal-generator/.bedrock_agentcore.yaml\n"
     ]
    },
    {
     "name": "stdout",
     "output_type": "stream",
     "text": [
      "Configuration completed: config_path=PosixPath('/mnt/custom-file-systems/efs/fs-09f36259b5e98907e_fsap-09cbf9f8e29ef1a0c/SIPPA-smart-goal-generator/.bedrock_agentcore.yaml') dockerfile_path=PosixPath('/mnt/custom-file-systems/efs/fs-09f36259b5e98907e_fsap-09cbf9f8e29ef1a0c/SIPPA-smart-goal-generator/Dockerfile') dockerignore_path=PosixPath('/mnt/custom-file-systems/efs/fs-09f36259b5e98907e_fsap-09cbf9f8e29ef1a0c/SIPPA-smart-goal-generator/.dockerignore') runtime='None' region='us-east-1' account_id='711246752798' execution_role='arn:aws:iam::711246752798:role/SmartGoalGeneratorBedrockAgentCoreRole-us-east-1' ecr_repository=None auto_create_ecr=True memory_id=None\n"
     ]
    }
   ],
   "source": [
    "from bedrock_agentcore_starter_toolkit import Runtime\n",
    "from lab_helpers.utils import create_agentcore_runtime_execution_role\n",
    "\n",
    "# Initialize the runtime toolkit\n",
    "boto_session = boto3.session.Session()\n",
    "region = boto_session.region_name\n",
    "\n",
    "execution_role_arn = create_agentcore_runtime_execution_role()\n",
    "\n",
    "agentcore_runtime = Runtime()\n",
    "\n",
    "# Configure the deployment\n",
    "response = agentcore_runtime.configure(\n",
    "    entrypoint=\"lab_helpers/smartgoalgenerator_runtime.py\",\n",
    "    execution_role=execution_role_arn,\n",
    "    auto_create_ecr=True,\n",
    "    requirements_file=\"requirements.txt\",\n",
    "    region=region,\n",
    "    agent_name=\"smart_goal_generator_agent\",\n",
    "    authorizer_configuration={\n",
    "        \"customJWTAuthorizer\": {\n",
    "            \"allowedClients\": [cognito_config.get(\"client_id\")],\n",
    "            \"discoveryUrl\": cognito_config.get(\"discovery_url\"),\n",
    "        }\n",
    "    },\n",
    ")\n",
    "\n",
    "print(\"Configuration completed:\", response)"
   ]
  },
  {
   "cell_type": "code",
   "execution_count": 20,
   "id": "84bcb396-0c88-4abf-91c4-5e3e23f5e93f",
   "metadata": {
    "execution": {
     "iopub.execute_input": "2025-10-16T06:15:30.723321Z",
     "iopub.status.busy": "2025-10-16T06:15:30.722901Z",
     "iopub.status.idle": "2025-10-16T06:16:20.171681Z",
     "shell.execute_reply": "2025-10-16T06:16:20.170915Z",
     "shell.execute_reply.started": "2025-10-16T06:15:30.723293Z"
    }
   },
   "outputs": [
    {
     "name": "stderr",
     "output_type": "stream",
     "text": [
      "🚀 CodeBuild mode: building in cloud (RECOMMENDED - DEFAULT)\n",
      "   • Build ARM64 containers in the cloud with CodeBuild\n",
      "   • No local Docker required\n",
      "💡 Available deployment modes:\n",
      "   • runtime.launch()                           → CodeBuild (current)\n",
      "   • runtime.launch(local=True)                 → Local development\n",
      "   • runtime.launch(local_build=True)           → Local build + cloud deploy (NEW)\n",
      "Creating memory resource for agent: smart_goal_generator_agent\n",
      "✅ MemoryManager initialized for region: us-east-1\n",
      "🔎 Retrieving memory resource with ID: smart_goal_generator_agent_mem-7XGgEH7GBM...\n",
      "  Found memory: smart_goal_generator_agent_mem-7XGgEH7GBM\n",
      "Found existing memory in cloud: smart_goal_generator_agent_mem-7XGgEH7GBM\n",
      "Existing memory has 0 strategies\n",
      "✅ Using existing STM-only memory\n",
      "Starting CodeBuild ARM64 deployment for agent 'smart_goal_generator_agent' to account 711246752798 (us-east-1)\n",
      "Setting up AWS resources (ECR repository, execution roles)...\n",
      "Getting or creating ECR repository for agent: smart_goal_generator_agent\n",
      "✅ ECR repository available: 711246752798.dkr.ecr.us-east-1.amazonaws.com/bedrock-agentcore-smart_goal_generator_agent\n",
      "Using execution role from config: arn:aws:iam::711246752798:role/SmartGoalGeneratorBedrockAgentCoreRole-us-east-1\n",
      "Preparing CodeBuild project and uploading source...\n",
      "Getting or creating CodeBuild execution role for agent: smart_goal_generator_agent\n",
      "Role name: AmazonBedrockAgentCoreSDKCodeBuild-us-east-1-982ee6f783\n"
     ]
    },
    {
     "name": "stdout",
     "output_type": "stream",
     "text": [
      "✅ Reusing existing ECR repository: 711246752798.dkr.ecr.us-east-1.amazonaws.com/bedrock-agentcore-smart_goal_generator_agent\n"
     ]
    },
    {
     "name": "stderr",
     "output_type": "stream",
     "text": [
      "Reusing existing CodeBuild execution role: arn:aws:iam::711246752798:role/AmazonBedrockAgentCoreSDKCodeBuild-us-east-1-982ee6f783\n",
      "Using dockerignore.template with 45 patterns for zip filtering\n",
      "Uploaded source to S3: smart_goal_generator_agent/source.zip\n",
      "Updated CodeBuild project: bedrock-agentcore-smart_goal_generator_agent-builder\n",
      "Starting CodeBuild build (this may take several minutes)...\n",
      "Starting CodeBuild monitoring...\n",
      "🔄 QUEUED started (total: 0s)\n",
      "✅ QUEUED completed in 1.0s\n",
      "🔄 PROVISIONING started (total: 1s)\n",
      "✅ PROVISIONING completed in 9.3s\n",
      "🔄 DOWNLOAD_SOURCE started (total: 10s)\n",
      "✅ DOWNLOAD_SOURCE completed in 2.1s\n",
      "🔄 BUILD started (total: 12s)\n",
      "✅ BUILD completed in 16.5s\n",
      "🔄 POST_BUILD started (total: 29s)\n",
      "✅ POST_BUILD completed in 12.4s\n",
      "🔄 FINALIZING started (total: 41s)\n",
      "✅ FINALIZING completed in 1.0s\n",
      "🔄 COMPLETED started (total: 42s)\n",
      "✅ COMPLETED completed in 1.0s\n",
      "🎉 CodeBuild completed successfully in 0m 43s\n",
      "CodeBuild completed successfully\n",
      "✅ CodeBuild project configuration saved\n",
      "Deploying to Bedrock AgentCore...\n",
      "Passing memory configuration to agent: smart_goal_generator_agent_mem-7XGgEH7GBM\n",
      "⚠️ Session ID will be reset to connect to the updated agent. The previous agent remains accessible via the original session ID: 222cf5de-6a6b-46e1-a215-7dc54072c448\n",
      "✅ Agent created/updated: arn:aws:bedrock-agentcore:us-east-1:711246752798:runtime/smart_goal_generator_agent-YAsRgN3gAq\n",
      "Observability is enabled, configuring Transaction Search...\n",
      "CloudWatch Logs resource policy already configured\n",
      "X-Ray trace destination already configured\n",
      "X-Ray indexing rule already configured\n",
      "✅ Transaction Search already fully configured\n",
      "🔍 GenAI Observability Dashboard:\n",
      "   https://console.aws.amazon.com/cloudwatch/home?region=us-east-1#gen-ai-observability/agent-core\n",
      "Polling for endpoint to be ready...\n",
      "Agent endpoint: arn:aws:bedrock-agentcore:us-east-1:711246752798:runtime/smart_goal_generator_agent-YAsRgN3gAq/runtime-endpoint/DEFAULT\n",
      "Deployment completed successfully - Agent: arn:aws:bedrock-agentcore:us-east-1:711246752798:runtime/smart_goal_generator_agent-YAsRgN3gAq\n",
      "Built with CodeBuild: bedrock-agentcore-smart_goal_generator_agent-builder:7e9f5a36-5f2d-46f5-9650-a188f3b5dc64\n",
      "Deployed to cloud: arn:aws:bedrock-agentcore:us-east-1:711246752798:runtime/smart_goal_generator_agent-YAsRgN3gAq\n",
      "ECR image: 711246752798.dkr.ecr.us-east-1.amazonaws.com/bedrock-agentcore-smart_goal_generator_agent\n",
      "🔍 Agent logs available at:\n",
      "   /aws/bedrock-agentcore/runtimes/smart_goal_generator_agent-YAsRgN3gAq-DEFAULT --log-stream-name-prefix \"2025/10/16/\\[runtime-logs]\"\n",
      "   /aws/bedrock-agentcore/runtimes/smart_goal_generator_agent-YAsRgN3gAq-DEFAULT --log-stream-names \"otel-rt-logs\"\n",
      "💡 Tail logs with: aws logs tail /aws/bedrock-agentcore/runtimes/smart_goal_generator_agent-YAsRgN3gAq-DEFAULT --log-stream-name-prefix \"2025/10/16/\\[runtime-logs]\" --follow\n",
      "💡 Or view recent logs: aws logs tail /aws/bedrock-agentcore/runtimes/smart_goal_generator_agent-YAsRgN3gAq-DEFAULT --log-stream-name-prefix \"2025/10/16/\\[runtime-logs]\" --since 1h\n"
     ]
    },
    {
     "name": "stdout",
     "output_type": "stream",
     "text": [
      "Launch completed: arn:aws:bedrock-agentcore:us-east-1:711246752798:runtime/smart_goal_generator_agent-YAsRgN3gAq\n"
     ]
    }
   ],
   "source": [
    "# Launch the agent (this will build and deploy the container)\n",
    "from lab_helpers.utils import put_ssm_parameter\n",
    "\n",
    "launch_result = agentcore_runtime.launch()\n",
    "print(\"Launch completed:\", launch_result.agent_arn)\n",
    "\n",
    "agent_arn = put_ssm_parameter(\n",
    "    \"/app/smartgoalgenerator/agentcore/runtime_arn\", launch_result.agent_arn\n",
    ")"
   ]
  },
  {
   "cell_type": "markdown",
   "id": "966540f5-b1a1-412b-ad75-6910120a9d7d",
   "metadata": {
    "execution": {
     "iopub.execute_input": "2025-10-16T06:19:17.356328Z",
     "iopub.status.busy": "2025-10-16T06:19:17.356055Z",
     "iopub.status.idle": "2025-10-16T06:19:17.361890Z",
     "shell.execute_reply": "2025-10-16T06:19:17.361028Z",
     "shell.execute_reply.started": "2025-10-16T06:19:17.356308Z"
    }
   },
   "source": [
    "## Phase 3 Milestone 1 Completed: Agentcore Agent Runtime Deployment to ECR Integrated with MCP tools Ready. Time to Check Provisioning Status "
   ]
  },
  {
   "cell_type": "code",
   "execution_count": 23,
   "id": "14fc20e5-20b6-4f5f-9f97-37af572d4063",
   "metadata": {
    "execution": {
     "iopub.execute_input": "2025-10-16T06:20:34.549958Z",
     "iopub.status.busy": "2025-10-16T06:20:34.549689Z",
     "iopub.status.idle": "2025-10-16T06:20:35.433648Z",
     "shell.execute_reply": "2025-10-16T06:20:35.432734Z",
     "shell.execute_reply.started": "2025-10-16T06:20:34.549938Z"
    }
   },
   "outputs": [
    {
     "name": "stderr",
     "output_type": "stream",
     "text": [
      "✅ MemoryManager initialized for region: us-east-1\n",
      "🔎 Retrieving memory resource with ID: smart_goal_generator_agent_mem-7XGgEH7GBM...\n",
      "  Found memory: smart_goal_generator_agent_mem-7XGgEH7GBM\n",
      "Retrieved Bedrock AgentCore status for: smart_goal_generator_agent\n"
     ]
    },
    {
     "name": "stdout",
     "output_type": "stream",
     "text": [
      "Final status: READY\n"
     ]
    }
   ],
   "source": [
    "import time\n",
    "\n",
    "# Wait for the agent to be ready\n",
    "status_response = agentcore_runtime.status()\n",
    "status = status_response.endpoint[\"status\"]\n",
    "\n",
    "end_status = [\"READY\", \"CREATE_FAILED\", \"DELETE_FAILED\", \"UPDATE_FAILED\"]\n",
    "while status not in end_status:\n",
    "    print(f\"Waiting for deployment... Current status: {status}\")\n",
    "    time.sleep(10)\n",
    "    status_response = agentcore_runtime.status()\n",
    "    status = status_response.endpoint[\"status\"]\n",
    "\n",
    "print(f\"Final status: {status}\")"
   ]
  },
  {
   "cell_type": "markdown",
   "id": "f4e5f38e-4e9f-44e1-87da-fcda0ab3552b",
   "metadata": {},
   "source": [
    "## Phase 3 Milestone 2 - Invoke Agentcore Agents in Two Different Kernel Sessions. "
   ]
  },
  {
   "cell_type": "markdown",
   "id": "74ed4459-a600-43c1-8674-57108d0b4c29",
   "metadata": {
    "execution": {
     "iopub.execute_input": "2025-10-16T06:31:38.857717Z",
     "iopub.status.busy": "2025-10-16T06:31:38.857459Z",
     "iopub.status.idle": "2025-10-16T06:31:38.861726Z",
     "shell.execute_reply": "2025-10-16T06:31:38.860992Z",
     "shell.execute_reply.started": "2025-10-16T06:31:38.857697Z"
    },
    "jp-MarkdownHeadingCollapsed": true
   },
   "source": [
    "### Agent 1 (in this session): Invoke MCP Tool via API Gateway to Retrieve a Medical Record and Generate S.M.A.R.T. goals According to the Medical Record "
   ]
  },
  {
   "cell_type": "markdown",
   "id": "8bad751d-7eac-4ea5-8ebd-51875e9268ad",
   "metadata": {
    "execution": {
     "iopub.execute_input": "2025-10-16T06:33:44.659933Z",
     "iopub.status.busy": "2025-10-16T06:33:44.659674Z",
     "iopub.status.idle": "2025-10-16T06:33:44.663029Z",
     "shell.execute_reply": "2025-10-16T06:33:44.662256Z",
     "shell.execute_reply.started": "2025-10-16T06:33:44.659913Z"
    }
   },
   "source": [
    "### Agent 2 (in a separated session): Act as LLM-as-Judge to Evaluate the S.M.A.R.T. Goals According to Defined Metrics "
   ]
  },
  {
   "cell_type": "code",
   "execution_count": 38,
   "id": "d265bc9d-aaab-4994-b45a-f1456f4871fb",
   "metadata": {
    "execution": {
     "iopub.execute_input": "2025-10-16T06:38:47.489500Z",
     "iopub.status.busy": "2025-10-16T06:38:47.489210Z",
     "iopub.status.idle": "2025-10-16T06:39:06.556260Z",
     "shell.execute_reply": "2025-10-16T06:39:06.555546Z",
     "shell.execute_reply.started": "2025-10-16T06:38:47.489478Z"
    },
    "scrolled": true
   },
   "outputs": [
    {
     "data": {
      "text/plain": [
       "{'response': '{\"statusCode\": 200, \"headers\": {\"Content-Type\": \"application/json\"}, \"body\": \"{\\\\\"model_output\\\\\": {\\\\\"model_id\\\\\": \\\\\"mistral.mistral-7b-instruct-v0:2\\\\\", \\\\\"data_source\\\\\": \\\\\"s3://sippa/app_data_repo/SIPPA_AI-Extraction-Treatment-Plan/clinician_summary_data_source/AM-09121152.docx\\\\\", \\\\\"timestamp\\\\\": \\\\\"2025-10-16 06:38:53\\\\\", \\\\\"smart_goals\\\\\": [{\\\\\"goal_number\\\\\": 1, \\\\\"description\\\\\": \\\\\"Reduce daily carbohydrate intake to 45g per meal, as per the meal plan provided by the healthcare team. Monitor progress by recording and tracking carbohydrate intake daily using a food diary app, aiming for an average of 135g carbohydrates per day. Review progress with healthcare team every 2 weeks.\\\\\"}, {\\\\\"goal_number\\\\\": 2, \\\\\"description\\\\\": \\\\\"Engage in at least 150 minutes of moderate-intensity aerobic activity or 75 minutes of vigorous-intensity aerobic activity per week, as recommended by the American Diabetes Association. Track progress using a fitness tracker and record workouts in a log. Evaluate progress and adjust activity plan as necessary with the healthcare team.\\\\\"}, {\\\\\"goal_number\\\\\": 3, \\\\\"description\\\\\": \\\\\"Maintain a consistent medication regimen as prescribed by the healthcare team. This includes taking prescribed medications at the designated times and in the correct doses. Monitor blood glucose levels daily and adjust medication schedule as needed based on glucose readings in consultation with the healthcare team.\\\\\"}, {\\\\\"goal_number\\\\\": 4, \\\\\"description\\\\\": \\\\\"Check and log blood glucose levels before each meal and at bedtime, aiming for a pre-meal target of 80-130 mg/dL and a bedtime target of 100-140 mg/dL. Consult with the healthcare team if blood glucose levels consistently fall outside of these targets.\\\\\"}, {\\\\\"goal_number\\\\\": 5, \\\\\"description\\\\\": \\\\\"Maintain a healthy weight by aiming for a loss of 0.5-1 lb per week, as recommended by the healthcare team. Monitor progress by weighing yourself once a week and tracking food intake and physical activity in a journal. Adjust goals and strategies as needed in consultation with the healthcare team.\\\\\"}]}, \\\\\"evaluator_result\\\\\": \\\\\"{\\\\\\\\n  \\\\\\\\\\\\\"evaluation_type\\\\\\\\\\\\\": \\\\\\\\\\\\\"smart_goals_rubric\\\\\\\\\\\\\",\\\\\\\\n  \\\\\\\\\\\\\"cases_scored\\\\\\\\\\\\\": 5,\\\\\\\\n  \\\\\\\\\\\\\"scores\\\\\\\\\\\\\": [\\\\\\\\n    {\\\\\\\\n      \\\\\\\\\\\\\"case_id\\\\\\\\\\\\\": \\\\\\\\\\\\\"1\\\\\\\\\\\\\",\\\\\\\\n      \\\\\\\\\\\\\"metric_scores\\\\\\\\\\\\\": {\\\\\\\\n        \\\\\\\\\\\\\"specific\\\\\\\\\\\\\": 1.0,\\\\\\\\n        \\\\\\\\\\\\\"measurable\\\\\\\\\\\\\": 1.0,\\\\\\\\n        \\\\\\\\\\\\\"achievable\\\\\\\\\\\\\": 0.9,\\\\\\\\n        \\\\\\\\\\\\\"relevant\\\\\\\\\\\\\": 1.0,\\\\\\\\n        \\\\\\\\\\\\\"time_bound\\\\\\\\\\\\\": 1.0,\\\\\\\\n        \\\\\\\\\\\\\"clarity\\\\\\\\\\\\\": 1.0\\\\\\\\n      },\\\\\\\\n      \\\\\\\\\\\\\"agreement\\\\\\\\\\\\\": \\\\\\\\\\\\\"n/a\\\\\\\\\\\\\",\\\\\\\\n      \\\\\\\\\\\\\"notes\\\\\\\\\\\\\": \\\\\\\\\\\\\"Goal specifies exact carb targets (45g/meal), tracking method (food diary app), and review timeline (2 weeks).\\\\\\\\\\\\\"\\\\\\\\n    },\\\\\\\\n    {\\\\\\\\n      \\\\\\\\\\\\\"case_id\\\\\\\\\\\\\": \\\\\\\\\\\\\"2\\\\\\\\\\\\\",\\\\\\\\n      \\\\\\\\\\\\\"metric_scores\\\\\\\\\\\\\": {\\\\\\\\n        \\\\\\\\\\\\\"specific\\\\\\\\\\\\\": 1.0,\\\\\\\\n        \\\\\\\\\\\\\"measurable\\\\\\\\\\\\\": 1.0,\\\\\\\\n        \\\\\\\\\\\\\"achievable\\\\\\\\\\\\\": 0.9,\\\\\\\\n        \\\\\\\\\\\\\"relevant\\\\\\\\\\\\\": 1.0,\\\\\\\\n        \\\\\\\\\\\\\"time_bound\\\\\\\\\\\\\": 1.0,\\\\\\\\n        \\\\\\\\\\\\\"clarity\\\\\\\\\\\\\": 1.0\\\\\\\\n      },\\\\\\\\n      \\\\\\\\\\\\\"agreement\\\\\\\\\\\\\": \\\\\\\\\\\\\"n/a\\\\\\\\\\\\\",\\\\\\\\n      \\\\\\\\\\\\\"notes\\\\\\\\\\\\\": \\\\\\\\\\\\\"Goal clearly specifies activity duration (150/75 min), intensity levels, tracking method, and includes evaluation timeline.\\\\\\\\\\\\\"\\\\\\\\n    },\\\\\\\\n    {\\\\\\\\n      \\\\\\\\\\\\\"case_id\\\\\\\\\\\\\": \\\\\\\\\\\\\"3\\\\\\\\\\\\\",\\\\\\\\n      \\\\\\\\\\\\\"metric_scores\\\\\\\\\\\\\": {\\\\\\\\n        \\\\\\\\\\\\\"specific\\\\\\\\\\\\\": 0.8,\\\\\\\\n        \\\\\\\\\\\\\"measurable\\\\\\\\\\\\\": 0.7,\\\\\\\\n        \\\\\\\\\\\\\"achievable\\\\\\\\\\\\\": 0.9,\\\\\\\\n        \\\\\\\\\\\\\"relevant\\\\\\\\\\\\\": 1.0,\\\\\\\\n        \\\\\\\\\\\\\"time_bound\\\\\\\\\\\\\": 0.8,\\\\\\\\n        \\\\\\\\\\\\\"clarity\\\\\\\\\\\\\": 0.9\\\\\\\\n      },\\\\\\\\n      \\\\\\\\\\\\\"agreement\\\\\\\\\\\\\": \\\\\\\\\\\\\"n/a\\\\\\\\\\\\\",\\\\\\\\n      \\\\\\\\\\\\\"notes\\\\\\\\\\\\\": \\\\\\\\\\\\\"Goal lacks specificity about exact medications/doses, though monitoring is clear. Could be more measurable with compliance targets.\\\\\\\\\\\\\"\\\\\\\\n    },\\\\\\\\n    {\\\\\\\\n      \\\\\\\\\\\\\"case_id\\\\\\\\\\\\\": \\\\\\\\\\\\\"4\\\\\\\\\\\\\",\\\\\\\\n      \\\\\\\\\\\\\"metric_scores\\\\\\\\\\\\\": {\\\\\\\\n        \\\\\\\\\\\\\"specific\\\\\\\\\\\\\": 1.0,\\\\\\\\n        \\\\\\\\\\\\\"measurable\\\\\\\\\\\\\": 1.0,\\\\\\\\n        \\\\\\\\\\\\\"achievable\\\\\\\\\\\\\": 0.9,\\\\\\\\n        \\\\\\\\\\\\\"relevant\\\\\\\\\\\\\": 1.0,\\\\\\\\n        \\\\\\\\\\\\\"time_bound\\\\\\\\\\\\\": 0.9,\\\\\\\\n        \\\\\\\\\\\\\"clarity\\\\\\\\\\\\\": 1.0\\\\\\\\n      },\\\\\\\\n      \\\\\\\\\\\\\"agreement\\\\\\\\\\\\\": \\\\\\\\\\\\\"n/a\\\\\\\\\\\\\",\\\\\\\\n      \\\\\\\\\\\\\"notes\\\\\\\\\\\\\": \\\\\\\\\\\\\"Goal provides specific timing (before meals/bedtime), exact target ranges, and clear action steps for deviations.\\\\\\\\\\\\\"\\\\\\\\n    },\\\\\\\\n    {\\\\\\\\n      \\\\\\\\\\\\\"case_id\\\\\\\\\\\\\": \\\\\\\\\\\\\"5\\\\\\\\\\\\\",\\\\\\\\n      \\\\\\\\\\\\\"metric_scores\\\\\\\\\\\\\": {\\\\\\\\n        \\\\\\\\\\\\\"specific\\\\\\\\\\\\\": 1.0,\\\\\\\\n        \\\\\\\\\\\\\"measurable\\\\\\\\\\\\\": 1.0,\\\\\\\\n        \\\\\\\\\\\\\"achievable\\\\\\\\\\\\\": 0.9,\\\\\\\\n        \\\\\\\\\\\\\"relevant\\\\\\\\\\\\\": 1.0,\\\\\\\\n        \\\\\\\\\\\\\"time_bound\\\\\\\\\\\\\": 0.9,\\\\\\\\n        \\\\\\\\\\\\\"clarity\\\\\\\\\\\\\": 1.0\\\\\\\\n      },\\\\\\\\n      \\\\\\\\\\\\\"agreement\\\\\\\\\\\\\": \\\\\\\\\\\\\"n/a\\\\\\\\\\\\\",\\\\\\\\n      \\\\\\\\\\\\\"notes\\\\\\\\\\\\\": \\\\\\\\\\\\\"Goal specifies exact weight loss target (0.5-1 lb/week), monitoring method (weekly weighing), and tracking approach.\\\\\\\\\\\\\"\\\\\\\\n    }\\\\\\\\n  ]\\\\\\\\n}\\\\\"}\"}'}"
      ]
     },
     "execution_count": 38,
     "metadata": {},
     "output_type": "execute_result"
    }
   ],
   "source": [
    "import uuid\n",
    "\n",
    "# Create a session ID for demonstrating session continuity\n",
    "session_id = uuid.uuid4()\n",
    "\n",
    "# Test different customer support scenarios\n",
    "#user_query = \"s3://patient-summary-bucket/patient1_summary.docx\"\n",
    "user_query = \"s3://sippa/app_data_repo/SIPPA_AI-Extraction-Treatment-Plan/clinician_summary_data_source/AM-09121152.docx\"\n",
    "\n",
    "\n",
    "bearer_token = reauthenticate_user(\n",
    "    cognito_config.get(\"client_id\"), \n",
    "    cognito_config.get(\"client_secret\")\n",
    ")\n",
    "\n",
    "response = agentcore_runtime.invoke(\n",
    "    {\"prompt\": user_query}, \n",
    "    bearer_token=bearer_token,\n",
    "    session_id=str(session_id)\n",
    ")\n",
    "response"
   ]
  },
  {
   "cell_type": "markdown",
   "id": "bd9983f0-3506-4977-9624-1d3bc58bf566",
   "metadata": {},
   "source": [
    "### Phase 3 Wrapped Up. Log the Session Activity"
   ]
  },
  {
   "cell_type": "code",
   "execution_count": 31,
   "id": "fed59d03-1d9c-413e-81e4-4568adda29a2",
   "metadata": {
    "execution": {
     "iopub.execute_input": "2025-10-16T06:36:42.613262Z",
     "iopub.status.busy": "2025-10-16T06:36:42.612994Z",
     "iopub.status.idle": "2025-10-16T06:36:42.655314Z",
     "shell.execute_reply": "2025-10-16T06:36:42.654673Z",
     "shell.execute_reply.started": "2025-10-16T06:36:42.613240Z"
    }
   },
   "outputs": [
    {
     "name": "stdout",
     "output_type": "stream",
     "text": [
      "{'UserId': 'AROA2LGM4FQPKRBVPP2VG:SageMaker', 'Account': '711246752798', 'Arn': 'arn:aws:sts::711246752798:assumed-role/AmazonSageMaker-ExecutionRole-20250818T210256/SageMaker', 'ResponseMetadata': {'RequestId': '13e4dcd0-db5a-4361-9ff6-df7ad371f414', 'HTTPStatusCode': 200, 'HTTPHeaders': {'x-amzn-requestid': '13e4dcd0-db5a-4361-9ff6-df7ad371f414', 'x-amz-sts-extended-request-id': 'MTp1cy1lYXN0LTE6MTc2MDU5NjYwMjYzNjpSOlFHN2RISmJ5', 'content-type': 'text/xml', 'content-length': '470', 'date': 'Thu, 16 Oct 2025 06:36:42 GMT'}, 'RetryAttempts': 0}}\n"
     ]
    }
   ],
   "source": [
    "import boto3\n",
    "print(boto3.client(\"sts\").get_caller_identity())\n",
    "\n"
   ]
  },
  {
   "cell_type": "code",
   "execution_count": null,
   "id": "13f4b970-be2f-4f0e-aedd-2d53497c5e02",
   "metadata": {},
   "outputs": [],
   "source": []
  },
  {
   "cell_type": "markdown",
   "id": "e634be33-7b18-49af-87f5-3a3f1edb2b73",
   "metadata": {},
   "source": [
    "## Unit Testing on Accessing Agentcore Agent Residing in a Different Session"
   ]
  },
  {
   "cell_type": "code",
   "execution_count": 32,
   "id": "b764dbb4-a667-4fed-81f7-5300f38e5c5d",
   "metadata": {
    "execution": {
     "iopub.execute_input": "2025-10-16T06:37:27.746928Z",
     "iopub.status.busy": "2025-10-16T06:37:27.746633Z",
     "iopub.status.idle": "2025-10-16T06:37:27.753038Z",
     "shell.execute_reply": "2025-10-16T06:37:27.752046Z",
     "shell.execute_reply.started": "2025-10-16T06:37:27.746901Z"
    }
   },
   "outputs": [],
   "source": [
    "import boto3\n",
    "import json\n",
    "\n",
    "EVALUATOR_RUNTIME_ARN = \"arn:aws:bedrock-agentcore:us-east-1:711246752798:runtime/llm_evaluator_agent-noHKUN9oQS\"\n",
    "\n",
    "def call_evaluator_runtime(payload: dict) -> dict:\n",
    "    # Initialize the Bedrock AgentCore client\n",
    "    agent_core_client = boto3.client('bedrock-agentcore')\n",
    "  \n",
    "    # Prepare the payload prompt\n",
    "    #payload={'analyzer_payload':output_obj}\n",
    "    prompt = json.dumps(payload).encode()\n",
    "  \n",
    "    # Invoke the agent\n",
    "    response = agent_core_client.invoke_agent_runtime(\n",
    "                    agentRuntimeArn=EVALUATOR_RUNTIME_ARN,\n",
    "                    #agentRuntimeArn=\"arn:aws:bedrock-agentcore:us-east-1:711246752798:runtime/llm_evaluator_agent-jf0YsKAH8C\", \n",
    "                    #runtimeSessionId=session_id,\n",
    "                    payload=prompt\n",
    "                    )\n",
    "\n",
    "    # Process and print the response\n",
    "    if \"text/event-stream\" in response.get(\"contentType\", \"\"):\n",
    "        # Handle streaming response\n",
    "        content = []\n",
    "        for line in response[\"response\"].iter_lines(chunk_size=10):\n",
    "            if line:\n",
    "                line = line.decode(\"utf-8\")\n",
    "                if line.startswith(\"data: \"):\n",
    "                    line = line[6:]\n",
    "                    print(line)\n",
    "                    content.append(line)\n",
    "        #print(\"\\nComplete response:\", \"\\n\".join(content))\n",
    "        return \"\\n\".join(content)\n",
    "        \n",
    "    elif response.get(\"contentType\") == \"application/json\":\n",
    "        # Handle standard JSON response\n",
    "        content = []\n",
    "        for chunk in response.get(\"response\", []):\n",
    "            content.append(chunk.decode('utf-8'))\n",
    "        #print(json.loads(''.join(content)))\n",
    "        return json.loads(''.join(content))\n",
    "  \n",
    "    #else:\n",
    "        # Print raw response for other content types\n",
    "        #print(response)\n",
    "    return response\n"
   ]
  },
  {
   "cell_type": "code",
   "execution_count": 33,
   "id": "97a978fe-39d2-4db0-8045-e6b288b9d822",
   "metadata": {
    "execution": {
     "iopub.execute_input": "2025-10-16T06:37:30.532412Z",
     "iopub.status.busy": "2025-10-16T06:37:30.532135Z",
     "iopub.status.idle": "2025-10-16T06:37:30.536775Z",
     "shell.execute_reply": "2025-10-16T06:37:30.536053Z",
     "shell.execute_reply.started": "2025-10-16T06:37:30.532389Z"
    }
   },
   "outputs": [],
   "source": [
    "output_obj=[{'case_id': 1,\n",
    "  'timestamp': '2025-10-13 00:55:59',\n",
    "  'goal_number': 1,\n",
    "  'goal_text': 'Reduce daily carbohydrate intake to 45g per meal and aim for a total of 135g per day. Monitor progress weekly by recording carbohydrate counts in food diary.'},\n",
    " {'case_id': 2,\n",
    "  'timestamp': '2025-10-13 00:55:59',\n",
    "  'goal_number': 2,\n",
    "  'goal_text': 'Engage in at least 30 minutes of moderate-intensity aerobic activity 5 days per week. Track activity using a fitness tracker or smartphone app.'},\n",
    " {'case_id': 3,\n",
    "  'timestamp': '2025-10-13 00:55:59',\n",
    "  'goal_number': 3,\n",
    "  'goal_text': 'Take metformin 500mg twice daily with meals. Refill prescription every 90 days and report any side effects to healthcare provider.'},\n",
    " {'case_id': 4,\n",
    "  'timestamp': '2025-10-13 00:55:59',\n",
    "  'goal_number': 4,\n",
    "  'goal_text': 'Check blood glucose levels before meals and at bedtime. Target pre-meal blood glucose levels below 130mg/dL and bedtime levels below 110mg/dL. Record results in a log.'},\n",
    " {'case_id': 5,\n",
    "  'timestamp': '2025-10-13 00:55:59',\n",
    "  'goal_number': 5,\n",
    "  'goal_text': 'Maintain adequate water intake by drinking at least 8 glasses of water per day. Monitor urine color and report any unusual changes to healthcare provider.'},\n",
    " {'case_id': 6,\n",
    "  'timestamp': '2025-10-13 00:55:59',\n",
    "  'goal_number': 6,\n",
    "  'goal_text': 'Attend all scheduled appointments with healthcare provider and bring a copy of the most recent blood glucose log. Update medication list and share any medication changes.'}]"
   ]
  },
  {
   "cell_type": "code",
   "execution_count": 34,
   "id": "709d0c4a-d31a-48d8-9079-f7af122779fc",
   "metadata": {
    "execution": {
     "iopub.execute_input": "2025-10-16T06:37:31.270717Z",
     "iopub.status.busy": "2025-10-16T06:37:31.270367Z",
     "iopub.status.idle": "2025-10-16T06:37:47.076295Z",
     "shell.execute_reply": "2025-10-16T06:37:47.075628Z",
     "shell.execute_reply.started": "2025-10-16T06:37:31.270693Z"
    }
   },
   "outputs": [
    {
     "data": {
      "text/plain": [
       "{'statusCode': 200,\n",
       " 'headers': {'Content-Type': 'application/json'},\n",
       " 'body': '{\"run_id\": \"e2f70b50-9d5f-4be9-a904-a104bec3b733\", \"timestamp\": \"2025-10-16 06:37:47\", \"evaluator_output\": {\"evaluation_type\": \"smart_goals_rubric\", \"cases_scored\": 6, \"scores\": [{\"case_id\": 1, \"metric_scores\": {\"specific\": 1.0, \"measurable\": 1.0, \"achievable\": 0.9, \"relevant\": 1.0, \"time_bound\": 0.8, \"clarity\": 1.0}, \"agreement\": \"n/a\", \"notes\": \"Clear carb targets (45g/meal, 135g/day) with weekly monitoring. Time-bound for monitoring but not end goal achievement.\"}, {\"case_id\": 2, \"metric_scores\": {\"specific\": 1.0, \"measurable\": 1.0, \"achievable\": 1.0, \"relevant\": 1.0, \"time_bound\": 1.0, \"clarity\": 1.0}, \"agreement\": \"n/a\", \"notes\": \"Fully SMART with precise activity duration (30 min), frequency (5 days/week), intensity level, and tracking method specified.\"}, {\"case_id\": 3, \"metric_scores\": {\"specific\": 1.0, \"measurable\": 0.9, \"achievable\": 1.0, \"relevant\": 1.0, \"time_bound\": 0.9, \"clarity\": 1.0}, \"agreement\": \"n/a\", \"notes\": \"Clear medication regimen with specific dosage, timing, and follow-up actions. Slightly less measurable as compliance tracking not specified.\"}, {\"case_id\": 4, \"metric_scores\": {\"specific\": 1.0, \"measurable\": 1.0, \"achievable\": 0.9, \"relevant\": 1.0, \"time_bound\": 0.8, \"clarity\": 1.0}, \"agreement\": \"n/a\", \"notes\": \"Precise target glucose levels with specific testing times. No end timeframe for achieving targets, though daily monitoring is clear.\"}, {\"case_id\": 5, \"metric_scores\": {\"specific\": 0.9, \"measurable\": 0.8, \"achievable\": 1.0, \"relevant\": 0.9, \"time_bound\": 0.9, \"clarity\": 0.9}, \"agreement\": \"n/a\", \"notes\": \"Clear daily water target but monitoring method (urine color) is subjective. Relevance to primary health condition less direct than other goals.\"}, {\"case_id\": 6, \"metric_scores\": {\"specific\": 0.8, \"measurable\": 0.8, \"achievable\": 1.0, \"relevant\": 1.0, \"time_bound\": 0.7, \"clarity\": 0.9}, \"agreement\": \"n/a\", \"notes\": \"Attendance goal is clear but lacks specific appointment frequency. Actions at appointments are well-defined but timing is implied rather than explicit.\"}]}, \"analyzer_input\": [{\"case_id\": 1, \"timestamp\": \"2025-10-13 00:55:59\", \"goal_number\": 1, \"goal_text\": \"Reduce daily carbohydrate intake to 45g per meal and aim for a total of 135g per day. Monitor progress weekly by recording carbohydrate counts in food diary.\"}, {\"case_id\": 2, \"timestamp\": \"2025-10-13 00:55:59\", \"goal_number\": 2, \"goal_text\": \"Engage in at least 30 minutes of moderate-intensity aerobic activity 5 days per week. Track activity using a fitness tracker or smartphone app.\"}, {\"case_id\": 3, \"timestamp\": \"2025-10-13 00:55:59\", \"goal_number\": 3, \"goal_text\": \"Take metformin 500mg twice daily with meals. Refill prescription every 90 days and report any side effects to healthcare provider.\"}, {\"case_id\": 4, \"timestamp\": \"2025-10-13 00:55:59\", \"goal_number\": 4, \"goal_text\": \"Check blood glucose levels before meals and at bedtime. Target pre-meal blood glucose levels below 130mg/dL and bedtime levels below 110mg/dL. Record results in a log.\"}, {\"case_id\": 5, \"timestamp\": \"2025-10-13 00:55:59\", \"goal_number\": 5, \"goal_text\": \"Maintain adequate water intake by drinking at least 8 glasses of water per day. Monitor urine color and report any unusual changes to healthcare provider.\"}, {\"case_id\": 6, \"timestamp\": \"2025-10-13 00:55:59\", \"goal_number\": 6, \"goal_text\": \"Attend all scheduled appointments with healthcare provider and bring a copy of the most recent blood glucose log. Update medication list and share any medication changes.\"}]}'}"
      ]
     },
     "execution_count": 34,
     "metadata": {},
     "output_type": "execute_result"
    }
   ],
   "source": [
    "payload={'analyzer_payload':output_obj}\n",
    "\n",
    "raw_output = call_evaluator_runtime(payload)\n",
    "\n",
    "raw_output"
   ]
  },
  {
   "cell_type": "code",
   "execution_count": 35,
   "id": "6373b86f-f3f2-4a5e-87d7-d98a92ed6b20",
   "metadata": {
    "execution": {
     "iopub.execute_input": "2025-10-16T06:38:01.981138Z",
     "iopub.status.busy": "2025-10-16T06:38:01.980679Z",
     "iopub.status.idle": "2025-10-16T06:38:01.995525Z",
     "shell.execute_reply": "2025-10-16T06:38:01.994667Z",
     "shell.execute_reply.started": "2025-10-16T06:38:01.981112Z"
    }
   },
   "outputs": [
    {
     "data": {
      "text/plain": [
       "{'evaluation_type': 'smart_goals_rubric',\n",
       " 'cases_scored': 6,\n",
       " 'scores': [{'case_id': 1,\n",
       "   'metric_scores': {'specific': 1.0,\n",
       "    'measurable': 1.0,\n",
       "    'achievable': 0.9,\n",
       "    'relevant': 1.0,\n",
       "    'time_bound': 0.8,\n",
       "    'clarity': 1.0},\n",
       "   'agreement': 'n/a',\n",
       "   'notes': 'Clear carb targets (45g/meal, 135g/day) with weekly monitoring. Time-bound for monitoring but not end goal achievement.'},\n",
       "  {'case_id': 2,\n",
       "   'metric_scores': {'specific': 1.0,\n",
       "    'measurable': 1.0,\n",
       "    'achievable': 1.0,\n",
       "    'relevant': 1.0,\n",
       "    'time_bound': 1.0,\n",
       "    'clarity': 1.0},\n",
       "   'agreement': 'n/a',\n",
       "   'notes': 'Fully SMART with precise activity duration (30 min), frequency (5 days/week), intensity level, and tracking method specified.'},\n",
       "  {'case_id': 3,\n",
       "   'metric_scores': {'specific': 1.0,\n",
       "    'measurable': 0.9,\n",
       "    'achievable': 1.0,\n",
       "    'relevant': 1.0,\n",
       "    'time_bound': 0.9,\n",
       "    'clarity': 1.0},\n",
       "   'agreement': 'n/a',\n",
       "   'notes': 'Clear medication regimen with specific dosage, timing, and follow-up actions. Slightly less measurable as compliance tracking not specified.'},\n",
       "  {'case_id': 4,\n",
       "   'metric_scores': {'specific': 1.0,\n",
       "    'measurable': 1.0,\n",
       "    'achievable': 0.9,\n",
       "    'relevant': 1.0,\n",
       "    'time_bound': 0.8,\n",
       "    'clarity': 1.0},\n",
       "   'agreement': 'n/a',\n",
       "   'notes': 'Precise target glucose levels with specific testing times. No end timeframe for achieving targets, though daily monitoring is clear.'},\n",
       "  {'case_id': 5,\n",
       "   'metric_scores': {'specific': 0.9,\n",
       "    'measurable': 0.8,\n",
       "    'achievable': 1.0,\n",
       "    'relevant': 0.9,\n",
       "    'time_bound': 0.9,\n",
       "    'clarity': 0.9},\n",
       "   'agreement': 'n/a',\n",
       "   'notes': 'Clear daily water target but monitoring method (urine color) is subjective. Relevance to primary health condition less direct than other goals.'},\n",
       "  {'case_id': 6,\n",
       "   'metric_scores': {'specific': 0.8,\n",
       "    'measurable': 0.8,\n",
       "    'achievable': 1.0,\n",
       "    'relevant': 1.0,\n",
       "    'time_bound': 0.7,\n",
       "    'clarity': 0.9},\n",
       "   'agreement': 'n/a',\n",
       "   'notes': 'Attendance goal is clear but lacks specific appointment frequency. Actions at appointments are well-defined but timing is implied rather than explicit.'}]}"
      ]
     },
     "execution_count": 35,
     "metadata": {},
     "output_type": "execute_result"
    }
   ],
   "source": [
    "eval_output=json.loads(raw_output['body'])['evaluator_output']\n",
    "eval_output"
   ]
  },
  {
   "cell_type": "code",
   "execution_count": 36,
   "id": "4c0786ca-6546-4227-8391-7d95c1277ec4",
   "metadata": {
    "execution": {
     "iopub.execute_input": "2025-10-16T06:38:03.328721Z",
     "iopub.status.busy": "2025-10-16T06:38:03.328330Z",
     "iopub.status.idle": "2025-10-16T06:38:03.336738Z",
     "shell.execute_reply": "2025-10-16T06:38:03.335511Z",
     "shell.execute_reply.started": "2025-10-16T06:38:03.328697Z"
    }
   },
   "outputs": [
    {
     "data": {
      "text/plain": [
       "'{\\n  \"evaluation_type\": \"smart_goals_rubric\",\\n  \"cases_scored\": 6,\\n  \"scores\": [\\n    {\\n      \"case_id\": 1,\\n      \"metric_scores\": {\\n        \"specific\": 1.0,\\n        \"measurable\": 1.0,\\n        \"achievable\": 0.9,\\n        \"relevant\": 1.0,\\n        \"time_bound\": 0.8,\\n        \"clarity\": 1.0\\n      },\\n      \"agreement\": \"n/a\",\\n      \"notes\": \"Clear carb targets (45g/meal, 135g/day) with weekly monitoring. Time-bound for monitoring but not end goal achievement.\"\\n    },\\n    {\\n      \"case_id\": 2,\\n      \"metric_scores\": {\\n        \"specific\": 1.0,\\n        \"measurable\": 1.0,\\n        \"achievable\": 1.0,\\n        \"relevant\": 1.0,\\n        \"time_bound\": 1.0,\\n        \"clarity\": 1.0\\n      },\\n      \"agreement\": \"n/a\",\\n      \"notes\": \"Fully SMART with precise activity duration (30 min), frequency (5 days/week), intensity level, and tracking method specified.\"\\n    },\\n    {\\n      \"case_id\": 3,\\n      \"metric_scores\": {\\n        \"specific\": 1.0,\\n        \"measurable\": 0.9,\\n        \"achievable\": 1.0,\\n        \"relevant\": 1.0,\\n        \"time_bound\": 0.9,\\n        \"clarity\": 1.0\\n      },\\n      \"agreement\": \"n/a\",\\n      \"notes\": \"Clear medication regimen with specific dosage, timing, and follow-up actions. Slightly less measurable as compliance tracking not specified.\"\\n    },\\n    {\\n      \"case_id\": 4,\\n      \"metric_scores\": {\\n        \"specific\": 1.0,\\n        \"measurable\": 1.0,\\n        \"achievable\": 0.9,\\n        \"relevant\": 1.0,\\n        \"time_bound\": 0.8,\\n        \"clarity\": 1.0\\n      },\\n      \"agreement\": \"n/a\",\\n      \"notes\": \"Precise target glucose levels with specific testing times. No end timeframe for achieving targets, though daily monitoring is clear.\"\\n    },\\n    {\\n      \"case_id\": 5,\\n      \"metric_scores\": {\\n        \"specific\": 0.9,\\n        \"measurable\": 0.8,\\n        \"achievable\": 1.0,\\n        \"relevant\": 0.9,\\n        \"time_bound\": 0.9,\\n        \"clarity\": 0.9\\n      },\\n      \"agreement\": \"n/a\",\\n      \"notes\": \"Clear daily water target but monitoring method (urine color) is subjective. Relevance to primary health condition less direct than other goals.\"\\n    },\\n    {\\n      \"case_id\": 6,\\n      \"metric_scores\": {\\n        \"specific\": 0.8,\\n        \"measurable\": 0.8,\\n        \"achievable\": 1.0,\\n        \"relevant\": 1.0,\\n        \"time_bound\": 0.7,\\n        \"clarity\": 0.9\\n      },\\n      \"agreement\": \"n/a\",\\n      \"notes\": \"Attendance goal is clear but lacks specific appointment frequency. Actions at appointments are well-defined but timing is implied rather than explicit.\"\\n    }\\n  ]\\n}'"
      ]
     },
     "execution_count": 36,
     "metadata": {},
     "output_type": "execute_result"
    }
   ],
   "source": [
    "evaluator_result = json.dumps(eval_output, indent=2)\n",
    "evaluator_result"
   ]
  },
  {
   "cell_type": "code",
   "execution_count": null,
   "id": "41ba4a5f-0789-4073-b4b2-5545170bfd7f",
   "metadata": {},
   "outputs": [],
   "source": []
  },
  {
   "cell_type": "code",
   "execution_count": 37,
   "id": "25ea0841-e4ed-4d7f-9862-0de4137380b8",
   "metadata": {
    "execution": {
     "iopub.execute_input": "2025-10-16T06:38:11.216143Z",
     "iopub.status.busy": "2025-10-16T06:38:11.215792Z",
     "iopub.status.idle": "2025-10-16T06:38:29.309251Z",
     "shell.execute_reply": "2025-10-16T06:38:29.308576Z",
     "shell.execute_reply.started": "2025-10-16T06:38:11.216119Z"
    }
   },
   "outputs": [
    {
     "data": {
      "text/plain": [
       "'{\\n  \"evaluation_type\": \"smart_goals_rubric\",\\n  \"cases_scored\": 6,\\n  \"scores\": [\\n    {\\n      \"case_id\": 1,\\n      \"metric_scores\": {\\n        \"specific\": 1.0,\\n        \"measurable\": 1.0,\\n        \"achievable\": 0.9,\\n        \"relevant\": 1.0,\\n        \"time_bound\": 0.8,\\n        \"clarity\": 1.0\\n      },\\n      \"agreement\": \"n/a\",\\n      \"notes\": \"Goal specifies exact carb amounts (45g/meal, 135g/day) with weekly monitoring via food diary. Time frame for achievement could be more explicit.\"\\n    },\\n    {\\n      \"case_id\": 2,\\n      \"metric_scores\": {\\n        \"specific\": 1.0,\\n        \"measurable\": 1.0,\\n        \"achievable\": 1.0,\\n        \"relevant\": 1.0,\\n        \"time_bound\": 0.9,\\n        \"clarity\": 1.0\\n      },\\n      \"agreement\": \"n/a\",\\n      \"notes\": \"Clearly defines activity type, duration (30 min), frequency (5 days/week), and tracking method. Only missing overall timeframe for goal achievement.\"\\n    },\\n    {\\n      \"case_id\": 3,\\n      \"metric_scores\": {\\n        \"specific\": 1.0,\\n        \"measurable\": 0.8,\\n        \"achievable\": 1.0,\\n        \"relevant\": 1.0,\\n        \"time_bound\": 1.0,\\n        \"clarity\": 1.0\\n      },\\n      \"agreement\": \"n/a\",\\n      \"notes\": \"Precisely defines medication, dosage, timing, and refill schedule. Measurability could include adherence tracking method beyond refills.\"\\n    },\\n    {\\n      \"case_id\": 4,\\n      \"metric_scores\": {\\n        \"specific\": 1.0,\\n        \"measurable\": 1.0,\\n        \"achievable\": 1.0,\\n        \"relevant\": 1.0,\\n        \"time_bound\": 0.8,\\n        \"clarity\": 1.0\\n      },\\n      \"agreement\": \"n/a\",\\n      \"notes\": \"Specifies testing frequency, target levels, and recording method. Could benefit from timeframe for achieving target levels consistently.\"\\n    },\\n    {\\n      \"case_id\": 5,\\n      \"metric_scores\": {\\n        \"specific\": 0.9,\\n        \"measurable\": 0.8,\\n        \"achievable\": 1.0,\\n        \"relevant\": 0.9,\\n        \"time_bound\": 0.7,\\n        \"clarity\": 0.9\\n      },\\n      \"agreement\": \"n/a\",\\n      \"notes\": \"Quantifies water intake (8 glasses) but monitoring method (urine color) is subjective. No timeframe for implementation and relevance to primary condition could be clearer.\"\\n    },\\n    {\\n      \"case_id\": 6,\\n      \"metric_scores\": {\\n        \"specific\": 0.9,\\n        \"measurable\": 0.8,\\n        \"achievable\": 1.0,\\n        \"relevant\": 1.0,\\n        \"time_bound\": 0.7,\\n        \"clarity\": 0.9\\n      },\\n      \"agreement\": \"n/a\",\\n      \"notes\": \"Specifies attendance and materials to bring but lacks explicit frequency of appointments or specific timeframe. Overall purpose is clear and relevant.\"\\n    }\\n  ]\\n}'"
      ]
     },
     "execution_count": 37,
     "metadata": {},
     "output_type": "execute_result"
    }
   ],
   "source": [
    "# Putting it together\n",
    "output_obj1 = output_obj\n",
    "payload={'analyzer_payload':output_obj1}\n",
    "raw_output = call_evaluator_runtime(payload) \n",
    "eval_dict = json.loads(raw_output['body'])['evaluator_output']\n",
    "evaluator_result = json.dumps(eval_dict, indent=2)\n",
    "evaluator_result"
   ]
  },
  {
   "cell_type": "code",
   "execution_count": null,
   "id": "8ab58d79-c2af-4de8-8253-d450e849e15b",
   "metadata": {},
   "outputs": [],
   "source": []
  }
 ],
 "metadata": {
  "kernelspec": {
   "display_name": "Python 3 (ipykernel)",
   "language": "python",
   "name": "python3"
  },
  "language_info": {
   "codemirror_mode": {
    "name": "ipython",
    "version": 3
   },
   "file_extension": ".py",
   "mimetype": "text/x-python",
   "name": "python",
   "nbconvert_exporter": "python",
   "pygments_lexer": "ipython3",
   "version": "3.12.9"
  }
 },
 "nbformat": 4,
 "nbformat_minor": 5
}
