{
 "cells": [
  {
   "cell_type": "markdown",
   "id": "bc918d1b",
   "metadata": {},
   "source": [
    "# 🧹 AgentCore End-to-End Cleanup\n",
    "\n",
    "This notebook provides a comprehensive cleanup process for all resources created during the AgentCore End-to-End tutorial.\n",
    "\n",
    "## Overview\n",
    "\n",
    "This cleanup process will remove:\n",
    "- **Memory**: AgentCore Memory resources and stored data\n",
    "- **Runtime**: Agent runtime instances and ECR repositories\n",
    "- **Security**: Execution roles, and Authorization Provider resources\n",
    "- **Observability**: CloudWatch log groups and streams\n",
    "- **Local Files**: Generated configuration and code files\n",
    "\n",
    "⚠️ **Important**: This cleanup is irreversible. Make sure you have saved any important data (if needed) before proceeding.\n",
    "\n",
    "---"
   ]
  },
  {
   "cell_type": "markdown",
   "id": "imports_header",
   "metadata": {},
   "source": [
    "## Step 1: Import Required Dependencies\n",
    "\n",
    "Load all necessary modules and helper functions for the cleanup process."
   ]
  },
  {
   "cell_type": "code",
   "execution_count": 1,
   "id": "imports",
   "metadata": {
    "execution": {
     "iopub.execute_input": "2025-10-16T02:49:32.021971Z",
     "iopub.status.busy": "2025-10-16T02:49:32.021698Z",
     "iopub.status.idle": "2025-10-16T02:49:33.005278Z",
     "shell.execute_reply": "2025-10-16T02:49:33.004477Z",
     "shell.execute_reply.started": "2025-10-16T02:49:32.021948Z"
    }
   },
   "outputs": [
    {
     "name": "stdout",
     "output_type": "stream",
     "text": [
      "✅ Dependencies imported successfully\n",
      "🌍 Working in region: us-east-1\n"
     ]
    }
   ],
   "source": [
    "import boto3\n",
    "import os\n",
    "from botocore.exceptions import ClientError\n",
    "\n",
    "from bedrock_agentcore_starter_toolkit import Runtime\n",
    "from lab_helpers.lab2_memory import delete_memory, REGION\n",
    "from lab_helpers.utils import (\n",
    "    delete_agentcore_runtime_execution_role,\n",
    "    delete_ssm_parameter,\n",
    "    cleanup_cognito_resources,\n",
    "#    get_customer_support_secret,\n",
    "#    delete_customer_support_secret,\n",
    "    agentcore_memory_cleanup,\n",
    "    gateway_target_cleanup,\n",
    "    runtime_resource_cleanup,\n",
    "    delete_observability_resources,\n",
    "    local_file_cleanup\n",
    ")\n",
    "\n",
    "print(\"✅ Dependencies imported successfully\")\n",
    "print(f\"🌍 Working in region: {REGION}\")"
   ]
  },
  {
   "cell_type": "markdown",
   "id": "memory_header",
   "metadata": {},
   "source": [
    "## Step 2: Clean Up Memory Resources\n",
    "\n",
    "Remove AgentCore Memory resources and associated data."
   ]
  },
  {
   "cell_type": "code",
   "execution_count": 2,
   "id": "16eda4ba",
   "metadata": {
    "execution": {
     "iopub.execute_input": "2025-10-16T02:49:34.671152Z",
     "iopub.status.busy": "2025-10-16T02:49:34.670770Z",
     "iopub.status.idle": "2025-10-16T02:49:35.794006Z",
     "shell.execute_reply": "2025-10-16T02:49:35.793290Z",
     "shell.execute_reply.started": "2025-10-16T02:49:34.671130Z"
    }
   },
   "outputs": [
    {
     "name": "stdout",
     "output_type": "stream",
     "text": [
      "🧠 Starting Memory cleanup...\n",
      "\n",
      "Memory ID: llm_evaluator_agent_mem-0istS4EKp0\n",
      "Status: ACTIVE\n",
      "✅ Successfully deleted memory: llm_evaluator_agent_mem-0istS4EKp0\n",
      "\n",
      "Memory ID: smart_goal_generator_agent_mem-hDIskyDRny\n",
      "Status: ACTIVE\n",
      "✅ Successfully deleted memory: smart_goal_generator_agent_mem-hDIskyDRny\n",
      "\n",
      "Memory ID: llm_evaluator_agent_mem-0istS4EKp0\n",
      "Status: DELETING\n",
      "\n",
      "Memory ID: smart_goal_generator_agent_mem-hDIskyDRny\n",
      "Status: DELETING\n"
     ]
    }
   ],
   "source": [
    "print(\"🧠 Starting Memory cleanup...\")\n",
    "agentcore_memory_cleanup()"
   ]
  },
  {
   "cell_type": "markdown",
   "id": "runtime_header",
   "metadata": {},
   "source": [
    "## Step 3: Clean Up Runtime Resources\n",
    "\n",
    "Remove the AgentCore Runtime, ECR repository, and associated AWS resources."
   ]
  },
  {
   "cell_type": "code",
   "execution_count": 3,
   "id": "runtime_cleanup",
   "metadata": {
    "execution": {
     "iopub.execute_input": "2025-10-16T02:49:37.575629Z",
     "iopub.status.busy": "2025-10-16T02:49:37.575366Z",
     "iopub.status.idle": "2025-10-16T02:49:38.181336Z",
     "shell.execute_reply": "2025-10-16T02:49:38.180639Z",
     "shell.execute_reply.started": "2025-10-16T02:49:37.575610Z"
    }
   },
   "outputs": [
    {
     "name": "stdout",
     "output_type": "stream",
     "text": [
      "🚀 Starting Runtime cleanup...\n",
      "  ✅ Agent runtime deleted: DELETING\n",
      "  ✅ Agent runtime deleted: DELETING\n",
      "  🗑️  Deleting ECR repository...\n"
     ]
    }
   ],
   "source": [
    "print(\"🚀 Starting Runtime cleanup...\")\n",
    "runtime_resource_cleanup()"
   ]
  },
  {
   "cell_type": "markdown",
   "id": "794ea1ca-f684-4790-a027-f99883a9b3da",
   "metadata": {},
   "source": [
    "## Step 4: Clean Up Gateway Resources\n",
    "Remove targets, Gateway"
   ]
  },
  {
   "cell_type": "code",
   "execution_count": 5,
   "id": "3b697bc6-69f6-47cc-866e-f6f42de0e2c4",
   "metadata": {
    "execution": {
     "iopub.execute_input": "2025-10-16T02:49:46.091658Z",
     "iopub.status.busy": "2025-10-16T02:49:46.091395Z",
     "iopub.status.idle": "2025-10-16T02:49:46.457417Z",
     "shell.execute_reply": "2025-10-16T02:49:46.456677Z",
     "shell.execute_reply.started": "2025-10-16T02:49:46.091637Z"
    }
   },
   "outputs": [
    {
     "name": "stdout",
     "output_type": "stream",
     "text": [
      "⚙️ Starting Gateway Cleanup...\n",
      "🗑️  Deleting all targets for gateway: smartgoalgenerator-gw-fseofd2jnr\n",
      "🗑️  Deleting gateway: smartgoalgenerator-gw-fseofd2jnr\n",
      "✅ Gateway smartgoalgenerator-gw-fseofd2jnr deleted successfully\n"
     ]
    }
   ],
   "source": [
    "# Need to run twice, first to delete the gateway target, then the gateway.\n",
    "print(\"⚙️ Starting Gateway Cleanup...\")\n",
    "gateway_target_cleanup()"
   ]
  },
  {
   "cell_type": "markdown",
   "id": "security_header",
   "metadata": {},
   "source": [
    "## Step 5: Clean Up Security Resources\n",
    "\n",
    "Remove execution roles, and authentication resources."
   ]
  },
  {
   "cell_type": "code",
   "execution_count": 6,
   "id": "security_cleanup",
   "metadata": {
    "execution": {
     "iopub.execute_input": "2025-10-16T02:49:48.247927Z",
     "iopub.status.busy": "2025-10-16T02:49:48.247648Z",
     "iopub.status.idle": "2025-10-16T02:49:48.252576Z",
     "shell.execute_reply": "2025-10-16T02:49:48.251973Z",
     "shell.execute_reply.started": "2025-10-16T02:49:48.247907Z"
    }
   },
   "outputs": [
    {
     "name": "stdout",
     "output_type": "stream",
     "text": [
      "🛡️  Starting Security cleanup...\n",
      "  🗑️  Deleting AgentCore Runtime execution role should be done only manually ...\n",
      "  🗑️  Deleting SSM parameter should be done only manually ...\n",
      "  🗑️  Cleaning up Cognito resources...\n",
      "  ⚠️  Error during security cleanup: name 'get_smart_goal_secret' is not defined\n"
     ]
    }
   ],
   "source": [
    "print(\"🛡️  Starting Security cleanup...\")\n",
    "import json\n",
    "try:\n",
    "    # bedrock_client = boto3.client(\"bedrock\", region_name=REGION)\n",
    "    \n",
    "    # Delete execution role\n",
    "    # IMPORTANT: exercise caution and do it manually only\n",
    "    print(\"  🗑️  Deleting AgentCore Runtime execution role should be done only manually ...\")\n",
    "    #delete_agentcore_runtime_execution_role()\n",
    "    #print(\"  ✅ Execution role deleted\")\n",
    "    \n",
    "    # Delete SSM parameter\n",
    "    # IMPORTNT: exercise caution and do it manually only\n",
    "    print(\"  🗑️  Deleting SSM parameter should be done only manually ...\")\n",
    "    #delete_ssm_parameter(\"/app/smartgoalgenerator/agentcore/runtime_arn\")\n",
    "    #print(\"  ✅ SSM parameter deleted\")\n",
    "    \n",
    "    # Clean up Cognito and secrets\n",
    "    print(\"  🗑️  Cleaning up Cognito resources...\")\n",
    "    cs = json.loads(get_smart_goal_secret())\n",
    "    cleanup_cognito_resources(cs['pool_id'])\n",
    "    print(\"  ✅ Cognito resources cleaned up\")\n",
    "    \n",
    "    print(\"  🗑️  Deleting smart goal secret...\")\n",
    "    delete_smart_goal_secret()\n",
    "    print(\"  ✅ Smart goal secret deleted\")\n",
    "    \n",
    "except Exception as e:\n",
    "    print(f\"  ⚠️  Error during security cleanup: {e}\")"
   ]
  },
  {
   "cell_type": "markdown",
   "id": "files_header",
   "metadata": {},
   "source": [
    "## Step 6: Clean Up Local Files\n",
    "\n",
    "Remove generated configuration and code files from the local directory."
   ]
  },
  {
   "cell_type": "code",
   "execution_count": 7,
   "id": "files_cleanup",
   "metadata": {
    "execution": {
     "iopub.execute_input": "2025-10-16T02:49:50.604795Z",
     "iopub.status.busy": "2025-10-16T02:49:50.604538Z",
     "iopub.status.idle": "2025-10-16T02:49:50.621050Z",
     "shell.execute_reply": "2025-10-16T02:49:50.620541Z",
     "shell.execute_reply.started": "2025-10-16T02:49:50.604776Z"
    }
   },
   "outputs": [
    {
     "name": "stdout",
     "output_type": "stream",
     "text": [
      "📁 Starting Local Files cleanup...\n",
      "  ✅ Deleted Dockerfile\n",
      "  ✅ Deleted .dockerignore\n",
      "  ✅ Deleted .bedrock_agentcore.yaml\n",
      "\n",
      "📁 Successfully deleted 3 files\n"
     ]
    }
   ],
   "source": [
    "print(\"📁 Starting Local Files cleanup...\")\n",
    "local_file_cleanup()\n"
   ]
  },
  {
   "cell_type": "markdown",
   "id": "observability_header",
   "metadata": {},
   "source": [
    "## Step 7: Clean Up Observability Resources\n",
    "\n",
    "Remove CloudWatch log groups and streams used for agent monitoring."
   ]
  },
  {
   "cell_type": "code",
   "execution_count": 8,
   "id": "7b7bc594",
   "metadata": {
    "execution": {
     "iopub.execute_input": "2025-10-16T02:49:53.604720Z",
     "iopub.status.busy": "2025-10-16T02:49:53.604445Z",
     "iopub.status.idle": "2025-10-16T02:49:53.691175Z",
     "shell.execute_reply": "2025-10-16T02:49:53.690348Z",
     "shell.execute_reply.started": "2025-10-16T02:49:53.604700Z"
    }
   },
   "outputs": [
    {
     "name": "stdout",
     "output_type": "stream",
     "text": [
      "📊 Starting Observability cleanup...\n",
      "  🗑️  Deleting log stream 'default'...\n",
      "  ℹ️  Log stream 'default' doesn't exist\n",
      "  🗑️  Deleting log group 'agents/smart-goal-assistant-logs'...\n",
      "  ℹ️  Log group 'agents/smart-goal-assistant-logs' doesn't exist\n"
     ]
    }
   ],
   "source": [
    "print(\"📊 Starting Observability cleanup...\")\n",
    "\n",
    "delete_observability_resources()"
   ]
  },
  {
   "cell_type": "markdown",
   "id": "completion_header",
   "metadata": {},
   "source": [
    "## 🎉 Cleanup Complete!\n",
    "\n",
    "All AgentCore resources have been cleaned up. Here's a summary of what was removed:"
   ]
  },
  {
   "cell_type": "code",
   "execution_count": 9,
   "id": "completion_summary",
   "metadata": {
    "execution": {
     "iopub.execute_input": "2025-10-16T02:49:55.845871Z",
     "iopub.status.busy": "2025-10-16T02:49:55.845601Z",
     "iopub.status.idle": "2025-10-16T02:49:55.849846Z",
     "shell.execute_reply": "2025-10-16T02:49:55.849273Z",
     "shell.execute_reply.started": "2025-10-16T02:49:55.845852Z"
    }
   },
   "outputs": [
    {
     "name": "stdout",
     "output_type": "stream",
     "text": [
      "\n",
      "============================================================\n",
      "🧹 CLEANUP COMPLETED SUCCESSFULLY! 🧹\n",
      "============================================================\n",
      "\n",
      "📋 Resources cleaned up:\n",
      "  🧠 Memory: AgentCore Memory resources and data\n",
      "  🚀 Runtime: Agent runtime and ECR repository\n",
      "  🛡️ Security: Roles, and SSM secrets\n",
      "  📊 Observability: CloudWatch logs\n",
      "  📁 Files: Local configuration files\n",
      "\n",
      "✨ Your AWS account is now clean and ready for new experiments!\n",
      "\n",
      "Thank you for completing the AgentCore End-to-End tutorial! 🚀\n"
     ]
    }
   ],
   "source": [
    "print(\"\\n\" + \"=\" * 60)\n",
    "print(\"🧹 CLEANUP COMPLETED SUCCESSFULLY! 🧹\")\n",
    "print(\"=\" * 60)\n",
    "print()\n",
    "print(\"📋 Resources cleaned up:\")\n",
    "print(\"  🧠 Memory: AgentCore Memory resources and data\")\n",
    "print(\"  🚀 Runtime: Agent runtime and ECR repository\")\n",
    "print(\"  🛡️ Security: Roles, and SSM secrets\")\n",
    "print(\"  📊 Observability: CloudWatch logs\")\n",
    "print(\"  📁 Files: Local configuration files\")\n",
    "print()\n",
    "print(\"✨ Your AWS account is now clean and ready for new experiments!\")\n",
    "print(\"\\nThank you for completing the AgentCore End-to-End tutorial! 🚀\")"
   ]
  },
  {
   "cell_type": "code",
   "execution_count": null,
   "id": "fb8fd1c5-92e5-4ce9-9cc3-be7a54ba8c22",
   "metadata": {},
   "outputs": [],
   "source": []
  },
  {
   "cell_type": "code",
   "execution_count": null,
   "id": "76abb146-3b52-4c6e-884d-84e666aa929c",
   "metadata": {},
   "outputs": [],
   "source": []
  },
  {
   "cell_type": "code",
   "execution_count": null,
   "id": "be603735-3939-4041-a617-8080d9619dd3",
   "metadata": {},
   "outputs": [],
   "source": []
  }
 ],
 "metadata": {
  "kernelspec": {
   "display_name": "Python 3 (ipykernel)",
   "language": "python",
   "name": "python3"
  },
  "language_info": {
   "codemirror_mode": {
    "name": "ipython",
    "version": 3
   },
   "file_extension": ".py",
   "mimetype": "text/x-python",
   "name": "python",
   "nbconvert_exporter": "python",
   "pygments_lexer": "ipython3",
   "version": "3.12.9"
  }
 },
 "nbformat": 4,
 "nbformat_minor": 5
}
