{
 "cells": [
  {
   "cell_type": "markdown",
   "id": "354ce590-0831-400f-93eb-2240cfd5a22f",
   "metadata": {},
   "source": [
    "# Smart Goal Generator Frontend Application\n",
    "\n",
    "## Prerequisites\n",
    "- **Python 3.10+** installed locally\n",
    "- **Streamlit** and required frontend dependencies\n",
    "- **Smart Goal Generator AgentCore Runtime endpoint** (deployed and ready)\n",
    "- **Amazon Cognito** user pool configured for authentication\n",
    "  \n",
    "## Overview\n",
    "The frontend application connects to the AgentCore Runtime endpoint for the smart goal generator and evaluator agent.\n"
   ]
  },
  {
   "cell_type": "markdown",
   "id": "c6082377-919a-4cfc-931b-b24e08777833",
   "metadata": {},
   "source": [
    "## 🔐 Secure Authentication\n",
    "- **Amazon Cognito Integration** - JWT-based user authentication with secure token management\n",
    "- **Session Management** - Persistent user sessions with automatic token refresh\n",
    "- **Role-based Access** - User identification for audit trails and personalized experiences\n",
    "\n",
    "## 💬 SMART Goal Generation Interface\n",
    "- **Streamlit-powered UI** - Modern, responsive web interface for document processing\n",
    "- **Multi-Agent System** - Two specialized agents working together:\n",
    "  - **Smart Goal Generator Agent** - Analyzes patient summaries and generates evidence-based SMART goals\n",
    "  - **Evaluator Agent** - Validates generated goals against healthcare SMART criteria rubric\n",
    "- **Model Selection** - Choose from multiple AI models (Claude 3.7 Sonnet, OpenAI GPT, Amazon Nova Premier, Cohere Command-R)\n",
    "- **Processing Feedback** - Clear status indicators and progress updates during goal generation\n",
    "\n",
    "## 📄 File Upload & Processing\n",
    "- **Multi-format Support** - Upload patient summaries in PDF, DOCX, or TXT formats\n",
    "- **S3 Integration** - Secure file storage with automatic cleanup and HIPAA-compliant 2-minute deletion\n",
    "- **Document Analysis** - Intelligent text extraction and processing from medical documents\n",
    "- **File Validation** - Size limits, type checking, and upload verification\n",
    "\n",
    "## 🎯 SMART Goal Generation\n",
    "- **Healthcare-focused Analysis** - Specialized prompts for diabetes and chronic disease management\n",
    "- **Multi-domain Goals** - Generates goals across diet, activity, medication, monitoring domains\n",
    "- **Structured Output** - JSON-formatted goals with goal numbers and detailed descriptions\n",
    "- **Quality Evaluation** - Automatic validation against SMART criteria (Specific, Measurable, Achievable, Relevant, Time-bound)\n",
    "\n",
    "## 📊 Advanced Features\n",
    "- **Evaluation Metrics** - Detailed scoring for each SMART criterion with progress bars\n",
    "- **Export Capabilities** - Download generated goals as JSON files"
   ]
  },
  {
   "cell_type": "markdown",
   "id": "8576f257",
   "metadata": {},
   "source": [
    "### Step 1: Install Frontend Dependencies\n",
    "\n",
    "First, install the required packages for the Streamlit frontend application."
   ]
  },
  {
   "cell_type": "code",
   "execution_count": 1,
   "id": "2154a8d4",
   "metadata": {
    "execution": {
     "iopub.execute_input": "2025-10-22T20:27:15.362544Z",
     "iopub.status.busy": "2025-10-22T20:27:15.362349Z",
     "iopub.status.idle": "2025-10-22T20:27:17.676614Z",
     "shell.execute_reply": "2025-10-22T20:27:17.675556Z",
     "shell.execute_reply.started": "2025-10-22T20:27:15.362523Z"
    }
   },
   "outputs": [
    {
     "name": "stdout",
     "output_type": "stream",
     "text": [
      "Note: you may need to restart the kernel to use updated packages.\n",
      "✅ Frontend dependencies installed successfully!\n"
     ]
    }
   ],
   "source": [
    "# Install frontend-specific dependencies\n",
    "%pip install -r lab_helpers/lab5_frontend/requirements.txt -q\n",
    "print(\"✅ Frontend dependencies installed successfully!\")"
   ]
  },
  {
   "cell_type": "markdown",
   "id": "f57d6047",
   "metadata": {},
   "source": [
    "### Step 2: Frontend Architecture\n",
    "\n",
    "The Streamlit application consists of several key components:\n",
    "\n",
    "#### Core Components:\n",
    "\n",
    "1. **main.py** - Main Streamlit application with UI and authentication\n",
    "2. **chat.py** - Chat management and AgentCore Runtime integration\n",
    "3. **chat_utils.py** - Utility functions for message formatting and display\n",
    "4. **sagemaker_helper.py** - Helper for generating accessible URLs\n",
    "\n",
    "#### Authentication Flow:\n",
    "\n",
    "1. User accesses the Streamlit application\n",
    "2. Amazon Cognito handles user authentication\n",
    "3. Valid JWT tokens are used to authorize AgentCore Runtime requests\n",
    "4. User can interact with the Smart Goal Generator Agent securely"
   ]
  },
  {
   "cell_type": "markdown",
   "id": "90e03fd3",
   "metadata": {},
   "source": [
    "### Step 3: Launch the Smart Goal Generator Frontend 🚀\n",
    "\n",
    "Now start the Streamlit application. The application will:\n",
    "\n",
    "1. **Generate an accessible URL** for the application\n",
    "2. **Start the Streamlit server**\n",
    "3. **Connect to the deployed AgentCore Runtime**\n",
    "4. **Provide a complete interface**"
   ]
  },
  {
   "cell_type": "code",
   "execution_count": null,
   "id": "d5639a9a",
   "metadata": {
    "execution": {
     "iopub.execute_input": "2025-10-22T20:27:17.681467Z",
     "iopub.status.busy": "2025-10-22T20:27:17.681267Z"
    }
   },
   "outputs": [
    {
     "name": "stdout",
     "output_type": "stream",
     "text": [
      "Domain ID: d-ublbna8vtgev\n",
      "Space Name: smart-goal-generator\n",
      "\n",
      "Please use the following to login and test the Streamlit Application\n",
      "Username:       testuser\n",
      "Password:       MyPassword123!\n",
      "\n",
      "🚀 Smart Goal Generator Streamlit Application URL:\n",
      "https://i041d26xfcsywpb.studio.us-east-1.sagemaker.aws/jupyterlab/default/proxy/8501/\n",
      "\n",
      "\n",
      "Collecting usage statistics. To deactivate, set browser.gatherUsageStats to false.\n",
      "\u001b[0m\n",
      "\u001b[0m\n",
      "\u001b[34m\u001b[1m  You can now view your Streamlit app in your browser.\u001b[0m\n",
      "\u001b[0m\n",
      "\u001b[34m  Local URL: \u001b[0m\u001b[1mhttp://localhost:8501\u001b[0m\n",
      "\u001b[34m  Network URL: \u001b[0m\u001b[1mhttp://169.255.255.2:8501\u001b[0m\n",
      "\u001b[34m  External URL: \u001b[0m\u001b[1mhttp://54.167.126.47:8501\u001b[0m\n",
      "\u001b[0m\n",
      "✅ File uploaded to S3: s3://smart-goal-generator-uploads/uploads/81533cef475340d4809d67fde25dd5b3_patient4_summary.docx\n",
      "📋 Registered for HIPAA cleanup: s3://smart-goal-generator-uploads/uploads/81533cef475340d4809d67fde25dd5b3_patient4_summary.docx\n",
      "⏰ Scheduled deletion: 2025-10-22T20:29:43.224412\n",
      "🏥 File registered for 2-minute deletion\n",
      "✅ File uploaded to S3: s3://smart-goal-generator-uploads/uploads/e4245a8bf4a544d3b123426fafeb42da_patient9_summary.docx\n",
      "📋 Registered for HIPAA cleanup: s3://smart-goal-generator-uploads/uploads/e4245a8bf4a544d3b123426fafeb42da_patient9_summary.docx\n",
      "⏰ Scheduled deletion: 2025-10-22T20:30:16.056933\n",
      "🏥 File registered for 2-minute deletion\n",
      "🧹 HIPAA cleanup completed: s3://smart-goal-generator-uploads/uploads/81533cef475340d4809d67fde25dd5b3_patient4_summary.docx\n",
      "🧹 HIPAA cleanup completed: s3://smart-goal-generator-uploads/uploads/e4245a8bf4a544d3b123426fafeb42da_patient9_summary.docx\n"
     ]
    }
   ],
   "source": [
    "# Get the accessible URL for the Streamlit application\n",
    "from lab_helpers.lab5_frontend.sagemaker_helper import get_streamlit_url\n",
    "\n",
    "streamlit_url = get_streamlit_url()\n",
    "print(f'\\n🚀 Smart Goal Generator Streamlit Application URL:\\n{streamlit_url}\\n')\n",
    "\n",
    "# Start the Streamlit application\n",
    "!cd lab_helpers/lab5_frontend/ && streamlit run main.py"
   ]
  },
  {
   "cell_type": "code",
   "execution_count": null,
   "id": "936a6494-a3db-4ddd-979d-465809626b4a",
   "metadata": {},
   "outputs": [],
   "source": []
  }
 ],
 "metadata": {
  "kernelspec": {
   "display_name": "Python 3 (ipykernel)",
   "language": "python",
   "name": "python3"
  },
  "language_info": {
   "codemirror_mode": {
    "name": "ipython",
    "version": 3
   },
   "file_extension": ".py",
   "mimetype": "text/x-python",
   "name": "python",
   "nbconvert_exporter": "python",
   "pygments_lexer": "ipython3",
   "version": "3.12.9"
  }
 },
 "nbformat": 4,
 "nbformat_minor": 5
}
